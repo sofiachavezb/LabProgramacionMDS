{
  "cells": [
    {
      "cell_type": "markdown",
      "metadata": {
        "cell_id": "e37cb69cb73a49c2ad07cf670e073cb7",
        "deepnote_cell_height": 156.390625,
        "deepnote_cell_type": "markdown",
        "id": "XUZ1dFPHzAHl"
      },
      "source": [
        "<h1><center>Laboratorio 3: El Pandas no muerde 🐼</center></h1>\n",
        "\n",
        "<center><strong>MDS7202: Laboratorio de Programación Científica para Ciencia de Datos - Primavera 2024</strong></center>"
      ]
    },
    {
      "cell_type": "markdown",
      "metadata": {
        "id": "PkEUN6c8S-E_"
      },
      "source": [
        "### Cuerpo Docente:\n",
        "\n",
        "- Profesores: Ignacio Meza, Sebastián Tinoco\n",
        "- Auxiliar: Eduardo Moya\n",
        "- Ayudantes: Nicolás Ojeda, Melanie Peña, Valentina Rojas"
      ]
    },
    {
      "cell_type": "markdown",
      "metadata": {
        "cell_id": "8ebcb0f2f70c43319279fdd28c13fe89",
        "deepnote_cell_height": 171.796875,
        "deepnote_cell_type": "markdown",
        "id": "tXflExjqzAHr"
      },
      "source": [
        "### Equipo: **SUPER IMPORTANTE - notebooks sin nombre no serán revisados**\n",
        "\n",
        "- Nombre de alumno 1:Junwei He\n",
        "- Nombre de alumno 2: Sofía Chávez Bastidas"
      ]
    },
    {
      "cell_type": "markdown",
      "metadata": {
        "cell_id": "290822720f3e4484b09e762655bcdb76",
        "deepnote_cell_height": 62,
        "deepnote_cell_type": "markdown",
        "id": "AD-V0bbZzAHr"
      },
      "source": [
        "### **Link de repositorio de GitHub:** [Repositorio](https://github.com/sofiachavezb/LabProgramacionMDS)"
      ]
    },
    {
      "cell_type": "markdown",
      "metadata": {
        "cell_id": "60255b81ff0349ad9b18f598a8d71386",
        "deepnote_cell_height": 216,
        "deepnote_cell_type": "markdown",
        "id": "hnYD2hBMAwXf",
        "tags": []
      },
      "source": [
        "## Reglas:\n",
        "\n",
        "- **Grupos de 2 personas**\n",
        "- Fecha de entrega: 6 días de plazo con descuento de 1 punto por día. Entregas Jueves a las 23:59.\n",
        "- Instrucciones del lab el viernes a las 16:15 en formato online. Asistencia no es obligatoria.\n",
        "- <u>Prohibidas las copias</u>. Cualquier intento de copia será debidamente penalizado con el reglamento de la escuela.\n",
        "- Tienen que subir el laboratorio a u-cursos y a su repositorio de github. Labs que no estén en u-cursos no serán revisados. Recuerden que el repositorio también tiene nota.\n",
        "- Cualquier duda fuera del horario de clases al foro. Mensajes al equipo docente serán respondidos por este medio.\n",
        "- Pueden usar cualquier material del curso que estimen conveniente."
      ]
    },
    {
      "cell_type": "markdown",
      "metadata": {
        "cell_id": "5bf6f5f66dcd4da9a6926774cec108ab",
        "deepnote_cell_height": 114.390625,
        "deepnote_cell_type": "markdown",
        "id": "xzz695obAwXg",
        "tags": []
      },
      "source": [
        "### Temas a tratar\n",
        "\n",
        "- Introducción al manejo de datos tabulares por medio de la libreria `pandas`."
      ]
    },
    {
      "cell_type": "markdown",
      "metadata": {
        "cell_id": "50ec30f08f2548a29bc979ed1741f5a0",
        "deepnote_cell_height": 243.390625,
        "deepnote_cell_type": "markdown",
        "id": "6uBLPj1PzAHs"
      },
      "source": [
        "### Objetivos principales del laboratorio\n",
        "\n",
        "- Entender, aplicar y aprovechar las ventajas que nos ofrece la libreria `pandas` para manejar datos tabulares.\n",
        "- Aprender a utilizar la documentación de pandas (y en general, de cualquier librería de python) como también a buscar soluciones en la web.\n",
        "\n",
        "> **Nota**: El laboratorio deberá ser desarrollado sin el uso indiscriminado de iteradores nativos de python (aka \"for\", \"while\"). La idea es que aprendan a exprimir al máximo las funciones optimizadas que nos entrega `pandas`, las cuales vale mencionar, son bastante más eficientes que los iteradores nativos sobre DataFrames."
      ]
    },
    {
      "cell_type": "markdown",
      "metadata": {
        "cell_id": "bc3394397e5241b8825745ec98c9db11",
        "deepnote_cell_height": 62,
        "deepnote_cell_type": "markdown",
        "id": "MhISwri4zAHy"
      },
      "source": [
        "### Librerias utiles para el Lab 😸"
      ]
    },
    {
      "cell_type": "code",
      "execution_count": 1,
      "metadata": {
        "ExecuteTime": {
          "end_time": "2021-03-29T00:08:16.884674Z",
          "start_time": "2021-03-29T00:08:16.349846Z"
        },
        "cell_id": "4a3449ea038e423d948cdcb7fb51513c",
        "colab": {
          "base_uri": "https://localhost:8080/"
        },
        "deepnote_cell_type": "code",
        "deepnote_to_be_reexecuted": false,
        "execution_millis": 16059,
        "execution_start": 1662655795388,
        "id": "uyc33dKdzAHy",
        "outputId": "0e7077ff-2e15-48f3-ee0d-7e333261b575",
        "source_hash": "8da0b14b"
      },
      "outputs": [],
      "source": [
        "# Libreria Core del lab.\n",
        "import numpy as np\n",
        "import pandas as pd\n",
        "from IPython.display import display\n",
        "\n",
        "\"\"\" #Libreria para plotear\n",
        "%pip install --upgrade plotly \"\"\"\n",
        "import plotly.express as px\n",
        "\n",
        "# Librerias utiles\n",
        "from sklearn.preprocessing import StandardScaler"
      ]
    },
    {
      "cell_type": "markdown",
      "metadata": {
        "cell_id": "84ab36016f4d40afaa9cc8ea0e1f99c0",
        "deepnote_cell_height": 82,
        "deepnote_cell_type": "markdown",
        "id": "xpOTbQcxbSiy"
      },
      "source": [
        "# 1. Rendimiento en Estudiantes 📚"
      ]
    },
    {
      "cell_type": "markdown",
      "metadata": {
        "cell_id": "17cbd3ab27814f05902800f03510fc40",
        "deepnote_cell_height": 119.59375,
        "deepnote_cell_type": "markdown",
        "id": "jnmZfFpxTTYX"
      },
      "source": [
        "Para este laboratorio deberán trabajar con el dataset `students_grades.json` el cual contiene información sobre el rendimiento de alumnos en distintos ramos.\n",
        "El objetivo principal será el de realizar un trabajo de limpieza de prepración y exploración de datos utilizando exclusivamente `DataFrames` y sus métodos asociados.\n",
        "\n",
        "\n"
      ]
    },
    {
      "cell_type": "code",
      "execution_count": 2,
      "metadata": {
        "cell_id": "1013ed7b1ec345fd88771a3812af8140",
        "colab": {
          "base_uri": "https://localhost:8080/"
        },
        "deepnote_cell_type": "code",
        "deepnote_to_be_reexecuted": false,
        "execution_millis": 8,
        "execution_start": 1632493422315,
        "id": "Jqq-s010Iwl1",
        "outputId": "3d1ee419-96c8-4686-fe9c-a5c3de16e3b1",
        "source_hash": "c60dc4a7"
      },
      "outputs": [
        {
          "data": {
            "text/plain": [
              "' # Si usted está utilizando Colabolatory le puede ser útil este código para cargar los archivos.\\ntry:\\n    from google.colab import drive\\n    drive.mount(\"/content/drive\")\\n    path = \\'Dirección donde tiene los archivos en el Drive\\'\\nexcept:\\n    print(\\'Ignorando conexión drive-colab\\') '"
            ]
          },
          "execution_count": 2,
          "metadata": {},
          "output_type": "execute_result"
        }
      ],
      "source": [
        "\"\"\" # Si usted está utilizando Colabolatory le puede ser útil este código para cargar los archivos.\n",
        "try:\n",
        "    from google.colab import drive\n",
        "    drive.mount(\"/content/drive\")\n",
        "    path = 'Dirección donde tiene los archivos en el Drive'\n",
        "except:\n",
        "    print('Ignorando conexión drive-colab') \"\"\""
      ]
    },
    {
      "cell_type": "code",
      "execution_count": 3,
      "metadata": {
        "colab": {
          "base_uri": "https://localhost:8080/"
        },
        "id": "7mhsNmR83cN7",
        "outputId": "3e1842b3-5f4c-433a-f98d-260121fee860"
      },
      "outputs": [
        {
          "data": {
            "text/plain": [
              "\" from google.colab import drive\\ndrive.mount('/content/drive') \""
            ]
          },
          "execution_count": 3,
          "metadata": {},
          "output_type": "execute_result"
        }
      ],
      "source": [
        "\"\"\" from google.colab import drive\n",
        "drive.mount('/content/drive') \"\"\""
      ]
    },
    {
      "cell_type": "markdown",
      "metadata": {
        "cell_id": "c9b077c5f27b4c19bcdccc3d2c9a06b2",
        "deepnote_cell_height": 496.3125,
        "deepnote_cell_type": "markdown",
        "id": "Y7sGYwOpN1VJ"
      },
      "source": [
        "## 1. Carga e Inspección de Datos [1.0 Puntos]\n"
      ]
    },
    {
      "cell_type": "markdown",
      "metadata": {
        "cell_id": "2d59d81cd22d49fda637f19c4feb0417",
        "deepnote_cell_height": 867.59375,
        "deepnote_cell_type": "markdown",
        "id": "EWMCPSjdAwXk",
        "tags": []
      },
      "source": [
        "<p align=\"center\">\n",
        "  <img src=\"https://i.imgur.com/44knnIf.png\" width=\"500\" height=\"500\">\n",
        "</p>\n",
        "\n",
        "*Don Caguayo*, rector de la Universidad de la Cachaña, les comenta que actualmente la Universidad no tiene una subdirección de análisis de datos, pero que tiene un gran interés en formar una. Es por esto, que se contacta con ud. y su equipo para iniciar de forma exploratoria diversas tareas de análisis y consolidación de datos respectivos al rendimiento de sus alumnos.\n",
        "\n",
        "Previo a su primera reunión con el rector, el rector le envía una copia de la base de datos, la cuál a usted y su equipo le encantaría examinar. Para esto, la primera tarea que debe realizar es abrir y cargar el dataset.\n",
        "\n",
        "\n",
        "> **Notar que es sumamente importante el formato que posee cada columna** para su manipulación y que posiblemente ustedes deberán especificar algunos tipos de datos a mano. Ver la documentación del método `read_json` para mayor información.\n",
        "\n",
        "A continuación se muestra un ejemplo de los dos primeros registros del dataset:\n",
        "\n",
        "```json\n",
        "[\n",
        "  {\n",
        "    \"names\": \"Rita Courtney\",\n",
        "    \"gender\": \"female\",\n",
        "    \"race/ethnicity\": \"group B\",\n",
        "    \"parental level of education\": \"some high school\",\n",
        "    \"lunch\": \"standard\",\n",
        "    \"test preparation course\": \"none\",\n",
        "    \"math score\": 37,\n",
        "    \"reading score\": 46,\n",
        "    \"writing score\": 46\n",
        "  },\n",
        "  {\n",
        "    \"names\": \"Madeline Fuller\",\n",
        "    \"gender\": \"female\",\n",
        "    \"race/ethnicity\": \"group C\",\n",
        "    \"parental level of education\": \"some high school\",\n",
        "    \"lunch\": \"standard\",\n",
        "    \"test preparation course\": \"none\",\n",
        "    \"math score\": 124,\n",
        "    \"reading score\": 142,\n",
        "    \"writing score\": 142\n",
        "  }\n",
        "]\n",
        "```\n",
        "\n",
        "\n",
        "\n"
      ]
    },
    {
      "cell_type": "code",
      "execution_count": 4,
      "metadata": {
        "cell_id": "3cc75cc7307e457a9e9349e035baeaec",
        "colab": {
          "base_uri": "https://localhost:8080/",
          "height": 241
        },
        "deepnote_cell_height": 61,
        "deepnote_cell_type": "code",
        "id": "rguAYH4WAwXk",
        "outputId": "6341415a-bf1d-45aa-db78-4850a9b173ca",
        "tags": []
      },
      "outputs": [],
      "source": [
        "import pandas as pd\n",
        "#df_grades = pd.read_json('/content/drive/MyDrive/lab_3_laboratorio/students_grades.json')\n",
        "df_grades = pd.read_json('./students_grades.json', dtype={\n",
        "    'names': str,\n",
        "    'gender': str,\n",
        "    'race/ethnicity': str,\n",
        "    'parental level of education': str,\n",
        "    'lunch': str,\n",
        "    'test preparation course': str,\n",
        "    'math score': int,\n",
        "    'reading score': int,\n",
        "    'writing score': int\n",
        "})\n",
        "df_grades['math score'] = pd.to_numeric(df_grades['math score'], errors='coerce')\n",
        "df_grades['reading score'] = pd.to_numeric(df_grades['reading score'], errors='coerce')\n",
        "df_grades['writing score'] = pd.to_numeric(df_grades['writing score'], errors='coerce')\n"
      ]
    },
    {
      "cell_type": "markdown",
      "metadata": {
        "cell_id": "5c790e67aed541058edb176b1eff2632",
        "deepnote_cell_height": 503,
        "deepnote_cell_type": "markdown",
        "id": "sgVJGeVMMshn"
      },
      "source": [
        "\n",
        "<p align=\"center\">\n",
        "  <img src=\"https://i.giphy.com/media/4FQMuOKR6zQRO/giphy.webp\">\n",
        "</p>\n",
        "\n",
        "\n",
        "Posteriormente, el rector les comenta que la sección de TI posee una base de datos con más de **1000** filas, en donde cada fila representa un alumno matriculado. Sin embargo, cree fuertemente que existen errores en esta: solo tiene registro de **1000** matriculas. Por este motivo, especula que se han realizado malas prácticas al registrar dichos datos.\n",
        "\n",
        "En consecuencia, el rector les solicita a ustedes como tarea inicial que exploren la base de datos y encuentre posibles falencias dentro de sus registros. Para esto, usted debe estar al tanto que las notas están en una escala que van del **0 al 100** (porcentaje de logro) y **no es posible que un alumno haya dado más de una vez el mismo examen**. Cualquier registro que posea un valor diferente a esta escala, **debería ser eliminado de la base de datos**.\n"
      ]
    },
    {
      "cell_type": "markdown",
      "metadata": {
        "cell_id": "87e47a63ed174ab38f73a1a96bd22fff",
        "deepnote_cell_height": 729,
        "deepnote_cell_type": "markdown",
        "id": "debRWFhzAwXl",
        "tags": []
      },
      "source": [
        "> **Instrucciones**\n",
        "\n",
        "**Cree una función** que tome un `DataFrame` y que le permita revisar si las diferentes variables que lo componen son coherentes y si es posible observar anomalías en estas.\n",
        "\n",
        "**To-Do**\n",
        "1. [ ] Imprimir un mensaje con las dimensiones del Dataframe.\n",
        "2. [ ] Imprimir un mensaje con los nombres de las columnas que conforman el DataFrame.\n",
        "3. [ ] Mostrar los primeros 5, los últimos 5 elementos del DataFrame y realice un muestreo de 5 elementos de forma aleatoria.\n",
        "4. [ ] Mostrar una descripción rápida de las variables numéricas del DataFrame (utilice un método visto en clases).\n",
        "5. [ ] Imprimir un mensaje con la cantidad de valores nulos (investigue el método `isna()` y `sum()` de los DataFrames).\n",
        "6. [ ] Imprimir un mensaje que detalle la cantidad de valores unicos (investigue `nunique()`) .\n",
        "7. [ ] Imprimir un mensaje con el total de filas que contengan nombres duplicados (investigue `duplicated()` y su parámetro `subset`).\n",
        "8. [ ] Mostrar las filas que contengan nombres sean duplicados (investigue `duplicated()` y su parámetro `subset`).\n",
        "\n",
        "Finalmente, responda las siguientes preguntas (comente esto en la celda ubicada debajo de **justificación**.):\n",
        "\n",
        "9. [ ] ¿Qué anomalías es posible observar de los datos que componen el DataFrame? ¿Existen valores nulos o duplicados?\n",
        "\n",
        "\n",
        "10. [ ] Su compañero ChatGPT le provee un código para que pueda entender los resultados de las pruebas desde un gráfico. ¿Qué puede interpretar de la distribución de las notas en el boxplot?\n",
        "\n",
        "> **Nota:** Para imprmir utilice `print(...)`. Para mostrar `DataFrames`, utilice `display(...)` ya que este permite mostrar estos elementos como tablas.\n",
        "\n",
        "> **Nota 2:** Utilice la documentación de [pandas](https://pandas.pydata.org/docs/index.html) como también StackOverflow para resolver cualquier problema o inconveniente.\n",
        "\n",
        "> **Nota 3:** Si no ha trabajado con boxplot antes, el siguiente link puede serle de mucha ayuda: [boxplot](https://medium.com/dayem-siddiqui/understanding-and-interpreting-box-plots-d07aab9d1b6c)"
      ]
    },
    {
      "cell_type": "markdown",
      "metadata": {
        "cell_id": "799b57588fce41e7adfb919e1683471d",
        "deepnote_cell_height": 52.390625,
        "deepnote_cell_type": "markdown",
        "id": "XJqJ_8SLAwXl",
        "tags": []
      },
      "source": [
        "**Respuesta:**"
      ]
    },
    {
      "cell_type": "code",
      "execution_count": 5,
      "metadata": {
        "cell_id": "8d5fb8a6e2ca4145a9718b6050d2f3df",
        "deepnote_cell_height": 97,
        "deepnote_cell_type": "code",
        "id": "f4FOQtGMAwXm",
        "tags": []
      },
      "outputs": [],
      "source": [
        "def exploratory_data_analysis(dataframe):\n",
        "  print(\"1.El tamaño del dataframe es: \", dataframe.size)\n",
        "  print(\"----------------------------------------------------------------------------\")\n",
        "  print('2.Number of columns :', len(dataframe.columns))\n",
        "  print(\"----------------------------------------------------------------------------\")\n",
        "  print(\"3.Primeras 5 filas\")\n",
        "  display(dataframe.head())\n",
        "  print(\"----------------------------------------------------------------------------\")\n",
        "  print(\"3.Últimas 5 filas\")\n",
        "  display(dataframe.tail())\n",
        "  print(\"----------------------------------------------------------------------------\")\n",
        "  print(\"3.5 Filas aleatorias\")\n",
        "  display(dataframe.sample(5))\n",
        "  print(\"----------------------------------------------------------------------------\")\n",
        "  print(\"4. Descripción de las variables numéricas\")\n",
        "  display(dataframe.describe())\n",
        "  print(\"----------------------------------------------------------------------------\")\n",
        "  display(\"5. Cantidad de valores nulos\")\n",
        "  print(dataframe.isna().sum())\n",
        "  print(\"----------------------------------------------------------------------------\")\n",
        "  print(\"6. Cantidad de valores únicos\")\n",
        "  print(dataframe.nunique())\n",
        "  print(\"----------------------------------------------------------------------------\")\n",
        "  print(\"7. Cantidad de filas duplicadas:\", (dataframe.duplicated().sum()))\n",
        "  print(\"----------------------------------------------------------------------------\")\n",
        "  print(\"8. Filas duplicadas\")\n",
        "  display(dataframe[dataframe.duplicated()])\n",
        "  print(\"----------------------------------------------------------------------------\")"
      ]
    },
    {
      "cell_type": "code",
      "execution_count": 6,
      "metadata": {
        "colab": {
          "base_uri": "https://localhost:8080/",
          "height": 542
        },
        "id": "6EJtDqYOhZX8",
        "outputId": "ff2322d5-8733-4d8a-d77c-af028f02e2d4"
      },
      "outputs": [
        {
          "data": {
            "application/vnd.plotly.v1+json": {
              "config": {
                "plotlyServerURL": "https://plot.ly"
              },
              "data": [
                {
                  "alignmentgroup": "True",
                  "hovertemplate": "subject=math score<br>score=%{y}<extra></extra>",
                  "legendgroup": "math score",
                  "marker": {
                    "color": "#636efa"
                  },
                  "name": "math score",
                  "notched": false,
                  "offsetgroup": "math score",
                  "orientation": "v",
                  "showlegend": true,
                  "type": "box",
                  "x0": " ",
                  "xaxis": "x",
                  "y": [
                    37,
                    124,
                    156,
                    80,
                    131,
                    73,
                    81,
                    94,
                    71,
                    75,
                    124,
                    188,
                    193,
                    34,
                    193,
                    63,
                    94,
                    65,
                    95,
                    52,
                    62,
                    74,
                    142,
                    124,
                    62,
                    73,
                    46,
                    82,
                    124,
                    63,
                    64,
                    80,
                    124,
                    131,
                    null,
                    93,
                    69,
                    46,
                    86,
                    59,
                    84,
                    64,
                    73,
                    83,
                    131,
                    75,
                    69,
                    68,
                    193,
                    57,
                    66,
                    61,
                    40,
                    50,
                    48,
                    36,
                    78,
                    196,
                    57,
                    122,
                    196,
                    69,
                    124,
                    40,
                    92,
                    188,
                    35,
                    63,
                    193,
                    73,
                    63,
                    52,
                    131,
                    73,
                    63,
                    124,
                    71,
                    45,
                    85,
                    80,
                    40,
                    82,
                    188,
                    77,
                    91,
                    null,
                    196,
                    60,
                    63,
                    40,
                    174,
                    57,
                    58,
                    147,
                    188,
                    97,
                    81,
                    68,
                    59,
                    96,
                    87,
                    57,
                    193,
                    193,
                    142,
                    94,
                    97,
                    124,
                    65,
                    82,
                    72,
                    62,
                    44,
                    49,
                    196,
                    82,
                    75,
                    193,
                    59,
                    75,
                    72,
                    68,
                    193,
                    124,
                    66,
                    196,
                    null,
                    67,
                    93,
                    69,
                    142,
                    63,
                    46,
                    66,
                    193,
                    49,
                    62,
                    182,
                    48,
                    null,
                    71,
                    193,
                    147,
                    193,
                    54,
                    80,
                    55,
                    193,
                    90,
                    94,
                    81,
                    34,
                    193,
                    53,
                    124,
                    61,
                    75,
                    74,
                    62,
                    70,
                    60,
                    59,
                    193,
                    62,
                    53,
                    80,
                    69,
                    69,
                    69,
                    49,
                    43,
                    83,
                    65,
                    73,
                    68,
                    64,
                    54,
                    65,
                    193,
                    49,
                    58,
                    66,
                    65,
                    65,
                    193,
                    70,
                    79,
                    50,
                    193,
                    188,
                    64,
                    124,
                    68,
                    32,
                    68,
                    58,
                    19,
                    193,
                    69,
                    72,
                    53,
                    64,
                    61,
                    78,
                    53,
                    45,
                    44,
                    196,
                    83,
                    65,
                    88,
                    88,
                    91,
                    84,
                    51,
                    196,
                    196,
                    null,
                    38,
                    193,
                    47,
                    66,
                    61,
                    60,
                    71,
                    45,
                    77,
                    53,
                    193,
                    193,
                    57,
                    124,
                    193,
                    131,
                    193,
                    72,
                    76,
                    45,
                    193,
                    99,
                    51,
                    64,
                    52,
                    80,
                    51,
                    193,
                    193,
                    196,
                    50,
                    64,
                    74,
                    196,
                    71,
                    57,
                    69,
                    77,
                    193,
                    75,
                    196,
                    43,
                    80,
                    193,
                    null,
                    122,
                    59,
                    85,
                    55,
                    44,
                    42,
                    58,
                    61,
                    50,
                    64,
                    88,
                    73,
                    95,
                    124,
                    174,
                    67,
                    97,
                    61,
                    62,
                    79,
                    54,
                    66,
                    193,
                    174,
                    193,
                    174,
                    78,
                    193,
                    85,
                    84,
                    76,
                    44,
                    122,
                    81,
                    54,
                    58,
                    124,
                    81,
                    35,
                    72,
                    71,
                    61,
                    66,
                    71,
                    71,
                    89,
                    73,
                    81,
                    46,
                    22,
                    124,
                    48,
                    124,
                    44,
                    79,
                    91,
                    76,
                    124,
                    54,
                    77,
                    62,
                    67,
                    131,
                    196,
                    86,
                    58,
                    53,
                    57,
                    182,
                    69,
                    76,
                    78,
                    69,
                    124,
                    62,
                    37,
                    196,
                    88,
                    90,
                    57,
                    193,
                    68,
                    65,
                    63,
                    124,
                    52,
                    48,
                    65,
                    54,
                    50,
                    124,
                    193,
                    122,
                    40,
                    29,
                    26,
                    70,
                    196,
                    75,
                    53,
                    64,
                    60,
                    98,
                    93,
                    59,
                    46,
                    null,
                    76,
                    79,
                    28,
                    55,
                    61,
                    142,
                    196,
                    193,
                    193,
                    35,
                    193,
                    94,
                    193,
                    46,
                    100,
                    67,
                    49,
                    193,
                    50,
                    79,
                    142,
                    71,
                    null,
                    83,
                    55,
                    193,
                    48,
                    76,
                    77,
                    79,
                    193,
                    62,
                    56,
                    124,
                    68,
                    84,
                    124,
                    80,
                    62,
                    124,
                    60,
                    64,
                    29,
                    52,
                    53,
                    131,
                    67,
                    82,
                    56,
                    79,
                    142,
                    73,
                    66,
                    52,
                    52,
                    73,
                    66,
                    84,
                    82,
                    193,
                    74,
                    193,
                    76,
                    81,
                    79,
                    124,
                    68,
                    128,
                    63,
                    142,
                    124,
                    null,
                    50,
                    196,
                    196,
                    72,
                    85,
                    196,
                    83,
                    84,
                    65,
                    null,
                    85,
                    70,
                    58,
                    86,
                    64,
                    65,
                    124,
                    61,
                    193,
                    49,
                    53,
                    97,
                    196,
                    75,
                    72,
                    124,
                    74,
                    59,
                    68,
                    78,
                    53,
                    57,
                    72,
                    99,
                    null,
                    79,
                    91,
                    83,
                    null,
                    72,
                    142,
                    188,
                    null,
                    61,
                    73,
                    59,
                    100,
                    61,
                    77,
                    71,
                    49,
                    62,
                    193,
                    86,
                    75,
                    null,
                    58,
                    47,
                    null,
                    131,
                    193,
                    63,
                    69,
                    null,
                    70,
                    68,
                    61,
                    71,
                    122,
                    124,
                    142,
                    81,
                    100,
                    84,
                    77,
                    53,
                    71,
                    73,
                    193,
                    65,
                    124,
                    193,
                    49,
                    52,
                    65,
                    59,
                    80,
                    193,
                    62,
                    57,
                    46,
                    58,
                    67,
                    73,
                    72,
                    40,
                    78,
                    63,
                    61,
                    79,
                    77,
                    70,
                    53,
                    156,
                    151,
                    76,
                    45,
                    40,
                    193,
                    82,
                    124,
                    193,
                    78,
                    75,
                    70,
                    55,
                    39,
                    188,
                    null,
                    70,
                    30,
                    75,
                    63,
                    82,
                    74,
                    54,
                    124,
                    71,
                    196,
                    142,
                    73,
                    77,
                    77,
                    87,
                    87,
                    74,
                    67,
                    43,
                    49,
                    42,
                    49,
                    null,
                    124,
                    193,
                    53,
                    64,
                    64,
                    196,
                    61,
                    79,
                    null,
                    69,
                    54,
                    65,
                    77,
                    58,
                    49,
                    73,
                    124,
                    54,
                    142,
                    54,
                    64,
                    null,
                    59,
                    76,
                    75,
                    85,
                    131,
                    97,
                    193,
                    188,
                    53,
                    52,
                    142,
                    77,
                    79,
                    57,
                    87,
                    66,
                    193,
                    193,
                    63,
                    65,
                    64,
                    124,
                    68,
                    55,
                    72,
                    86,
                    142,
                    35,
                    97,
                    124,
                    75,
                    52,
                    74,
                    70,
                    39,
                    61,
                    193,
                    44,
                    193,
                    32,
                    193,
                    77,
                    49,
                    87,
                    193,
                    66,
                    68,
                    196,
                    193,
                    65,
                    62,
                    81,
                    196,
                    70,
                    124,
                    null,
                    74,
                    94,
                    142,
                    193,
                    76,
                    59,
                    156,
                    68,
                    124,
                    193,
                    193,
                    73,
                    null,
                    193,
                    124,
                    100,
                    131,
                    8,
                    65,
                    40,
                    48,
                    89,
                    77,
                    193,
                    65,
                    69,
                    68,
                    49,
                    62,
                    50,
                    56,
                    46,
                    124,
                    38,
                    53,
                    142,
                    193,
                    60,
                    91,
                    90,
                    73,
                    70,
                    47,
                    65,
                    81,
                    55,
                    93,
                    142,
                    193,
                    124,
                    142,
                    65,
                    131,
                    62,
                    48,
                    196,
                    68,
                    66,
                    55,
                    42,
                    54,
                    74,
                    37,
                    66,
                    88,
                    69,
                    166,
                    61,
                    193,
                    39,
                    87,
                    142,
                    64,
                    44,
                    131,
                    59,
                    80,
                    33,
                    71,
                    76,
                    53,
                    78,
                    55,
                    70,
                    65,
                    193,
                    86,
                    47,
                    54,
                    41,
                    193,
                    78,
                    83,
                    54,
                    90,
                    59,
                    65,
                    null,
                    67,
                    193,
                    null,
                    89,
                    59,
                    73,
                    74,
                    86,
                    55,
                    61,
                    57,
                    58,
                    42,
                    45,
                    null,
                    63,
                    61,
                    81,
                    92,
                    193,
                    67,
                    94,
                    56,
                    62,
                    70,
                    142,
                    70,
                    76,
                    64,
                    47,
                    66,
                    86,
                    40,
                    66,
                    68,
                    51,
                    45,
                    88,
                    90,
                    52,
                    49,
                    53,
                    171,
                    193,
                    71,
                    50,
                    58,
                    42,
                    67,
                    39,
                    85,
                    62,
                    78,
                    73,
                    68,
                    89,
                    40,
                    82,
                    69,
                    null,
                    77,
                    69,
                    79,
                    53,
                    43,
                    58,
                    76,
                    40,
                    88,
                    69,
                    49,
                    85,
                    69,
                    72,
                    57,
                    58,
                    62,
                    62,
                    142,
                    142,
                    75,
                    88,
                    81,
                    193,
                    null,
                    193,
                    67,
                    142,
                    67,
                    166,
                    74,
                    188,
                    74,
                    95,
                    71,
                    193,
                    85,
                    193,
                    124,
                    131,
                    188,
                    142,
                    196,
                    56,
                    82,
                    124,
                    85,
                    60,
                    63,
                    51,
                    50,
                    81,
                    64,
                    87,
                    46,
                    58,
                    62,
                    76,
                    60,
                    193,
                    50,
                    124,
                    193,
                    142,
                    77,
                    124,
                    64,
                    null,
                    61,
                    60,
                    193,
                    67,
                    64,
                    193,
                    196,
                    90,
                    59,
                    53,
                    48,
                    193,
                    35,
                    60,
                    82,
                    58,
                    60,
                    66,
                    null,
                    85,
                    124,
                    49,
                    77,
                    67,
                    69,
                    131,
                    50,
                    62,
                    83,
                    81,
                    92,
                    70,
                    72,
                    92,
                    51,
                    156,
                    87,
                    71,
                    59,
                    193,
                    124,
                    88,
                    61,
                    193,
                    82,
                    193,
                    71,
                    75,
                    43,
                    142,
                    51,
                    62,
                    75,
                    63,
                    174,
                    71,
                    67,
                    71,
                    61,
                    56,
                    98,
                    82,
                    75,
                    59,
                    193,
                    71,
                    44,
                    77,
                    65,
                    196,
                    57,
                    60,
                    27,
                    58,
                    70,
                    38,
                    42,
                    100,
                    193,
                    89,
                    35,
                    74,
                    77,
                    62,
                    79,
                    124,
                    46,
                    74,
                    196,
                    59,
                    66,
                    124,
                    47,
                    142,
                    77,
                    78,
                    52,
                    null,
                    70,
                    193,
                    58,
                    193,
                    68,
                    69,
                    87,
                    52,
                    72,
                    85,
                    196,
                    41,
                    61,
                    67,
                    54,
                    75,
                    80,
                    63,
                    52,
                    62,
                    58,
                    62,
                    65,
                    74,
                    182,
                    142,
                    142,
                    79,
                    49,
                    68,
                    63,
                    52,
                    59,
                    55,
                    66,
                    38,
                    193,
                    193,
                    74,
                    91,
                    64,
                    142,
                    74,
                    142,
                    81,
                    79,
                    142,
                    90,
                    142,
                    124,
                    null,
                    54,
                    78,
                    46,
                    193,
                    88,
                    62,
                    193,
                    80,
                    124,
                    142,
                    80,
                    71,
                    64,
                    75,
                    60,
                    68,
                    88,
                    55,
                    50,
                    124,
                    97,
                    42,
                    null,
                    188,
                    49,
                    69,
                    40,
                    122,
                    42,
                    196,
                    58,
                    24,
                    48,
                    124,
                    67,
                    59,
                    193,
                    59,
                    96,
                    45,
                    88,
                    72,
                    166,
                    61,
                    81,
                    59,
                    73,
                    193,
                    79,
                    68,
                    193,
                    47,
                    124,
                    64,
                    49,
                    124,
                    54,
                    71,
                    null,
                    59,
                    89,
                    37,
                    59,
                    null,
                    57,
                    47,
                    77,
                    62,
                    77,
                    51,
                    131,
                    69,
                    74,
                    60,
                    76,
                    51,
                    32,
                    124,
                    193,
                    73,
                    49,
                    76,
                    193,
                    64,
                    62,
                    63,
                    156,
                    50,
                    44,
                    66,
                    67,
                    142,
                    142,
                    61,
                    75,
                    147,
                    69,
                    76,
                    65,
                    53,
                    87,
                    53,
                    null,
                    66,
                    196,
                    49,
                    67,
                    55,
                    30,
                    73,
                    62,
                    79,
                    63,
                    52,
                    193,
                    58,
                    124,
                    142,
                    193,
                    78,
                    81,
                    142,
                    193,
                    74,
                    68,
                    82,
                    73,
                    35,
                    142,
                    59,
                    74,
                    62,
                    49,
                    84,
                    67,
                    81,
                    33,
                    142,
                    59,
                    87,
                    77,
                    58,
                    69,
                    null,
                    65,
                    92,
                    87,
                    69,
                    null,
                    73,
                    61,
                    55,
                    67,
                    193,
                    69,
                    74,
                    64,
                    56,
                    36,
                    41,
                    142,
                    124,
                    49,
                    59,
                    34,
                    142,
                    84,
                    76,
                    142,
                    61,
                    193,
                    193,
                    62,
                    87,
                    67,
                    54,
                    59,
                    68,
                    67,
                    91,
                    142,
                    80,
                    96,
                    68,
                    193,
                    156,
                    30,
                    124,
                    null,
                    74,
                    71,
                    35,
                    81,
                    53,
                    49,
                    147,
                    40,
                    80,
                    76,
                    142,
                    76,
                    29,
                    196,
                    63,
                    57,
                    58,
                    null,
                    72,
                    196,
                    55,
                    53,
                    null,
                    80,
                    41,
                    55,
                    51,
                    85,
                    81,
                    52,
                    18,
                    193,
                    73,
                    48,
                    56,
                    142,
                    124,
                    63,
                    58,
                    32,
                    59,
                    193,
                    142,
                    193,
                    63,
                    142,
                    63,
                    80,
                    60,
                    64,
                    98,
                    59,
                    65,
                    193,
                    87,
                    66,
                    52,
                    193,
                    28,
                    174,
                    73,
                    87,
                    79,
                    60,
                    81,
                    74,
                    196,
                    69,
                    47,
                    47,
                    79,
                    82,
                    92,
                    57,
                    41,
                    49,
                    88,
                    79,
                    59,
                    71,
                    193,
                    81,
                    65,
                    82,
                    65,
                    40,
                    73,
                    156,
                    56,
                    69,
                    193,
                    67,
                    91,
                    67,
                    188,
                    124,
                    87,
                    124,
                    65,
                    124,
                    58,
                    55,
                    48,
                    88,
                    53,
                    85,
                    193,
                    62,
                    65,
                    82,
                    62,
                    63,
                    84,
                    193,
                    131,
                    77,
                    50,
                    69,
                    0,
                    188,
                    193,
                    65,
                    79,
                    69,
                    193,
                    72,
                    100,
                    65,
                    47,
                    99,
                    51,
                    71,
                    124,
                    82,
                    91,
                    55,
                    75,
                    66,
                    95,
                    72,
                    70,
                    57,
                    84,
                    193,
                    61,
                    45,
                    65,
                    27,
                    88,
                    65,
                    63,
                    78,
                    193,
                    65,
                    90,
                    100,
                    67,
                    74,
                    76,
                    193,
                    66,
                    59,
                    62,
                    41,
                    124,
                    29,
                    69,
                    124,
                    23,
                    193,
                    66,
                    54,
                    193,
                    68
                  ],
                  "y0": " ",
                  "yaxis": "y"
                },
                {
                  "alignmentgroup": "True",
                  "hovertemplate": "subject=reading score<br>score=%{y}<extra></extra>",
                  "legendgroup": "reading score",
                  "marker": {
                    "color": "#EF553B"
                  },
                  "name": "reading score",
                  "notched": false,
                  "offsetgroup": "reading score",
                  "orientation": "v",
                  "showlegend": true,
                  "type": "box",
                  "x0": " ",
                  "xaxis": "x",
                  "y": [
                    46,
                    142,
                    196,
                    78,
                    166,
                    66,
                    75,
                    86,
                    61,
                    68,
                    196,
                    131,
                    193,
                    48,
                    171,
                    61,
                    73,
                    78,
                    142,
                    76,
                    65,
                    74,
                    null,
                    142,
                    57,
                    69,
                    42,
                    82,
                    193,
                    61,
                    73,
                    75,
                    null,
                    97,
                    null,
                    100,
                    76,
                    61,
                    81,
                    72,
                    83,
                    64,
                    76,
                    86,
                    124,
                    88,
                    74,
                    72,
                    142,
                    61,
                    64,
                    61,
                    59,
                    67,
                    62,
                    29,
                    79,
                    142,
                    67,
                    124,
                    null,
                    58,
                    142,
                    55,
                    87,
                    193,
                    28,
                    67,
                    128,
                    74,
                    64,
                    59,
                    142,
                    79,
                    73,
                    196,
                    60,
                    59,
                    92,
                    76,
                    196,
                    85,
                    193,
                    94,
                    85,
                    193,
                    142,
                    62,
                    48,
                    48,
                    193,
                    54,
                    54,
                    193,
                    188,
                    82,
                    82,
                    65,
                    71,
                    90,
                    84,
                    75,
                    193,
                    142,
                    193,
                    88,
                    93,
                    142,
                    81,
                    93,
                    57,
                    74,
                    54,
                    193,
                    null,
                    84,
                    90,
                    193,
                    41,
                    73,
                    68,
                    78,
                    193,
                    null,
                    74,
                    124,
                    193,
                    62,
                    90,
                    63,
                    124,
                    74,
                    64,
                    68,
                    124,
                    null,
                    73,
                    142,
                    56,
                    193,
                    70,
                    124,
                    124,
                    142,
                    72,
                    83,
                    59,
                    null,
                    87,
                    99,
                    73,
                    42,
                    null,
                    43,
                    64,
                    68,
                    85,
                    81,
                    72,
                    78,
                    70,
                    51,
                    188,
                    72,
                    50,
                    85,
                    66,
                    78,
                    77,
                    45,
                    60,
                    93,
                    61,
                    64,
                    83,
                    66,
                    61,
                    77,
                    171,
                    57,
                    67,
                    78,
                    70,
                    79,
                    142,
                    68,
                    81,
                    67,
                    193,
                    142,
                    54,
                    124,
                    60,
                    51,
                    51,
                    57,
                    38,
                    193,
                    77,
                    79,
                    58,
                    188,
                    51,
                    72,
                    62,
                    56,
                    51,
                    193,
                    83,
                    76,
                    78,
                    95,
                    89,
                    87,
                    66,
                    196,
                    193,
                    193,
                    49,
                    193,
                    53,
                    57,
                    73,
                    68,
                    71,
                    63,
                    86,
                    58,
                    142,
                    124,
                    51,
                    151,
                    193,
                    171,
                    193,
                    64,
                    71,
                    48,
                    193,
                    93,
                    72,
                    60,
                    61,
                    73,
                    54,
                    128,
                    142,
                    124,
                    48,
                    73,
                    74,
                    95,
                    77,
                    74,
                    70,
                    90,
                    196,
                    74,
                    124,
                    51,
                    68,
                    null,
                    142,
                    166,
                    72,
                    81,
                    76,
                    63,
                    62,
                    59,
                    47,
                    66,
                    64,
                    74,
                    78,
                    193,
                    196,
                    142,
                    86,
                    100,
                    58,
                    64,
                    81,
                    63,
                    71,
                    142,
                    124,
                    null,
                    124,
                    91,
                    196,
                    75,
                    84,
                    94,
                    61,
                    193,
                    84,
                    49,
                    63,
                    193,
                    82,
                    174,
                    81,
                    49,
                    42,
                    77,
                    76,
                    66,
                    88,
                    83,
                    81,
                    34,
                    39,
                    124,
                    52,
                    147,
                    64,
                    82,
                    81,
                    80,
                    193,
                    59,
                    78,
                    72,
                    64,
                    188,
                    196,
                    81,
                    70,
                    52,
                    58,
                    124,
                    73,
                    70,
                    87,
                    64,
                    142,
                    66,
                    57,
                    193,
                    89,
                    75,
                    56,
                    124,
                    70,
                    75,
                    69,
                    193,
                    57,
                    43,
                    54,
                    54,
                    53,
                    193,
                    142,
                    193,
                    59,
                    41,
                    31,
                    75,
                    124,
                    74,
                    39,
                    124,
                    57,
                    87,
                    84,
                    54,
                    54,
                    193,
                    64,
                    88,
                    23,
                    71,
                    57,
                    142,
                    124,
                    64,
                    124,
                    53,
                    124,
                    85,
                    124,
                    58,
                    100,
                    80,
                    196,
                    124,
                    47,
                    84,
                    124,
                    81,
                    124,
                    82,
                    64,
                    null,
                    58,
                    73,
                    77,
                    79,
                    null,
                    78,
                    68,
                    193,
                    86,
                    77,
                    49,
                    75,
                    70,
                    174,
                    66,
                    62,
                    40,
                    65,
                    61,
                    124,
                    61,
                    95,
                    79,
                    76,
                    196,
                    68,
                    74,
                    66,
                    67,
                    86,
                    65,
                    73,
                    75,
                    124,
                    77,
                    null,
                    71,
                    72,
                    89,
                    124,
                    71,
                    193,
                    78,
                    193,
                    null,
                    193,
                    56,
                    null,
                    193,
                    65,
                    92,
                    142,
                    78,
                    95,
                    77,
                    null,
                    86,
                    70,
                    63,
                    80,
                    82,
                    81,
                    193,
                    55,
                    null,
                    51,
                    51,
                    97,
                    null,
                    72,
                    73,
                    196,
                    79,
                    67,
                    68,
                    77,
                    58,
                    78,
                    57,
                    100,
                    193,
                    89,
                    73,
                    72,
                    193,
                    79,
                    156,
                    196,
                    142,
                    62,
                    74,
                    54,
                    96,
                    66,
                    79,
                    67,
                    53,
                    61,
                    156,
                    92,
                    81,
                    null,
                    62,
                    59,
                    142,
                    null,
                    64,
                    75,
                    67,
                    193,
                    75,
                    63,
                    56,
                    66,
                    95,
                    156,
                    156,
                    97,
                    100,
                    77,
                    90,
                    44,
                    83,
                    68,
                    null,
                    82,
                    193,
                    171,
                    49,
                    59,
                    75,
                    60,
                    64,
                    142,
                    49,
                    43,
                    43,
                    73,
                    54,
                    66,
                    72,
                    43,
                    83,
                    65,
                    72,
                    74,
                    82,
                    84,
                    54,
                    196,
                    42,
                    62,
                    53,
                    58,
                    null,
                    85,
                    64,
                    196,
                    72,
                    66,
                    64,
                    55,
                    42,
                    142,
                    49,
                    89,
                    26,
                    84,
                    64,
                    82,
                    81,
                    59,
                    147,
                    84,
                    156,
                    124,
                    84,
                    88,
                    88,
                    84,
                    74,
                    73,
                    64,
                    62,
                    52,
                    193,
                    65,
                    142,
                    124,
                    193,
                    54,
                    53,
                    131,
                    193,
                    86,
                    92,
                    156,
                    71,
                    52,
                    86,
                    91,
                    61,
                    63,
                    76,
                    193,
                    64,
                    188,
                    53,
                    58,
                    196,
                    72,
                    74,
                    69,
                    84,
                    193,
                    92,
                    142,
                    193,
                    70,
                    55,
                    142,
                    76,
                    72,
                    77,
                    85,
                    69,
                    193,
                    124,
                    73,
                    85,
                    124,
                    193,
                    67,
                    58,
                    66,
                    76,
                    193,
                    55,
                    87,
                    124,
                    68,
                    49,
                    70,
                    82,
                    52,
                    74,
                    196,
                    50,
                    156,
                    151,
                    193,
                    90,
                    193,
                    84,
                    193,
                    65,
                    77,
                    182,
                    182,
                    67,
                    67,
                    66,
                    142,
                    63,
                    193,
                    182,
                    75,
                    90,
                    193,
                    196,
                    78,
                    70,
                    188,
                    68,
                    193,
                    131,
                    193,
                    66,
                    142,
                    196,
                    142,
                    100,
                    131,
                    24,
                    64,
                    65,
                    66,
                    84,
                    82,
                    64,
                    73,
                    77,
                    72,
                    51,
                    69,
                    50,
                    68,
                    56,
                    null,
                    142,
                    55,
                    147,
                    182,
                    51,
                    95,
                    90,
                    56,
                    72,
                    49,
                    65,
                    77,
                    46,
                    100,
                    196,
                    188,
                    193,
                    193,
                    70,
                    124,
                    61,
                    45,
                    193,
                    59,
                    69,
                    46,
                    55,
                    65,
                    77,
                    56,
                    63,
                    78,
                    77,
                    196,
                    71,
                    64,
                    64,
                    100,
                    124,
                    63,
                    41,
                    193,
                    78,
                    79,
                    142,
                    87,
                    87,
                    58,
                    81,
                    73,
                    70,
                    69,
                    131,
                    73,
                    49,
                    52,
                    51,
                    193,
                    81,
                    80,
                    64,
                    90,
                    58,
                    81,
                    142,
                    79,
                    64,
                    124,
                    84,
                    63,
                    71,
                    90,
                    83,
                    56,
                    58,
                    78,
                    52,
                    193,
                    37,
                    193,
                    63,
                    70,
                    91,
                    100,
                    142,
                    73,
                    87,
                    52,
                    66,
                    65,
                    122,
                    74,
                    83,
                    74,
                    54,
                    74,
                    85,
                    52,
                    74,
                    74,
                    31,
                    73,
                    84,
                    95,
                    57,
                    53,
                    52,
                    142,
                    156,
                    74,
                    48,
                    55,
                    52,
                    57,
                    39,
                    90,
                    61,
                    74,
                    78,
                    70,
                    100,
                    42,
                    67,
                    80,
                    142,
                    85,
                    84,
                    86,
                    62,
                    45,
                    55,
                    85,
                    42,
                    77,
                    70,
                    50,
                    91,
                    60,
                    80,
                    50,
                    61,
                    67,
                    63,
                    142,
                    142,
                    77,
                    99,
                    91,
                    124,
                    142,
                    142,
                    78,
                    193,
                    69,
                    147,
                    71,
                    193,
                    79,
                    81,
                    74,
                    193,
                    84,
                    193,
                    124,
                    166,
                    193,
                    142,
                    null,
                    54,
                    62,
                    null,
                    84,
                    64,
                    72,
                    52,
                    64,
                    75,
                    193,
                    85,
                    43,
                    68,
                    55,
                    72,
                    68,
                    null,
                    42,
                    124,
                    196,
                    64,
                    89,
                    188,
                    50,
                    null,
                    68,
                    59,
                    142,
                    57,
                    73,
                    193,
                    193,
                    85,
                    73,
                    45,
                    56,
                    193,
                    28,
                    70,
                    90,
                    67,
                    75,
                    59,
                    193,
                    95,
                    193,
                    52,
                    69,
                    76,
                    79,
                    131,
                    60,
                    56,
                    85,
                    71,
                    100,
                    56,
                    79,
                    100,
                    63,
                    156,
                    73,
                    70,
                    52,
                    193,
                    142,
                    99,
                    64,
                    193,
                    93,
                    193,
                    69,
                    82,
                    53,
                    193,
                    49,
                    55,
                    81,
                    55,
                    196,
                    83,
                    72,
                    83,
                    56,
                    61,
                    86,
                    84,
                    88,
                    62,
                    64,
                    75,
                    45,
                    68,
                    76,
                    142,
                    48,
                    60,
                    34,
                    50,
                    64,
                    43,
                    66,
                    92,
                    142,
                    76,
                    44,
                    72,
                    62,
                    64,
                    82,
                    156,
                    41,
                    64,
                    124,
                    70,
                    77,
                    193,
                    37,
                    142,
                    68,
                    77,
                    48,
                    null,
                    71,
                    156,
                    57,
                    142,
                    54,
                    72,
                    94,
                    53,
                    80,
                    89,
                    133,
                    39,
                    71,
                    89,
                    48,
                    81,
                    90,
                    63,
                    58,
                    55,
                    60,
                    67,
                    77,
                    88,
                    193,
                    193,
                    151,
                    73,
                    196,
                    68,
                    80,
                    70,
                    42,
                    47,
                    60,
                    60,
                    196,
                    42,
                    76,
                    86,
                    64,
                    193,
                    63,
                    196,
                    74,
                    82,
                    null,
                    78,
                    193,
                    193,
                    142,
                    58,
                    82,
                    43,
                    196,
                    92,
                    67,
                    196,
                    86,
                    124,
                    193,
                    63,
                    79,
                    85,
                    86,
                    72,
                    60,
                    75,
                    61,
                    60,
                    null,
                    166,
                    61,
                    193,
                    124,
                    193,
                    75,
                    196,
                    142,
                    39,
                    null,
                    75,
                    38,
                    51,
                    193,
                    84,
                    62,
                    142,
                    62,
                    96,
                    47,
                    85,
                    67,
                    171,
                    67,
                    80,
                    53,
                    76,
                    null,
                    85,
                    75,
                    142,
                    62,
                    196,
                    79,
                    58,
                    193,
                    60,
                    71,
                    174,
                    58,
                    87,
                    45,
                    85,
                    193,
                    58,
                    43,
                    67,
                    68,
                    67,
                    58,
                    147,
                    77,
                    71,
                    63,
                    78,
                    60,
                    34,
                    193,
                    188,
                    78,
                    57,
                    62,
                    142,
                    76,
                    64,
                    78,
                    156,
                    53,
                    51,
                    62,
                    84,
                    193,
                    156,
                    60,
                    58,
                    128,
                    84,
                    76,
                    73,
                    72,
                    90,
                    66,
                    142,
                    83,
                    193,
                    65,
                    74,
                    72,
                    24,
                    92,
                    62,
                    60,
                    57,
                    65,
                    193,
                    76,
                    193,
                    142,
                    49,
                    90,
                    86,
                    193,
                    193,
                    89,
                    76,
                    97,
                    70,
                    124,
                    122,
                    66,
                    86,
                    68,
                    193,
                    83,
                    86,
                    88,
                    41,
                    147,
                    65,
                    95,
                    97,
                    51,
                    66,
                    null,
                    66,
                    100,
                    74,
                    54,
                    193,
                    67,
                    60,
                    59,
                    81,
                    193,
                    90,
                    81,
                    60,
                    65,
                    53,
                    52,
                    193,
                    193,
                    58,
                    69,
                    42,
                    196,
                    87,
                    83,
                    171,
                    72,
                    142,
                    null,
                    67,
                    89,
                    75,
                    64,
                    63,
                    67,
                    84,
                    74,
                    188,
                    80,
                    100,
                    64,
                    124,
                    142,
                    26,
                    193,
                    193,
                    75,
                    76,
                    61,
                    78,
                    37,
                    193,
                    193,
                    182,
                    76,
                    71,
                    188,
                    70,
                    142,
                    196,
                    71,
                    68,
                    70,
                    null,
                    66,
                    null,
                    65,
                    71,
                    193,
                    92,
                    55,
                    69,
                    56,
                    76,
                    92,
                    59,
                    32,
                    193,
                    79,
                    54,
                    58,
                    196,
                    null,
                    67,
                    49,
                    39,
                    73,
                    156,
                    156,
                    193,
                    60,
                    null,
                    73,
                    90,
                    44,
                    56,
                    100,
                    71,
                    69,
                    49,
                    91,
                    76,
                    55,
                    124,
                    182,
                    193,
                    75,
                    84,
                    67,
                    72,
                    78,
                    79,
                    142,
                    60,
                    58,
                    46,
                    77,
                    80,
                    79,
                    69,
                    45,
                    58,
                    95,
                    78,
                    70,
                    62,
                    174,
                    81,
                    81,
                    78,
                    69,
                    46,
                    80,
                    188,
                    72,
                    58,
                    122,
                    72,
                    96,
                    75,
                    193,
                    49,
                    100,
                    193,
                    74,
                    142,
                    59,
                    41,
                    58,
                    93,
                    61,
                    66,
                    142,
                    67,
                    84,
                    82,
                    70,
                    61,
                    80,
                    174,
                    142,
                    62,
                    64,
                    65,
                    17,
                    193,
                    196,
                    67,
                    86,
                    86,
                    193,
                    67,
                    100,
                    58,
                    57,
                    87,
                    51,
                    74,
                    null,
                    82,
                    96,
                    65,
                    82,
                    66,
                    89,
                    72,
                    55,
                    56,
                    89,
                    196,
                    48,
                    52,
                    59,
                    34,
                    73,
                    82,
                    66,
                    81,
                    124,
                    72,
                    87,
                    97,
                    74,
                    75,
                    67,
                    147,
                    72,
                    64,
                    76,
                    46,
                    64,
                    29,
                    75,
                    193,
                    44,
                    142,
                    74,
                    61,
                    196,
                    80
                  ],
                  "y0": " ",
                  "yaxis": "y"
                },
                {
                  "alignmentgroup": "True",
                  "hovertemplate": "subject=writing score<br>score=%{y}<extra></extra>",
                  "legendgroup": "writing score",
                  "marker": {
                    "color": "#00cc96"
                  },
                  "name": "writing score",
                  "notched": false,
                  "offsetgroup": "writing score",
                  "orientation": "v",
                  "showlegend": true,
                  "type": "box",
                  "x0": " ",
                  "xaxis": "x",
                  "y": [
                    46,
                    142,
                    193,
                    81,
                    166,
                    63,
                    76,
                    87,
                    69,
                    64,
                    193,
                    193,
                    193,
                    41,
                    131,
                    61,
                    71,
                    82,
                    147,
                    70,
                    58,
                    72,
                    193,
                    124,
                    62,
                    68,
                    46,
                    74,
                    193,
                    60,
                    68,
                    77,
                    null,
                    124,
                    142,
                    100,
                    74,
                    55,
                    80,
                    70,
                    75,
                    67,
                    78,
                    88,
                    124,
                    85,
                    74,
                    65,
                    124,
                    54,
                    62,
                    62,
                    54,
                    63,
                    60,
                    27,
                    76,
                    142,
                    72,
                    193,
                    193,
                    57,
                    124,
                    53,
                    78,
                    142,
                    27,
                    70,
                    188,
                    61,
                    67,
                    65,
                    193,
                    79,
                    71,
                    196,
                    61,
                    64,
                    85,
                    65,
                    196,
                    87,
                    193,
                    95,
                    85,
                    122,
                    196,
                    60,
                    47,
                    50,
                    182,
                    56,
                    52,
                    124,
                    142,
                    88,
                    82,
                    61,
                    65,
                    92,
                    86,
                    73,
                    196,
                    124,
                    193,
                    78,
                    91,
                    124,
                    81,
                    93,
                    58,
                    70,
                    53,
                    142,
                    null,
                    78,
                    88,
                    193,
                    42,
                    74,
                    67,
                    77,
                    null,
                    193,
                    78,
                    142,
                    null,
                    60,
                    83,
                    61,
                    196,
                    74,
                    66,
                    64,
                    193,
                    142,
                    70,
                    193,
                    51,
                    142,
                    70,
                    193,
                    196,
                    124,
                    59,
                    83,
                    54,
                    null,
                    85,
                    100,
                    72,
                    151,
                    124,
                    43,
                    193,
                    63,
                    82,
                    71,
                    65,
                    78,
                    74,
                    43,
                    188,
                    74,
                    60,
                    85,
                    61,
                    76,
                    77,
                    45,
                    58,
                    95,
                    71,
                    57,
                    78,
                    59,
                    58,
                    74,
                    193,
                    46,
                    62,
                    78,
                    74,
                    81,
                    193,
                    72,
                    82,
                    73,
                    128,
                    124,
                    50,
                    124,
                    59,
                    44,
                    57,
                    54,
                    32,
                    142,
                    73,
                    74,
                    57,
                    193,
                    52,
                    69,
                    53,
                    54,
                    48,
                    124,
                    90,
                    75,
                    83,
                    94,
                    92,
                    91,
                    62,
                    64,
                    124,
                    193,
                    45,
                    193,
                    58,
                    52,
                    63,
                    60,
                    74,
                    59,
                    86,
                    55,
                    131,
                    142,
                    54,
                    193,
                    193,
                    196,
                    193,
                    63,
                    73,
                    46,
                    156,
                    90,
                    79,
                    58,
                    66,
                    72,
                    41,
                    122,
                    142,
                    193,
                    42,
                    70,
                    72,
                    131,
                    77,
                    76,
                    67,
                    85,
                    null,
                    66,
                    142,
                    54,
                    72,
                    193,
                    196,
                    166,
                    68,
                    85,
                    76,
                    62,
                    60,
                    58,
                    56,
                    64,
                    null,
                    75,
                    72,
                    193,
                    196,
                    196,
                    83,
                    100,
                    56,
                    66,
                    71,
                    67,
                    76,
                    142,
                    193,
                    null,
                    124,
                    96,
                    188,
                    68,
                    80,
                    87,
                    52,
                    142,
                    82,
                    47,
                    65,
                    124,
                    84,
                    142,
                    79,
                    52,
                    41,
                    73,
                    83,
                    65,
                    82,
                    76,
                    79,
                    36,
                    33,
                    null,
                    45,
                    193,
                    58,
                    80,
                    79,
                    73,
                    142,
                    62,
                    73,
                    70,
                    61,
                    196,
                    196,
                    75,
                    68,
                    49,
                    64,
                    124,
                    73,
                    68,
                    91,
                    68,
                    142,
                    68,
                    56,
                    193,
                    86,
                    69,
                    57,
                    142,
                    66,
                    70,
                    74,
                    128,
                    56,
                    45,
                    57,
                    45,
                    58,
                    193,
                    156,
                    193,
                    51,
                    47,
                    38,
                    78,
                    193,
                    69,
                    37,
                    124,
                    51,
                    90,
                    90,
                    51,
                    58,
                    142,
                    66,
                    94,
                    19,
                    69,
                    56,
                    193,
                    null,
                    193,
                    174,
                    46,
                    196,
                    82,
                    124,
                    57,
                    100,
                    81,
                    193,
                    131,
                    54,
                    91,
                    193,
                    80,
                    142,
                    84,
                    70,
                    156,
                    52,
                    68,
                    73,
                    78,
                    142,
                    79,
                    70,
                    193,
                    84,
                    74,
                    193,
                    69,
                    75,
                    193,
                    70,
                    68,
                    44,
                    69,
                    68,
                    193,
                    68,
                    89,
                    72,
                    65,
                    196,
                    66,
                    69,
                    73,
                    72,
                    82,
                    69,
                    69,
                    77,
                    142,
                    73,
                    124,
                    72,
                    77,
                    86,
                    142,
                    75,
                    null,
                    80,
                    142,
                    156,
                    124,
                    54,
                    193,
                    193,
                    68,
                    93,
                    193,
                    73,
                    92,
                    74,
                    142,
                    98,
                    70,
                    73,
                    75,
                    77,
                    81,
                    124,
                    52,
                    193,
                    51,
                    51,
                    96,
                    null,
                    62,
                    74,
                    196,
                    75,
                    61,
                    67,
                    77,
                    44,
                    67,
                    62,
                    100,
                    142,
                    89,
                    80,
                    78,
                    64,
                    77,
                    124,
                    196,
                    142,
                    61,
                    72,
                    67,
                    86,
                    61,
                    80,
                    67,
                    53,
                    55,
                    null,
                    87,
                    71,
                    null,
                    59,
                    50,
                    142,
                    124,
                    null,
                    81,
                    69,
                    147,
                    74,
                    54,
                    55,
                    60,
                    193,
                    196,
                    null,
                    96,
                    93,
                    71,
                    91,
                    42,
                    83,
                    66,
                    193,
                    81,
                    124,
                    147,
                    41,
                    56,
                    77,
                    58,
                    66,
                    124,
                    52,
                    47,
                    41,
                    68,
                    63,
                    62,
                    71,
                    39,
                    80,
                    61,
                    70,
                    72,
                    89,
                    81,
                    48,
                    193,
                    38,
                    60,
                    55,
                    54,
                    null,
                    86,
                    124,
                    196,
                    70,
                    73,
                    72,
                    47,
                    38,
                    131,
                    49,
                    88,
                    22,
                    80,
                    66,
                    80,
                    83,
                    50,
                    131,
                    87,
                    null,
                    null,
                    85,
                    87,
                    85,
                    87,
                    70,
                    67,
                    70,
                    61,
                    51,
                    142,
                    61,
                    193,
                    null,
                    193,
                    48,
                    57,
                    193,
                    147,
                    87,
                    89,
                    null,
                    65,
                    52,
                    80,
                    88,
                    52,
                    56,
                    80,
                    193,
                    68,
                    156,
                    47,
                    51,
                    193,
                    80,
                    73,
                    68,
                    89,
                    193,
                    86,
                    142,
                    142,
                    70,
                    57,
                    193,
                    77,
                    69,
                    80,
                    73,
                    63,
                    124,
                    124,
                    78,
                    76,
                    196,
                    193,
                    73,
                    52,
                    66,
                    74,
                    142,
                    60,
                    82,
                    193,
                    65,
                    46,
                    69,
                    76,
                    46,
                    72,
                    38,
                    51,
                    null,
                    33,
                    142,
                    84,
                    193,
                    85,
                    193,
                    60,
                    80,
                    null,
                    42,
                    65,
                    58,
                    64,
                    null,
                    58,
                    131,
                    142,
                    83,
                    91,
                    193,
                    97,
                    80,
                    66,
                    193,
                    64,
                    null,
                    193,
                    193,
                    66,
                    156,
                    124,
                    193,
                    100,
                    193,
                    23,
                    62,
                    64,
                    65,
                    82,
                    91,
                    null,
                    75,
                    69,
                    64,
                    43,
                    69,
                    47,
                    74,
                    57,
                    124,
                    193,
                    48,
                    147,
                    193,
                    56,
                    94,
                    91,
                    57,
                    76,
                    50,
                    63,
                    79,
                    44,
                    95,
                    193,
                    193,
                    193,
                    193,
                    71,
                    131,
                    57,
                    41,
                    193,
                    62,
                    68,
                    43,
                    54,
                    65,
                    76,
                    47,
                    64,
                    75,
                    78,
                    196,
                    73,
                    193,
                    57,
                    95,
                    131,
                    66,
                    38,
                    124,
                    76,
                    79,
                    182,
                    82,
                    85,
                    65,
                    86,
                    73,
                    65,
                    76,
                    124,
                    70,
                    49,
                    51,
                    48,
                    null,
                    80,
                    73,
                    65,
                    82,
                    59,
                    73,
                    193,
                    84,
                    142,
                    null,
                    77,
                    75,
                    68,
                    88,
                    86,
                    51,
                    62,
                    79,
                    54,
                    193,
                    37,
                    42,
                    62,
                    76,
                    89,
                    97,
                    124,
                    68,
                    92,
                    55,
                    68,
                    60,
                    171,
                    71,
                    88,
                    75,
                    53,
                    73,
                    91,
                    43,
                    81,
                    74,
                    36,
                    70,
                    75,
                    93,
                    50,
                    52,
                    42,
                    124,
                    156,
                    64,
                    53,
                    53,
                    51,
                    53,
                    34,
                    92,
                    58,
                    72,
                    76,
                    66,
                    100,
                    38,
                    61,
                    71,
                    193,
                    87,
                    85,
                    92,
                    56,
                    50,
                    48,
                    82,
                    38,
                    77,
                    63,
                    52,
                    89,
                    54,
                    83,
                    54,
                    66,
                    69,
                    56,
                    188,
                    193,
                    83,
                    100,
                    87,
                    156,
                    196,
                    188,
                    79,
                    124,
                    75,
                    171,
                    78,
                    193,
                    82,
                    84,
                    68,
                    196,
                    78,
                    142,
                    193,
                    166,
                    156,
                    142,
                    156,
                    52,
                    62,
                    142,
                    82,
                    74,
                    70,
                    44,
                    66,
                    78,
                    193,
                    93,
                    44,
                    61,
                    55,
                    71,
                    72,
                    null,
                    48,
                    174,
                    193,
                    193,
                    98,
                    142,
                    43,
                    193,
                    66,
                    54,
                    null,
                    59,
                    71,
                    124,
                    196,
                    84,
                    72,
                    40,
                    58,
                    193,
                    27,
                    70,
                    94,
                    72,
                    74,
                    52,
                    null,
                    100,
                    42,
                    54,
                    68,
                    75,
                    81,
                    193,
                    59,
                    53,
                    90,
                    73,
                    100,
                    51,
                    82,
                    100,
                    61,
                    124,
                    72,
                    76,
                    46,
                    null,
                    193,
                    95,
                    62,
                    193,
                    93,
                    196,
                    68,
                    79,
                    53,
                    null,
                    51,
                    49,
                    84,
                    63,
                    196,
                    78,
                    74,
                    77,
                    56,
                    60,
                    90,
                    82,
                    85,
                    64,
                    174,
                    70,
                    45,
                    69,
                    76,
                    193,
                    51,
                    60,
                    36,
                    45,
                    70,
                    43,
                    69,
                    97,
                    193,
                    74,
                    43,
                    72,
                    62,
                    64,
                    82,
                    64,
                    43,
                    60,
                    193,
                    65,
                    70,
                    193,
                    35,
                    193,
                    77,
                    80,
                    49,
                    124,
                    74,
                    124,
                    53,
                    null,
                    53,
                    77,
                    95,
                    49,
                    75,
                    95,
                    36,
                    34,
                    78,
                    82,
                    52,
                    74,
                    89,
                    60,
                    58,
                    54,
                    57,
                    67,
                    74,
                    90,
                    193,
                    124,
                    34,
                    67,
                    196,
                    61,
                    80,
                    62,
                    41,
                    44,
                    57,
                    50,
                    193,
                    142,
                    73,
                    84,
                    70,
                    null,
                    57,
                    196,
                    71,
                    73,
                    null,
                    81,
                    193,
                    124,
                    196,
                    61,
                    79,
                    42,
                    142,
                    95,
                    62,
                    193,
                    83,
                    193,
                    188,
                    63,
                    71,
                    85,
                    79,
                    74,
                    53,
                    76,
                    54,
                    60,
                    null,
                    196,
                    58,
                    142,
                    142,
                    196,
                    78,
                    124,
                    128,
                    34,
                    142,
                    77,
                    27,
                    46,
                    142,
                    86,
                    69,
                    193,
                    61,
                    99,
                    49,
                    76,
                    65,
                    128,
                    66,
                    76,
                    52,
                    78,
                    156,
                    86,
                    81,
                    193,
                    66,
                    193,
                    77,
                    55,
                    193,
                    63,
                    80,
                    null,
                    47,
                    79,
                    38,
                    80,
                    193,
                    57,
                    41,
                    64,
                    75,
                    68,
                    54,
                    142,
                    77,
                    80,
                    59,
                    75,
                    58,
                    38,
                    196,
                    131,
                    74,
                    52,
                    66,
                    null,
                    74,
                    55,
                    79,
                    193,
                    55,
                    55,
                    64,
                    81,
                    64,
                    193,
                    55,
                    62,
                    142,
                    82,
                    74,
                    68,
                    64,
                    88,
                    73,
                    188,
                    83,
                    49,
                    55,
                    77,
                    79,
                    15,
                    84,
                    63,
                    65,
                    56,
                    61,
                    124,
                    78,
                    193,
                    124,
                    42,
                    93,
                    87,
                    193,
                    193,
                    84,
                    67,
                    96,
                    75,
                    193,
                    124,
                    67,
                    89,
                    68,
                    124,
                    78,
                    83,
                    90,
                    43,
                    193,
                    66,
                    86,
                    94,
                    52,
                    60,
                    124,
                    62,
                    99,
                    76,
                    55,
                    193,
                    59,
                    57,
                    59,
                    79,
                    null,
                    88,
                    76,
                    74,
                    63,
                    43,
                    51,
                    null,
                    193,
                    60,
                    65,
                    39,
                    40,
                    81,
                    79,
                    166,
                    70,
                    128,
                    124,
                    61,
                    94,
                    70,
                    67,
                    64,
                    69,
                    84,
                    76,
                    193,
                    72,
                    100,
                    66,
                    124,
                    188,
                    22,
                    193,
                    124,
                    82,
                    70,
                    54,
                    78,
                    40,
                    142,
                    193,
                    151,
                    64,
                    67,
                    147,
                    69,
                    null,
                    182,
                    69,
                    73,
                    67,
                    null,
                    72,
                    64,
                    62,
                    67,
                    142,
                    88,
                    51,
                    65,
                    53,
                    71,
                    91,
                    62,
                    28,
                    193,
                    84,
                    53,
                    64,
                    124,
                    null,
                    67,
                    42,
                    33,
                    69,
                    null,
                    193,
                    193,
                    57,
                    null,
                    68,
                    82,
                    47,
                    52,
                    99,
                    70,
                    67,
                    193,
                    81,
                    68,
                    49,
                    124,
                    124,
                    193,
                    80,
                    76,
                    67,
                    68,
                    81,
                    80,
                    124,
                    63,
                    67,
                    42,
                    75,
                    77,
                    84,
                    68,
                    40,
                    60,
                    92,
                    77,
                    73,
                    50,
                    124,
                    84,
                    77,
                    74,
                    70,
                    50,
                    82,
                    193,
                    65,
                    53,
                    131,
                    67,
                    91,
                    72,
                    124,
                    null,
                    100,
                    193,
                    77,
                    193,
                    66,
                    48,
                    54,
                    93,
                    62,
                    71,
                    196,
                    64,
                    84,
                    80,
                    72,
                    54,
                    80,
                    193,
                    193,
                    64,
                    59,
                    74,
                    10,
                    193,
                    142,
                    62,
                    81,
                    81,
                    193,
                    64,
                    100,
                    49,
                    44,
                    81,
                    54,
                    68,
                    193,
                    88,
                    92,
                    62,
                    90,
                    59,
                    92,
                    74,
                    56,
                    54,
                    90,
                    193,
                    46,
                    49,
                    53,
                    32,
                    78,
                    78,
                    67,
                    82,
                    193,
                    74,
                    75,
                    99,
                    70,
                    79,
                    67,
                    131,
                    70,
                    75,
                    80,
                    43,
                    193,
                    30,
                    71,
                    49,
                    36,
                    193,
                    81,
                    62,
                    193,
                    76
                  ],
                  "y0": " ",
                  "yaxis": "y"
                }
              ],
              "layout": {
                "boxmode": "group",
                "legend": {
                  "title": {
                    "text": "subject"
                  },
                  "tracegroupgap": 0
                },
                "margin": {
                  "t": 60
                },
                "template": {
                  "data": {
                    "bar": [
                      {
                        "error_x": {
                          "color": "#2a3f5f"
                        },
                        "error_y": {
                          "color": "#2a3f5f"
                        },
                        "marker": {
                          "line": {
                            "color": "#E5ECF6",
                            "width": 0.5
                          },
                          "pattern": {
                            "fillmode": "overlay",
                            "size": 10,
                            "solidity": 0.2
                          }
                        },
                        "type": "bar"
                      }
                    ],
                    "barpolar": [
                      {
                        "marker": {
                          "line": {
                            "color": "#E5ECF6",
                            "width": 0.5
                          },
                          "pattern": {
                            "fillmode": "overlay",
                            "size": 10,
                            "solidity": 0.2
                          }
                        },
                        "type": "barpolar"
                      }
                    ],
                    "carpet": [
                      {
                        "aaxis": {
                          "endlinecolor": "#2a3f5f",
                          "gridcolor": "white",
                          "linecolor": "white",
                          "minorgridcolor": "white",
                          "startlinecolor": "#2a3f5f"
                        },
                        "baxis": {
                          "endlinecolor": "#2a3f5f",
                          "gridcolor": "white",
                          "linecolor": "white",
                          "minorgridcolor": "white",
                          "startlinecolor": "#2a3f5f"
                        },
                        "type": "carpet"
                      }
                    ],
                    "choropleth": [
                      {
                        "colorbar": {
                          "outlinewidth": 0,
                          "ticks": ""
                        },
                        "type": "choropleth"
                      }
                    ],
                    "contour": [
                      {
                        "colorbar": {
                          "outlinewidth": 0,
                          "ticks": ""
                        },
                        "colorscale": [
                          [
                            0,
                            "#0d0887"
                          ],
                          [
                            0.1111111111111111,
                            "#46039f"
                          ],
                          [
                            0.2222222222222222,
                            "#7201a8"
                          ],
                          [
                            0.3333333333333333,
                            "#9c179e"
                          ],
                          [
                            0.4444444444444444,
                            "#bd3786"
                          ],
                          [
                            0.5555555555555556,
                            "#d8576b"
                          ],
                          [
                            0.6666666666666666,
                            "#ed7953"
                          ],
                          [
                            0.7777777777777778,
                            "#fb9f3a"
                          ],
                          [
                            0.8888888888888888,
                            "#fdca26"
                          ],
                          [
                            1,
                            "#f0f921"
                          ]
                        ],
                        "type": "contour"
                      }
                    ],
                    "contourcarpet": [
                      {
                        "colorbar": {
                          "outlinewidth": 0,
                          "ticks": ""
                        },
                        "type": "contourcarpet"
                      }
                    ],
                    "heatmap": [
                      {
                        "colorbar": {
                          "outlinewidth": 0,
                          "ticks": ""
                        },
                        "colorscale": [
                          [
                            0,
                            "#0d0887"
                          ],
                          [
                            0.1111111111111111,
                            "#46039f"
                          ],
                          [
                            0.2222222222222222,
                            "#7201a8"
                          ],
                          [
                            0.3333333333333333,
                            "#9c179e"
                          ],
                          [
                            0.4444444444444444,
                            "#bd3786"
                          ],
                          [
                            0.5555555555555556,
                            "#d8576b"
                          ],
                          [
                            0.6666666666666666,
                            "#ed7953"
                          ],
                          [
                            0.7777777777777778,
                            "#fb9f3a"
                          ],
                          [
                            0.8888888888888888,
                            "#fdca26"
                          ],
                          [
                            1,
                            "#f0f921"
                          ]
                        ],
                        "type": "heatmap"
                      }
                    ],
                    "heatmapgl": [
                      {
                        "colorbar": {
                          "outlinewidth": 0,
                          "ticks": ""
                        },
                        "colorscale": [
                          [
                            0,
                            "#0d0887"
                          ],
                          [
                            0.1111111111111111,
                            "#46039f"
                          ],
                          [
                            0.2222222222222222,
                            "#7201a8"
                          ],
                          [
                            0.3333333333333333,
                            "#9c179e"
                          ],
                          [
                            0.4444444444444444,
                            "#bd3786"
                          ],
                          [
                            0.5555555555555556,
                            "#d8576b"
                          ],
                          [
                            0.6666666666666666,
                            "#ed7953"
                          ],
                          [
                            0.7777777777777778,
                            "#fb9f3a"
                          ],
                          [
                            0.8888888888888888,
                            "#fdca26"
                          ],
                          [
                            1,
                            "#f0f921"
                          ]
                        ],
                        "type": "heatmapgl"
                      }
                    ],
                    "histogram": [
                      {
                        "marker": {
                          "pattern": {
                            "fillmode": "overlay",
                            "size": 10,
                            "solidity": 0.2
                          }
                        },
                        "type": "histogram"
                      }
                    ],
                    "histogram2d": [
                      {
                        "colorbar": {
                          "outlinewidth": 0,
                          "ticks": ""
                        },
                        "colorscale": [
                          [
                            0,
                            "#0d0887"
                          ],
                          [
                            0.1111111111111111,
                            "#46039f"
                          ],
                          [
                            0.2222222222222222,
                            "#7201a8"
                          ],
                          [
                            0.3333333333333333,
                            "#9c179e"
                          ],
                          [
                            0.4444444444444444,
                            "#bd3786"
                          ],
                          [
                            0.5555555555555556,
                            "#d8576b"
                          ],
                          [
                            0.6666666666666666,
                            "#ed7953"
                          ],
                          [
                            0.7777777777777778,
                            "#fb9f3a"
                          ],
                          [
                            0.8888888888888888,
                            "#fdca26"
                          ],
                          [
                            1,
                            "#f0f921"
                          ]
                        ],
                        "type": "histogram2d"
                      }
                    ],
                    "histogram2dcontour": [
                      {
                        "colorbar": {
                          "outlinewidth": 0,
                          "ticks": ""
                        },
                        "colorscale": [
                          [
                            0,
                            "#0d0887"
                          ],
                          [
                            0.1111111111111111,
                            "#46039f"
                          ],
                          [
                            0.2222222222222222,
                            "#7201a8"
                          ],
                          [
                            0.3333333333333333,
                            "#9c179e"
                          ],
                          [
                            0.4444444444444444,
                            "#bd3786"
                          ],
                          [
                            0.5555555555555556,
                            "#d8576b"
                          ],
                          [
                            0.6666666666666666,
                            "#ed7953"
                          ],
                          [
                            0.7777777777777778,
                            "#fb9f3a"
                          ],
                          [
                            0.8888888888888888,
                            "#fdca26"
                          ],
                          [
                            1,
                            "#f0f921"
                          ]
                        ],
                        "type": "histogram2dcontour"
                      }
                    ],
                    "mesh3d": [
                      {
                        "colorbar": {
                          "outlinewidth": 0,
                          "ticks": ""
                        },
                        "type": "mesh3d"
                      }
                    ],
                    "parcoords": [
                      {
                        "line": {
                          "colorbar": {
                            "outlinewidth": 0,
                            "ticks": ""
                          }
                        },
                        "type": "parcoords"
                      }
                    ],
                    "pie": [
                      {
                        "automargin": true,
                        "type": "pie"
                      }
                    ],
                    "scatter": [
                      {
                        "fillpattern": {
                          "fillmode": "overlay",
                          "size": 10,
                          "solidity": 0.2
                        },
                        "type": "scatter"
                      }
                    ],
                    "scatter3d": [
                      {
                        "line": {
                          "colorbar": {
                            "outlinewidth": 0,
                            "ticks": ""
                          }
                        },
                        "marker": {
                          "colorbar": {
                            "outlinewidth": 0,
                            "ticks": ""
                          }
                        },
                        "type": "scatter3d"
                      }
                    ],
                    "scattercarpet": [
                      {
                        "marker": {
                          "colorbar": {
                            "outlinewidth": 0,
                            "ticks": ""
                          }
                        },
                        "type": "scattercarpet"
                      }
                    ],
                    "scattergeo": [
                      {
                        "marker": {
                          "colorbar": {
                            "outlinewidth": 0,
                            "ticks": ""
                          }
                        },
                        "type": "scattergeo"
                      }
                    ],
                    "scattergl": [
                      {
                        "marker": {
                          "colorbar": {
                            "outlinewidth": 0,
                            "ticks": ""
                          }
                        },
                        "type": "scattergl"
                      }
                    ],
                    "scattermapbox": [
                      {
                        "marker": {
                          "colorbar": {
                            "outlinewidth": 0,
                            "ticks": ""
                          }
                        },
                        "type": "scattermapbox"
                      }
                    ],
                    "scatterpolar": [
                      {
                        "marker": {
                          "colorbar": {
                            "outlinewidth": 0,
                            "ticks": ""
                          }
                        },
                        "type": "scatterpolar"
                      }
                    ],
                    "scatterpolargl": [
                      {
                        "marker": {
                          "colorbar": {
                            "outlinewidth": 0,
                            "ticks": ""
                          }
                        },
                        "type": "scatterpolargl"
                      }
                    ],
                    "scatterternary": [
                      {
                        "marker": {
                          "colorbar": {
                            "outlinewidth": 0,
                            "ticks": ""
                          }
                        },
                        "type": "scatterternary"
                      }
                    ],
                    "surface": [
                      {
                        "colorbar": {
                          "outlinewidth": 0,
                          "ticks": ""
                        },
                        "colorscale": [
                          [
                            0,
                            "#0d0887"
                          ],
                          [
                            0.1111111111111111,
                            "#46039f"
                          ],
                          [
                            0.2222222222222222,
                            "#7201a8"
                          ],
                          [
                            0.3333333333333333,
                            "#9c179e"
                          ],
                          [
                            0.4444444444444444,
                            "#bd3786"
                          ],
                          [
                            0.5555555555555556,
                            "#d8576b"
                          ],
                          [
                            0.6666666666666666,
                            "#ed7953"
                          ],
                          [
                            0.7777777777777778,
                            "#fb9f3a"
                          ],
                          [
                            0.8888888888888888,
                            "#fdca26"
                          ],
                          [
                            1,
                            "#f0f921"
                          ]
                        ],
                        "type": "surface"
                      }
                    ],
                    "table": [
                      {
                        "cells": {
                          "fill": {
                            "color": "#EBF0F8"
                          },
                          "line": {
                            "color": "white"
                          }
                        },
                        "header": {
                          "fill": {
                            "color": "#C8D4E3"
                          },
                          "line": {
                            "color": "white"
                          }
                        },
                        "type": "table"
                      }
                    ]
                  },
                  "layout": {
                    "annotationdefaults": {
                      "arrowcolor": "#2a3f5f",
                      "arrowhead": 0,
                      "arrowwidth": 1
                    },
                    "autotypenumbers": "strict",
                    "coloraxis": {
                      "colorbar": {
                        "outlinewidth": 0,
                        "ticks": ""
                      }
                    },
                    "colorscale": {
                      "diverging": [
                        [
                          0,
                          "#8e0152"
                        ],
                        [
                          0.1,
                          "#c51b7d"
                        ],
                        [
                          0.2,
                          "#de77ae"
                        ],
                        [
                          0.3,
                          "#f1b6da"
                        ],
                        [
                          0.4,
                          "#fde0ef"
                        ],
                        [
                          0.5,
                          "#f7f7f7"
                        ],
                        [
                          0.6,
                          "#e6f5d0"
                        ],
                        [
                          0.7,
                          "#b8e186"
                        ],
                        [
                          0.8,
                          "#7fbc41"
                        ],
                        [
                          0.9,
                          "#4d9221"
                        ],
                        [
                          1,
                          "#276419"
                        ]
                      ],
                      "sequential": [
                        [
                          0,
                          "#0d0887"
                        ],
                        [
                          0.1111111111111111,
                          "#46039f"
                        ],
                        [
                          0.2222222222222222,
                          "#7201a8"
                        ],
                        [
                          0.3333333333333333,
                          "#9c179e"
                        ],
                        [
                          0.4444444444444444,
                          "#bd3786"
                        ],
                        [
                          0.5555555555555556,
                          "#d8576b"
                        ],
                        [
                          0.6666666666666666,
                          "#ed7953"
                        ],
                        [
                          0.7777777777777778,
                          "#fb9f3a"
                        ],
                        [
                          0.8888888888888888,
                          "#fdca26"
                        ],
                        [
                          1,
                          "#f0f921"
                        ]
                      ],
                      "sequentialminus": [
                        [
                          0,
                          "#0d0887"
                        ],
                        [
                          0.1111111111111111,
                          "#46039f"
                        ],
                        [
                          0.2222222222222222,
                          "#7201a8"
                        ],
                        [
                          0.3333333333333333,
                          "#9c179e"
                        ],
                        [
                          0.4444444444444444,
                          "#bd3786"
                        ],
                        [
                          0.5555555555555556,
                          "#d8576b"
                        ],
                        [
                          0.6666666666666666,
                          "#ed7953"
                        ],
                        [
                          0.7777777777777778,
                          "#fb9f3a"
                        ],
                        [
                          0.8888888888888888,
                          "#fdca26"
                        ],
                        [
                          1,
                          "#f0f921"
                        ]
                      ]
                    },
                    "colorway": [
                      "#636efa",
                      "#EF553B",
                      "#00cc96",
                      "#ab63fa",
                      "#FFA15A",
                      "#19d3f3",
                      "#FF6692",
                      "#B6E880",
                      "#FF97FF",
                      "#FECB52"
                    ],
                    "font": {
                      "color": "#2a3f5f"
                    },
                    "geo": {
                      "bgcolor": "white",
                      "lakecolor": "white",
                      "landcolor": "#E5ECF6",
                      "showlakes": true,
                      "showland": true,
                      "subunitcolor": "white"
                    },
                    "hoverlabel": {
                      "align": "left"
                    },
                    "hovermode": "closest",
                    "mapbox": {
                      "style": "light"
                    },
                    "paper_bgcolor": "white",
                    "plot_bgcolor": "#E5ECF6",
                    "polar": {
                      "angularaxis": {
                        "gridcolor": "white",
                        "linecolor": "white",
                        "ticks": ""
                      },
                      "bgcolor": "#E5ECF6",
                      "radialaxis": {
                        "gridcolor": "white",
                        "linecolor": "white",
                        "ticks": ""
                      }
                    },
                    "scene": {
                      "xaxis": {
                        "backgroundcolor": "#E5ECF6",
                        "gridcolor": "white",
                        "gridwidth": 2,
                        "linecolor": "white",
                        "showbackground": true,
                        "ticks": "",
                        "zerolinecolor": "white"
                      },
                      "yaxis": {
                        "backgroundcolor": "#E5ECF6",
                        "gridcolor": "white",
                        "gridwidth": 2,
                        "linecolor": "white",
                        "showbackground": true,
                        "ticks": "",
                        "zerolinecolor": "white"
                      },
                      "zaxis": {
                        "backgroundcolor": "#E5ECF6",
                        "gridcolor": "white",
                        "gridwidth": 2,
                        "linecolor": "white",
                        "showbackground": true,
                        "ticks": "",
                        "zerolinecolor": "white"
                      }
                    },
                    "shapedefaults": {
                      "line": {
                        "color": "#2a3f5f"
                      }
                    },
                    "ternary": {
                      "aaxis": {
                        "gridcolor": "white",
                        "linecolor": "white",
                        "ticks": ""
                      },
                      "baxis": {
                        "gridcolor": "white",
                        "linecolor": "white",
                        "ticks": ""
                      },
                      "bgcolor": "#E5ECF6",
                      "caxis": {
                        "gridcolor": "white",
                        "linecolor": "white",
                        "ticks": ""
                      }
                    },
                    "title": {
                      "x": 0.05
                    },
                    "xaxis": {
                      "automargin": true,
                      "gridcolor": "white",
                      "linecolor": "white",
                      "ticks": "",
                      "title": {
                        "standoff": 15
                      },
                      "zerolinecolor": "white",
                      "zerolinewidth": 2
                    },
                    "yaxis": {
                      "automargin": true,
                      "gridcolor": "white",
                      "linecolor": "white",
                      "ticks": "",
                      "title": {
                        "standoff": 15
                      },
                      "zerolinecolor": "white",
                      "zerolinewidth": 2
                    }
                  }
                },
                "xaxis": {
                  "anchor": "y",
                  "domain": [
                    0,
                    1
                  ]
                },
                "yaxis": {
                  "anchor": "x",
                  "domain": [
                    0,
                    1
                  ],
                  "title": {
                    "text": "score"
                  }
                }
              }
            }
          },
          "metadata": {},
          "output_type": "display_data"
        }
      ],
      "source": [
        "# Código del amigo ChatGPT (listo para usar)\n",
        "fig = px.box(\n",
        "    df_grades.melt(\n",
        "        value_vars=[\"math score\", \"reading score\", \"writing score\"],\n",
        "        var_name=\"subject\",\n",
        "        value_name=\"score\",\n",
        "    ),\n",
        "    y=\"score\",\n",
        "    color=\"subject\",\n",
        ")\n",
        "fig.show()"
      ]
    },
    {
      "cell_type": "code",
      "execution_count": 7,
      "metadata": {
        "colab": {
          "base_uri": "https://localhost:8080/",
          "height": 1000
        },
        "id": "Z7dJ8S0B15EB",
        "outputId": "e41f267a-908d-470f-c5f7-d3afe252c25b"
      },
      "outputs": [
        {
          "name": "stdout",
          "output_type": "stream",
          "text": [
            "1.El tamaño del dataframe es:  12600\n",
            "----------------------------------------------------------------------------\n",
            "2.Number of columns : 9\n",
            "----------------------------------------------------------------------------\n",
            "3.Primeras 5 filas\n"
          ]
        },
        {
          "data": {
            "text/html": [
              "<div>\n",
              "<style scoped>\n",
              "    .dataframe tbody tr th:only-of-type {\n",
              "        vertical-align: middle;\n",
              "    }\n",
              "\n",
              "    .dataframe tbody tr th {\n",
              "        vertical-align: top;\n",
              "    }\n",
              "\n",
              "    .dataframe thead th {\n",
              "        text-align: right;\n",
              "    }\n",
              "</style>\n",
              "<table border=\"1\" class=\"dataframe\">\n",
              "  <thead>\n",
              "    <tr style=\"text-align: right;\">\n",
              "      <th></th>\n",
              "      <th>names</th>\n",
              "      <th>gender</th>\n",
              "      <th>race/ethnicity</th>\n",
              "      <th>parental level of education</th>\n",
              "      <th>lunch</th>\n",
              "      <th>test preparation course</th>\n",
              "      <th>math score</th>\n",
              "      <th>reading score</th>\n",
              "      <th>writing score</th>\n",
              "    </tr>\n",
              "  </thead>\n",
              "  <tbody>\n",
              "    <tr>\n",
              "      <th>0</th>\n",
              "      <td>Rita Courtney</td>\n",
              "      <td>female</td>\n",
              "      <td>group B</td>\n",
              "      <td>some high school</td>\n",
              "      <td>standard</td>\n",
              "      <td>none</td>\n",
              "      <td>37.0</td>\n",
              "      <td>46.0</td>\n",
              "      <td>46.0</td>\n",
              "    </tr>\n",
              "    <tr>\n",
              "      <th>1</th>\n",
              "      <td>Madeline Fuller</td>\n",
              "      <td>female</td>\n",
              "      <td>group C</td>\n",
              "      <td>some high school</td>\n",
              "      <td>standard</td>\n",
              "      <td>none</td>\n",
              "      <td>124.0</td>\n",
              "      <td>142.0</td>\n",
              "      <td>142.0</td>\n",
              "    </tr>\n",
              "    <tr>\n",
              "      <th>2</th>\n",
              "      <td>Daniel Rester</td>\n",
              "      <td>male</td>\n",
              "      <td>group E</td>\n",
              "      <td>associate's degree</td>\n",
              "      <td>standard</td>\n",
              "      <td>none</td>\n",
              "      <td>156.0</td>\n",
              "      <td>196.0</td>\n",
              "      <td>193.0</td>\n",
              "    </tr>\n",
              "    <tr>\n",
              "      <th>3</th>\n",
              "      <td>Charles Linstrom</td>\n",
              "      <td>male</td>\n",
              "      <td>group A</td>\n",
              "      <td>bachelor's degree</td>\n",
              "      <td>standard</td>\n",
              "      <td>completed</td>\n",
              "      <td>80.0</td>\n",
              "      <td>78.0</td>\n",
              "      <td>81.0</td>\n",
              "    </tr>\n",
              "    <tr>\n",
              "      <th>4</th>\n",
              "      <td>Geraldine Hale</td>\n",
              "      <td>female</td>\n",
              "      <td>group A</td>\n",
              "      <td>associate's degree</td>\n",
              "      <td>standard</td>\n",
              "      <td>none</td>\n",
              "      <td>131.0</td>\n",
              "      <td>166.0</td>\n",
              "      <td>166.0</td>\n",
              "    </tr>\n",
              "  </tbody>\n",
              "</table>\n",
              "</div>"
            ],
            "text/plain": [
              "              names  gender race/ethnicity parental level of education  \\\n",
              "0     Rita Courtney  female        group B            some high school   \n",
              "1   Madeline Fuller  female        group C            some high school   \n",
              "2     Daniel Rester    male        group E          associate's degree   \n",
              "3  Charles Linstrom    male        group A           bachelor's degree   \n",
              "4    Geraldine Hale  female        group A          associate's degree   \n",
              "\n",
              "      lunch test preparation course  math score  reading score  writing score  \n",
              "0  standard                    none        37.0           46.0           46.0  \n",
              "1  standard                    none       124.0          142.0          142.0  \n",
              "2  standard                    none       156.0          196.0          193.0  \n",
              "3  standard               completed        80.0           78.0           81.0  \n",
              "4  standard                    none       131.0          166.0          166.0  "
            ]
          },
          "metadata": {},
          "output_type": "display_data"
        },
        {
          "name": "stdout",
          "output_type": "stream",
          "text": [
            "----------------------------------------------------------------------------\n",
            "3.Últimas 5 filas\n"
          ]
        },
        {
          "data": {
            "text/html": [
              "<div>\n",
              "<style scoped>\n",
              "    .dataframe tbody tr th:only-of-type {\n",
              "        vertical-align: middle;\n",
              "    }\n",
              "\n",
              "    .dataframe tbody tr th {\n",
              "        vertical-align: top;\n",
              "    }\n",
              "\n",
              "    .dataframe thead th {\n",
              "        text-align: right;\n",
              "    }\n",
              "</style>\n",
              "<table border=\"1\" class=\"dataframe\">\n",
              "  <thead>\n",
              "    <tr style=\"text-align: right;\">\n",
              "      <th></th>\n",
              "      <th>names</th>\n",
              "      <th>gender</th>\n",
              "      <th>race/ethnicity</th>\n",
              "      <th>parental level of education</th>\n",
              "      <th>lunch</th>\n",
              "      <th>test preparation course</th>\n",
              "      <th>math score</th>\n",
              "      <th>reading score</th>\n",
              "      <th>writing score</th>\n",
              "    </tr>\n",
              "  </thead>\n",
              "  <tbody>\n",
              "    <tr>\n",
              "      <th>1395</th>\n",
              "      <td>Alexander Dillon</td>\n",
              "      <td>male</td>\n",
              "      <td>group D</td>\n",
              "      <td>associate's degree</td>\n",
              "      <td>standard</td>\n",
              "      <td>none</td>\n",
              "      <td>193.0</td>\n",
              "      <td>142.0</td>\n",
              "      <td>193.0</td>\n",
              "    </tr>\n",
              "    <tr>\n",
              "      <th>1396</th>\n",
              "      <td>Marina Zeigler</td>\n",
              "      <td>female</td>\n",
              "      <td>group C</td>\n",
              "      <td>bachelor's degree</td>\n",
              "      <td>free/reduced</td>\n",
              "      <td>completed</td>\n",
              "      <td>66.0</td>\n",
              "      <td>74.0</td>\n",
              "      <td>81.0</td>\n",
              "    </tr>\n",
              "    <tr>\n",
              "      <th>1397</th>\n",
              "      <td>Laurie Carter</td>\n",
              "      <td>female</td>\n",
              "      <td>group B</td>\n",
              "      <td>some high school</td>\n",
              "      <td>standard</td>\n",
              "      <td>completed</td>\n",
              "      <td>54.0</td>\n",
              "      <td>61.0</td>\n",
              "      <td>62.0</td>\n",
              "    </tr>\n",
              "    <tr>\n",
              "      <th>1398</th>\n",
              "      <td>Joseph Mccoy</td>\n",
              "      <td>male</td>\n",
              "      <td>group D</td>\n",
              "      <td>some college</td>\n",
              "      <td>free/reduced</td>\n",
              "      <td>none</td>\n",
              "      <td>193.0</td>\n",
              "      <td>196.0</td>\n",
              "      <td>193.0</td>\n",
              "    </tr>\n",
              "    <tr>\n",
              "      <th>1399</th>\n",
              "      <td>Amanda Perez</td>\n",
              "      <td>female</td>\n",
              "      <td>group A</td>\n",
              "      <td>high school</td>\n",
              "      <td>standard</td>\n",
              "      <td>completed</td>\n",
              "      <td>68.0</td>\n",
              "      <td>80.0</td>\n",
              "      <td>76.0</td>\n",
              "    </tr>\n",
              "  </tbody>\n",
              "</table>\n",
              "</div>"
            ],
            "text/plain": [
              "                 names  gender race/ethnicity parental level of education  \\\n",
              "1395  Alexander Dillon    male        group D          associate's degree   \n",
              "1396    Marina Zeigler  female        group C           bachelor's degree   \n",
              "1397     Laurie Carter  female        group B            some high school   \n",
              "1398      Joseph Mccoy    male        group D                some college   \n",
              "1399      Amanda Perez  female        group A                 high school   \n",
              "\n",
              "             lunch test preparation course  math score  reading score  \\\n",
              "1395      standard                    none       193.0          142.0   \n",
              "1396  free/reduced               completed        66.0           74.0   \n",
              "1397      standard               completed        54.0           61.0   \n",
              "1398  free/reduced                    none       193.0          196.0   \n",
              "1399      standard               completed        68.0           80.0   \n",
              "\n",
              "      writing score  \n",
              "1395          193.0  \n",
              "1396           81.0  \n",
              "1397           62.0  \n",
              "1398          193.0  \n",
              "1399           76.0  "
            ]
          },
          "metadata": {},
          "output_type": "display_data"
        },
        {
          "name": "stdout",
          "output_type": "stream",
          "text": [
            "----------------------------------------------------------------------------\n",
            "3.5 Filas aleatorias\n"
          ]
        },
        {
          "data": {
            "text/html": [
              "<div>\n",
              "<style scoped>\n",
              "    .dataframe tbody tr th:only-of-type {\n",
              "        vertical-align: middle;\n",
              "    }\n",
              "\n",
              "    .dataframe tbody tr th {\n",
              "        vertical-align: top;\n",
              "    }\n",
              "\n",
              "    .dataframe thead th {\n",
              "        text-align: right;\n",
              "    }\n",
              "</style>\n",
              "<table border=\"1\" class=\"dataframe\">\n",
              "  <thead>\n",
              "    <tr style=\"text-align: right;\">\n",
              "      <th></th>\n",
              "      <th>names</th>\n",
              "      <th>gender</th>\n",
              "      <th>race/ethnicity</th>\n",
              "      <th>parental level of education</th>\n",
              "      <th>lunch</th>\n",
              "      <th>test preparation course</th>\n",
              "      <th>math score</th>\n",
              "      <th>reading score</th>\n",
              "      <th>writing score</th>\n",
              "    </tr>\n",
              "  </thead>\n",
              "  <tbody>\n",
              "    <tr>\n",
              "      <th>389</th>\n",
              "      <td>Gaylene Hunt</td>\n",
              "      <td>female</td>\n",
              "      <td>group D</td>\n",
              "      <td>some college</td>\n",
              "      <td>standard</td>\n",
              "      <td>completed</td>\n",
              "      <td>79.0</td>\n",
              "      <td>84.0</td>\n",
              "      <td>91.0</td>\n",
              "    </tr>\n",
              "    <tr>\n",
              "      <th>248</th>\n",
              "      <td>Michael Mederos</td>\n",
              "      <td>male</td>\n",
              "      <td>group C</td>\n",
              "      <td>high school</td>\n",
              "      <td>standard</td>\n",
              "      <td>none</td>\n",
              "      <td>50.0</td>\n",
              "      <td>48.0</td>\n",
              "      <td>42.0</td>\n",
              "    </tr>\n",
              "    <tr>\n",
              "      <th>1032</th>\n",
              "      <td>Peter Gillen</td>\n",
              "      <td>male</td>\n",
              "      <td>group D</td>\n",
              "      <td>associate's degree</td>\n",
              "      <td>free/reduced</td>\n",
              "      <td>none</td>\n",
              "      <td>142.0</td>\n",
              "      <td>NaN</td>\n",
              "      <td>NaN</td>\n",
              "    </tr>\n",
              "    <tr>\n",
              "      <th>557</th>\n",
              "      <td>Michael Hughes</td>\n",
              "      <td>male</td>\n",
              "      <td>group B</td>\n",
              "      <td>some college</td>\n",
              "      <td>free/reduced</td>\n",
              "      <td>none</td>\n",
              "      <td>55.0</td>\n",
              "      <td>55.0</td>\n",
              "      <td>47.0</td>\n",
              "    </tr>\n",
              "    <tr>\n",
              "      <th>543</th>\n",
              "      <td>Karen Hankinson</td>\n",
              "      <td>female</td>\n",
              "      <td>group E</td>\n",
              "      <td>associate's degree</td>\n",
              "      <td>free/reduced</td>\n",
              "      <td>none</td>\n",
              "      <td>70.0</td>\n",
              "      <td>84.0</td>\n",
              "      <td>81.0</td>\n",
              "    </tr>\n",
              "  </tbody>\n",
              "</table>\n",
              "</div>"
            ],
            "text/plain": [
              "                names  gender race/ethnicity parental level of education  \\\n",
              "389      Gaylene Hunt  female        group D                some college   \n",
              "248   Michael Mederos    male        group C                 high school   \n",
              "1032     Peter Gillen    male        group D          associate's degree   \n",
              "557    Michael Hughes    male        group B                some college   \n",
              "543   Karen Hankinson  female        group E          associate's degree   \n",
              "\n",
              "             lunch test preparation course  math score  reading score  \\\n",
              "389       standard               completed        79.0           84.0   \n",
              "248       standard                    none        50.0           48.0   \n",
              "1032  free/reduced                    none       142.0            NaN   \n",
              "557   free/reduced                    none        55.0           55.0   \n",
              "543   free/reduced                    none        70.0           84.0   \n",
              "\n",
              "      writing score  \n",
              "389            91.0  \n",
              "248            42.0  \n",
              "1032            NaN  \n",
              "557            47.0  \n",
              "543            81.0  "
            ]
          },
          "metadata": {},
          "output_type": "display_data"
        },
        {
          "name": "stdout",
          "output_type": "stream",
          "text": [
            "----------------------------------------------------------------------------\n",
            "4. Descripción de las variables numéricas\n"
          ]
        },
        {
          "data": {
            "text/html": [
              "<div>\n",
              "<style scoped>\n",
              "    .dataframe tbody tr th:only-of-type {\n",
              "        vertical-align: middle;\n",
              "    }\n",
              "\n",
              "    .dataframe tbody tr th {\n",
              "        vertical-align: top;\n",
              "    }\n",
              "\n",
              "    .dataframe thead th {\n",
              "        text-align: right;\n",
              "    }\n",
              "</style>\n",
              "<table border=\"1\" class=\"dataframe\">\n",
              "  <thead>\n",
              "    <tr style=\"text-align: right;\">\n",
              "      <th></th>\n",
              "      <th>math score</th>\n",
              "      <th>reading score</th>\n",
              "      <th>writing score</th>\n",
              "    </tr>\n",
              "  </thead>\n",
              "  <tbody>\n",
              "    <tr>\n",
              "      <th>count</th>\n",
              "      <td>1360.000000</td>\n",
              "      <td>1360.000000</td>\n",
              "      <td>1353.000000</td>\n",
              "    </tr>\n",
              "    <tr>\n",
              "      <th>mean</th>\n",
              "      <td>89.538971</td>\n",
              "      <td>93.086029</td>\n",
              "      <td>91.852919</td>\n",
              "    </tr>\n",
              "    <tr>\n",
              "      <th>std</th>\n",
              "      <td>47.152422</td>\n",
              "      <td>46.385775</td>\n",
              "      <td>47.043570</td>\n",
              "    </tr>\n",
              "    <tr>\n",
              "      <th>min</th>\n",
              "      <td>0.000000</td>\n",
              "      <td>17.000000</td>\n",
              "      <td>10.000000</td>\n",
              "    </tr>\n",
              "    <tr>\n",
              "      <th>25%</th>\n",
              "      <td>59.000000</td>\n",
              "      <td>63.000000</td>\n",
              "      <td>62.000000</td>\n",
              "    </tr>\n",
              "    <tr>\n",
              "      <th>50%</th>\n",
              "      <td>72.000000</td>\n",
              "      <td>76.000000</td>\n",
              "      <td>75.000000</td>\n",
              "    </tr>\n",
              "    <tr>\n",
              "      <th>75%</th>\n",
              "      <td>97.250000</td>\n",
              "      <td>100.000000</td>\n",
              "      <td>100.000000</td>\n",
              "    </tr>\n",
              "    <tr>\n",
              "      <th>max</th>\n",
              "      <td>196.000000</td>\n",
              "      <td>196.000000</td>\n",
              "      <td>196.000000</td>\n",
              "    </tr>\n",
              "  </tbody>\n",
              "</table>\n",
              "</div>"
            ],
            "text/plain": [
              "        math score  reading score  writing score\n",
              "count  1360.000000    1360.000000    1353.000000\n",
              "mean     89.538971      93.086029      91.852919\n",
              "std      47.152422      46.385775      47.043570\n",
              "min       0.000000      17.000000      10.000000\n",
              "25%      59.000000      63.000000      62.000000\n",
              "50%      72.000000      76.000000      75.000000\n",
              "75%      97.250000     100.000000     100.000000\n",
              "max     196.000000     196.000000     196.000000"
            ]
          },
          "metadata": {},
          "output_type": "display_data"
        },
        {
          "name": "stdout",
          "output_type": "stream",
          "text": [
            "----------------------------------------------------------------------------\n"
          ]
        },
        {
          "data": {
            "text/plain": [
              "'5. Cantidad de valores nulos'"
            ]
          },
          "metadata": {},
          "output_type": "display_data"
        },
        {
          "name": "stdout",
          "output_type": "stream",
          "text": [
            "names                           0\n",
            "gender                          0\n",
            "race/ethnicity                  0\n",
            "parental level of education     0\n",
            "lunch                           0\n",
            "test preparation course         0\n",
            "math score                     40\n",
            "reading score                  40\n",
            "writing score                  47\n",
            "dtype: int64\n",
            "----------------------------------------------------------------------------\n",
            "6. Cantidad de valores únicos\n",
            "names                          1153\n",
            "gender                            2\n",
            "race/ethnicity                    5\n",
            "parental level of education       6\n",
            "lunch                             2\n",
            "test preparation course           2\n",
            "math score                       96\n",
            "reading score                    88\n",
            "writing score                    92\n",
            "dtype: int64\n",
            "----------------------------------------------------------------------------\n",
            "7. Cantidad de filas duplicadas: 3\n",
            "----------------------------------------------------------------------------\n",
            "8. Filas duplicadas\n"
          ]
        },
        {
          "data": {
            "text/html": [
              "<div>\n",
              "<style scoped>\n",
              "    .dataframe tbody tr th:only-of-type {\n",
              "        vertical-align: middle;\n",
              "    }\n",
              "\n",
              "    .dataframe tbody tr th {\n",
              "        vertical-align: top;\n",
              "    }\n",
              "\n",
              "    .dataframe thead th {\n",
              "        text-align: right;\n",
              "    }\n",
              "</style>\n",
              "<table border=\"1\" class=\"dataframe\">\n",
              "  <thead>\n",
              "    <tr style=\"text-align: right;\">\n",
              "      <th></th>\n",
              "      <th>names</th>\n",
              "      <th>gender</th>\n",
              "      <th>race/ethnicity</th>\n",
              "      <th>parental level of education</th>\n",
              "      <th>lunch</th>\n",
              "      <th>test preparation course</th>\n",
              "      <th>math score</th>\n",
              "      <th>reading score</th>\n",
              "      <th>writing score</th>\n",
              "    </tr>\n",
              "  </thead>\n",
              "  <tbody>\n",
              "    <tr>\n",
              "      <th>827</th>\n",
              "      <td>Justin Harris</td>\n",
              "      <td>male</td>\n",
              "      <td>group D</td>\n",
              "      <td>some college</td>\n",
              "      <td>standard</td>\n",
              "      <td>none</td>\n",
              "      <td>40.0</td>\n",
              "      <td>42.0</td>\n",
              "      <td>38.0</td>\n",
              "    </tr>\n",
              "    <tr>\n",
              "      <th>900</th>\n",
              "      <td>Anthony Malcomb</td>\n",
              "      <td>male</td>\n",
              "      <td>group C</td>\n",
              "      <td>some college</td>\n",
              "      <td>free/reduced</td>\n",
              "      <td>none</td>\n",
              "      <td>35.0</td>\n",
              "      <td>28.0</td>\n",
              "      <td>27.0</td>\n",
              "    </tr>\n",
              "    <tr>\n",
              "      <th>1223</th>\n",
              "      <td>Charles Jackson</td>\n",
              "      <td>male</td>\n",
              "      <td>group E</td>\n",
              "      <td>some high school</td>\n",
              "      <td>standard</td>\n",
              "      <td>none</td>\n",
              "      <td>30.0</td>\n",
              "      <td>26.0</td>\n",
              "      <td>22.0</td>\n",
              "    </tr>\n",
              "  </tbody>\n",
              "</table>\n",
              "</div>"
            ],
            "text/plain": [
              "                names gender race/ethnicity parental level of education  \\\n",
              "827     Justin Harris   male        group D                some college   \n",
              "900   Anthony Malcomb   male        group C                some college   \n",
              "1223  Charles Jackson   male        group E            some high school   \n",
              "\n",
              "             lunch test preparation course  math score  reading score  \\\n",
              "827       standard                    none        40.0           42.0   \n",
              "900   free/reduced                    none        35.0           28.0   \n",
              "1223      standard                    none        30.0           26.0   \n",
              "\n",
              "      writing score  \n",
              "827            38.0  \n",
              "900            27.0  \n",
              "1223           22.0  "
            ]
          },
          "metadata": {},
          "output_type": "display_data"
        },
        {
          "name": "stdout",
          "output_type": "stream",
          "text": [
            "----------------------------------------------------------------------------\n"
          ]
        }
      ],
      "source": [
        "exploratory_data_analysis(df_grades)"
      ]
    },
    {
      "cell_type": "markdown",
      "metadata": {
        "cell_id": "d90dcb496db544bf8d9c24706b02c3e0",
        "deepnote_cell_height": 52.390625,
        "deepnote_cell_type": "markdown",
        "id": "nxRj-Hi2QUHQ"
      },
      "source": [
        "**Justificación:**"
      ]
    },
    {
      "cell_type": "markdown",
      "metadata": {
        "cell_id": "cc7ddd3c6db54b5eb767f017fc0b8166",
        "deepnote_cell_height": 70.796875,
        "deepnote_cell_type": "markdown",
        "id": "CR2ZEOcbQW9X"
      },
      "source": [
        "```\n",
        "Escriba aquí su justificación\n",
        "\n",
        "9. [ ] ¿Qué anomalías es posible observar de los datos que componen el DataFrame? ¿Existen valores nulos o duplicados?\n",
        "\n",
        "Dentro de las anomalías que se pueden encontrar: puntajes mayores a 100 y que hay 1153 nombres únicos pero hay 1400 registros. Existen valores duplicados y nulos.\n",
        "\n",
        "10. [ ] Su compañero ChatGPT le provee un código para que pueda entender los resultados de las pruebas desde un gráfico. ¿Qué puede interpretar de la distribución de las notas en el boxplot?\n",
        "\n",
        "Se pueden observar puntajes mayores a 100, siendo este el máximo de las pruebas.\n",
        "Además notamos que las medias y rangos inter cuartil de las distintas pruebas son similares. Sin embargo, hay diferencias entre los valores mínimos de estas. Todas presentan outliers superiores y matemáticas un outlier inferior.\n",
        "\n"
      ]
    },
    {
      "cell_type": "markdown",
      "metadata": {
        "cell_id": "3d074815f0ca4aa2b209d22862a746dd",
        "deepnote_cell_height": 193.1875,
        "deepnote_cell_type": "markdown",
        "id": "YJfqPXFZjQiA"
      },
      "source": [
        "## 2 Limpieza de Datos [1.0 puntos]\n",
        "\n",
        "\n"
      ]
    },
    {
      "cell_type": "markdown",
      "metadata": {
        "id": "GM-alEw2FVE4"
      },
      "source": [
        "<p align=\"center\">\n",
        "  <img src=\"https://blogdatlas.files.wordpress.com/2020/07/datlas_mx_blog_limpieza_bds_data-scrubbing-service.gif\">\n",
        "</p>"
      ]
    },
    {
      "cell_type": "markdown",
      "metadata": {
        "cell_id": "e2e475d0a8a04307868f13b96780b1a3",
        "deepnote_cell_height": 268.1875,
        "deepnote_cell_type": "markdown",
        "id": "syO5lHKvv6Wt"
      },
      "source": [
        "En base a lo realizado anteriormente, realice una limpieza de los dataset. Asuma los supuestos señalados en la pregunta anterior para limpiar el `DataFrame` y **cree una función** que le permita limpiar los datos. Habiendo limpiado el `DataFrame`, compruebe nuevamente los datos con la función creada en la sección 1.1.\n",
        "\n",
        "**To-Do:**\n",
        "- [ ] Eliminar registros con valores nulos.\n",
        "- [ ] Eliminar valores fuera del rango válido.\n",
        "- [ ] Eliminar registros con nombres duplicados\n",
        "- [ ] Comprobar que no existen anomalías en los datos a traves de la función de la sección 1.1.\n",
        "\n",
        "**Hints**\n",
        "\n",
        "- Puede ser útil los métodos ```.drop_duplicates()``` y ```.dropna()``` como también utilizar queries con máscaras booleanas.\n",
        "- Cuidado con el orden en la limpieza de datos. ¿Que se debe eliminar primero, los nombres duplicados o los registros fuera del rango posible?\n"
      ]
    },
    {
      "cell_type": "markdown",
      "metadata": {
        "id": "CZVYDvQx15ED"
      },
      "source": [
        "> Utilice la función creada en el punto 1 para verificar sus resultados."
      ]
    },
    {
      "cell_type": "markdown",
      "metadata": {
        "id": "hwieK_0H15ED"
      },
      "source": [
        "**Respuesta:**"
      ]
    },
    {
      "cell_type": "code",
      "execution_count": 8,
      "metadata": {
        "id": "EZHepC9n15ED"
      },
      "outputs": [],
      "source": [
        "# Escriba su código aquí\n",
        "def clean_data(dataframe):\n",
        "  dataframe = dataframe.drop_duplicates(subset=['names'])\n",
        "  dataframe = dataframe.dropna()\n",
        "  dataframe = dataframe[(dataframe['math score'] <= 100) & (dataframe['reading score'] <= 100) & (dataframe['writing score'] <= 100)]\n",
        "  return dataframe\n",
        "\n"
      ]
    },
    {
      "cell_type": "code",
      "execution_count": 9,
      "metadata": {
        "colab": {
          "base_uri": "https://localhost:8080/",
          "height": 475
        },
        "id": "Z6hCQrMq15EE",
        "outputId": "d13313be-7181-42f8-bd3f-bf4bee410a5c"
      },
      "outputs": [
        {
          "data": {
            "text/html": [
              "<div>\n",
              "<style scoped>\n",
              "    .dataframe tbody tr th:only-of-type {\n",
              "        vertical-align: middle;\n",
              "    }\n",
              "\n",
              "    .dataframe tbody tr th {\n",
              "        vertical-align: top;\n",
              "    }\n",
              "\n",
              "    .dataframe thead th {\n",
              "        text-align: right;\n",
              "    }\n",
              "</style>\n",
              "<table border=\"1\" class=\"dataframe\">\n",
              "  <thead>\n",
              "    <tr style=\"text-align: right;\">\n",
              "      <th></th>\n",
              "      <th>names</th>\n",
              "      <th>gender</th>\n",
              "      <th>race/ethnicity</th>\n",
              "      <th>parental level of education</th>\n",
              "      <th>lunch</th>\n",
              "      <th>test preparation course</th>\n",
              "      <th>math score</th>\n",
              "      <th>reading score</th>\n",
              "      <th>writing score</th>\n",
              "    </tr>\n",
              "  </thead>\n",
              "  <tbody>\n",
              "    <tr>\n",
              "      <th>0</th>\n",
              "      <td>Rita Courtney</td>\n",
              "      <td>female</td>\n",
              "      <td>group B</td>\n",
              "      <td>some high school</td>\n",
              "      <td>standard</td>\n",
              "      <td>none</td>\n",
              "      <td>37.0</td>\n",
              "      <td>46.0</td>\n",
              "      <td>46.0</td>\n",
              "    </tr>\n",
              "    <tr>\n",
              "      <th>3</th>\n",
              "      <td>Charles Linstrom</td>\n",
              "      <td>male</td>\n",
              "      <td>group A</td>\n",
              "      <td>bachelor's degree</td>\n",
              "      <td>standard</td>\n",
              "      <td>completed</td>\n",
              "      <td>80.0</td>\n",
              "      <td>78.0</td>\n",
              "      <td>81.0</td>\n",
              "    </tr>\n",
              "    <tr>\n",
              "      <th>5</th>\n",
              "      <td>Brian Young</td>\n",
              "      <td>male</td>\n",
              "      <td>group C</td>\n",
              "      <td>some high school</td>\n",
              "      <td>standard</td>\n",
              "      <td>none</td>\n",
              "      <td>73.0</td>\n",
              "      <td>66.0</td>\n",
              "      <td>63.0</td>\n",
              "    </tr>\n",
              "    <tr>\n",
              "      <th>6</th>\n",
              "      <td>Howard Jimenez</td>\n",
              "      <td>male</td>\n",
              "      <td>group E</td>\n",
              "      <td>some high school</td>\n",
              "      <td>standard</td>\n",
              "      <td>completed</td>\n",
              "      <td>81.0</td>\n",
              "      <td>75.0</td>\n",
              "      <td>76.0</td>\n",
              "    </tr>\n",
              "    <tr>\n",
              "      <th>7</th>\n",
              "      <td>Wayne Wilson</td>\n",
              "      <td>male</td>\n",
              "      <td>group B</td>\n",
              "      <td>some high school</td>\n",
              "      <td>standard</td>\n",
              "      <td>completed</td>\n",
              "      <td>94.0</td>\n",
              "      <td>86.0</td>\n",
              "      <td>87.0</td>\n",
              "    </tr>\n",
              "    <tr>\n",
              "      <th>...</th>\n",
              "      <td>...</td>\n",
              "      <td>...</td>\n",
              "      <td>...</td>\n",
              "      <td>...</td>\n",
              "      <td>...</td>\n",
              "      <td>...</td>\n",
              "      <td>...</td>\n",
              "      <td>...</td>\n",
              "      <td>...</td>\n",
              "    </tr>\n",
              "    <tr>\n",
              "      <th>1392</th>\n",
              "      <td>Richard Young</td>\n",
              "      <td>male</td>\n",
              "      <td>group D</td>\n",
              "      <td>high school</td>\n",
              "      <td>standard</td>\n",
              "      <td>none</td>\n",
              "      <td>69.0</td>\n",
              "      <td>75.0</td>\n",
              "      <td>71.0</td>\n",
              "    </tr>\n",
              "    <tr>\n",
              "      <th>1394</th>\n",
              "      <td>Wanda Russell</td>\n",
              "      <td>female</td>\n",
              "      <td>group B</td>\n",
              "      <td>high school</td>\n",
              "      <td>free/reduced</td>\n",
              "      <td>completed</td>\n",
              "      <td>23.0</td>\n",
              "      <td>44.0</td>\n",
              "      <td>36.0</td>\n",
              "    </tr>\n",
              "    <tr>\n",
              "      <th>1396</th>\n",
              "      <td>Marina Zeigler</td>\n",
              "      <td>female</td>\n",
              "      <td>group C</td>\n",
              "      <td>bachelor's degree</td>\n",
              "      <td>free/reduced</td>\n",
              "      <td>completed</td>\n",
              "      <td>66.0</td>\n",
              "      <td>74.0</td>\n",
              "      <td>81.0</td>\n",
              "    </tr>\n",
              "    <tr>\n",
              "      <th>1397</th>\n",
              "      <td>Laurie Carter</td>\n",
              "      <td>female</td>\n",
              "      <td>group B</td>\n",
              "      <td>some high school</td>\n",
              "      <td>standard</td>\n",
              "      <td>completed</td>\n",
              "      <td>54.0</td>\n",
              "      <td>61.0</td>\n",
              "      <td>62.0</td>\n",
              "    </tr>\n",
              "    <tr>\n",
              "      <th>1399</th>\n",
              "      <td>Amanda Perez</td>\n",
              "      <td>female</td>\n",
              "      <td>group A</td>\n",
              "      <td>high school</td>\n",
              "      <td>standard</td>\n",
              "      <td>completed</td>\n",
              "      <td>68.0</td>\n",
              "      <td>80.0</td>\n",
              "      <td>76.0</td>\n",
              "    </tr>\n",
              "  </tbody>\n",
              "</table>\n",
              "<p>875 rows × 9 columns</p>\n",
              "</div>"
            ],
            "text/plain": [
              "                 names  gender race/ethnicity parental level of education  \\\n",
              "0        Rita Courtney  female        group B            some high school   \n",
              "3     Charles Linstrom    male        group A           bachelor's degree   \n",
              "5          Brian Young    male        group C            some high school   \n",
              "6       Howard Jimenez    male        group E            some high school   \n",
              "7         Wayne Wilson    male        group B            some high school   \n",
              "...                ...     ...            ...                         ...   \n",
              "1392     Richard Young    male        group D                 high school   \n",
              "1394     Wanda Russell  female        group B                 high school   \n",
              "1396    Marina Zeigler  female        group C           bachelor's degree   \n",
              "1397     Laurie Carter  female        group B            some high school   \n",
              "1399      Amanda Perez  female        group A                 high school   \n",
              "\n",
              "             lunch test preparation course  math score  reading score  \\\n",
              "0         standard                    none        37.0           46.0   \n",
              "3         standard               completed        80.0           78.0   \n",
              "5         standard                    none        73.0           66.0   \n",
              "6         standard               completed        81.0           75.0   \n",
              "7         standard               completed        94.0           86.0   \n",
              "...            ...                     ...         ...            ...   \n",
              "1392      standard                    none        69.0           75.0   \n",
              "1394  free/reduced               completed        23.0           44.0   \n",
              "1396  free/reduced               completed        66.0           74.0   \n",
              "1397      standard               completed        54.0           61.0   \n",
              "1399      standard               completed        68.0           80.0   \n",
              "\n",
              "      writing score  \n",
              "0              46.0  \n",
              "3              81.0  \n",
              "5              63.0  \n",
              "6              76.0  \n",
              "7              87.0  \n",
              "...             ...  \n",
              "1392           71.0  \n",
              "1394           36.0  \n",
              "1396           81.0  \n",
              "1397           62.0  \n",
              "1399           76.0  \n",
              "\n",
              "[875 rows x 9 columns]"
            ]
          },
          "execution_count": 9,
          "metadata": {},
          "output_type": "execute_result"
        }
      ],
      "source": [
        "#Pruebe su código aquí\n",
        "df_grades= clean_data(df_grades)\n",
        "df_grades"
      ]
    },
    {
      "cell_type": "code",
      "execution_count": 10,
      "metadata": {
        "colab": {
          "base_uri": "https://localhost:8080/",
          "height": 1000
        },
        "id": "6zoGMVRQ15EE",
        "outputId": "f25156eb-edbc-4acd-848f-9b3f6d3fc888"
      },
      "outputs": [
        {
          "name": "stdout",
          "output_type": "stream",
          "text": [
            "1.El tamaño del dataframe es:  7875\n",
            "----------------------------------------------------------------------------\n",
            "2.Number of columns : 9\n",
            "----------------------------------------------------------------------------\n",
            "3.Primeras 5 filas\n"
          ]
        },
        {
          "data": {
            "text/html": [
              "<div>\n",
              "<style scoped>\n",
              "    .dataframe tbody tr th:only-of-type {\n",
              "        vertical-align: middle;\n",
              "    }\n",
              "\n",
              "    .dataframe tbody tr th {\n",
              "        vertical-align: top;\n",
              "    }\n",
              "\n",
              "    .dataframe thead th {\n",
              "        text-align: right;\n",
              "    }\n",
              "</style>\n",
              "<table border=\"1\" class=\"dataframe\">\n",
              "  <thead>\n",
              "    <tr style=\"text-align: right;\">\n",
              "      <th></th>\n",
              "      <th>names</th>\n",
              "      <th>gender</th>\n",
              "      <th>race/ethnicity</th>\n",
              "      <th>parental level of education</th>\n",
              "      <th>lunch</th>\n",
              "      <th>test preparation course</th>\n",
              "      <th>math score</th>\n",
              "      <th>reading score</th>\n",
              "      <th>writing score</th>\n",
              "    </tr>\n",
              "  </thead>\n",
              "  <tbody>\n",
              "    <tr>\n",
              "      <th>0</th>\n",
              "      <td>Rita Courtney</td>\n",
              "      <td>female</td>\n",
              "      <td>group B</td>\n",
              "      <td>some high school</td>\n",
              "      <td>standard</td>\n",
              "      <td>none</td>\n",
              "      <td>37.0</td>\n",
              "      <td>46.0</td>\n",
              "      <td>46.0</td>\n",
              "    </tr>\n",
              "    <tr>\n",
              "      <th>3</th>\n",
              "      <td>Charles Linstrom</td>\n",
              "      <td>male</td>\n",
              "      <td>group A</td>\n",
              "      <td>bachelor's degree</td>\n",
              "      <td>standard</td>\n",
              "      <td>completed</td>\n",
              "      <td>80.0</td>\n",
              "      <td>78.0</td>\n",
              "      <td>81.0</td>\n",
              "    </tr>\n",
              "    <tr>\n",
              "      <th>5</th>\n",
              "      <td>Brian Young</td>\n",
              "      <td>male</td>\n",
              "      <td>group C</td>\n",
              "      <td>some high school</td>\n",
              "      <td>standard</td>\n",
              "      <td>none</td>\n",
              "      <td>73.0</td>\n",
              "      <td>66.0</td>\n",
              "      <td>63.0</td>\n",
              "    </tr>\n",
              "    <tr>\n",
              "      <th>6</th>\n",
              "      <td>Howard Jimenez</td>\n",
              "      <td>male</td>\n",
              "      <td>group E</td>\n",
              "      <td>some high school</td>\n",
              "      <td>standard</td>\n",
              "      <td>completed</td>\n",
              "      <td>81.0</td>\n",
              "      <td>75.0</td>\n",
              "      <td>76.0</td>\n",
              "    </tr>\n",
              "    <tr>\n",
              "      <th>7</th>\n",
              "      <td>Wayne Wilson</td>\n",
              "      <td>male</td>\n",
              "      <td>group B</td>\n",
              "      <td>some high school</td>\n",
              "      <td>standard</td>\n",
              "      <td>completed</td>\n",
              "      <td>94.0</td>\n",
              "      <td>86.0</td>\n",
              "      <td>87.0</td>\n",
              "    </tr>\n",
              "  </tbody>\n",
              "</table>\n",
              "</div>"
            ],
            "text/plain": [
              "              names  gender race/ethnicity parental level of education  \\\n",
              "0     Rita Courtney  female        group B            some high school   \n",
              "3  Charles Linstrom    male        group A           bachelor's degree   \n",
              "5       Brian Young    male        group C            some high school   \n",
              "6    Howard Jimenez    male        group E            some high school   \n",
              "7      Wayne Wilson    male        group B            some high school   \n",
              "\n",
              "      lunch test preparation course  math score  reading score  writing score  \n",
              "0  standard                    none        37.0           46.0           46.0  \n",
              "3  standard               completed        80.0           78.0           81.0  \n",
              "5  standard                    none        73.0           66.0           63.0  \n",
              "6  standard               completed        81.0           75.0           76.0  \n",
              "7  standard               completed        94.0           86.0           87.0  "
            ]
          },
          "metadata": {},
          "output_type": "display_data"
        },
        {
          "name": "stdout",
          "output_type": "stream",
          "text": [
            "----------------------------------------------------------------------------\n",
            "3.Últimas 5 filas\n"
          ]
        },
        {
          "data": {
            "text/html": [
              "<div>\n",
              "<style scoped>\n",
              "    .dataframe tbody tr th:only-of-type {\n",
              "        vertical-align: middle;\n",
              "    }\n",
              "\n",
              "    .dataframe tbody tr th {\n",
              "        vertical-align: top;\n",
              "    }\n",
              "\n",
              "    .dataframe thead th {\n",
              "        text-align: right;\n",
              "    }\n",
              "</style>\n",
              "<table border=\"1\" class=\"dataframe\">\n",
              "  <thead>\n",
              "    <tr style=\"text-align: right;\">\n",
              "      <th></th>\n",
              "      <th>names</th>\n",
              "      <th>gender</th>\n",
              "      <th>race/ethnicity</th>\n",
              "      <th>parental level of education</th>\n",
              "      <th>lunch</th>\n",
              "      <th>test preparation course</th>\n",
              "      <th>math score</th>\n",
              "      <th>reading score</th>\n",
              "      <th>writing score</th>\n",
              "    </tr>\n",
              "  </thead>\n",
              "  <tbody>\n",
              "    <tr>\n",
              "      <th>1392</th>\n",
              "      <td>Richard Young</td>\n",
              "      <td>male</td>\n",
              "      <td>group D</td>\n",
              "      <td>high school</td>\n",
              "      <td>standard</td>\n",
              "      <td>none</td>\n",
              "      <td>69.0</td>\n",
              "      <td>75.0</td>\n",
              "      <td>71.0</td>\n",
              "    </tr>\n",
              "    <tr>\n",
              "      <th>1394</th>\n",
              "      <td>Wanda Russell</td>\n",
              "      <td>female</td>\n",
              "      <td>group B</td>\n",
              "      <td>high school</td>\n",
              "      <td>free/reduced</td>\n",
              "      <td>completed</td>\n",
              "      <td>23.0</td>\n",
              "      <td>44.0</td>\n",
              "      <td>36.0</td>\n",
              "    </tr>\n",
              "    <tr>\n",
              "      <th>1396</th>\n",
              "      <td>Marina Zeigler</td>\n",
              "      <td>female</td>\n",
              "      <td>group C</td>\n",
              "      <td>bachelor's degree</td>\n",
              "      <td>free/reduced</td>\n",
              "      <td>completed</td>\n",
              "      <td>66.0</td>\n",
              "      <td>74.0</td>\n",
              "      <td>81.0</td>\n",
              "    </tr>\n",
              "    <tr>\n",
              "      <th>1397</th>\n",
              "      <td>Laurie Carter</td>\n",
              "      <td>female</td>\n",
              "      <td>group B</td>\n",
              "      <td>some high school</td>\n",
              "      <td>standard</td>\n",
              "      <td>completed</td>\n",
              "      <td>54.0</td>\n",
              "      <td>61.0</td>\n",
              "      <td>62.0</td>\n",
              "    </tr>\n",
              "    <tr>\n",
              "      <th>1399</th>\n",
              "      <td>Amanda Perez</td>\n",
              "      <td>female</td>\n",
              "      <td>group A</td>\n",
              "      <td>high school</td>\n",
              "      <td>standard</td>\n",
              "      <td>completed</td>\n",
              "      <td>68.0</td>\n",
              "      <td>80.0</td>\n",
              "      <td>76.0</td>\n",
              "    </tr>\n",
              "  </tbody>\n",
              "</table>\n",
              "</div>"
            ],
            "text/plain": [
              "               names  gender race/ethnicity parental level of education  \\\n",
              "1392   Richard Young    male        group D                 high school   \n",
              "1394   Wanda Russell  female        group B                 high school   \n",
              "1396  Marina Zeigler  female        group C           bachelor's degree   \n",
              "1397   Laurie Carter  female        group B            some high school   \n",
              "1399    Amanda Perez  female        group A                 high school   \n",
              "\n",
              "             lunch test preparation course  math score  reading score  \\\n",
              "1392      standard                    none        69.0           75.0   \n",
              "1394  free/reduced               completed        23.0           44.0   \n",
              "1396  free/reduced               completed        66.0           74.0   \n",
              "1397      standard               completed        54.0           61.0   \n",
              "1399      standard               completed        68.0           80.0   \n",
              "\n",
              "      writing score  \n",
              "1392           71.0  \n",
              "1394           36.0  \n",
              "1396           81.0  \n",
              "1397           62.0  \n",
              "1399           76.0  "
            ]
          },
          "metadata": {},
          "output_type": "display_data"
        },
        {
          "name": "stdout",
          "output_type": "stream",
          "text": [
            "----------------------------------------------------------------------------\n",
            "3.5 Filas aleatorias\n"
          ]
        },
        {
          "data": {
            "text/html": [
              "<div>\n",
              "<style scoped>\n",
              "    .dataframe tbody tr th:only-of-type {\n",
              "        vertical-align: middle;\n",
              "    }\n",
              "\n",
              "    .dataframe tbody tr th {\n",
              "        vertical-align: top;\n",
              "    }\n",
              "\n",
              "    .dataframe thead th {\n",
              "        text-align: right;\n",
              "    }\n",
              "</style>\n",
              "<table border=\"1\" class=\"dataframe\">\n",
              "  <thead>\n",
              "    <tr style=\"text-align: right;\">\n",
              "      <th></th>\n",
              "      <th>names</th>\n",
              "      <th>gender</th>\n",
              "      <th>race/ethnicity</th>\n",
              "      <th>parental level of education</th>\n",
              "      <th>lunch</th>\n",
              "      <th>test preparation course</th>\n",
              "      <th>math score</th>\n",
              "      <th>reading score</th>\n",
              "      <th>writing score</th>\n",
              "    </tr>\n",
              "  </thead>\n",
              "  <tbody>\n",
              "    <tr>\n",
              "      <th>1178</th>\n",
              "      <td>Christopher Emmons</td>\n",
              "      <td>male</td>\n",
              "      <td>group C</td>\n",
              "      <td>high school</td>\n",
              "      <td>free/reduced</td>\n",
              "      <td>completed</td>\n",
              "      <td>58.0</td>\n",
              "      <td>51.0</td>\n",
              "      <td>52.0</td>\n",
              "    </tr>\n",
              "    <tr>\n",
              "      <th>273</th>\n",
              "      <td>Joel Reed</td>\n",
              "      <td>male</td>\n",
              "      <td>group D</td>\n",
              "      <td>some high school</td>\n",
              "      <td>standard</td>\n",
              "      <td>completed</td>\n",
              "      <td>88.0</td>\n",
              "      <td>74.0</td>\n",
              "      <td>75.0</td>\n",
              "    </tr>\n",
              "    <tr>\n",
              "      <th>101</th>\n",
              "      <td>Cathy Kuhl</td>\n",
              "      <td>female</td>\n",
              "      <td>group E</td>\n",
              "      <td>high school</td>\n",
              "      <td>free/reduced</td>\n",
              "      <td>completed</td>\n",
              "      <td>57.0</td>\n",
              "      <td>75.0</td>\n",
              "      <td>73.0</td>\n",
              "    </tr>\n",
              "    <tr>\n",
              "      <th>200</th>\n",
              "      <td>Carmen Tyson</td>\n",
              "      <td>female</td>\n",
              "      <td>group E</td>\n",
              "      <td>some college</td>\n",
              "      <td>free/reduced</td>\n",
              "      <td>none</td>\n",
              "      <td>53.0</td>\n",
              "      <td>58.0</td>\n",
              "      <td>57.0</td>\n",
              "    </tr>\n",
              "    <tr>\n",
              "      <th>875</th>\n",
              "      <td>Arlene Trotter</td>\n",
              "      <td>female</td>\n",
              "      <td>group B</td>\n",
              "      <td>high school</td>\n",
              "      <td>standard</td>\n",
              "      <td>none</td>\n",
              "      <td>58.0</td>\n",
              "      <td>68.0</td>\n",
              "      <td>61.0</td>\n",
              "    </tr>\n",
              "  </tbody>\n",
              "</table>\n",
              "</div>"
            ],
            "text/plain": [
              "                   names  gender race/ethnicity parental level of education  \\\n",
              "1178  Christopher Emmons    male        group C                 high school   \n",
              "273            Joel Reed    male        group D            some high school   \n",
              "101           Cathy Kuhl  female        group E                 high school   \n",
              "200         Carmen Tyson  female        group E                some college   \n",
              "875       Arlene Trotter  female        group B                 high school   \n",
              "\n",
              "             lunch test preparation course  math score  reading score  \\\n",
              "1178  free/reduced               completed        58.0           51.0   \n",
              "273       standard               completed        88.0           74.0   \n",
              "101   free/reduced               completed        57.0           75.0   \n",
              "200   free/reduced                    none        53.0           58.0   \n",
              "875       standard                    none        58.0           68.0   \n",
              "\n",
              "      writing score  \n",
              "1178           52.0  \n",
              "273            75.0  \n",
              "101            73.0  \n",
              "200            57.0  \n",
              "875            61.0  "
            ]
          },
          "metadata": {},
          "output_type": "display_data"
        },
        {
          "name": "stdout",
          "output_type": "stream",
          "text": [
            "----------------------------------------------------------------------------\n",
            "4. Descripción de las variables numéricas\n"
          ]
        },
        {
          "data": {
            "text/html": [
              "<div>\n",
              "<style scoped>\n",
              "    .dataframe tbody tr th:only-of-type {\n",
              "        vertical-align: middle;\n",
              "    }\n",
              "\n",
              "    .dataframe tbody tr th {\n",
              "        vertical-align: top;\n",
              "    }\n",
              "\n",
              "    .dataframe thead th {\n",
              "        text-align: right;\n",
              "    }\n",
              "</style>\n",
              "<table border=\"1\" class=\"dataframe\">\n",
              "  <thead>\n",
              "    <tr style=\"text-align: right;\">\n",
              "      <th></th>\n",
              "      <th>math score</th>\n",
              "      <th>reading score</th>\n",
              "      <th>writing score</th>\n",
              "    </tr>\n",
              "  </thead>\n",
              "  <tbody>\n",
              "    <tr>\n",
              "      <th>count</th>\n",
              "      <td>875.000000</td>\n",
              "      <td>875.000000</td>\n",
              "      <td>875.000000</td>\n",
              "    </tr>\n",
              "    <tr>\n",
              "      <th>mean</th>\n",
              "      <td>66.225143</td>\n",
              "      <td>69.195429</td>\n",
              "      <td>68.114286</td>\n",
              "    </tr>\n",
              "    <tr>\n",
              "      <th>std</th>\n",
              "      <td>15.076716</td>\n",
              "      <td>14.629270</td>\n",
              "      <td>15.174220</td>\n",
              "    </tr>\n",
              "    <tr>\n",
              "      <th>min</th>\n",
              "      <td>0.000000</td>\n",
              "      <td>17.000000</td>\n",
              "      <td>10.000000</td>\n",
              "    </tr>\n",
              "    <tr>\n",
              "      <th>25%</th>\n",
              "      <td>57.000000</td>\n",
              "      <td>59.000000</td>\n",
              "      <td>57.500000</td>\n",
              "    </tr>\n",
              "    <tr>\n",
              "      <th>50%</th>\n",
              "      <td>66.000000</td>\n",
              "      <td>70.000000</td>\n",
              "      <td>69.000000</td>\n",
              "    </tr>\n",
              "    <tr>\n",
              "      <th>75%</th>\n",
              "      <td>76.500000</td>\n",
              "      <td>79.000000</td>\n",
              "      <td>79.000000</td>\n",
              "    </tr>\n",
              "    <tr>\n",
              "      <th>max</th>\n",
              "      <td>100.000000</td>\n",
              "      <td>100.000000</td>\n",
              "      <td>100.000000</td>\n",
              "    </tr>\n",
              "  </tbody>\n",
              "</table>\n",
              "</div>"
            ],
            "text/plain": [
              "       math score  reading score  writing score\n",
              "count  875.000000     875.000000     875.000000\n",
              "mean    66.225143      69.195429      68.114286\n",
              "std     15.076716      14.629270      15.174220\n",
              "min      0.000000      17.000000      10.000000\n",
              "25%     57.000000      59.000000      57.500000\n",
              "50%     66.000000      70.000000      69.000000\n",
              "75%     76.500000      79.000000      79.000000\n",
              "max    100.000000     100.000000     100.000000"
            ]
          },
          "metadata": {},
          "output_type": "display_data"
        },
        {
          "name": "stdout",
          "output_type": "stream",
          "text": [
            "----------------------------------------------------------------------------\n"
          ]
        },
        {
          "data": {
            "text/plain": [
              "'5. Cantidad de valores nulos'"
            ]
          },
          "metadata": {},
          "output_type": "display_data"
        },
        {
          "name": "stdout",
          "output_type": "stream",
          "text": [
            "names                          0\n",
            "gender                         0\n",
            "race/ethnicity                 0\n",
            "parental level of education    0\n",
            "lunch                          0\n",
            "test preparation course        0\n",
            "math score                     0\n",
            "reading score                  0\n",
            "writing score                  0\n",
            "dtype: int64\n",
            "----------------------------------------------------------------------------\n",
            "6. Cantidad de valores únicos\n",
            "names                          875\n",
            "gender                           2\n",
            "race/ethnicity                   5\n",
            "parental level of education      6\n",
            "lunch                            2\n",
            "test preparation course          2\n",
            "math score                      79\n",
            "reading score                   72\n",
            "writing score                   77\n",
            "dtype: int64\n",
            "----------------------------------------------------------------------------\n",
            "7. Cantidad de filas duplicadas: 0\n",
            "----------------------------------------------------------------------------\n",
            "8. Filas duplicadas\n"
          ]
        },
        {
          "data": {
            "text/html": [
              "<div>\n",
              "<style scoped>\n",
              "    .dataframe tbody tr th:only-of-type {\n",
              "        vertical-align: middle;\n",
              "    }\n",
              "\n",
              "    .dataframe tbody tr th {\n",
              "        vertical-align: top;\n",
              "    }\n",
              "\n",
              "    .dataframe thead th {\n",
              "        text-align: right;\n",
              "    }\n",
              "</style>\n",
              "<table border=\"1\" class=\"dataframe\">\n",
              "  <thead>\n",
              "    <tr style=\"text-align: right;\">\n",
              "      <th></th>\n",
              "      <th>names</th>\n",
              "      <th>gender</th>\n",
              "      <th>race/ethnicity</th>\n",
              "      <th>parental level of education</th>\n",
              "      <th>lunch</th>\n",
              "      <th>test preparation course</th>\n",
              "      <th>math score</th>\n",
              "      <th>reading score</th>\n",
              "      <th>writing score</th>\n",
              "    </tr>\n",
              "  </thead>\n",
              "  <tbody>\n",
              "  </tbody>\n",
              "</table>\n",
              "</div>"
            ],
            "text/plain": [
              "Empty DataFrame\n",
              "Columns: [names, gender, race/ethnicity, parental level of education, lunch, test preparation course, math score, reading score, writing score]\n",
              "Index: []"
            ]
          },
          "metadata": {},
          "output_type": "display_data"
        },
        {
          "name": "stdout",
          "output_type": "stream",
          "text": [
            "----------------------------------------------------------------------------\n"
          ]
        }
      ],
      "source": [
        "exploratory_data_analysis(df_grades)"
      ]
    },
    {
      "cell_type": "code",
      "execution_count": 11,
      "metadata": {
        "colab": {
          "base_uri": "https://localhost:8080/",
          "height": 542
        },
        "id": "9lAhj7BcIJTK",
        "outputId": "b3eab65b-3cfd-4f72-c74b-b94f1ed9faa2"
      },
      "outputs": [
        {
          "data": {
            "application/vnd.plotly.v1+json": {
              "config": {
                "plotlyServerURL": "https://plot.ly"
              },
              "data": [
                {
                  "alignmentgroup": "True",
                  "hovertemplate": "subject=math score<br>score=%{y}<extra></extra>",
                  "legendgroup": "math score",
                  "marker": {
                    "color": "#636efa"
                  },
                  "name": "math score",
                  "notched": false,
                  "offsetgroup": "math score",
                  "orientation": "v",
                  "showlegend": true,
                  "type": "box",
                  "x0": " ",
                  "xaxis": "x",
                  "y": [
                    37,
                    80,
                    73,
                    81,
                    94,
                    71,
                    75,
                    34,
                    63,
                    94,
                    65,
                    52,
                    62,
                    74,
                    62,
                    73,
                    46,
                    82,
                    63,
                    64,
                    80,
                    93,
                    69,
                    46,
                    86,
                    59,
                    84,
                    64,
                    73,
                    83,
                    75,
                    69,
                    68,
                    57,
                    66,
                    61,
                    40,
                    50,
                    48,
                    36,
                    78,
                    57,
                    69,
                    40,
                    92,
                    35,
                    63,
                    73,
                    63,
                    52,
                    73,
                    63,
                    71,
                    45,
                    85,
                    80,
                    77,
                    91,
                    60,
                    63,
                    40,
                    57,
                    58,
                    97,
                    81,
                    68,
                    59,
                    96,
                    87,
                    57,
                    94,
                    97,
                    65,
                    82,
                    72,
                    62,
                    44,
                    82,
                    75,
                    59,
                    75,
                    72,
                    68,
                    66,
                    67,
                    93,
                    69,
                    63,
                    46,
                    66,
                    62,
                    48,
                    71,
                    54,
                    80,
                    55,
                    90,
                    94,
                    81,
                    53,
                    61,
                    75,
                    74,
                    62,
                    70,
                    59,
                    62,
                    53,
                    80,
                    69,
                    69,
                    69,
                    49,
                    83,
                    65,
                    73,
                    68,
                    64,
                    65,
                    49,
                    58,
                    66,
                    65,
                    65,
                    70,
                    79,
                    50,
                    64,
                    68,
                    32,
                    68,
                    58,
                    19,
                    69,
                    72,
                    53,
                    61,
                    78,
                    53,
                    45,
                    44,
                    83,
                    65,
                    88,
                    88,
                    91,
                    84,
                    51,
                    38,
                    47,
                    66,
                    61,
                    60,
                    71,
                    45,
                    77,
                    53,
                    57,
                    72,
                    76,
                    45,
                    99,
                    51,
                    64,
                    52,
                    80,
                    51,
                    50,
                    64,
                    74,
                    71,
                    57,
                    69,
                    77,
                    75,
                    43,
                    80,
                    59,
                    85,
                    55,
                    44,
                    42,
                    58,
                    61,
                    50,
                    88,
                    73,
                    67,
                    97,
                    61,
                    62,
                    54,
                    66,
                    78,
                    85,
                    84,
                    76,
                    44,
                    81,
                    54,
                    58,
                    81,
                    72,
                    71,
                    61,
                    66,
                    71,
                    71,
                    89,
                    73,
                    81,
                    46,
                    22,
                    48,
                    44,
                    91,
                    76,
                    77,
                    62,
                    67,
                    86,
                    58,
                    53,
                    57,
                    69,
                    62,
                    37,
                    88,
                    90,
                    68,
                    65,
                    63,
                    52,
                    48,
                    65,
                    54,
                    29,
                    26,
                    70,
                    75,
                    60,
                    98,
                    93,
                    59,
                    46,
                    76,
                    79,
                    28,
                    55,
                    61,
                    35,
                    94,
                    46,
                    100,
                    67,
                    50,
                    79,
                    71,
                    83,
                    55,
                    48,
                    76,
                    77,
                    62,
                    56,
                    68,
                    84,
                    80,
                    62,
                    60,
                    64,
                    29,
                    52,
                    53,
                    67,
                    82,
                    56,
                    79,
                    73,
                    66,
                    73,
                    66,
                    84,
                    74,
                    76,
                    81,
                    79,
                    68,
                    63,
                    50,
                    72,
                    85,
                    83,
                    84,
                    65,
                    85,
                    70,
                    58,
                    86,
                    64,
                    65,
                    61,
                    49,
                    53,
                    97,
                    75,
                    72,
                    74,
                    59,
                    68,
                    78,
                    53,
                    72,
                    99,
                    79,
                    91,
                    83,
                    72,
                    61,
                    73,
                    59,
                    100,
                    61,
                    77,
                    71,
                    49,
                    62,
                    86,
                    75,
                    47,
                    63,
                    70,
                    68,
                    61,
                    71,
                    81,
                    100,
                    77,
                    53,
                    71,
                    73,
                    65,
                    49,
                    52,
                    65,
                    59,
                    80,
                    62,
                    57,
                    46,
                    58,
                    67,
                    73,
                    72,
                    40,
                    78,
                    63,
                    61,
                    79,
                    77,
                    70,
                    53,
                    45,
                    40,
                    82,
                    78,
                    75,
                    70,
                    55,
                    70,
                    30,
                    75,
                    63,
                    82,
                    74,
                    54,
                    71,
                    73,
                    77,
                    77,
                    87,
                    87,
                    74,
                    67,
                    43,
                    49,
                    49,
                    53,
                    64,
                    61,
                    79,
                    69,
                    54,
                    65,
                    77,
                    58,
                    73,
                    54,
                    54,
                    64,
                    59,
                    76,
                    85,
                    97,
                    53,
                    52,
                    77,
                    79,
                    57,
                    66,
                    63,
                    65,
                    68,
                    55,
                    72,
                    86,
                    97,
                    75,
                    52,
                    74,
                    70,
                    39,
                    61,
                    44,
                    87,
                    66,
                    68,
                    62,
                    81,
                    70,
                    74,
                    76,
                    59,
                    68,
                    73,
                    100,
                    8,
                    65,
                    40,
                    48,
                    89,
                    77,
                    65,
                    69,
                    68,
                    49,
                    62,
                    56,
                    46,
                    60,
                    91,
                    90,
                    73,
                    70,
                    47,
                    65,
                    81,
                    55,
                    93,
                    65,
                    62,
                    48,
                    68,
                    66,
                    55,
                    42,
                    74,
                    37,
                    66,
                    88,
                    69,
                    61,
                    39,
                    87,
                    64,
                    44,
                    59,
                    80,
                    71,
                    53,
                    78,
                    55,
                    70,
                    65,
                    86,
                    54,
                    41,
                    90,
                    59,
                    65,
                    67,
                    89,
                    59,
                    73,
                    74,
                    86,
                    61,
                    57,
                    58,
                    45,
                    63,
                    67,
                    94,
                    56,
                    62,
                    70,
                    70,
                    76,
                    64,
                    47,
                    66,
                    40,
                    66,
                    68,
                    51,
                    88,
                    90,
                    52,
                    49,
                    53,
                    71,
                    50,
                    58,
                    42,
                    67,
                    39,
                    85,
                    78,
                    73,
                    68,
                    89,
                    40,
                    82,
                    77,
                    69,
                    79,
                    53,
                    43,
                    58,
                    88,
                    69,
                    85,
                    69,
                    72,
                    57,
                    58,
                    62,
                    75,
                    88,
                    81,
                    67,
                    67,
                    74,
                    71,
                    85,
                    56,
                    82,
                    60,
                    81,
                    87,
                    46,
                    58,
                    62,
                    76,
                    60,
                    50,
                    77,
                    64,
                    61,
                    60,
                    67,
                    64,
                    90,
                    53,
                    48,
                    60,
                    82,
                    58,
                    60,
                    66,
                    85,
                    49,
                    77,
                    67,
                    69,
                    50,
                    62,
                    83,
                    81,
                    72,
                    92,
                    71,
                    88,
                    82,
                    71,
                    75,
                    51,
                    62,
                    75,
                    63,
                    71,
                    67,
                    71,
                    61,
                    56,
                    98,
                    82,
                    75,
                    59,
                    71,
                    44,
                    77,
                    65,
                    57,
                    60,
                    27,
                    58,
                    70,
                    38,
                    42,
                    100,
                    89,
                    35,
                    77,
                    62,
                    79,
                    46,
                    59,
                    66,
                    47,
                    77,
                    78,
                    52,
                    70,
                    58,
                    68,
                    69,
                    87,
                    52,
                    72,
                    85,
                    41,
                    61,
                    67,
                    54,
                    63,
                    52,
                    62,
                    58,
                    62,
                    65,
                    74,
                    79,
                    68,
                    63,
                    52,
                    59,
                    55,
                    66,
                    74,
                    91,
                    74,
                    81,
                    79,
                    90,
                    54,
                    78,
                    88,
                    62,
                    80,
                    80,
                    71,
                    75,
                    60,
                    88,
                    55,
                    50,
                    42,
                    69,
                    42,
                    58,
                    24,
                    67,
                    59,
                    59,
                    96,
                    45,
                    88,
                    72,
                    61,
                    81,
                    79,
                    47,
                    49,
                    54,
                    71,
                    59,
                    89,
                    59,
                    57,
                    77,
                    77,
                    60,
                    76,
                    32,
                    49,
                    76,
                    64,
                    63,
                    50,
                    44,
                    66,
                    67,
                    61,
                    69,
                    65,
                    53,
                    87,
                    53,
                    66,
                    49,
                    67,
                    55,
                    30,
                    73,
                    62,
                    79,
                    63,
                    52,
                    58,
                    78,
                    74,
                    68,
                    82,
                    73,
                    59,
                    74,
                    84,
                    67,
                    87,
                    77,
                    58,
                    69,
                    65,
                    92,
                    87,
                    69,
                    73,
                    61,
                    67,
                    69,
                    74,
                    64,
                    36,
                    41,
                    49,
                    59,
                    84,
                    76,
                    61,
                    62,
                    67,
                    54,
                    59,
                    68,
                    91,
                    96,
                    68,
                    74,
                    71,
                    35,
                    81,
                    53,
                    80,
                    76,
                    63,
                    57,
                    58,
                    72,
                    55,
                    80,
                    41,
                    51,
                    85,
                    81,
                    52,
                    18,
                    73,
                    63,
                    59,
                    63,
                    63,
                    80,
                    60,
                    64,
                    98,
                    59,
                    65,
                    87,
                    66,
                    52,
                    73,
                    87,
                    79,
                    69,
                    47,
                    92,
                    57,
                    88,
                    79,
                    71,
                    81,
                    65,
                    82,
                    65,
                    40,
                    73,
                    56,
                    69,
                    67,
                    91,
                    67,
                    65,
                    58,
                    55,
                    48,
                    53,
                    85,
                    62,
                    65,
                    82,
                    77,
                    50,
                    69,
                    0,
                    65,
                    69,
                    72,
                    100,
                    65,
                    47,
                    51,
                    71,
                    82,
                    55,
                    75,
                    66,
                    72,
                    70,
                    57,
                    84,
                    61,
                    45,
                    65,
                    27,
                    88,
                    65,
                    63,
                    78,
                    65,
                    90,
                    100,
                    67,
                    74,
                    76,
                    66,
                    59,
                    62,
                    41,
                    29,
                    69,
                    23,
                    66,
                    54,
                    68
                  ],
                  "y0": " ",
                  "yaxis": "y"
                },
                {
                  "alignmentgroup": "True",
                  "hovertemplate": "subject=reading score<br>score=%{y}<extra></extra>",
                  "legendgroup": "reading score",
                  "marker": {
                    "color": "#EF553B"
                  },
                  "name": "reading score",
                  "notched": false,
                  "offsetgroup": "reading score",
                  "orientation": "v",
                  "showlegend": true,
                  "type": "box",
                  "x0": " ",
                  "xaxis": "x",
                  "y": [
                    46,
                    78,
                    66,
                    75,
                    86,
                    61,
                    68,
                    48,
                    61,
                    73,
                    78,
                    76,
                    65,
                    74,
                    57,
                    69,
                    42,
                    82,
                    61,
                    73,
                    75,
                    100,
                    76,
                    61,
                    81,
                    72,
                    83,
                    64,
                    76,
                    86,
                    88,
                    74,
                    72,
                    61,
                    64,
                    61,
                    59,
                    67,
                    62,
                    29,
                    79,
                    67,
                    58,
                    55,
                    87,
                    28,
                    67,
                    74,
                    64,
                    59,
                    79,
                    73,
                    60,
                    59,
                    92,
                    76,
                    94,
                    85,
                    62,
                    48,
                    48,
                    54,
                    54,
                    82,
                    82,
                    65,
                    71,
                    90,
                    84,
                    75,
                    88,
                    93,
                    81,
                    93,
                    57,
                    74,
                    54,
                    84,
                    90,
                    41,
                    73,
                    68,
                    78,
                    74,
                    62,
                    90,
                    63,
                    74,
                    64,
                    68,
                    73,
                    56,
                    70,
                    72,
                    83,
                    59,
                    87,
                    99,
                    73,
                    43,
                    68,
                    85,
                    81,
                    72,
                    78,
                    51,
                    72,
                    50,
                    85,
                    66,
                    78,
                    77,
                    45,
                    93,
                    61,
                    64,
                    83,
                    66,
                    77,
                    57,
                    67,
                    78,
                    70,
                    79,
                    68,
                    81,
                    67,
                    54,
                    60,
                    51,
                    51,
                    57,
                    38,
                    77,
                    79,
                    58,
                    51,
                    72,
                    62,
                    56,
                    51,
                    83,
                    76,
                    78,
                    95,
                    89,
                    87,
                    66,
                    49,
                    53,
                    57,
                    73,
                    68,
                    71,
                    63,
                    86,
                    58,
                    51,
                    64,
                    71,
                    48,
                    93,
                    72,
                    60,
                    61,
                    73,
                    54,
                    48,
                    73,
                    74,
                    77,
                    74,
                    70,
                    90,
                    74,
                    51,
                    68,
                    72,
                    81,
                    76,
                    63,
                    62,
                    59,
                    47,
                    66,
                    74,
                    78,
                    86,
                    100,
                    58,
                    64,
                    63,
                    71,
                    91,
                    75,
                    84,
                    94,
                    61,
                    84,
                    49,
                    63,
                    82,
                    81,
                    49,
                    42,
                    77,
                    76,
                    66,
                    88,
                    83,
                    81,
                    34,
                    39,
                    52,
                    64,
                    81,
                    80,
                    78,
                    72,
                    64,
                    81,
                    70,
                    52,
                    58,
                    73,
                    66,
                    57,
                    89,
                    75,
                    70,
                    75,
                    69,
                    57,
                    43,
                    54,
                    54,
                    41,
                    31,
                    75,
                    74,
                    57,
                    87,
                    84,
                    54,
                    54,
                    64,
                    88,
                    23,
                    71,
                    57,
                    53,
                    85,
                    58,
                    100,
                    80,
                    47,
                    84,
                    81,
                    82,
                    64,
                    58,
                    73,
                    77,
                    78,
                    68,
                    86,
                    77,
                    75,
                    70,
                    66,
                    62,
                    40,
                    65,
                    61,
                    61,
                    95,
                    79,
                    76,
                    68,
                    74,
                    86,
                    65,
                    73,
                    77,
                    71,
                    72,
                    89,
                    71,
                    78,
                    56,
                    65,
                    92,
                    78,
                    95,
                    77,
                    86,
                    70,
                    63,
                    80,
                    82,
                    81,
                    55,
                    51,
                    51,
                    97,
                    72,
                    73,
                    79,
                    67,
                    68,
                    77,
                    58,
                    57,
                    100,
                    89,
                    73,
                    72,
                    79,
                    62,
                    74,
                    54,
                    96,
                    66,
                    79,
                    67,
                    53,
                    61,
                    92,
                    81,
                    59,
                    75,
                    75,
                    63,
                    56,
                    66,
                    97,
                    100,
                    90,
                    44,
                    83,
                    68,
                    82,
                    49,
                    59,
                    75,
                    60,
                    64,
                    49,
                    43,
                    43,
                    73,
                    54,
                    66,
                    72,
                    43,
                    83,
                    65,
                    72,
                    74,
                    82,
                    84,
                    54,
                    53,
                    58,
                    85,
                    72,
                    66,
                    64,
                    55,
                    89,
                    26,
                    84,
                    64,
                    82,
                    81,
                    59,
                    84,
                    84,
                    88,
                    88,
                    84,
                    74,
                    73,
                    64,
                    62,
                    52,
                    65,
                    54,
                    53,
                    86,
                    92,
                    71,
                    52,
                    86,
                    91,
                    61,
                    76,
                    64,
                    53,
                    58,
                    72,
                    74,
                    84,
                    92,
                    70,
                    55,
                    76,
                    72,
                    77,
                    69,
                    73,
                    85,
                    67,
                    58,
                    66,
                    76,
                    87,
                    68,
                    49,
                    70,
                    82,
                    52,
                    74,
                    50,
                    84,
                    65,
                    77,
                    67,
                    66,
                    63,
                    75,
                    78,
                    70,
                    68,
                    66,
                    100,
                    24,
                    64,
                    65,
                    66,
                    84,
                    82,
                    73,
                    77,
                    72,
                    51,
                    69,
                    68,
                    56,
                    51,
                    95,
                    90,
                    56,
                    72,
                    49,
                    65,
                    77,
                    46,
                    100,
                    70,
                    61,
                    45,
                    59,
                    69,
                    46,
                    55,
                    77,
                    56,
                    63,
                    78,
                    77,
                    71,
                    64,
                    100,
                    63,
                    41,
                    78,
                    79,
                    87,
                    58,
                    81,
                    73,
                    70,
                    69,
                    73,
                    52,
                    51,
                    90,
                    58,
                    81,
                    79,
                    84,
                    63,
                    71,
                    90,
                    83,
                    58,
                    78,
                    52,
                    37,
                    63,
                    73,
                    87,
                    52,
                    66,
                    65,
                    74,
                    83,
                    74,
                    54,
                    74,
                    52,
                    74,
                    74,
                    31,
                    84,
                    95,
                    57,
                    53,
                    52,
                    74,
                    48,
                    55,
                    52,
                    57,
                    39,
                    90,
                    74,
                    78,
                    70,
                    100,
                    42,
                    67,
                    85,
                    84,
                    86,
                    62,
                    45,
                    55,
                    77,
                    70,
                    91,
                    60,
                    80,
                    50,
                    61,
                    63,
                    77,
                    99,
                    91,
                    78,
                    69,
                    79,
                    74,
                    84,
                    54,
                    62,
                    64,
                    75,
                    85,
                    43,
                    68,
                    55,
                    72,
                    68,
                    42,
                    89,
                    50,
                    68,
                    59,
                    57,
                    73,
                    85,
                    45,
                    56,
                    70,
                    90,
                    67,
                    75,
                    59,
                    95,
                    52,
                    69,
                    76,
                    79,
                    60,
                    56,
                    85,
                    71,
                    79,
                    100,
                    70,
                    99,
                    93,
                    69,
                    82,
                    49,
                    55,
                    81,
                    55,
                    83,
                    72,
                    83,
                    56,
                    61,
                    86,
                    84,
                    88,
                    62,
                    75,
                    45,
                    68,
                    76,
                    48,
                    60,
                    34,
                    50,
                    64,
                    43,
                    66,
                    92,
                    76,
                    44,
                    62,
                    64,
                    82,
                    41,
                    70,
                    77,
                    37,
                    68,
                    77,
                    48,
                    71,
                    57,
                    54,
                    72,
                    94,
                    53,
                    80,
                    89,
                    39,
                    71,
                    89,
                    48,
                    63,
                    58,
                    55,
                    60,
                    67,
                    77,
                    88,
                    73,
                    68,
                    80,
                    70,
                    42,
                    47,
                    60,
                    76,
                    86,
                    63,
                    74,
                    82,
                    78,
                    58,
                    82,
                    92,
                    67,
                    86,
                    63,
                    79,
                    86,
                    72,
                    75,
                    61,
                    60,
                    61,
                    75,
                    39,
                    75,
                    38,
                    84,
                    62,
                    62,
                    96,
                    47,
                    85,
                    67,
                    67,
                    80,
                    85,
                    62,
                    58,
                    60,
                    71,
                    58,
                    87,
                    85,
                    58,
                    67,
                    67,
                    63,
                    78,
                    34,
                    57,
                    62,
                    76,
                    78,
                    53,
                    51,
                    62,
                    84,
                    60,
                    84,
                    73,
                    72,
                    90,
                    66,
                    83,
                    65,
                    74,
                    72,
                    24,
                    92,
                    62,
                    60,
                    57,
                    65,
                    76,
                    90,
                    89,
                    76,
                    97,
                    70,
                    66,
                    86,
                    83,
                    86,
                    95,
                    97,
                    51,
                    66,
                    66,
                    100,
                    74,
                    54,
                    67,
                    60,
                    81,
                    90,
                    81,
                    60,
                    53,
                    52,
                    58,
                    69,
                    87,
                    83,
                    72,
                    67,
                    75,
                    64,
                    63,
                    67,
                    74,
                    100,
                    64,
                    75,
                    76,
                    61,
                    78,
                    37,
                    76,
                    70,
                    71,
                    68,
                    70,
                    66,
                    65,
                    92,
                    55,
                    56,
                    76,
                    92,
                    59,
                    32,
                    79,
                    67,
                    73,
                    60,
                    73,
                    90,
                    44,
                    56,
                    100,
                    71,
                    69,
                    91,
                    76,
                    55,
                    75,
                    84,
                    67,
                    60,
                    58,
                    79,
                    69,
                    95,
                    78,
                    62,
                    81,
                    81,
                    78,
                    69,
                    46,
                    80,
                    72,
                    58,
                    72,
                    96,
                    75,
                    74,
                    59,
                    41,
                    58,
                    61,
                    66,
                    67,
                    84,
                    82,
                    62,
                    64,
                    65,
                    17,
                    67,
                    86,
                    67,
                    100,
                    58,
                    57,
                    51,
                    74,
                    82,
                    65,
                    82,
                    66,
                    72,
                    55,
                    56,
                    89,
                    48,
                    52,
                    59,
                    34,
                    73,
                    82,
                    66,
                    81,
                    72,
                    87,
                    97,
                    74,
                    75,
                    67,
                    72,
                    64,
                    76,
                    46,
                    29,
                    75,
                    44,
                    74,
                    61,
                    80
                  ],
                  "y0": " ",
                  "yaxis": "y"
                },
                {
                  "alignmentgroup": "True",
                  "hovertemplate": "subject=writing score<br>score=%{y}<extra></extra>",
                  "legendgroup": "writing score",
                  "marker": {
                    "color": "#00cc96"
                  },
                  "name": "writing score",
                  "notched": false,
                  "offsetgroup": "writing score",
                  "orientation": "v",
                  "showlegend": true,
                  "type": "box",
                  "x0": " ",
                  "xaxis": "x",
                  "y": [
                    46,
                    81,
                    63,
                    76,
                    87,
                    69,
                    64,
                    41,
                    61,
                    71,
                    82,
                    70,
                    58,
                    72,
                    62,
                    68,
                    46,
                    74,
                    60,
                    68,
                    77,
                    100,
                    74,
                    55,
                    80,
                    70,
                    75,
                    67,
                    78,
                    88,
                    85,
                    74,
                    65,
                    54,
                    62,
                    62,
                    54,
                    63,
                    60,
                    27,
                    76,
                    72,
                    57,
                    53,
                    78,
                    27,
                    70,
                    61,
                    67,
                    65,
                    79,
                    71,
                    61,
                    64,
                    85,
                    65,
                    95,
                    85,
                    60,
                    47,
                    50,
                    56,
                    52,
                    88,
                    82,
                    61,
                    65,
                    92,
                    86,
                    73,
                    78,
                    91,
                    81,
                    93,
                    58,
                    70,
                    53,
                    78,
                    88,
                    42,
                    74,
                    67,
                    77,
                    78,
                    60,
                    83,
                    61,
                    74,
                    66,
                    64,
                    70,
                    51,
                    70,
                    59,
                    83,
                    54,
                    85,
                    100,
                    72,
                    43,
                    63,
                    82,
                    71,
                    65,
                    78,
                    43,
                    74,
                    60,
                    85,
                    61,
                    76,
                    77,
                    45,
                    95,
                    71,
                    57,
                    78,
                    59,
                    74,
                    46,
                    62,
                    78,
                    74,
                    81,
                    72,
                    82,
                    73,
                    50,
                    59,
                    44,
                    57,
                    54,
                    32,
                    73,
                    74,
                    57,
                    52,
                    69,
                    53,
                    54,
                    48,
                    90,
                    75,
                    83,
                    94,
                    92,
                    91,
                    62,
                    45,
                    58,
                    52,
                    63,
                    60,
                    74,
                    59,
                    86,
                    55,
                    54,
                    63,
                    73,
                    46,
                    90,
                    79,
                    58,
                    66,
                    72,
                    41,
                    42,
                    70,
                    72,
                    77,
                    76,
                    67,
                    85,
                    66,
                    54,
                    72,
                    68,
                    85,
                    76,
                    62,
                    60,
                    58,
                    56,
                    64,
                    75,
                    72,
                    83,
                    100,
                    56,
                    66,
                    67,
                    76,
                    96,
                    68,
                    80,
                    87,
                    52,
                    82,
                    47,
                    65,
                    84,
                    79,
                    52,
                    41,
                    73,
                    83,
                    65,
                    82,
                    76,
                    79,
                    36,
                    33,
                    45,
                    58,
                    79,
                    73,
                    73,
                    70,
                    61,
                    75,
                    68,
                    49,
                    64,
                    73,
                    68,
                    56,
                    86,
                    69,
                    66,
                    70,
                    74,
                    56,
                    45,
                    57,
                    45,
                    47,
                    38,
                    78,
                    69,
                    51,
                    90,
                    90,
                    51,
                    58,
                    66,
                    94,
                    19,
                    69,
                    56,
                    46,
                    82,
                    57,
                    100,
                    81,
                    54,
                    91,
                    80,
                    84,
                    70,
                    52,
                    68,
                    73,
                    79,
                    70,
                    84,
                    74,
                    69,
                    75,
                    70,
                    68,
                    44,
                    69,
                    68,
                    68,
                    89,
                    72,
                    65,
                    66,
                    69,
                    82,
                    69,
                    69,
                    73,
                    72,
                    77,
                    86,
                    75,
                    80,
                    54,
                    68,
                    93,
                    73,
                    92,
                    74,
                    98,
                    70,
                    73,
                    75,
                    77,
                    81,
                    52,
                    51,
                    51,
                    96,
                    62,
                    74,
                    75,
                    61,
                    67,
                    77,
                    44,
                    62,
                    100,
                    89,
                    80,
                    78,
                    77,
                    61,
                    72,
                    67,
                    86,
                    61,
                    80,
                    67,
                    53,
                    55,
                    87,
                    71,
                    50,
                    81,
                    74,
                    54,
                    55,
                    60,
                    96,
                    93,
                    91,
                    42,
                    83,
                    66,
                    81,
                    41,
                    56,
                    77,
                    58,
                    66,
                    52,
                    47,
                    41,
                    68,
                    63,
                    62,
                    71,
                    39,
                    80,
                    61,
                    70,
                    72,
                    89,
                    81,
                    48,
                    55,
                    54,
                    86,
                    70,
                    73,
                    72,
                    47,
                    88,
                    22,
                    80,
                    66,
                    80,
                    83,
                    50,
                    87,
                    85,
                    87,
                    85,
                    87,
                    70,
                    67,
                    70,
                    61,
                    51,
                    61,
                    48,
                    57,
                    87,
                    89,
                    65,
                    52,
                    80,
                    88,
                    52,
                    80,
                    68,
                    47,
                    51,
                    80,
                    73,
                    89,
                    86,
                    70,
                    57,
                    77,
                    69,
                    80,
                    63,
                    78,
                    76,
                    73,
                    52,
                    66,
                    74,
                    82,
                    65,
                    46,
                    69,
                    76,
                    46,
                    72,
                    51,
                    85,
                    60,
                    80,
                    58,
                    64,
                    58,
                    83,
                    80,
                    66,
                    64,
                    66,
                    100,
                    23,
                    62,
                    64,
                    65,
                    82,
                    91,
                    75,
                    69,
                    64,
                    43,
                    69,
                    74,
                    57,
                    56,
                    94,
                    91,
                    57,
                    76,
                    50,
                    63,
                    79,
                    44,
                    95,
                    71,
                    57,
                    41,
                    62,
                    68,
                    43,
                    54,
                    76,
                    47,
                    64,
                    75,
                    78,
                    73,
                    57,
                    95,
                    66,
                    38,
                    76,
                    79,
                    82,
                    65,
                    86,
                    73,
                    65,
                    76,
                    70,
                    51,
                    48,
                    82,
                    59,
                    73,
                    84,
                    77,
                    75,
                    68,
                    88,
                    86,
                    62,
                    79,
                    54,
                    37,
                    62,
                    68,
                    92,
                    55,
                    68,
                    60,
                    71,
                    88,
                    75,
                    53,
                    73,
                    43,
                    81,
                    74,
                    36,
                    75,
                    93,
                    50,
                    52,
                    42,
                    64,
                    53,
                    53,
                    51,
                    53,
                    34,
                    92,
                    72,
                    76,
                    66,
                    100,
                    38,
                    61,
                    87,
                    85,
                    92,
                    56,
                    50,
                    48,
                    77,
                    63,
                    89,
                    54,
                    83,
                    54,
                    66,
                    56,
                    83,
                    100,
                    87,
                    79,
                    75,
                    82,
                    68,
                    78,
                    52,
                    62,
                    74,
                    78,
                    93,
                    44,
                    61,
                    55,
                    71,
                    72,
                    48,
                    98,
                    43,
                    66,
                    54,
                    59,
                    71,
                    84,
                    40,
                    58,
                    70,
                    94,
                    72,
                    74,
                    52,
                    100,
                    54,
                    68,
                    75,
                    81,
                    59,
                    53,
                    90,
                    73,
                    82,
                    100,
                    76,
                    95,
                    93,
                    68,
                    79,
                    51,
                    49,
                    84,
                    63,
                    78,
                    74,
                    77,
                    56,
                    60,
                    90,
                    82,
                    85,
                    64,
                    70,
                    45,
                    69,
                    76,
                    51,
                    60,
                    36,
                    45,
                    70,
                    43,
                    69,
                    97,
                    74,
                    43,
                    62,
                    64,
                    82,
                    43,
                    65,
                    70,
                    35,
                    77,
                    80,
                    49,
                    74,
                    53,
                    53,
                    77,
                    95,
                    49,
                    75,
                    95,
                    34,
                    78,
                    82,
                    52,
                    60,
                    58,
                    54,
                    57,
                    67,
                    74,
                    90,
                    67,
                    61,
                    80,
                    62,
                    41,
                    44,
                    57,
                    73,
                    84,
                    57,
                    71,
                    73,
                    81,
                    61,
                    79,
                    95,
                    62,
                    83,
                    63,
                    71,
                    79,
                    74,
                    76,
                    54,
                    60,
                    58,
                    78,
                    34,
                    77,
                    27,
                    86,
                    69,
                    61,
                    99,
                    49,
                    76,
                    65,
                    66,
                    76,
                    86,
                    66,
                    55,
                    63,
                    80,
                    47,
                    79,
                    80,
                    57,
                    64,
                    68,
                    59,
                    75,
                    38,
                    52,
                    66,
                    74,
                    79,
                    55,
                    55,
                    64,
                    81,
                    55,
                    82,
                    68,
                    64,
                    88,
                    73,
                    83,
                    55,
                    77,
                    79,
                    15,
                    84,
                    63,
                    65,
                    56,
                    61,
                    78,
                    93,
                    84,
                    67,
                    96,
                    75,
                    67,
                    89,
                    78,
                    83,
                    86,
                    94,
                    52,
                    60,
                    62,
                    99,
                    76,
                    55,
                    59,
                    57,
                    79,
                    88,
                    76,
                    74,
                    43,
                    51,
                    60,
                    65,
                    81,
                    79,
                    70,
                    61,
                    70,
                    67,
                    64,
                    69,
                    76,
                    100,
                    66,
                    82,
                    70,
                    54,
                    78,
                    40,
                    64,
                    69,
                    69,
                    73,
                    67,
                    72,
                    62,
                    88,
                    51,
                    53,
                    71,
                    91,
                    62,
                    28,
                    84,
                    67,
                    69,
                    57,
                    68,
                    82,
                    47,
                    52,
                    99,
                    70,
                    67,
                    81,
                    68,
                    49,
                    80,
                    76,
                    67,
                    63,
                    67,
                    84,
                    68,
                    92,
                    77,
                    50,
                    84,
                    77,
                    74,
                    70,
                    50,
                    82,
                    65,
                    53,
                    67,
                    91,
                    72,
                    77,
                    66,
                    48,
                    54,
                    62,
                    71,
                    64,
                    84,
                    80,
                    64,
                    59,
                    74,
                    10,
                    62,
                    81,
                    64,
                    100,
                    49,
                    44,
                    54,
                    68,
                    88,
                    62,
                    90,
                    59,
                    74,
                    56,
                    54,
                    90,
                    46,
                    49,
                    53,
                    32,
                    78,
                    78,
                    67,
                    82,
                    74,
                    75,
                    99,
                    70,
                    79,
                    67,
                    70,
                    75,
                    80,
                    43,
                    30,
                    71,
                    36,
                    81,
                    62,
                    76
                  ],
                  "y0": " ",
                  "yaxis": "y"
                }
              ],
              "layout": {
                "boxmode": "group",
                "legend": {
                  "title": {
                    "text": "subject"
                  },
                  "tracegroupgap": 0
                },
                "margin": {
                  "t": 60
                },
                "template": {
                  "data": {
                    "bar": [
                      {
                        "error_x": {
                          "color": "#2a3f5f"
                        },
                        "error_y": {
                          "color": "#2a3f5f"
                        },
                        "marker": {
                          "line": {
                            "color": "#E5ECF6",
                            "width": 0.5
                          },
                          "pattern": {
                            "fillmode": "overlay",
                            "size": 10,
                            "solidity": 0.2
                          }
                        },
                        "type": "bar"
                      }
                    ],
                    "barpolar": [
                      {
                        "marker": {
                          "line": {
                            "color": "#E5ECF6",
                            "width": 0.5
                          },
                          "pattern": {
                            "fillmode": "overlay",
                            "size": 10,
                            "solidity": 0.2
                          }
                        },
                        "type": "barpolar"
                      }
                    ],
                    "carpet": [
                      {
                        "aaxis": {
                          "endlinecolor": "#2a3f5f",
                          "gridcolor": "white",
                          "linecolor": "white",
                          "minorgridcolor": "white",
                          "startlinecolor": "#2a3f5f"
                        },
                        "baxis": {
                          "endlinecolor": "#2a3f5f",
                          "gridcolor": "white",
                          "linecolor": "white",
                          "minorgridcolor": "white",
                          "startlinecolor": "#2a3f5f"
                        },
                        "type": "carpet"
                      }
                    ],
                    "choropleth": [
                      {
                        "colorbar": {
                          "outlinewidth": 0,
                          "ticks": ""
                        },
                        "type": "choropleth"
                      }
                    ],
                    "contour": [
                      {
                        "colorbar": {
                          "outlinewidth": 0,
                          "ticks": ""
                        },
                        "colorscale": [
                          [
                            0,
                            "#0d0887"
                          ],
                          [
                            0.1111111111111111,
                            "#46039f"
                          ],
                          [
                            0.2222222222222222,
                            "#7201a8"
                          ],
                          [
                            0.3333333333333333,
                            "#9c179e"
                          ],
                          [
                            0.4444444444444444,
                            "#bd3786"
                          ],
                          [
                            0.5555555555555556,
                            "#d8576b"
                          ],
                          [
                            0.6666666666666666,
                            "#ed7953"
                          ],
                          [
                            0.7777777777777778,
                            "#fb9f3a"
                          ],
                          [
                            0.8888888888888888,
                            "#fdca26"
                          ],
                          [
                            1,
                            "#f0f921"
                          ]
                        ],
                        "type": "contour"
                      }
                    ],
                    "contourcarpet": [
                      {
                        "colorbar": {
                          "outlinewidth": 0,
                          "ticks": ""
                        },
                        "type": "contourcarpet"
                      }
                    ],
                    "heatmap": [
                      {
                        "colorbar": {
                          "outlinewidth": 0,
                          "ticks": ""
                        },
                        "colorscale": [
                          [
                            0,
                            "#0d0887"
                          ],
                          [
                            0.1111111111111111,
                            "#46039f"
                          ],
                          [
                            0.2222222222222222,
                            "#7201a8"
                          ],
                          [
                            0.3333333333333333,
                            "#9c179e"
                          ],
                          [
                            0.4444444444444444,
                            "#bd3786"
                          ],
                          [
                            0.5555555555555556,
                            "#d8576b"
                          ],
                          [
                            0.6666666666666666,
                            "#ed7953"
                          ],
                          [
                            0.7777777777777778,
                            "#fb9f3a"
                          ],
                          [
                            0.8888888888888888,
                            "#fdca26"
                          ],
                          [
                            1,
                            "#f0f921"
                          ]
                        ],
                        "type": "heatmap"
                      }
                    ],
                    "heatmapgl": [
                      {
                        "colorbar": {
                          "outlinewidth": 0,
                          "ticks": ""
                        },
                        "colorscale": [
                          [
                            0,
                            "#0d0887"
                          ],
                          [
                            0.1111111111111111,
                            "#46039f"
                          ],
                          [
                            0.2222222222222222,
                            "#7201a8"
                          ],
                          [
                            0.3333333333333333,
                            "#9c179e"
                          ],
                          [
                            0.4444444444444444,
                            "#bd3786"
                          ],
                          [
                            0.5555555555555556,
                            "#d8576b"
                          ],
                          [
                            0.6666666666666666,
                            "#ed7953"
                          ],
                          [
                            0.7777777777777778,
                            "#fb9f3a"
                          ],
                          [
                            0.8888888888888888,
                            "#fdca26"
                          ],
                          [
                            1,
                            "#f0f921"
                          ]
                        ],
                        "type": "heatmapgl"
                      }
                    ],
                    "histogram": [
                      {
                        "marker": {
                          "pattern": {
                            "fillmode": "overlay",
                            "size": 10,
                            "solidity": 0.2
                          }
                        },
                        "type": "histogram"
                      }
                    ],
                    "histogram2d": [
                      {
                        "colorbar": {
                          "outlinewidth": 0,
                          "ticks": ""
                        },
                        "colorscale": [
                          [
                            0,
                            "#0d0887"
                          ],
                          [
                            0.1111111111111111,
                            "#46039f"
                          ],
                          [
                            0.2222222222222222,
                            "#7201a8"
                          ],
                          [
                            0.3333333333333333,
                            "#9c179e"
                          ],
                          [
                            0.4444444444444444,
                            "#bd3786"
                          ],
                          [
                            0.5555555555555556,
                            "#d8576b"
                          ],
                          [
                            0.6666666666666666,
                            "#ed7953"
                          ],
                          [
                            0.7777777777777778,
                            "#fb9f3a"
                          ],
                          [
                            0.8888888888888888,
                            "#fdca26"
                          ],
                          [
                            1,
                            "#f0f921"
                          ]
                        ],
                        "type": "histogram2d"
                      }
                    ],
                    "histogram2dcontour": [
                      {
                        "colorbar": {
                          "outlinewidth": 0,
                          "ticks": ""
                        },
                        "colorscale": [
                          [
                            0,
                            "#0d0887"
                          ],
                          [
                            0.1111111111111111,
                            "#46039f"
                          ],
                          [
                            0.2222222222222222,
                            "#7201a8"
                          ],
                          [
                            0.3333333333333333,
                            "#9c179e"
                          ],
                          [
                            0.4444444444444444,
                            "#bd3786"
                          ],
                          [
                            0.5555555555555556,
                            "#d8576b"
                          ],
                          [
                            0.6666666666666666,
                            "#ed7953"
                          ],
                          [
                            0.7777777777777778,
                            "#fb9f3a"
                          ],
                          [
                            0.8888888888888888,
                            "#fdca26"
                          ],
                          [
                            1,
                            "#f0f921"
                          ]
                        ],
                        "type": "histogram2dcontour"
                      }
                    ],
                    "mesh3d": [
                      {
                        "colorbar": {
                          "outlinewidth": 0,
                          "ticks": ""
                        },
                        "type": "mesh3d"
                      }
                    ],
                    "parcoords": [
                      {
                        "line": {
                          "colorbar": {
                            "outlinewidth": 0,
                            "ticks": ""
                          }
                        },
                        "type": "parcoords"
                      }
                    ],
                    "pie": [
                      {
                        "automargin": true,
                        "type": "pie"
                      }
                    ],
                    "scatter": [
                      {
                        "fillpattern": {
                          "fillmode": "overlay",
                          "size": 10,
                          "solidity": 0.2
                        },
                        "type": "scatter"
                      }
                    ],
                    "scatter3d": [
                      {
                        "line": {
                          "colorbar": {
                            "outlinewidth": 0,
                            "ticks": ""
                          }
                        },
                        "marker": {
                          "colorbar": {
                            "outlinewidth": 0,
                            "ticks": ""
                          }
                        },
                        "type": "scatter3d"
                      }
                    ],
                    "scattercarpet": [
                      {
                        "marker": {
                          "colorbar": {
                            "outlinewidth": 0,
                            "ticks": ""
                          }
                        },
                        "type": "scattercarpet"
                      }
                    ],
                    "scattergeo": [
                      {
                        "marker": {
                          "colorbar": {
                            "outlinewidth": 0,
                            "ticks": ""
                          }
                        },
                        "type": "scattergeo"
                      }
                    ],
                    "scattergl": [
                      {
                        "marker": {
                          "colorbar": {
                            "outlinewidth": 0,
                            "ticks": ""
                          }
                        },
                        "type": "scattergl"
                      }
                    ],
                    "scattermapbox": [
                      {
                        "marker": {
                          "colorbar": {
                            "outlinewidth": 0,
                            "ticks": ""
                          }
                        },
                        "type": "scattermapbox"
                      }
                    ],
                    "scatterpolar": [
                      {
                        "marker": {
                          "colorbar": {
                            "outlinewidth": 0,
                            "ticks": ""
                          }
                        },
                        "type": "scatterpolar"
                      }
                    ],
                    "scatterpolargl": [
                      {
                        "marker": {
                          "colorbar": {
                            "outlinewidth": 0,
                            "ticks": ""
                          }
                        },
                        "type": "scatterpolargl"
                      }
                    ],
                    "scatterternary": [
                      {
                        "marker": {
                          "colorbar": {
                            "outlinewidth": 0,
                            "ticks": ""
                          }
                        },
                        "type": "scatterternary"
                      }
                    ],
                    "surface": [
                      {
                        "colorbar": {
                          "outlinewidth": 0,
                          "ticks": ""
                        },
                        "colorscale": [
                          [
                            0,
                            "#0d0887"
                          ],
                          [
                            0.1111111111111111,
                            "#46039f"
                          ],
                          [
                            0.2222222222222222,
                            "#7201a8"
                          ],
                          [
                            0.3333333333333333,
                            "#9c179e"
                          ],
                          [
                            0.4444444444444444,
                            "#bd3786"
                          ],
                          [
                            0.5555555555555556,
                            "#d8576b"
                          ],
                          [
                            0.6666666666666666,
                            "#ed7953"
                          ],
                          [
                            0.7777777777777778,
                            "#fb9f3a"
                          ],
                          [
                            0.8888888888888888,
                            "#fdca26"
                          ],
                          [
                            1,
                            "#f0f921"
                          ]
                        ],
                        "type": "surface"
                      }
                    ],
                    "table": [
                      {
                        "cells": {
                          "fill": {
                            "color": "#EBF0F8"
                          },
                          "line": {
                            "color": "white"
                          }
                        },
                        "header": {
                          "fill": {
                            "color": "#C8D4E3"
                          },
                          "line": {
                            "color": "white"
                          }
                        },
                        "type": "table"
                      }
                    ]
                  },
                  "layout": {
                    "annotationdefaults": {
                      "arrowcolor": "#2a3f5f",
                      "arrowhead": 0,
                      "arrowwidth": 1
                    },
                    "autotypenumbers": "strict",
                    "coloraxis": {
                      "colorbar": {
                        "outlinewidth": 0,
                        "ticks": ""
                      }
                    },
                    "colorscale": {
                      "diverging": [
                        [
                          0,
                          "#8e0152"
                        ],
                        [
                          0.1,
                          "#c51b7d"
                        ],
                        [
                          0.2,
                          "#de77ae"
                        ],
                        [
                          0.3,
                          "#f1b6da"
                        ],
                        [
                          0.4,
                          "#fde0ef"
                        ],
                        [
                          0.5,
                          "#f7f7f7"
                        ],
                        [
                          0.6,
                          "#e6f5d0"
                        ],
                        [
                          0.7,
                          "#b8e186"
                        ],
                        [
                          0.8,
                          "#7fbc41"
                        ],
                        [
                          0.9,
                          "#4d9221"
                        ],
                        [
                          1,
                          "#276419"
                        ]
                      ],
                      "sequential": [
                        [
                          0,
                          "#0d0887"
                        ],
                        [
                          0.1111111111111111,
                          "#46039f"
                        ],
                        [
                          0.2222222222222222,
                          "#7201a8"
                        ],
                        [
                          0.3333333333333333,
                          "#9c179e"
                        ],
                        [
                          0.4444444444444444,
                          "#bd3786"
                        ],
                        [
                          0.5555555555555556,
                          "#d8576b"
                        ],
                        [
                          0.6666666666666666,
                          "#ed7953"
                        ],
                        [
                          0.7777777777777778,
                          "#fb9f3a"
                        ],
                        [
                          0.8888888888888888,
                          "#fdca26"
                        ],
                        [
                          1,
                          "#f0f921"
                        ]
                      ],
                      "sequentialminus": [
                        [
                          0,
                          "#0d0887"
                        ],
                        [
                          0.1111111111111111,
                          "#46039f"
                        ],
                        [
                          0.2222222222222222,
                          "#7201a8"
                        ],
                        [
                          0.3333333333333333,
                          "#9c179e"
                        ],
                        [
                          0.4444444444444444,
                          "#bd3786"
                        ],
                        [
                          0.5555555555555556,
                          "#d8576b"
                        ],
                        [
                          0.6666666666666666,
                          "#ed7953"
                        ],
                        [
                          0.7777777777777778,
                          "#fb9f3a"
                        ],
                        [
                          0.8888888888888888,
                          "#fdca26"
                        ],
                        [
                          1,
                          "#f0f921"
                        ]
                      ]
                    },
                    "colorway": [
                      "#636efa",
                      "#EF553B",
                      "#00cc96",
                      "#ab63fa",
                      "#FFA15A",
                      "#19d3f3",
                      "#FF6692",
                      "#B6E880",
                      "#FF97FF",
                      "#FECB52"
                    ],
                    "font": {
                      "color": "#2a3f5f"
                    },
                    "geo": {
                      "bgcolor": "white",
                      "lakecolor": "white",
                      "landcolor": "#E5ECF6",
                      "showlakes": true,
                      "showland": true,
                      "subunitcolor": "white"
                    },
                    "hoverlabel": {
                      "align": "left"
                    },
                    "hovermode": "closest",
                    "mapbox": {
                      "style": "light"
                    },
                    "paper_bgcolor": "white",
                    "plot_bgcolor": "#E5ECF6",
                    "polar": {
                      "angularaxis": {
                        "gridcolor": "white",
                        "linecolor": "white",
                        "ticks": ""
                      },
                      "bgcolor": "#E5ECF6",
                      "radialaxis": {
                        "gridcolor": "white",
                        "linecolor": "white",
                        "ticks": ""
                      }
                    },
                    "scene": {
                      "xaxis": {
                        "backgroundcolor": "#E5ECF6",
                        "gridcolor": "white",
                        "gridwidth": 2,
                        "linecolor": "white",
                        "showbackground": true,
                        "ticks": "",
                        "zerolinecolor": "white"
                      },
                      "yaxis": {
                        "backgroundcolor": "#E5ECF6",
                        "gridcolor": "white",
                        "gridwidth": 2,
                        "linecolor": "white",
                        "showbackground": true,
                        "ticks": "",
                        "zerolinecolor": "white"
                      },
                      "zaxis": {
                        "backgroundcolor": "#E5ECF6",
                        "gridcolor": "white",
                        "gridwidth": 2,
                        "linecolor": "white",
                        "showbackground": true,
                        "ticks": "",
                        "zerolinecolor": "white"
                      }
                    },
                    "shapedefaults": {
                      "line": {
                        "color": "#2a3f5f"
                      }
                    },
                    "ternary": {
                      "aaxis": {
                        "gridcolor": "white",
                        "linecolor": "white",
                        "ticks": ""
                      },
                      "baxis": {
                        "gridcolor": "white",
                        "linecolor": "white",
                        "ticks": ""
                      },
                      "bgcolor": "#E5ECF6",
                      "caxis": {
                        "gridcolor": "white",
                        "linecolor": "white",
                        "ticks": ""
                      }
                    },
                    "title": {
                      "x": 0.05
                    },
                    "xaxis": {
                      "automargin": true,
                      "gridcolor": "white",
                      "linecolor": "white",
                      "ticks": "",
                      "title": {
                        "standoff": 15
                      },
                      "zerolinecolor": "white",
                      "zerolinewidth": 2
                    },
                    "yaxis": {
                      "automargin": true,
                      "gridcolor": "white",
                      "linecolor": "white",
                      "ticks": "",
                      "title": {
                        "standoff": 15
                      },
                      "zerolinecolor": "white",
                      "zerolinewidth": 2
                    }
                  }
                },
                "xaxis": {
                  "anchor": "y",
                  "domain": [
                    0,
                    1
                  ]
                },
                "yaxis": {
                  "anchor": "x",
                  "domain": [
                    0,
                    1
                  ],
                  "title": {
                    "text": "score"
                  }
                }
              }
            }
          },
          "metadata": {},
          "output_type": "display_data"
        }
      ],
      "source": [
        "fig = px.box(\n",
        "    df_grades.melt(\n",
        "        value_vars=[\"math score\", \"reading score\", \"writing score\"],\n",
        "        var_name=\"subject\",\n",
        "        value_name=\"score\",\n",
        "    ),\n",
        "    y=\"score\",\n",
        "    color=\"subject\",\n",
        ")\n",
        "fig.show()"
      ]
    },
    {
      "cell_type": "markdown",
      "metadata": {
        "cell_id": "eab4740074cb4a818035f3746a79b30b",
        "deepnote_cell_height": 52.390625,
        "deepnote_cell_type": "markdown",
        "id": "mPmHNen3jZCX"
      },
      "source": [
        "**Justificación:**"
      ]
    },
    {
      "cell_type": "markdown",
      "metadata": {
        "cell_id": "51dc52b217f64189a37826648b802ac7",
        "deepnote_cell_height": 70.796875,
        "deepnote_cell_type": "markdown",
        "id": "uCK_RZEajZHI"
      },
      "source": [
        "```\n",
        "Escriba aquí su justificación\n",
        "```"
      ]
    },
    {
      "cell_type": "markdown",
      "metadata": {
        "cell_id": "e8bae7dfbd70490eacb49443d1ad8613",
        "deepnote_cell_height": 193.1875,
        "deepnote_cell_type": "markdown",
        "id": "2tnenh4uOF6k"
      },
      "source": [
        "## 3. Trabajando con Datos [2.0 puntos]"
      ]
    },
    {
      "cell_type": "markdown",
      "metadata": {
        "id": "gLfu_m8pvNoO"
      },
      "source": [
        "<p align=\"center\">\n",
        "  <img src=\"https://media3.giphy.com/media/YQitE4YNQNahy/giphy-downsized-large.gif\">\n",
        "</p>"
      ]
    },
    {
      "cell_type": "markdown",
      "metadata": {
        "cell_id": "a9957742e7854bd0a23a3c5add2c96ca",
        "deepnote_cell_height": 62,
        "deepnote_cell_type": "markdown",
        "id": "Qecw0sKor_Au"
      },
      "source": [
        "### 3.1 Transformación de notas a \"Nota Chilena\" [0.3 Puntos]"
      ]
    },
    {
      "cell_type": "markdown",
      "metadata": {
        "cell_id": "659f33b2de334546954b0a3f5fce0529",
        "deepnote_cell_height": 257.125,
        "deepnote_cell_type": "markdown",
        "id": "BfmD-9yi4PnX"
      },
      "source": [
        "En una de las reuniones con Don Caguayo este les comenta su intención de pasar todas sus notas a la \"Escala Chilena\". Para esto les facilita la siguiente ecuación:\n",
        "\n",
        "$$Nota \\, Chilena= \\% \\, de \\, logro*0.06 + 1$$\n",
        "\n",
        "Utilizando la ecuación entregada, cree una función que le permita pasar a la escala Chilena las notas del dataframe y entregue las notas redondeadas al segundo decimal.\n",
        "\n",
        "**To-Do**\n",
        "\n",
        "- [ ] Tranforme los valores a la escala chilena."
      ]
    },
    {
      "cell_type": "markdown",
      "metadata": {
        "cell_id": "7a81246b83064d0fbca407c670e66e0f",
        "deepnote_cell_height": 52.390625,
        "deepnote_cell_type": "markdown",
        "id": "QVtIpJzIAwXp",
        "tags": []
      },
      "source": [
        "**Respuesta:**"
      ]
    },
    {
      "cell_type": "code",
      "execution_count": 12,
      "metadata": {
        "cell_id": "cdc66a984fee4c99a59a65a3f62e5584",
        "deepnote_cell_type": "code",
        "deepnote_to_be_reexecuted": false,
        "execution_millis": 1,
        "execution_start": 1632493424541,
        "id": "GQ0gDEvd3T1m",
        "source_hash": "e84f9f19"
      },
      "outputs": [],
      "source": [
        "# Escriba su código aquí\n",
        "def nota_chilena(dataframe_in, columna):\n",
        "    dataframe_in[\"nota chilena \" + columna] = round(dataframe_in[columna] * 0.06 + 1, 2)\n"
      ]
    },
    {
      "cell_type": "code",
      "execution_count": 13,
      "metadata": {
        "id": "01AuIjxk15EI"
      },
      "outputs": [],
      "source": [
        "#Muestre sus resultados\n",
        "\n",
        "nota_chilena(df_grades,\"math score\")\n",
        "nota_chilena(df_grades,\"reading score\")\n",
        "nota_chilena(df_grades,\"writing score\")"
      ]
    },
    {
      "cell_type": "code",
      "execution_count": 14,
      "metadata": {
        "colab": {
          "base_uri": "https://localhost:8080/",
          "height": 649
        },
        "id": "6urBVCvNKCyo",
        "outputId": "eb4a7dc8-481a-44e2-cac0-06a5f07855e2"
      },
      "outputs": [
        {
          "data": {
            "text/html": [
              "<div>\n",
              "<style scoped>\n",
              "    .dataframe tbody tr th:only-of-type {\n",
              "        vertical-align: middle;\n",
              "    }\n",
              "\n",
              "    .dataframe tbody tr th {\n",
              "        vertical-align: top;\n",
              "    }\n",
              "\n",
              "    .dataframe thead th {\n",
              "        text-align: right;\n",
              "    }\n",
              "</style>\n",
              "<table border=\"1\" class=\"dataframe\">\n",
              "  <thead>\n",
              "    <tr style=\"text-align: right;\">\n",
              "      <th></th>\n",
              "      <th>names</th>\n",
              "      <th>gender</th>\n",
              "      <th>race/ethnicity</th>\n",
              "      <th>parental level of education</th>\n",
              "      <th>lunch</th>\n",
              "      <th>test preparation course</th>\n",
              "      <th>math score</th>\n",
              "      <th>reading score</th>\n",
              "      <th>writing score</th>\n",
              "      <th>nota chilena math score</th>\n",
              "      <th>nota chilena reading score</th>\n",
              "      <th>nota chilena writing score</th>\n",
              "    </tr>\n",
              "  </thead>\n",
              "  <tbody>\n",
              "    <tr>\n",
              "      <th>0</th>\n",
              "      <td>Rita Courtney</td>\n",
              "      <td>female</td>\n",
              "      <td>group B</td>\n",
              "      <td>some high school</td>\n",
              "      <td>standard</td>\n",
              "      <td>none</td>\n",
              "      <td>37.0</td>\n",
              "      <td>46.0</td>\n",
              "      <td>46.0</td>\n",
              "      <td>3.22</td>\n",
              "      <td>3.76</td>\n",
              "      <td>3.76</td>\n",
              "    </tr>\n",
              "    <tr>\n",
              "      <th>3</th>\n",
              "      <td>Charles Linstrom</td>\n",
              "      <td>male</td>\n",
              "      <td>group A</td>\n",
              "      <td>bachelor's degree</td>\n",
              "      <td>standard</td>\n",
              "      <td>completed</td>\n",
              "      <td>80.0</td>\n",
              "      <td>78.0</td>\n",
              "      <td>81.0</td>\n",
              "      <td>5.80</td>\n",
              "      <td>5.68</td>\n",
              "      <td>5.86</td>\n",
              "    </tr>\n",
              "    <tr>\n",
              "      <th>5</th>\n",
              "      <td>Brian Young</td>\n",
              "      <td>male</td>\n",
              "      <td>group C</td>\n",
              "      <td>some high school</td>\n",
              "      <td>standard</td>\n",
              "      <td>none</td>\n",
              "      <td>73.0</td>\n",
              "      <td>66.0</td>\n",
              "      <td>63.0</td>\n",
              "      <td>5.38</td>\n",
              "      <td>4.96</td>\n",
              "      <td>4.78</td>\n",
              "    </tr>\n",
              "    <tr>\n",
              "      <th>6</th>\n",
              "      <td>Howard Jimenez</td>\n",
              "      <td>male</td>\n",
              "      <td>group E</td>\n",
              "      <td>some high school</td>\n",
              "      <td>standard</td>\n",
              "      <td>completed</td>\n",
              "      <td>81.0</td>\n",
              "      <td>75.0</td>\n",
              "      <td>76.0</td>\n",
              "      <td>5.86</td>\n",
              "      <td>5.50</td>\n",
              "      <td>5.56</td>\n",
              "    </tr>\n",
              "    <tr>\n",
              "      <th>7</th>\n",
              "      <td>Wayne Wilson</td>\n",
              "      <td>male</td>\n",
              "      <td>group B</td>\n",
              "      <td>some high school</td>\n",
              "      <td>standard</td>\n",
              "      <td>completed</td>\n",
              "      <td>94.0</td>\n",
              "      <td>86.0</td>\n",
              "      <td>87.0</td>\n",
              "      <td>6.64</td>\n",
              "      <td>6.16</td>\n",
              "      <td>6.22</td>\n",
              "    </tr>\n",
              "    <tr>\n",
              "      <th>...</th>\n",
              "      <td>...</td>\n",
              "      <td>...</td>\n",
              "      <td>...</td>\n",
              "      <td>...</td>\n",
              "      <td>...</td>\n",
              "      <td>...</td>\n",
              "      <td>...</td>\n",
              "      <td>...</td>\n",
              "      <td>...</td>\n",
              "      <td>...</td>\n",
              "      <td>...</td>\n",
              "      <td>...</td>\n",
              "    </tr>\n",
              "    <tr>\n",
              "      <th>1392</th>\n",
              "      <td>Richard Young</td>\n",
              "      <td>male</td>\n",
              "      <td>group D</td>\n",
              "      <td>high school</td>\n",
              "      <td>standard</td>\n",
              "      <td>none</td>\n",
              "      <td>69.0</td>\n",
              "      <td>75.0</td>\n",
              "      <td>71.0</td>\n",
              "      <td>5.14</td>\n",
              "      <td>5.50</td>\n",
              "      <td>5.26</td>\n",
              "    </tr>\n",
              "    <tr>\n",
              "      <th>1394</th>\n",
              "      <td>Wanda Russell</td>\n",
              "      <td>female</td>\n",
              "      <td>group B</td>\n",
              "      <td>high school</td>\n",
              "      <td>free/reduced</td>\n",
              "      <td>completed</td>\n",
              "      <td>23.0</td>\n",
              "      <td>44.0</td>\n",
              "      <td>36.0</td>\n",
              "      <td>2.38</td>\n",
              "      <td>3.64</td>\n",
              "      <td>3.16</td>\n",
              "    </tr>\n",
              "    <tr>\n",
              "      <th>1396</th>\n",
              "      <td>Marina Zeigler</td>\n",
              "      <td>female</td>\n",
              "      <td>group C</td>\n",
              "      <td>bachelor's degree</td>\n",
              "      <td>free/reduced</td>\n",
              "      <td>completed</td>\n",
              "      <td>66.0</td>\n",
              "      <td>74.0</td>\n",
              "      <td>81.0</td>\n",
              "      <td>4.96</td>\n",
              "      <td>5.44</td>\n",
              "      <td>5.86</td>\n",
              "    </tr>\n",
              "    <tr>\n",
              "      <th>1397</th>\n",
              "      <td>Laurie Carter</td>\n",
              "      <td>female</td>\n",
              "      <td>group B</td>\n",
              "      <td>some high school</td>\n",
              "      <td>standard</td>\n",
              "      <td>completed</td>\n",
              "      <td>54.0</td>\n",
              "      <td>61.0</td>\n",
              "      <td>62.0</td>\n",
              "      <td>4.24</td>\n",
              "      <td>4.66</td>\n",
              "      <td>4.72</td>\n",
              "    </tr>\n",
              "    <tr>\n",
              "      <th>1399</th>\n",
              "      <td>Amanda Perez</td>\n",
              "      <td>female</td>\n",
              "      <td>group A</td>\n",
              "      <td>high school</td>\n",
              "      <td>standard</td>\n",
              "      <td>completed</td>\n",
              "      <td>68.0</td>\n",
              "      <td>80.0</td>\n",
              "      <td>76.0</td>\n",
              "      <td>5.08</td>\n",
              "      <td>5.80</td>\n",
              "      <td>5.56</td>\n",
              "    </tr>\n",
              "  </tbody>\n",
              "</table>\n",
              "<p>875 rows × 12 columns</p>\n",
              "</div>"
            ],
            "text/plain": [
              "                 names  gender race/ethnicity parental level of education  \\\n",
              "0        Rita Courtney  female        group B            some high school   \n",
              "3     Charles Linstrom    male        group A           bachelor's degree   \n",
              "5          Brian Young    male        group C            some high school   \n",
              "6       Howard Jimenez    male        group E            some high school   \n",
              "7         Wayne Wilson    male        group B            some high school   \n",
              "...                ...     ...            ...                         ...   \n",
              "1392     Richard Young    male        group D                 high school   \n",
              "1394     Wanda Russell  female        group B                 high school   \n",
              "1396    Marina Zeigler  female        group C           bachelor's degree   \n",
              "1397     Laurie Carter  female        group B            some high school   \n",
              "1399      Amanda Perez  female        group A                 high school   \n",
              "\n",
              "             lunch test preparation course  math score  reading score  \\\n",
              "0         standard                    none        37.0           46.0   \n",
              "3         standard               completed        80.0           78.0   \n",
              "5         standard                    none        73.0           66.0   \n",
              "6         standard               completed        81.0           75.0   \n",
              "7         standard               completed        94.0           86.0   \n",
              "...            ...                     ...         ...            ...   \n",
              "1392      standard                    none        69.0           75.0   \n",
              "1394  free/reduced               completed        23.0           44.0   \n",
              "1396  free/reduced               completed        66.0           74.0   \n",
              "1397      standard               completed        54.0           61.0   \n",
              "1399      standard               completed        68.0           80.0   \n",
              "\n",
              "      writing score  nota chilena math score  nota chilena reading score  \\\n",
              "0              46.0                     3.22                        3.76   \n",
              "3              81.0                     5.80                        5.68   \n",
              "5              63.0                     5.38                        4.96   \n",
              "6              76.0                     5.86                        5.50   \n",
              "7              87.0                     6.64                        6.16   \n",
              "...             ...                      ...                         ...   \n",
              "1392           71.0                     5.14                        5.50   \n",
              "1394           36.0                     2.38                        3.64   \n",
              "1396           81.0                     4.96                        5.44   \n",
              "1397           62.0                     4.24                        4.66   \n",
              "1399           76.0                     5.08                        5.80   \n",
              "\n",
              "      nota chilena writing score  \n",
              "0                           3.76  \n",
              "3                           5.86  \n",
              "5                           4.78  \n",
              "6                           5.56  \n",
              "7                           6.22  \n",
              "...                          ...  \n",
              "1392                        5.26  \n",
              "1394                        3.16  \n",
              "1396                        5.86  \n",
              "1397                        4.72  \n",
              "1399                        5.56  \n",
              "\n",
              "[875 rows x 12 columns]"
            ]
          },
          "metadata": {},
          "output_type": "display_data"
        }
      ],
      "source": [
        "display(df_grades)"
      ]
    },
    {
      "cell_type": "markdown",
      "metadata": {
        "cell_id": "2f4593d6c7f74bbaa53ff4e09705f58d",
        "deepnote_cell_height": 62,
        "deepnote_cell_type": "markdown",
        "id": "QGe-Hb2UTAE1"
      },
      "source": [
        "### 3.2 Obtención de promedio de alumnos [0.3 Puntos]"
      ]
    },
    {
      "cell_type": "markdown",
      "metadata": {
        "cell_id": "7cfad230b8d54077a882557ffbf7a0fa",
        "deepnote_cell_height": 228.796875,
        "deepnote_cell_type": "markdown",
        "id": "AEkWI5K-OZgt"
      },
      "source": [
        "Con todas las notas adjuntadas, la prestigiosa Universidad De la Cachaña necesita obtener el promedio general de cada uno de los alumnos. Para esto se le solicita que calcule el promedio con cada una de las asignaturas y el promedio se anexe como una nueva columna al final del `DataFrame` original. Cabe señalar que las notas deben ser redondeadas al segundo decimal.\n",
        "\n",
        "**To-Do:**\n",
        "- [ ] Crear función que nos permite obtener el promedio de cada uno de los alumnos y anexar esta información en el `DataFrame` original.\n"
      ]
    },
    {
      "cell_type": "markdown",
      "metadata": {
        "cell_id": "f3ac369f88dd4fb49ff0a0eb7c8aa2f8",
        "deepnote_cell_height": 52.390625,
        "deepnote_cell_type": "markdown",
        "id": "voDrGGV1AwXq",
        "tags": []
      },
      "source": [
        "**Respuesta:**"
      ]
    },
    {
      "cell_type": "code",
      "execution_count": 15,
      "metadata": {
        "cell_id": "bc30e6c0196f4efb8b70269a4b4488e6",
        "deepnote_cell_type": "code",
        "deepnote_to_be_reexecuted": false,
        "execution_millis": 0,
        "execution_start": 1632493424597,
        "id": "b6CTPp5TAMhE",
        "source_hash": "810948b"
      },
      "outputs": [],
      "source": [
        "#Escriba su código aquí\n",
        "def alumnos_promedio(dataframe_in):\n",
        "    dataframe_in[\"nota chilena Promedio\"] = round((dataframe_in[\"nota chilena math score\"] + dataframe_in[\"nota chilena reading score\"] + dataframe_in[\"nota chilena writing score\"]) / 3, 2)\n",
        "    return dataframe_in"
      ]
    },
    {
      "cell_type": "code",
      "execution_count": 16,
      "metadata": {
        "colab": {
          "base_uri": "https://localhost:8080/",
          "height": 345
        },
        "id": "0luGG_4915EL",
        "outputId": "763b5629-de7a-4c83-abe0-08ff71ac8d60"
      },
      "outputs": [
        {
          "data": {
            "text/html": [
              "<div>\n",
              "<style scoped>\n",
              "    .dataframe tbody tr th:only-of-type {\n",
              "        vertical-align: middle;\n",
              "    }\n",
              "\n",
              "    .dataframe tbody tr th {\n",
              "        vertical-align: top;\n",
              "    }\n",
              "\n",
              "    .dataframe thead th {\n",
              "        text-align: right;\n",
              "    }\n",
              "</style>\n",
              "<table border=\"1\" class=\"dataframe\">\n",
              "  <thead>\n",
              "    <tr style=\"text-align: right;\">\n",
              "      <th></th>\n",
              "      <th>names</th>\n",
              "      <th>gender</th>\n",
              "      <th>race/ethnicity</th>\n",
              "      <th>parental level of education</th>\n",
              "      <th>lunch</th>\n",
              "      <th>test preparation course</th>\n",
              "      <th>math score</th>\n",
              "      <th>reading score</th>\n",
              "      <th>writing score</th>\n",
              "      <th>nota chilena math score</th>\n",
              "      <th>nota chilena reading score</th>\n",
              "      <th>nota chilena writing score</th>\n",
              "      <th>nota chilena Promedio</th>\n",
              "    </tr>\n",
              "  </thead>\n",
              "  <tbody>\n",
              "    <tr>\n",
              "      <th>0</th>\n",
              "      <td>Rita Courtney</td>\n",
              "      <td>female</td>\n",
              "      <td>group B</td>\n",
              "      <td>some high school</td>\n",
              "      <td>standard</td>\n",
              "      <td>none</td>\n",
              "      <td>37.0</td>\n",
              "      <td>46.0</td>\n",
              "      <td>46.0</td>\n",
              "      <td>3.22</td>\n",
              "      <td>3.76</td>\n",
              "      <td>3.76</td>\n",
              "      <td>3.58</td>\n",
              "    </tr>\n",
              "    <tr>\n",
              "      <th>3</th>\n",
              "      <td>Charles Linstrom</td>\n",
              "      <td>male</td>\n",
              "      <td>group A</td>\n",
              "      <td>bachelor's degree</td>\n",
              "      <td>standard</td>\n",
              "      <td>completed</td>\n",
              "      <td>80.0</td>\n",
              "      <td>78.0</td>\n",
              "      <td>81.0</td>\n",
              "      <td>5.80</td>\n",
              "      <td>5.68</td>\n",
              "      <td>5.86</td>\n",
              "      <td>5.78</td>\n",
              "    </tr>\n",
              "    <tr>\n",
              "      <th>5</th>\n",
              "      <td>Brian Young</td>\n",
              "      <td>male</td>\n",
              "      <td>group C</td>\n",
              "      <td>some high school</td>\n",
              "      <td>standard</td>\n",
              "      <td>none</td>\n",
              "      <td>73.0</td>\n",
              "      <td>66.0</td>\n",
              "      <td>63.0</td>\n",
              "      <td>5.38</td>\n",
              "      <td>4.96</td>\n",
              "      <td>4.78</td>\n",
              "      <td>5.04</td>\n",
              "    </tr>\n",
              "    <tr>\n",
              "      <th>6</th>\n",
              "      <td>Howard Jimenez</td>\n",
              "      <td>male</td>\n",
              "      <td>group E</td>\n",
              "      <td>some high school</td>\n",
              "      <td>standard</td>\n",
              "      <td>completed</td>\n",
              "      <td>81.0</td>\n",
              "      <td>75.0</td>\n",
              "      <td>76.0</td>\n",
              "      <td>5.86</td>\n",
              "      <td>5.50</td>\n",
              "      <td>5.56</td>\n",
              "      <td>5.64</td>\n",
              "    </tr>\n",
              "    <tr>\n",
              "      <th>7</th>\n",
              "      <td>Wayne Wilson</td>\n",
              "      <td>male</td>\n",
              "      <td>group B</td>\n",
              "      <td>some high school</td>\n",
              "      <td>standard</td>\n",
              "      <td>completed</td>\n",
              "      <td>94.0</td>\n",
              "      <td>86.0</td>\n",
              "      <td>87.0</td>\n",
              "      <td>6.64</td>\n",
              "      <td>6.16</td>\n",
              "      <td>6.22</td>\n",
              "      <td>6.34</td>\n",
              "    </tr>\n",
              "  </tbody>\n",
              "</table>\n",
              "</div>"
            ],
            "text/plain": [
              "              names  gender race/ethnicity parental level of education  \\\n",
              "0     Rita Courtney  female        group B            some high school   \n",
              "3  Charles Linstrom    male        group A           bachelor's degree   \n",
              "5       Brian Young    male        group C            some high school   \n",
              "6    Howard Jimenez    male        group E            some high school   \n",
              "7      Wayne Wilson    male        group B            some high school   \n",
              "\n",
              "      lunch test preparation course  math score  reading score  writing score  \\\n",
              "0  standard                    none        37.0           46.0           46.0   \n",
              "3  standard               completed        80.0           78.0           81.0   \n",
              "5  standard                    none        73.0           66.0           63.0   \n",
              "6  standard               completed        81.0           75.0           76.0   \n",
              "7  standard               completed        94.0           86.0           87.0   \n",
              "\n",
              "   nota chilena math score  nota chilena reading score  \\\n",
              "0                     3.22                        3.76   \n",
              "3                     5.80                        5.68   \n",
              "5                     5.38                        4.96   \n",
              "6                     5.86                        5.50   \n",
              "7                     6.64                        6.16   \n",
              "\n",
              "   nota chilena writing score  nota chilena Promedio  \n",
              "0                        3.76                   3.58  \n",
              "3                        5.86                   5.78  \n",
              "5                        4.78                   5.04  \n",
              "6                        5.56                   5.64  \n",
              "7                        6.22                   6.34  "
            ]
          },
          "execution_count": 16,
          "metadata": {},
          "output_type": "execute_result"
        }
      ],
      "source": [
        "#Muestre sus resultados aquí\n",
        "df_grades = alumnos_promedio(df_grades)\n",
        "df_grades.head()"
      ]
    },
    {
      "cell_type": "markdown",
      "metadata": {
        "cell_id": "c21b246e4e69406bae62ef84a2622606",
        "deepnote_cell_height": 62,
        "deepnote_cell_type": "markdown",
        "id": "uA0ZXAWyBoLX"
      },
      "source": [
        "### 3.3 Reprobados y Destacados [0.9 Puntos, 0.3 cada DataFrame]"
      ]
    },
    {
      "cell_type": "markdown",
      "metadata": {
        "cell_id": "ace5ce3428164715950dec02f0238769",
        "deepnote_cell_height": 403.1875,
        "deepnote_cell_type": "markdown",
        "id": "k1FKahC3_g5_"
      },
      "source": [
        "Contentos con su desempeño, la Universidad les solicita que obtengan los alumnos quienes han reprobado el año y los que han tenido desempeño de destacado. Para esto se considerará que un alumno ha reprobado el año cuando el promedio de notas es inferior a 4.0 en la Escala Chilena, y se considerará destacado si posee notas superiores a 5.8 en todas las asignaturas (o sea notas superiores a 5.8 en `math score`, `reading score` y `writing score`).\n",
        "\n",
        "Cree una función que permita obtener tres Dataframes:\n",
        "- El primero deberá poseer solamente los alumnos que han reprobado en la prestigiosa universidad.\n",
        "- El segundo debe entregar un DataFrame similar al original, pero marcado con una \"R\" el promedio de notas de los alumnos reprobados.\n",
        "- El tercero será un Data Frame con los alumnos destacados ordenados de mayor a menor.\n",
        "\n",
        "**To-Do:**\n",
        "\n",
        "- [ ] Obtener DataFrame con los alumnos que reprobaron el año.\n",
        "- [ ] Obtener DataFrame similar al original, pero marcados con una \"R\" el atributo GPA de los alumnos reprobados.\n",
        "- [ ] Obtener DataFrame con los alumnos destacados ordenados de mayor a menor."
      ]
    },
    {
      "cell_type": "markdown",
      "metadata": {
        "cell_id": "2405a5e38bad45d08d0b57c2d91e9b5e",
        "deepnote_cell_height": 52.390625,
        "deepnote_cell_type": "markdown",
        "id": "ExtqMtcEAwXs",
        "tags": []
      },
      "source": [
        "**Respuesta:**"
      ]
    },
    {
      "cell_type": "code",
      "execution_count": 17,
      "metadata": {
        "cell_id": "ce545f96b454485dbe5f54451ada1c0f",
        "deepnote_cell_type": "code",
        "deepnote_to_be_reexecuted": false,
        "execution_millis": 2,
        "execution_start": 1632493424637,
        "id": "Yw52wzwMAXHW",
        "source_hash": "e3c68478"
      },
      "outputs": [],
      "source": [
        "#Escriba su código aquí\n",
        "def reprobados_destacados(dataframe_in):\n",
        "  dataframe_reprobados = dataframe_in[dataframe_in[\"nota chilena Promedio\"] < 4.0]\n",
        "\n",
        "  dataframe_R = dataframe_in.copy()\n",
        "  dataframe_R['nota chilena Promedio'] =  dataframe_R['nota chilena Promedio'].apply(lambda x: 'R' if x < 4 else x)\n",
        "\n",
        "  dataframe_destacados = dataframe_in[(dataframe_in[\"nota chilena math score\"] > 5.8) &\n",
        "                              (dataframe_in[\"nota chilena reading score\"] > 5.8) &\n",
        "                              (dataframe_in[\"nota chilena writing score\"] > 5.8)]\n",
        "\n",
        "  dataframe_destacados = dataframe_destacados.sort_values(by=\"nota chilena Promedio\", ascending=False)\n",
        "  return dataframe_reprobados, dataframe_R, dataframe_destacados"
      ]
    },
    {
      "cell_type": "code",
      "execution_count": 18,
      "metadata": {
        "cell_id": "a3751ec6cfa249f6b51ff767666c754b",
        "colab": {
          "base_uri": "https://localhost:8080/",
          "height": 1000
        },
        "deepnote_cell_type": "code",
        "deepnote_to_be_reexecuted": false,
        "execution_millis": 69,
        "execution_start": 1632493424642,
        "id": "LlxNXK11XBGn",
        "outputId": "ec38232c-213c-4385-f460-9063f40c8fa2",
        "source_hash": "73b6de2"
      },
      "outputs": [
        {
          "data": {
            "text/html": [
              "<div>\n",
              "<style scoped>\n",
              "    .dataframe tbody tr th:only-of-type {\n",
              "        vertical-align: middle;\n",
              "    }\n",
              "\n",
              "    .dataframe tbody tr th {\n",
              "        vertical-align: top;\n",
              "    }\n",
              "\n",
              "    .dataframe thead th {\n",
              "        text-align: right;\n",
              "    }\n",
              "</style>\n",
              "<table border=\"1\" class=\"dataframe\">\n",
              "  <thead>\n",
              "    <tr style=\"text-align: right;\">\n",
              "      <th></th>\n",
              "      <th>names</th>\n",
              "      <th>gender</th>\n",
              "      <th>race/ethnicity</th>\n",
              "      <th>parental level of education</th>\n",
              "      <th>lunch</th>\n",
              "      <th>test preparation course</th>\n",
              "      <th>math score</th>\n",
              "      <th>reading score</th>\n",
              "      <th>writing score</th>\n",
              "      <th>nota chilena math score</th>\n",
              "      <th>nota chilena reading score</th>\n",
              "      <th>nota chilena writing score</th>\n",
              "      <th>nota chilena Promedio</th>\n",
              "    </tr>\n",
              "  </thead>\n",
              "  <tbody>\n",
              "    <tr>\n",
              "      <th>0</th>\n",
              "      <td>Rita Courtney</td>\n",
              "      <td>female</td>\n",
              "      <td>group B</td>\n",
              "      <td>some high school</td>\n",
              "      <td>standard</td>\n",
              "      <td>none</td>\n",
              "      <td>37.0</td>\n",
              "      <td>46.0</td>\n",
              "      <td>46.0</td>\n",
              "      <td>3.22</td>\n",
              "      <td>3.76</td>\n",
              "      <td>3.76</td>\n",
              "      <td>3.58</td>\n",
              "    </tr>\n",
              "    <tr>\n",
              "      <th>13</th>\n",
              "      <td>Mikki Amaya</td>\n",
              "      <td>female</td>\n",
              "      <td>group A</td>\n",
              "      <td>high school</td>\n",
              "      <td>free/reduced</td>\n",
              "      <td>completed</td>\n",
              "      <td>34.0</td>\n",
              "      <td>48.0</td>\n",
              "      <td>41.0</td>\n",
              "      <td>3.04</td>\n",
              "      <td>3.88</td>\n",
              "      <td>3.46</td>\n",
              "      <td>3.46</td>\n",
              "    </tr>\n",
              "    <tr>\n",
              "      <th>26</th>\n",
              "      <td>Samuel Dougal</td>\n",
              "      <td>male</td>\n",
              "      <td>group C</td>\n",
              "      <td>master's degree</td>\n",
              "      <td>free/reduced</td>\n",
              "      <td>completed</td>\n",
              "      <td>46.0</td>\n",
              "      <td>42.0</td>\n",
              "      <td>46.0</td>\n",
              "      <td>3.76</td>\n",
              "      <td>3.52</td>\n",
              "      <td>3.76</td>\n",
              "      <td>3.68</td>\n",
              "    </tr>\n",
              "    <tr>\n",
              "      <th>55</th>\n",
              "      <td>Rodger Talavera</td>\n",
              "      <td>male</td>\n",
              "      <td>group B</td>\n",
              "      <td>high school</td>\n",
              "      <td>free/reduced</td>\n",
              "      <td>none</td>\n",
              "      <td>36.0</td>\n",
              "      <td>29.0</td>\n",
              "      <td>27.0</td>\n",
              "      <td>3.16</td>\n",
              "      <td>2.74</td>\n",
              "      <td>2.62</td>\n",
              "      <td>2.84</td>\n",
              "    </tr>\n",
              "    <tr>\n",
              "      <th>63</th>\n",
              "      <td>Morris Johnson</td>\n",
              "      <td>male</td>\n",
              "      <td>group A</td>\n",
              "      <td>associate's degree</td>\n",
              "      <td>free/reduced</td>\n",
              "      <td>completed</td>\n",
              "      <td>40.0</td>\n",
              "      <td>55.0</td>\n",
              "      <td>53.0</td>\n",
              "      <td>3.40</td>\n",
              "      <td>4.30</td>\n",
              "      <td>4.18</td>\n",
              "      <td>3.96</td>\n",
              "    </tr>\n",
              "    <tr>\n",
              "      <th>...</th>\n",
              "      <td>...</td>\n",
              "      <td>...</td>\n",
              "      <td>...</td>\n",
              "      <td>...</td>\n",
              "      <td>...</td>\n",
              "      <td>...</td>\n",
              "      <td>...</td>\n",
              "      <td>...</td>\n",
              "      <td>...</td>\n",
              "      <td>...</td>\n",
              "      <td>...</td>\n",
              "      <td>...</td>\n",
              "      <td>...</td>\n",
              "    </tr>\n",
              "    <tr>\n",
              "      <th>1371</th>\n",
              "      <td>Charles Harian</td>\n",
              "      <td>male</td>\n",
              "      <td>group C</td>\n",
              "      <td>some high school</td>\n",
              "      <td>free/reduced</td>\n",
              "      <td>completed</td>\n",
              "      <td>45.0</td>\n",
              "      <td>52.0</td>\n",
              "      <td>49.0</td>\n",
              "      <td>3.70</td>\n",
              "      <td>4.12</td>\n",
              "      <td>3.94</td>\n",
              "      <td>3.92</td>\n",
              "    </tr>\n",
              "    <tr>\n",
              "      <th>1373</th>\n",
              "      <td>Wendy Gunnell</td>\n",
              "      <td>female</td>\n",
              "      <td>group D</td>\n",
              "      <td>some high school</td>\n",
              "      <td>free/reduced</td>\n",
              "      <td>none</td>\n",
              "      <td>27.0</td>\n",
              "      <td>34.0</td>\n",
              "      <td>32.0</td>\n",
              "      <td>2.62</td>\n",
              "      <td>3.04</td>\n",
              "      <td>2.92</td>\n",
              "      <td>2.86</td>\n",
              "    </tr>\n",
              "    <tr>\n",
              "      <th>1389</th>\n",
              "      <td>Diana Costa</td>\n",
              "      <td>female</td>\n",
              "      <td>group C</td>\n",
              "      <td>high school</td>\n",
              "      <td>free/reduced</td>\n",
              "      <td>none</td>\n",
              "      <td>41.0</td>\n",
              "      <td>46.0</td>\n",
              "      <td>43.0</td>\n",
              "      <td>3.46</td>\n",
              "      <td>3.76</td>\n",
              "      <td>3.58</td>\n",
              "      <td>3.60</td>\n",
              "    </tr>\n",
              "    <tr>\n",
              "      <th>1391</th>\n",
              "      <td>Amy Sieving</td>\n",
              "      <td>female</td>\n",
              "      <td>group C</td>\n",
              "      <td>high school</td>\n",
              "      <td>standard</td>\n",
              "      <td>none</td>\n",
              "      <td>29.0</td>\n",
              "      <td>29.0</td>\n",
              "      <td>30.0</td>\n",
              "      <td>2.74</td>\n",
              "      <td>2.74</td>\n",
              "      <td>2.80</td>\n",
              "      <td>2.76</td>\n",
              "    </tr>\n",
              "    <tr>\n",
              "      <th>1394</th>\n",
              "      <td>Wanda Russell</td>\n",
              "      <td>female</td>\n",
              "      <td>group B</td>\n",
              "      <td>high school</td>\n",
              "      <td>free/reduced</td>\n",
              "      <td>completed</td>\n",
              "      <td>23.0</td>\n",
              "      <td>44.0</td>\n",
              "      <td>36.0</td>\n",
              "      <td>2.38</td>\n",
              "      <td>3.64</td>\n",
              "      <td>3.16</td>\n",
              "      <td>3.06</td>\n",
              "    </tr>\n",
              "  </tbody>\n",
              "</table>\n",
              "<p>86 rows × 13 columns</p>\n",
              "</div>"
            ],
            "text/plain": [
              "                names  gender race/ethnicity parental level of education  \\\n",
              "0       Rita Courtney  female        group B            some high school   \n",
              "13        Mikki Amaya  female        group A                 high school   \n",
              "26      Samuel Dougal    male        group C             master's degree   \n",
              "55    Rodger Talavera    male        group B                 high school   \n",
              "63     Morris Johnson    male        group A          associate's degree   \n",
              "...               ...     ...            ...                         ...   \n",
              "1371   Charles Harian    male        group C            some high school   \n",
              "1373    Wendy Gunnell  female        group D            some high school   \n",
              "1389      Diana Costa  female        group C                 high school   \n",
              "1391      Amy Sieving  female        group C                 high school   \n",
              "1394    Wanda Russell  female        group B                 high school   \n",
              "\n",
              "             lunch test preparation course  math score  reading score  \\\n",
              "0         standard                    none        37.0           46.0   \n",
              "13    free/reduced               completed        34.0           48.0   \n",
              "26    free/reduced               completed        46.0           42.0   \n",
              "55    free/reduced                    none        36.0           29.0   \n",
              "63    free/reduced               completed        40.0           55.0   \n",
              "...            ...                     ...         ...            ...   \n",
              "1371  free/reduced               completed        45.0           52.0   \n",
              "1373  free/reduced                    none        27.0           34.0   \n",
              "1389  free/reduced                    none        41.0           46.0   \n",
              "1391      standard                    none        29.0           29.0   \n",
              "1394  free/reduced               completed        23.0           44.0   \n",
              "\n",
              "      writing score  nota chilena math score  nota chilena reading score  \\\n",
              "0              46.0                     3.22                        3.76   \n",
              "13             41.0                     3.04                        3.88   \n",
              "26             46.0                     3.76                        3.52   \n",
              "55             27.0                     3.16                        2.74   \n",
              "63             53.0                     3.40                        4.30   \n",
              "...             ...                      ...                         ...   \n",
              "1371           49.0                     3.70                        4.12   \n",
              "1373           32.0                     2.62                        3.04   \n",
              "1389           43.0                     3.46                        3.76   \n",
              "1391           30.0                     2.74                        2.74   \n",
              "1394           36.0                     2.38                        3.64   \n",
              "\n",
              "      nota chilena writing score  nota chilena Promedio  \n",
              "0                           3.76                   3.58  \n",
              "13                          3.46                   3.46  \n",
              "26                          3.76                   3.68  \n",
              "55                          2.62                   2.84  \n",
              "63                          4.18                   3.96  \n",
              "...                          ...                    ...  \n",
              "1371                        3.94                   3.92  \n",
              "1373                        2.92                   2.86  \n",
              "1389                        3.58                   3.60  \n",
              "1391                        2.80                   2.76  \n",
              "1394                        3.16                   3.06  \n",
              "\n",
              "[86 rows x 13 columns]"
            ]
          },
          "metadata": {},
          "output_type": "display_data"
        },
        {
          "data": {
            "text/html": [
              "<div>\n",
              "<style scoped>\n",
              "    .dataframe tbody tr th:only-of-type {\n",
              "        vertical-align: middle;\n",
              "    }\n",
              "\n",
              "    .dataframe tbody tr th {\n",
              "        vertical-align: top;\n",
              "    }\n",
              "\n",
              "    .dataframe thead th {\n",
              "        text-align: right;\n",
              "    }\n",
              "</style>\n",
              "<table border=\"1\" class=\"dataframe\">\n",
              "  <thead>\n",
              "    <tr style=\"text-align: right;\">\n",
              "      <th></th>\n",
              "      <th>names</th>\n",
              "      <th>gender</th>\n",
              "      <th>race/ethnicity</th>\n",
              "      <th>parental level of education</th>\n",
              "      <th>lunch</th>\n",
              "      <th>test preparation course</th>\n",
              "      <th>math score</th>\n",
              "      <th>reading score</th>\n",
              "      <th>writing score</th>\n",
              "      <th>nota chilena math score</th>\n",
              "      <th>nota chilena reading score</th>\n",
              "      <th>nota chilena writing score</th>\n",
              "      <th>nota chilena Promedio</th>\n",
              "    </tr>\n",
              "  </thead>\n",
              "  <tbody>\n",
              "    <tr>\n",
              "      <th>0</th>\n",
              "      <td>Rita Courtney</td>\n",
              "      <td>female</td>\n",
              "      <td>group B</td>\n",
              "      <td>some high school</td>\n",
              "      <td>standard</td>\n",
              "      <td>none</td>\n",
              "      <td>37.0</td>\n",
              "      <td>46.0</td>\n",
              "      <td>46.0</td>\n",
              "      <td>3.22</td>\n",
              "      <td>3.76</td>\n",
              "      <td>3.76</td>\n",
              "      <td>R</td>\n",
              "    </tr>\n",
              "    <tr>\n",
              "      <th>3</th>\n",
              "      <td>Charles Linstrom</td>\n",
              "      <td>male</td>\n",
              "      <td>group A</td>\n",
              "      <td>bachelor's degree</td>\n",
              "      <td>standard</td>\n",
              "      <td>completed</td>\n",
              "      <td>80.0</td>\n",
              "      <td>78.0</td>\n",
              "      <td>81.0</td>\n",
              "      <td>5.80</td>\n",
              "      <td>5.68</td>\n",
              "      <td>5.86</td>\n",
              "      <td>5.78</td>\n",
              "    </tr>\n",
              "    <tr>\n",
              "      <th>5</th>\n",
              "      <td>Brian Young</td>\n",
              "      <td>male</td>\n",
              "      <td>group C</td>\n",
              "      <td>some high school</td>\n",
              "      <td>standard</td>\n",
              "      <td>none</td>\n",
              "      <td>73.0</td>\n",
              "      <td>66.0</td>\n",
              "      <td>63.0</td>\n",
              "      <td>5.38</td>\n",
              "      <td>4.96</td>\n",
              "      <td>4.78</td>\n",
              "      <td>5.04</td>\n",
              "    </tr>\n",
              "    <tr>\n",
              "      <th>6</th>\n",
              "      <td>Howard Jimenez</td>\n",
              "      <td>male</td>\n",
              "      <td>group E</td>\n",
              "      <td>some high school</td>\n",
              "      <td>standard</td>\n",
              "      <td>completed</td>\n",
              "      <td>81.0</td>\n",
              "      <td>75.0</td>\n",
              "      <td>76.0</td>\n",
              "      <td>5.86</td>\n",
              "      <td>5.50</td>\n",
              "      <td>5.56</td>\n",
              "      <td>5.64</td>\n",
              "    </tr>\n",
              "    <tr>\n",
              "      <th>7</th>\n",
              "      <td>Wayne Wilson</td>\n",
              "      <td>male</td>\n",
              "      <td>group B</td>\n",
              "      <td>some high school</td>\n",
              "      <td>standard</td>\n",
              "      <td>completed</td>\n",
              "      <td>94.0</td>\n",
              "      <td>86.0</td>\n",
              "      <td>87.0</td>\n",
              "      <td>6.64</td>\n",
              "      <td>6.16</td>\n",
              "      <td>6.22</td>\n",
              "      <td>6.34</td>\n",
              "    </tr>\n",
              "    <tr>\n",
              "      <th>...</th>\n",
              "      <td>...</td>\n",
              "      <td>...</td>\n",
              "      <td>...</td>\n",
              "      <td>...</td>\n",
              "      <td>...</td>\n",
              "      <td>...</td>\n",
              "      <td>...</td>\n",
              "      <td>...</td>\n",
              "      <td>...</td>\n",
              "      <td>...</td>\n",
              "      <td>...</td>\n",
              "      <td>...</td>\n",
              "      <td>...</td>\n",
              "    </tr>\n",
              "    <tr>\n",
              "      <th>1392</th>\n",
              "      <td>Richard Young</td>\n",
              "      <td>male</td>\n",
              "      <td>group D</td>\n",
              "      <td>high school</td>\n",
              "      <td>standard</td>\n",
              "      <td>none</td>\n",
              "      <td>69.0</td>\n",
              "      <td>75.0</td>\n",
              "      <td>71.0</td>\n",
              "      <td>5.14</td>\n",
              "      <td>5.50</td>\n",
              "      <td>5.26</td>\n",
              "      <td>5.3</td>\n",
              "    </tr>\n",
              "    <tr>\n",
              "      <th>1394</th>\n",
              "      <td>Wanda Russell</td>\n",
              "      <td>female</td>\n",
              "      <td>group B</td>\n",
              "      <td>high school</td>\n",
              "      <td>free/reduced</td>\n",
              "      <td>completed</td>\n",
              "      <td>23.0</td>\n",
              "      <td>44.0</td>\n",
              "      <td>36.0</td>\n",
              "      <td>2.38</td>\n",
              "      <td>3.64</td>\n",
              "      <td>3.16</td>\n",
              "      <td>R</td>\n",
              "    </tr>\n",
              "    <tr>\n",
              "      <th>1396</th>\n",
              "      <td>Marina Zeigler</td>\n",
              "      <td>female</td>\n",
              "      <td>group C</td>\n",
              "      <td>bachelor's degree</td>\n",
              "      <td>free/reduced</td>\n",
              "      <td>completed</td>\n",
              "      <td>66.0</td>\n",
              "      <td>74.0</td>\n",
              "      <td>81.0</td>\n",
              "      <td>4.96</td>\n",
              "      <td>5.44</td>\n",
              "      <td>5.86</td>\n",
              "      <td>5.42</td>\n",
              "    </tr>\n",
              "    <tr>\n",
              "      <th>1397</th>\n",
              "      <td>Laurie Carter</td>\n",
              "      <td>female</td>\n",
              "      <td>group B</td>\n",
              "      <td>some high school</td>\n",
              "      <td>standard</td>\n",
              "      <td>completed</td>\n",
              "      <td>54.0</td>\n",
              "      <td>61.0</td>\n",
              "      <td>62.0</td>\n",
              "      <td>4.24</td>\n",
              "      <td>4.66</td>\n",
              "      <td>4.72</td>\n",
              "      <td>4.54</td>\n",
              "    </tr>\n",
              "    <tr>\n",
              "      <th>1399</th>\n",
              "      <td>Amanda Perez</td>\n",
              "      <td>female</td>\n",
              "      <td>group A</td>\n",
              "      <td>high school</td>\n",
              "      <td>standard</td>\n",
              "      <td>completed</td>\n",
              "      <td>68.0</td>\n",
              "      <td>80.0</td>\n",
              "      <td>76.0</td>\n",
              "      <td>5.08</td>\n",
              "      <td>5.80</td>\n",
              "      <td>5.56</td>\n",
              "      <td>5.48</td>\n",
              "    </tr>\n",
              "  </tbody>\n",
              "</table>\n",
              "<p>875 rows × 13 columns</p>\n",
              "</div>"
            ],
            "text/plain": [
              "                 names  gender race/ethnicity parental level of education  \\\n",
              "0        Rita Courtney  female        group B            some high school   \n",
              "3     Charles Linstrom    male        group A           bachelor's degree   \n",
              "5          Brian Young    male        group C            some high school   \n",
              "6       Howard Jimenez    male        group E            some high school   \n",
              "7         Wayne Wilson    male        group B            some high school   \n",
              "...                ...     ...            ...                         ...   \n",
              "1392     Richard Young    male        group D                 high school   \n",
              "1394     Wanda Russell  female        group B                 high school   \n",
              "1396    Marina Zeigler  female        group C           bachelor's degree   \n",
              "1397     Laurie Carter  female        group B            some high school   \n",
              "1399      Amanda Perez  female        group A                 high school   \n",
              "\n",
              "             lunch test preparation course  math score  reading score  \\\n",
              "0         standard                    none        37.0           46.0   \n",
              "3         standard               completed        80.0           78.0   \n",
              "5         standard                    none        73.0           66.0   \n",
              "6         standard               completed        81.0           75.0   \n",
              "7         standard               completed        94.0           86.0   \n",
              "...            ...                     ...         ...            ...   \n",
              "1392      standard                    none        69.0           75.0   \n",
              "1394  free/reduced               completed        23.0           44.0   \n",
              "1396  free/reduced               completed        66.0           74.0   \n",
              "1397      standard               completed        54.0           61.0   \n",
              "1399      standard               completed        68.0           80.0   \n",
              "\n",
              "      writing score  nota chilena math score  nota chilena reading score  \\\n",
              "0              46.0                     3.22                        3.76   \n",
              "3              81.0                     5.80                        5.68   \n",
              "5              63.0                     5.38                        4.96   \n",
              "6              76.0                     5.86                        5.50   \n",
              "7              87.0                     6.64                        6.16   \n",
              "...             ...                      ...                         ...   \n",
              "1392           71.0                     5.14                        5.50   \n",
              "1394           36.0                     2.38                        3.64   \n",
              "1396           81.0                     4.96                        5.44   \n",
              "1397           62.0                     4.24                        4.66   \n",
              "1399           76.0                     5.08                        5.80   \n",
              "\n",
              "      nota chilena writing score nota chilena Promedio  \n",
              "0                           3.76                     R  \n",
              "3                           5.86                  5.78  \n",
              "5                           4.78                  5.04  \n",
              "6                           5.56                  5.64  \n",
              "7                           6.22                  6.34  \n",
              "...                          ...                   ...  \n",
              "1392                        5.26                   5.3  \n",
              "1394                        3.16                     R  \n",
              "1396                        5.86                  5.42  \n",
              "1397                        4.72                  4.54  \n",
              "1399                        5.56                  5.48  \n",
              "\n",
              "[875 rows x 13 columns]"
            ]
          },
          "metadata": {},
          "output_type": "display_data"
        },
        {
          "data": {
            "text/html": [
              "<div>\n",
              "<style scoped>\n",
              "    .dataframe tbody tr th:only-of-type {\n",
              "        vertical-align: middle;\n",
              "    }\n",
              "\n",
              "    .dataframe tbody tr th {\n",
              "        vertical-align: top;\n",
              "    }\n",
              "\n",
              "    .dataframe thead th {\n",
              "        text-align: right;\n",
              "    }\n",
              "</style>\n",
              "<table border=\"1\" class=\"dataframe\">\n",
              "  <thead>\n",
              "    <tr style=\"text-align: right;\">\n",
              "      <th></th>\n",
              "      <th>names</th>\n",
              "      <th>gender</th>\n",
              "      <th>race/ethnicity</th>\n",
              "      <th>parental level of education</th>\n",
              "      <th>lunch</th>\n",
              "      <th>test preparation course</th>\n",
              "      <th>math score</th>\n",
              "      <th>reading score</th>\n",
              "      <th>writing score</th>\n",
              "      <th>nota chilena math score</th>\n",
              "      <th>nota chilena reading score</th>\n",
              "      <th>nota chilena writing score</th>\n",
              "      <th>nota chilena Promedio</th>\n",
              "    </tr>\n",
              "  </thead>\n",
              "  <tbody>\n",
              "    <tr>\n",
              "      <th>384</th>\n",
              "      <td>Elizabeth Beasley</td>\n",
              "      <td>female</td>\n",
              "      <td>group E</td>\n",
              "      <td>bachelor's degree</td>\n",
              "      <td>standard</td>\n",
              "      <td>none</td>\n",
              "      <td>100.0</td>\n",
              "      <td>100.0</td>\n",
              "      <td>100.0</td>\n",
              "      <td>7.00</td>\n",
              "      <td>7.00</td>\n",
              "      <td>7.00</td>\n",
              "      <td>7.00</td>\n",
              "    </tr>\n",
              "    <tr>\n",
              "      <th>677</th>\n",
              "      <td>Richard Pryor</td>\n",
              "      <td>male</td>\n",
              "      <td>group E</td>\n",
              "      <td>bachelor's degree</td>\n",
              "      <td>standard</td>\n",
              "      <td>completed</td>\n",
              "      <td>100.0</td>\n",
              "      <td>100.0</td>\n",
              "      <td>100.0</td>\n",
              "      <td>7.00</td>\n",
              "      <td>7.00</td>\n",
              "      <td>7.00</td>\n",
              "      <td>7.00</td>\n",
              "    </tr>\n",
              "    <tr>\n",
              "      <th>1352</th>\n",
              "      <td>Sandra Pompey</td>\n",
              "      <td>female</td>\n",
              "      <td>group E</td>\n",
              "      <td>associate's degree</td>\n",
              "      <td>standard</td>\n",
              "      <td>none</td>\n",
              "      <td>100.0</td>\n",
              "      <td>100.0</td>\n",
              "      <td>100.0</td>\n",
              "      <td>7.00</td>\n",
              "      <td>7.00</td>\n",
              "      <td>7.00</td>\n",
              "      <td>7.00</td>\n",
              "    </tr>\n",
              "    <tr>\n",
              "      <th>475</th>\n",
              "      <td>Emma Gray</td>\n",
              "      <td>female</td>\n",
              "      <td>group E</td>\n",
              "      <td>bachelor's degree</td>\n",
              "      <td>standard</td>\n",
              "      <td>completed</td>\n",
              "      <td>99.0</td>\n",
              "      <td>100.0</td>\n",
              "      <td>100.0</td>\n",
              "      <td>6.94</td>\n",
              "      <td>7.00</td>\n",
              "      <td>7.00</td>\n",
              "      <td>6.98</td>\n",
              "    </tr>\n",
              "    <tr>\n",
              "      <th>1276</th>\n",
              "      <td>Angela Cressey</td>\n",
              "      <td>female</td>\n",
              "      <td>group D</td>\n",
              "      <td>some college</td>\n",
              "      <td>standard</td>\n",
              "      <td>none</td>\n",
              "      <td>98.0</td>\n",
              "      <td>100.0</td>\n",
              "      <td>99.0</td>\n",
              "      <td>6.88</td>\n",
              "      <td>7.00</td>\n",
              "      <td>6.94</td>\n",
              "      <td>6.94</td>\n",
              "    </tr>\n",
              "    <tr>\n",
              "      <th>...</th>\n",
              "      <td>...</td>\n",
              "      <td>...</td>\n",
              "      <td>...</td>\n",
              "      <td>...</td>\n",
              "      <td>...</td>\n",
              "      <td>...</td>\n",
              "      <td>...</td>\n",
              "      <td>...</td>\n",
              "      <td>...</td>\n",
              "      <td>...</td>\n",
              "      <td>...</td>\n",
              "      <td>...</td>\n",
              "      <td>...</td>\n",
              "    </tr>\n",
              "    <tr>\n",
              "      <th>949</th>\n",
              "      <td>Rolando Widmer</td>\n",
              "      <td>male</td>\n",
              "      <td>group C</td>\n",
              "      <td>high school</td>\n",
              "      <td>standard</td>\n",
              "      <td>completed</td>\n",
              "      <td>82.0</td>\n",
              "      <td>84.0</td>\n",
              "      <td>82.0</td>\n",
              "      <td>5.92</td>\n",
              "      <td>6.04</td>\n",
              "      <td>5.92</td>\n",
              "      <td>5.96</td>\n",
              "    </tr>\n",
              "    <tr>\n",
              "      <th>296</th>\n",
              "      <td>Lucille Stanphill</td>\n",
              "      <td>female</td>\n",
              "      <td>group C</td>\n",
              "      <td>high school</td>\n",
              "      <td>standard</td>\n",
              "      <td>none</td>\n",
              "      <td>81.0</td>\n",
              "      <td>84.0</td>\n",
              "      <td>82.0</td>\n",
              "      <td>5.86</td>\n",
              "      <td>6.04</td>\n",
              "      <td>5.92</td>\n",
              "      <td>5.94</td>\n",
              "    </tr>\n",
              "    <tr>\n",
              "      <th>300</th>\n",
              "      <td>Steven Kelly</td>\n",
              "      <td>male</td>\n",
              "      <td>group D</td>\n",
              "      <td>some college</td>\n",
              "      <td>standard</td>\n",
              "      <td>none</td>\n",
              "      <td>81.0</td>\n",
              "      <td>82.0</td>\n",
              "      <td>84.0</td>\n",
              "      <td>5.86</td>\n",
              "      <td>5.92</td>\n",
              "      <td>6.04</td>\n",
              "      <td>5.94</td>\n",
              "    </tr>\n",
              "    <tr>\n",
              "      <th>1307</th>\n",
              "      <td>Peter Perez</td>\n",
              "      <td>male</td>\n",
              "      <td>group D</td>\n",
              "      <td>master's degree</td>\n",
              "      <td>standard</td>\n",
              "      <td>none</td>\n",
              "      <td>81.0</td>\n",
              "      <td>81.0</td>\n",
              "      <td>84.0</td>\n",
              "      <td>5.86</td>\n",
              "      <td>5.86</td>\n",
              "      <td>6.04</td>\n",
              "      <td>5.92</td>\n",
              "    </tr>\n",
              "    <tr>\n",
              "      <th>96</th>\n",
              "      <td>Harry Berry</td>\n",
              "      <td>male</td>\n",
              "      <td>group B</td>\n",
              "      <td>associate's degree</td>\n",
              "      <td>standard</td>\n",
              "      <td>completed</td>\n",
              "      <td>81.0</td>\n",
              "      <td>82.0</td>\n",
              "      <td>82.0</td>\n",
              "      <td>5.86</td>\n",
              "      <td>5.92</td>\n",
              "      <td>5.92</td>\n",
              "      <td>5.90</td>\n",
              "    </tr>\n",
              "  </tbody>\n",
              "</table>\n",
              "<p>94 rows × 13 columns</p>\n",
              "</div>"
            ],
            "text/plain": [
              "                  names  gender race/ethnicity parental level of education  \\\n",
              "384   Elizabeth Beasley  female        group E           bachelor's degree   \n",
              "677       Richard Pryor    male        group E           bachelor's degree   \n",
              "1352      Sandra Pompey  female        group E          associate's degree   \n",
              "475           Emma Gray  female        group E           bachelor's degree   \n",
              "1276     Angela Cressey  female        group D                some college   \n",
              "...                 ...     ...            ...                         ...   \n",
              "949      Rolando Widmer    male        group C                 high school   \n",
              "296   Lucille Stanphill  female        group C                 high school   \n",
              "300        Steven Kelly    male        group D                some college   \n",
              "1307        Peter Perez    male        group D             master's degree   \n",
              "96          Harry Berry    male        group B          associate's degree   \n",
              "\n",
              "         lunch test preparation course  math score  reading score  \\\n",
              "384   standard                    none       100.0          100.0   \n",
              "677   standard               completed       100.0          100.0   \n",
              "1352  standard                    none       100.0          100.0   \n",
              "475   standard               completed        99.0          100.0   \n",
              "1276  standard                    none        98.0          100.0   \n",
              "...        ...                     ...         ...            ...   \n",
              "949   standard               completed        82.0           84.0   \n",
              "296   standard                    none        81.0           84.0   \n",
              "300   standard                    none        81.0           82.0   \n",
              "1307  standard                    none        81.0           81.0   \n",
              "96    standard               completed        81.0           82.0   \n",
              "\n",
              "      writing score  nota chilena math score  nota chilena reading score  \\\n",
              "384           100.0                     7.00                        7.00   \n",
              "677           100.0                     7.00                        7.00   \n",
              "1352          100.0                     7.00                        7.00   \n",
              "475           100.0                     6.94                        7.00   \n",
              "1276           99.0                     6.88                        7.00   \n",
              "...             ...                      ...                         ...   \n",
              "949            82.0                     5.92                        6.04   \n",
              "296            82.0                     5.86                        6.04   \n",
              "300            84.0                     5.86                        5.92   \n",
              "1307           84.0                     5.86                        5.86   \n",
              "96             82.0                     5.86                        5.92   \n",
              "\n",
              "      nota chilena writing score  nota chilena Promedio  \n",
              "384                         7.00                   7.00  \n",
              "677                         7.00                   7.00  \n",
              "1352                        7.00                   7.00  \n",
              "475                         7.00                   6.98  \n",
              "1276                        6.94                   6.94  \n",
              "...                          ...                    ...  \n",
              "949                         5.92                   5.96  \n",
              "296                         5.92                   5.94  \n",
              "300                         6.04                   5.94  \n",
              "1307                        6.04                   5.92  \n",
              "96                          5.92                   5.90  \n",
              "\n",
              "[94 rows x 13 columns]"
            ]
          },
          "metadata": {},
          "output_type": "display_data"
        }
      ],
      "source": [
        "# Muestre sus resultados aquí\n",
        "dataframe_reprobados, dataframe_R, dataframe_destacados = reprobados_destacados(df_grades)\n",
        "\n",
        "display(dataframe_reprobados)\n",
        "display(dataframe_R)\n",
        "display(dataframe_destacados)\n",
        "\n"
      ]
    },
    {
      "cell_type": "markdown",
      "metadata": {
        "cell_id": "1089864478cb44d3a15b23ab71702fa0",
        "deepnote_cell_height": 62,
        "deepnote_cell_type": "markdown",
        "id": "JlRSbOUxAwXv",
        "tags": []
      },
      "source": [
        "### 3.4 Quintiles de Rendimiento [0.5 Puntos]"
      ]
    },
    {
      "cell_type": "markdown",
      "metadata": {
        "cell_id": "706390cf4d5e47968980262ec7948e48",
        "deepnote_cell_height": 214.796875,
        "deepnote_cell_type": "markdown",
        "id": "hpjVqkuSAwXv",
        "tags": []
      },
      "source": [
        "El rector, intrigado por saber si existe una relación entre el nivel educacional de los padres y las notas de sus hijos les plantea estudiar dicha relación. Para esto, les solicita que desde el `DataFrame` que posee a todos los alumnos (`DataFrame` obtenido tras la limpieza), generen una nueva columna que clasifique en quintiles de rendimiento para sus alumnos: `['Bajísimo', 'Bajo', 'Medio', 'Alto', 'Muy alto']`. (investigar `qcut()`)\n",
        "\n",
        "Hecho esto, grafique a través de un scatter plot el nivel educacional de los padres v/s el promedio de los alumnos, utilice los cuantiles generados anteriormente para mostrar en que cuantil se encuentra cada uno de los datos.\n",
        "\n",
        "Realizado el grafico, responda la siguiente pregunta: **¿Es posible visualizar alguna tendencia en el gráfico?.**\n",
        "\n"
      ]
    },
    {
      "cell_type": "markdown",
      "metadata": {
        "cell_id": "460b9d3cb8a84b699b79a9a81bfcddaa",
        "deepnote_cell_height": 52.390625,
        "deepnote_cell_type": "markdown",
        "id": "Rd7E0c-vAwXv",
        "tags": []
      },
      "source": [
        "**Respuesta:**"
      ]
    },
    {
      "cell_type": "code",
      "execution_count": 19,
      "metadata": {
        "colab": {
          "base_uri": "https://localhost:8080/",
          "height": 35
        },
        "id": "nWdpBUphwKSV",
        "outputId": "808cc7bc-cfbf-4dc9-e97a-3dce79c021fc"
      },
      "outputs": [
        {
          "data": {
            "text/plain": [
              "\"\\nNOTA: La variable del dataframe que contenga los quintiles debe llamarse\\n'GPA cuantiles' para que el gráfico funcione.\\n\""
            ]
          },
          "execution_count": 19,
          "metadata": {},
          "output_type": "execute_result"
        }
      ],
      "source": [
        "# Escriba su código para quintiles aquí\n",
        "\n",
        "df_grades['GPA cuantiles'] = pd.qcut(df_grades['nota chilena Promedio'],\n",
        "                                           q=5,\n",
        "                                           labels=['Bajísimo', 'Bajo', 'Medio', 'Alto', 'Muy alto'])\n",
        "\"\"\"\n",
        "NOTA: La variable del dataframe que contenga los quintiles debe llamarse\n",
        "'GPA cuantiles' para que el gráfico funcione.\n",
        "\"\"\""
      ]
    },
    {
      "cell_type": "code",
      "execution_count": 20,
      "metadata": {
        "colab": {
          "base_uri": "https://localhost:8080/",
          "height": 542
        },
        "id": "XcORydsm15EP",
        "outputId": "3abcc870-2a33-4d35-89d4-2ab76706b6f8"
      },
      "outputs": [
        {
          "data": {
            "application/vnd.plotly.v1+json": {
              "config": {
                "plotlyServerURL": "https://plot.ly"
              },
              "data": [
                {
                  "customdata": [
                    [
                      "female"
                    ],
                    [
                      "female"
                    ],
                    [
                      "male"
                    ],
                    [
                      "male"
                    ],
                    [
                      "male"
                    ],
                    [
                      "female"
                    ],
                    [
                      "female"
                    ],
                    [
                      "female"
                    ],
                    [
                      "female"
                    ],
                    [
                      "male"
                    ],
                    [
                      "male"
                    ],
                    [
                      "female"
                    ],
                    [
                      "female"
                    ],
                    [
                      "female"
                    ],
                    [
                      "male"
                    ],
                    [
                      "female"
                    ],
                    [
                      "female"
                    ],
                    [
                      "male"
                    ],
                    [
                      "female"
                    ],
                    [
                      "male"
                    ],
                    [
                      "male"
                    ],
                    [
                      "male"
                    ],
                    [
                      "female"
                    ],
                    [
                      "male"
                    ],
                    [
                      "male"
                    ],
                    [
                      "male"
                    ],
                    [
                      "male"
                    ],
                    [
                      "male"
                    ],
                    [
                      "female"
                    ],
                    [
                      "female"
                    ],
                    [
                      "male"
                    ],
                    [
                      "female"
                    ],
                    [
                      "female"
                    ],
                    [
                      "female"
                    ],
                    [
                      "male"
                    ],
                    [
                      "male"
                    ],
                    [
                      "female"
                    ],
                    [
                      "male"
                    ],
                    [
                      "female"
                    ],
                    [
                      "female"
                    ],
                    [
                      "male"
                    ],
                    [
                      "female"
                    ],
                    [
                      "male"
                    ],
                    [
                      "female"
                    ],
                    [
                      "male"
                    ],
                    [
                      "male"
                    ],
                    [
                      "male"
                    ],
                    [
                      "male"
                    ],
                    [
                      "female"
                    ],
                    [
                      "male"
                    ],
                    [
                      "male"
                    ],
                    [
                      "female"
                    ],
                    [
                      "male"
                    ],
                    [
                      "male"
                    ],
                    [
                      "male"
                    ],
                    [
                      "male"
                    ],
                    [
                      "male"
                    ],
                    [
                      "male"
                    ],
                    [
                      "female"
                    ],
                    [
                      "male"
                    ],
                    [
                      "male"
                    ],
                    [
                      "male"
                    ],
                    [
                      "male"
                    ],
                    [
                      "male"
                    ],
                    [
                      "male"
                    ],
                    [
                      "male"
                    ],
                    [
                      "male"
                    ],
                    [
                      "male"
                    ],
                    [
                      "male"
                    ],
                    [
                      "male"
                    ],
                    [
                      "male"
                    ],
                    [
                      "female"
                    ],
                    [
                      "female"
                    ],
                    [
                      "male"
                    ],
                    [
                      "male"
                    ],
                    [
                      "male"
                    ],
                    [
                      "female"
                    ],
                    [
                      "male"
                    ],
                    [
                      "male"
                    ],
                    [
                      "female"
                    ],
                    [
                      "male"
                    ],
                    [
                      "male"
                    ],
                    [
                      "female"
                    ],
                    [
                      "male"
                    ],
                    [
                      "male"
                    ],
                    [
                      "male"
                    ],
                    [
                      "female"
                    ],
                    [
                      "female"
                    ],
                    [
                      "female"
                    ],
                    [
                      "male"
                    ],
                    [
                      "male"
                    ],
                    [
                      "male"
                    ],
                    [
                      "female"
                    ],
                    [
                      "male"
                    ],
                    [
                      "male"
                    ],
                    [
                      "male"
                    ],
                    [
                      "female"
                    ],
                    [
                      "female"
                    ],
                    [
                      "male"
                    ],
                    [
                      "male"
                    ],
                    [
                      "male"
                    ],
                    [
                      "female"
                    ],
                    [
                      "female"
                    ],
                    [
                      "male"
                    ],
                    [
                      "male"
                    ],
                    [
                      "female"
                    ],
                    [
                      "male"
                    ],
                    [
                      "male"
                    ],
                    [
                      "female"
                    ],
                    [
                      "male"
                    ],
                    [
                      "male"
                    ],
                    [
                      "male"
                    ],
                    [
                      "female"
                    ],
                    [
                      "male"
                    ],
                    [
                      "male"
                    ],
                    [
                      "male"
                    ],
                    [
                      "female"
                    ],
                    [
                      "male"
                    ],
                    [
                      "female"
                    ],
                    [
                      "female"
                    ],
                    [
                      "female"
                    ],
                    [
                      "female"
                    ],
                    [
                      "male"
                    ],
                    [
                      "male"
                    ],
                    [
                      "male"
                    ],
                    [
                      "male"
                    ],
                    [
                      "male"
                    ],
                    [
                      "female"
                    ],
                    [
                      "female"
                    ],
                    [
                      "female"
                    ],
                    [
                      "female"
                    ],
                    [
                      "female"
                    ],
                    [
                      "male"
                    ],
                    [
                      "male"
                    ],
                    [
                      "female"
                    ],
                    [
                      "female"
                    ],
                    [
                      "male"
                    ],
                    [
                      "female"
                    ],
                    [
                      "female"
                    ],
                    [
                      "female"
                    ],
                    [
                      "male"
                    ],
                    [
                      "male"
                    ],
                    [
                      "male"
                    ],
                    [
                      "female"
                    ],
                    [
                      "male"
                    ],
                    [
                      "female"
                    ],
                    [
                      "female"
                    ],
                    [
                      "male"
                    ],
                    [
                      "female"
                    ],
                    [
                      "female"
                    ],
                    [
                      "male"
                    ],
                    [
                      "male"
                    ],
                    [
                      "female"
                    ],
                    [
                      "female"
                    ],
                    [
                      "male"
                    ],
                    [
                      "male"
                    ],
                    [
                      "male"
                    ],
                    [
                      "female"
                    ],
                    [
                      "male"
                    ],
                    [
                      "male"
                    ],
                    [
                      "female"
                    ],
                    [
                      "male"
                    ],
                    [
                      "male"
                    ],
                    [
                      "male"
                    ],
                    [
                      "female"
                    ],
                    [
                      "male"
                    ],
                    [
                      "female"
                    ],
                    [
                      "male"
                    ],
                    [
                      "female"
                    ],
                    [
                      "male"
                    ],
                    [
                      "male"
                    ],
                    [
                      "female"
                    ],
                    [
                      "male"
                    ],
                    [
                      "male"
                    ],
                    [
                      "female"
                    ],
                    [
                      "male"
                    ]
                  ],
                  "hovertemplate": "GPA cuantiles=Bajísimo<br>nota chilena Promedio=%{x}<br>parental level of education=%{y}<br>gender=%{customdata[0]}<extra></extra>",
                  "legendgroup": "Bajísimo",
                  "marker": {
                    "color": "tomato",
                    "symbol": "circle"
                  },
                  "mode": "markers",
                  "name": "Bajísimo",
                  "orientation": "h",
                  "showlegend": true,
                  "type": "scatter",
                  "x": [
                    1.54,
                    2.1,
                    2.38,
                    2.4,
                    2.56,
                    2.56,
                    2.76,
                    2.78,
                    2.78,
                    2.8,
                    2.84,
                    2.86,
                    2.88,
                    2.9,
                    2.94,
                    3.06,
                    3.08,
                    3.24,
                    3.26,
                    3.28,
                    3.3,
                    3.32,
                    3.34,
                    3.36,
                    3.38,
                    3.38,
                    3.4,
                    3.44,
                    3.44,
                    3.46,
                    3.46,
                    3.48,
                    3.54,
                    3.58,
                    3.6,
                    3.6,
                    3.6,
                    3.6,
                    3.64,
                    3.64,
                    3.66,
                    3.68,
                    3.68,
                    3.68,
                    3.68,
                    3.7,
                    3.72,
                    3.72,
                    3.74,
                    3.76,
                    3.76,
                    3.76,
                    3.78,
                    3.78,
                    3.78,
                    3.78,
                    3.78,
                    3.8,
                    3.8,
                    3.8,
                    3.8,
                    3.82,
                    3.84,
                    3.84,
                    3.86,
                    3.86,
                    3.88,
                    3.88,
                    3.88,
                    3.88,
                    3.9,
                    3.9,
                    3.9,
                    3.9,
                    3.92,
                    3.92,
                    3.92,
                    3.92,
                    3.94,
                    3.94,
                    3.94,
                    3.94,
                    3.96,
                    3.96,
                    3.96,
                    3.98,
                    4,
                    4,
                    4,
                    4,
                    4.02,
                    4.02,
                    4.02,
                    4.02,
                    4.02,
                    4.02,
                    4.02,
                    4.04,
                    4.04,
                    4.04,
                    4.06,
                    4.06,
                    4.06,
                    4.06,
                    4.06,
                    4.08,
                    4.08,
                    4.08,
                    4.08,
                    4.08,
                    4.08,
                    4.1,
                    4.1,
                    4.1,
                    4.1,
                    4.1,
                    4.1,
                    4.1,
                    4.1,
                    4.1,
                    4.12,
                    4.12,
                    4.12,
                    4.12,
                    4.14,
                    4.14,
                    4.14,
                    4.14,
                    4.16,
                    4.16,
                    4.16,
                    4.16,
                    4.16,
                    4.16,
                    4.16,
                    4.18,
                    4.18,
                    4.2,
                    4.2,
                    4.2,
                    4.2,
                    4.22,
                    4.22,
                    4.22,
                    4.22,
                    4.22,
                    4.24,
                    4.24,
                    4.24,
                    4.24,
                    4.24,
                    4.26,
                    4.26,
                    4.26,
                    4.26,
                    4.28,
                    4.28,
                    4.28,
                    4.28,
                    4.28,
                    4.28,
                    4.28,
                    4.28,
                    4.3,
                    4.3,
                    4.32,
                    4.32,
                    4.32,
                    4.32,
                    4.32,
                    4.34,
                    4.34,
                    4.34,
                    4.34,
                    4.34,
                    4.34
                  ],
                  "xaxis": "x",
                  "y": [
                    "some high school",
                    "high school",
                    "high school",
                    "some college",
                    "some high school",
                    "some high school",
                    "high school",
                    "some high school",
                    "some college",
                    "some college",
                    "high school",
                    "some high school",
                    "some college",
                    "associate's degree",
                    "high school",
                    "high school",
                    "some high school",
                    "some high school",
                    "some high school",
                    "some college",
                    "high school",
                    "high school",
                    "bachelor's degree",
                    "some high school",
                    "some high school",
                    "associate's degree",
                    "some college",
                    "some college",
                    "some college",
                    "high school",
                    "associate's degree",
                    "some high school",
                    "some high school",
                    "some high school",
                    "some high school",
                    "associate's degree",
                    "high school",
                    "some high school",
                    "some high school",
                    "high school",
                    "associate's degree",
                    "some high school",
                    "high school",
                    "high school",
                    "master's degree",
                    "associate's degree",
                    "high school",
                    "associate's degree",
                    "high school",
                    "associate's degree",
                    "associate's degree",
                    "associate's degree",
                    "high school",
                    "some high school",
                    "high school",
                    "some college",
                    "some college",
                    "high school",
                    "associate's degree",
                    "bachelor's degree",
                    "bachelor's degree",
                    "high school",
                    "some college",
                    "some high school",
                    "associate's degree",
                    "high school",
                    "high school",
                    "high school",
                    "associate's degree",
                    "some high school",
                    "bachelor's degree",
                    "high school",
                    "some high school",
                    "some high school",
                    "some high school",
                    "some high school",
                    "associate's degree",
                    "some high school",
                    "high school",
                    "some high school",
                    "high school",
                    "high school",
                    "bachelor's degree",
                    "associate's degree",
                    "associate's degree",
                    "high school",
                    "some high school",
                    "associate's degree",
                    "high school",
                    "bachelor's degree",
                    "high school",
                    "associate's degree",
                    "some college",
                    "some college",
                    "some college",
                    "some college",
                    "bachelor's degree",
                    "master's degree",
                    "some college",
                    "some college",
                    "some college",
                    "master's degree",
                    "some college",
                    "some college",
                    "some college",
                    "some college",
                    "high school",
                    "associate's degree",
                    "some high school",
                    "master's degree",
                    "high school",
                    "high school",
                    "master's degree",
                    "associate's degree",
                    "associate's degree",
                    "high school",
                    "some high school",
                    "some high school",
                    "associate's degree",
                    "associate's degree",
                    "associate's degree",
                    "some high school",
                    "high school",
                    "associate's degree",
                    "some college",
                    "some high school",
                    "some college",
                    "high school",
                    "high school",
                    "some high school",
                    "associate's degree",
                    "high school",
                    "high school",
                    "high school",
                    "high school",
                    "associate's degree",
                    "associate's degree",
                    "associate's degree",
                    "associate's degree",
                    "some high school",
                    "some high school",
                    "high school",
                    "high school",
                    "associate's degree",
                    "bachelor's degree",
                    "associate's degree",
                    "associate's degree",
                    "high school",
                    "some college",
                    "some high school",
                    "some high school",
                    "some high school",
                    "high school",
                    "high school",
                    "master's degree",
                    "bachelor's degree",
                    "some college",
                    "high school",
                    "some college",
                    "high school",
                    "associate's degree",
                    "associate's degree",
                    "high school",
                    "some college",
                    "high school",
                    "high school",
                    "some high school",
                    "associate's degree",
                    "bachelor's degree",
                    "bachelor's degree",
                    "bachelor's degree",
                    "high school",
                    "high school",
                    "associate's degree",
                    "associate's degree",
                    "associate's degree"
                  ],
                  "yaxis": "y"
                },
                {
                  "customdata": [
                    [
                      "female"
                    ],
                    [
                      "male"
                    ],
                    [
                      "male"
                    ],
                    [
                      "male"
                    ],
                    [
                      "male"
                    ],
                    [
                      "female"
                    ],
                    [
                      "female"
                    ],
                    [
                      "male"
                    ],
                    [
                      "female"
                    ],
                    [
                      "female"
                    ],
                    [
                      "female"
                    ],
                    [
                      "female"
                    ],
                    [
                      "male"
                    ],
                    [
                      "female"
                    ],
                    [
                      "female"
                    ],
                    [
                      "male"
                    ],
                    [
                      "female"
                    ],
                    [
                      "male"
                    ],
                    [
                      "female"
                    ],
                    [
                      "male"
                    ],
                    [
                      "male"
                    ],
                    [
                      "male"
                    ],
                    [
                      "female"
                    ],
                    [
                      "male"
                    ],
                    [
                      "male"
                    ],
                    [
                      "female"
                    ],
                    [
                      "male"
                    ],
                    [
                      "male"
                    ],
                    [
                      "male"
                    ],
                    [
                      "female"
                    ],
                    [
                      "male"
                    ],
                    [
                      "female"
                    ],
                    [
                      "male"
                    ],
                    [
                      "male"
                    ],
                    [
                      "female"
                    ],
                    [
                      "male"
                    ],
                    [
                      "male"
                    ],
                    [
                      "male"
                    ],
                    [
                      "male"
                    ],
                    [
                      "male"
                    ],
                    [
                      "male"
                    ],
                    [
                      "female"
                    ],
                    [
                      "female"
                    ],
                    [
                      "male"
                    ],
                    [
                      "male"
                    ],
                    [
                      "female"
                    ],
                    [
                      "female"
                    ],
                    [
                      "female"
                    ],
                    [
                      "male"
                    ],
                    [
                      "male"
                    ],
                    [
                      "male"
                    ],
                    [
                      "female"
                    ],
                    [
                      "female"
                    ],
                    [
                      "female"
                    ],
                    [
                      "male"
                    ],
                    [
                      "female"
                    ],
                    [
                      "male"
                    ],
                    [
                      "male"
                    ],
                    [
                      "male"
                    ],
                    [
                      "female"
                    ],
                    [
                      "male"
                    ],
                    [
                      "male"
                    ],
                    [
                      "male"
                    ],
                    [
                      "female"
                    ],
                    [
                      "female"
                    ],
                    [
                      "female"
                    ],
                    [
                      "female"
                    ],
                    [
                      "female"
                    ],
                    [
                      "female"
                    ],
                    [
                      "male"
                    ],
                    [
                      "female"
                    ],
                    [
                      "male"
                    ],
                    [
                      "male"
                    ],
                    [
                      "female"
                    ],
                    [
                      "male"
                    ],
                    [
                      "female"
                    ],
                    [
                      "male"
                    ],
                    [
                      "male"
                    ],
                    [
                      "male"
                    ],
                    [
                      "male"
                    ],
                    [
                      "female"
                    ],
                    [
                      "female"
                    ],
                    [
                      "female"
                    ],
                    [
                      "male"
                    ],
                    [
                      "female"
                    ],
                    [
                      "male"
                    ],
                    [
                      "male"
                    ],
                    [
                      "male"
                    ],
                    [
                      "male"
                    ],
                    [
                      "male"
                    ],
                    [
                      "male"
                    ],
                    [
                      "male"
                    ],
                    [
                      "female"
                    ],
                    [
                      "female"
                    ],
                    [
                      "male"
                    ],
                    [
                      "male"
                    ],
                    [
                      "female"
                    ],
                    [
                      "male"
                    ],
                    [
                      "male"
                    ],
                    [
                      "male"
                    ],
                    [
                      "male"
                    ],
                    [
                      "male"
                    ],
                    [
                      "male"
                    ],
                    [
                      "male"
                    ],
                    [
                      "female"
                    ],
                    [
                      "female"
                    ],
                    [
                      "female"
                    ],
                    [
                      "male"
                    ],
                    [
                      "female"
                    ],
                    [
                      "female"
                    ],
                    [
                      "female"
                    ],
                    [
                      "male"
                    ],
                    [
                      "female"
                    ],
                    [
                      "male"
                    ],
                    [
                      "female"
                    ],
                    [
                      "female"
                    ],
                    [
                      "female"
                    ],
                    [
                      "male"
                    ],
                    [
                      "female"
                    ],
                    [
                      "male"
                    ],
                    [
                      "male"
                    ],
                    [
                      "male"
                    ],
                    [
                      "male"
                    ],
                    [
                      "female"
                    ],
                    [
                      "male"
                    ],
                    [
                      "male"
                    ],
                    [
                      "female"
                    ],
                    [
                      "male"
                    ],
                    [
                      "female"
                    ],
                    [
                      "female"
                    ],
                    [
                      "female"
                    ],
                    [
                      "female"
                    ],
                    [
                      "male"
                    ],
                    [
                      "female"
                    ],
                    [
                      "female"
                    ],
                    [
                      "male"
                    ],
                    [
                      "male"
                    ],
                    [
                      "male"
                    ],
                    [
                      "male"
                    ],
                    [
                      "male"
                    ],
                    [
                      "male"
                    ],
                    [
                      "female"
                    ],
                    [
                      "male"
                    ],
                    [
                      "male"
                    ],
                    [
                      "female"
                    ],
                    [
                      "female"
                    ],
                    [
                      "female"
                    ],
                    [
                      "male"
                    ],
                    [
                      "male"
                    ],
                    [
                      "male"
                    ],
                    [
                      "female"
                    ],
                    [
                      "male"
                    ],
                    [
                      "male"
                    ],
                    [
                      "male"
                    ],
                    [
                      "female"
                    ],
                    [
                      "male"
                    ],
                    [
                      "female"
                    ],
                    [
                      "female"
                    ],
                    [
                      "female"
                    ],
                    [
                      "female"
                    ],
                    [
                      "male"
                    ],
                    [
                      "male"
                    ],
                    [
                      "female"
                    ],
                    [
                      "female"
                    ],
                    [
                      "male"
                    ],
                    [
                      "female"
                    ],
                    [
                      "female"
                    ],
                    [
                      "female"
                    ],
                    [
                      "male"
                    ],
                    [
                      "male"
                    ],
                    [
                      "female"
                    ],
                    [
                      "male"
                    ],
                    [
                      "male"
                    ],
                    [
                      "female"
                    ],
                    [
                      "female"
                    ],
                    [
                      "female"
                    ],
                    [
                      "female"
                    ]
                  ],
                  "hovertemplate": "GPA cuantiles=Bajo<br>nota chilena Promedio=%{x}<br>parental level of education=%{y}<br>gender=%{customdata[0]}<extra></extra>",
                  "legendgroup": "Bajo",
                  "marker": {
                    "color": "orange",
                    "symbol": "circle"
                  },
                  "mode": "markers",
                  "name": "Bajo",
                  "orientation": "h",
                  "showlegend": true,
                  "type": "scatter",
                  "x": [
                    4.36,
                    4.36,
                    4.36,
                    4.36,
                    4.36,
                    4.36,
                    4.36,
                    4.36,
                    4.36,
                    4.38,
                    4.38,
                    4.38,
                    4.38,
                    4.38,
                    4.4,
                    4.4,
                    4.4,
                    4.42,
                    4.42,
                    4.42,
                    4.42,
                    4.44,
                    4.44,
                    4.44,
                    4.44,
                    4.44,
                    4.44,
                    4.44,
                    4.44,
                    4.46,
                    4.46,
                    4.46,
                    4.46,
                    4.46,
                    4.46,
                    4.48,
                    4.48,
                    4.5,
                    4.5,
                    4.5,
                    4.5,
                    4.5,
                    4.5,
                    4.5,
                    4.52,
                    4.52,
                    4.52,
                    4.52,
                    4.52,
                    4.52,
                    4.52,
                    4.52,
                    4.52,
                    4.54,
                    4.54,
                    4.54,
                    4.54,
                    4.54,
                    4.54,
                    4.54,
                    4.54,
                    4.56,
                    4.56,
                    4.56,
                    4.56,
                    4.58,
                    4.58,
                    4.58,
                    4.58,
                    4.6,
                    4.6,
                    4.6,
                    4.6,
                    4.6,
                    4.6,
                    4.6,
                    4.62,
                    4.62,
                    4.62,
                    4.62,
                    4.62,
                    4.64,
                    4.64,
                    4.64,
                    4.64,
                    4.64,
                    4.64,
                    4.64,
                    4.66,
                    4.66,
                    4.66,
                    4.66,
                    4.66,
                    4.68,
                    4.68,
                    4.68,
                    4.68,
                    4.68,
                    4.68,
                    4.68,
                    4.7,
                    4.7,
                    4.7,
                    4.7,
                    4.7,
                    4.7,
                    4.7,
                    4.72,
                    4.72,
                    4.72,
                    4.72,
                    4.72,
                    4.72,
                    4.74,
                    4.74,
                    4.74,
                    4.74,
                    4.74,
                    4.74,
                    4.74,
                    4.76,
                    4.76,
                    4.76,
                    4.78,
                    4.78,
                    4.78,
                    4.78,
                    4.78,
                    4.78,
                    4.8,
                    4.8,
                    4.8,
                    4.8,
                    4.82,
                    4.82,
                    4.82,
                    4.82,
                    4.82,
                    4.82,
                    4.84,
                    4.84,
                    4.84,
                    4.84,
                    4.84,
                    4.84,
                    4.84,
                    4.84,
                    4.84,
                    4.86,
                    4.86,
                    4.86,
                    4.86,
                    4.86,
                    4.86,
                    4.86,
                    4.86,
                    4.86,
                    4.86,
                    4.88,
                    4.88,
                    4.88,
                    4.88,
                    4.88,
                    4.88,
                    4.88,
                    4.88,
                    4.88,
                    4.88,
                    4.88,
                    4.9,
                    4.9,
                    4.9,
                    4.9,
                    4.9,
                    4.9,
                    4.9,
                    4.9
                  ],
                  "xaxis": "x",
                  "y": [
                    "associate's degree",
                    "high school",
                    "bachelor's degree",
                    "associate's degree",
                    "associate's degree",
                    "some college",
                    "some college",
                    "high school",
                    "bachelor's degree",
                    "some college",
                    "some high school",
                    "bachelor's degree",
                    "some college",
                    "bachelor's degree",
                    "high school",
                    "associate's degree",
                    "some high school",
                    "high school",
                    "some college",
                    "high school",
                    "associate's degree",
                    "high school",
                    "high school",
                    "high school",
                    "associate's degree",
                    "master's degree",
                    "some college",
                    "some high school",
                    "some college",
                    "associate's degree",
                    "some high school",
                    "some high school",
                    "some high school",
                    "some high school",
                    "associate's degree",
                    "some high school",
                    "some high school",
                    "associate's degree",
                    "some college",
                    "some college",
                    "some high school",
                    "bachelor's degree",
                    "some college",
                    "some college",
                    "high school",
                    "associate's degree",
                    "some college",
                    "some college",
                    "some high school",
                    "associate's degree",
                    "high school",
                    "some high school",
                    "associate's degree",
                    "some high school",
                    "some college",
                    "master's degree",
                    "some high school",
                    "some high school",
                    "associate's degree",
                    "some college",
                    "some college",
                    "some college",
                    "associate's degree",
                    "some college",
                    "master's degree",
                    "high school",
                    "high school",
                    "bachelor's degree",
                    "some high school",
                    "some high school",
                    "high school",
                    "some college",
                    "some college",
                    "high school",
                    "high school",
                    "some high school",
                    "some college",
                    "high school",
                    "bachelor's degree",
                    "some college",
                    "bachelor's degree",
                    "some high school",
                    "master's degree",
                    "bachelor's degree",
                    "associate's degree",
                    "some college",
                    "some college",
                    "some college",
                    "some high school",
                    "master's degree",
                    "bachelor's degree",
                    "some college",
                    "some college",
                    "master's degree",
                    "associate's degree",
                    "some college",
                    "some college",
                    "bachelor's degree",
                    "some college",
                    "some high school",
                    "associate's degree",
                    "some high school",
                    "associate's degree",
                    "high school",
                    "some college",
                    "master's degree",
                    "some college",
                    "bachelor's degree",
                    "some high school",
                    "bachelor's degree",
                    "high school",
                    "some college",
                    "associate's degree",
                    "some college",
                    "high school",
                    "some high school",
                    "high school",
                    "some college",
                    "some college",
                    "high school",
                    "high school",
                    "bachelor's degree",
                    "high school",
                    "master's degree",
                    "some college",
                    "associate's degree",
                    "high school",
                    "associate's degree",
                    "some college",
                    "associate's degree",
                    "high school",
                    "master's degree",
                    "some high school",
                    "high school",
                    "some college",
                    "some college",
                    "high school",
                    "some college",
                    "associate's degree",
                    "some high school",
                    "some college",
                    "high school",
                    "associate's degree",
                    "bachelor's degree",
                    "some college",
                    "associate's degree",
                    "some high school",
                    "high school",
                    "associate's degree",
                    "some high school",
                    "master's degree",
                    "some high school",
                    "bachelor's degree",
                    "associate's degree",
                    "high school",
                    "bachelor's degree",
                    "master's degree",
                    "associate's degree",
                    "some college",
                    "associate's degree",
                    "some high school",
                    "master's degree",
                    "some college",
                    "associate's degree",
                    "associate's degree",
                    "bachelor's degree",
                    "high school",
                    "associate's degree",
                    "high school",
                    "high school",
                    "some college",
                    "high school",
                    "some college",
                    "some college",
                    "associate's degree",
                    "some college",
                    "high school"
                  ],
                  "yaxis": "y"
                },
                {
                  "customdata": [
                    [
                      "female"
                    ],
                    [
                      "male"
                    ],
                    [
                      "male"
                    ],
                    [
                      "male"
                    ],
                    [
                      "male"
                    ],
                    [
                      "female"
                    ],
                    [
                      "female"
                    ],
                    [
                      "female"
                    ],
                    [
                      "male"
                    ],
                    [
                      "male"
                    ],
                    [
                      "male"
                    ],
                    [
                      "female"
                    ],
                    [
                      "female"
                    ],
                    [
                      "female"
                    ],
                    [
                      "female"
                    ],
                    [
                      "male"
                    ],
                    [
                      "female"
                    ],
                    [
                      "male"
                    ],
                    [
                      "female"
                    ],
                    [
                      "male"
                    ],
                    [
                      "female"
                    ],
                    [
                      "male"
                    ],
                    [
                      "female"
                    ],
                    [
                      "female"
                    ],
                    [
                      "female"
                    ],
                    [
                      "male"
                    ],
                    [
                      "female"
                    ],
                    [
                      "female"
                    ],
                    [
                      "male"
                    ],
                    [
                      "male"
                    ],
                    [
                      "female"
                    ],
                    [
                      "female"
                    ],
                    [
                      "female"
                    ],
                    [
                      "female"
                    ],
                    [
                      "male"
                    ],
                    [
                      "female"
                    ],
                    [
                      "female"
                    ],
                    [
                      "female"
                    ],
                    [
                      "male"
                    ],
                    [
                      "female"
                    ],
                    [
                      "male"
                    ],
                    [
                      "male"
                    ],
                    [
                      "female"
                    ],
                    [
                      "female"
                    ],
                    [
                      "male"
                    ],
                    [
                      "male"
                    ],
                    [
                      "male"
                    ],
                    [
                      "female"
                    ],
                    [
                      "male"
                    ],
                    [
                      "female"
                    ],
                    [
                      "male"
                    ],
                    [
                      "female"
                    ],
                    [
                      "male"
                    ],
                    [
                      "male"
                    ],
                    [
                      "male"
                    ],
                    [
                      "female"
                    ],
                    [
                      "female"
                    ],
                    [
                      "female"
                    ],
                    [
                      "female"
                    ],
                    [
                      "male"
                    ],
                    [
                      "male"
                    ],
                    [
                      "male"
                    ],
                    [
                      "male"
                    ],
                    [
                      "male"
                    ],
                    [
                      "male"
                    ],
                    [
                      "female"
                    ],
                    [
                      "female"
                    ],
                    [
                      "male"
                    ],
                    [
                      "male"
                    ],
                    [
                      "male"
                    ],
                    [
                      "male"
                    ],
                    [
                      "female"
                    ],
                    [
                      "male"
                    ],
                    [
                      "male"
                    ],
                    [
                      "male"
                    ],
                    [
                      "male"
                    ],
                    [
                      "female"
                    ],
                    [
                      "female"
                    ],
                    [
                      "male"
                    ],
                    [
                      "male"
                    ],
                    [
                      "female"
                    ],
                    [
                      "female"
                    ],
                    [
                      "female"
                    ],
                    [
                      "male"
                    ],
                    [
                      "female"
                    ],
                    [
                      "male"
                    ],
                    [
                      "female"
                    ],
                    [
                      "female"
                    ],
                    [
                      "male"
                    ],
                    [
                      "male"
                    ],
                    [
                      "male"
                    ],
                    [
                      "female"
                    ],
                    [
                      "female"
                    ],
                    [
                      "female"
                    ],
                    [
                      "female"
                    ],
                    [
                      "male"
                    ],
                    [
                      "male"
                    ],
                    [
                      "female"
                    ],
                    [
                      "female"
                    ],
                    [
                      "male"
                    ],
                    [
                      "female"
                    ],
                    [
                      "male"
                    ],
                    [
                      "male"
                    ],
                    [
                      "female"
                    ],
                    [
                      "female"
                    ],
                    [
                      "female"
                    ],
                    [
                      "female"
                    ],
                    [
                      "female"
                    ],
                    [
                      "male"
                    ],
                    [
                      "male"
                    ],
                    [
                      "male"
                    ],
                    [
                      "female"
                    ],
                    [
                      "female"
                    ],
                    [
                      "male"
                    ],
                    [
                      "male"
                    ],
                    [
                      "male"
                    ],
                    [
                      "male"
                    ],
                    [
                      "female"
                    ],
                    [
                      "male"
                    ],
                    [
                      "male"
                    ],
                    [
                      "female"
                    ],
                    [
                      "male"
                    ],
                    [
                      "male"
                    ],
                    [
                      "female"
                    ],
                    [
                      "male"
                    ],
                    [
                      "male"
                    ],
                    [
                      "female"
                    ],
                    [
                      "female"
                    ],
                    [
                      "female"
                    ],
                    [
                      "female"
                    ],
                    [
                      "male"
                    ],
                    [
                      "female"
                    ],
                    [
                      "male"
                    ],
                    [
                      "female"
                    ],
                    [
                      "female"
                    ],
                    [
                      "female"
                    ],
                    [
                      "female"
                    ],
                    [
                      "male"
                    ],
                    [
                      "female"
                    ],
                    [
                      "male"
                    ],
                    [
                      "female"
                    ],
                    [
                      "male"
                    ],
                    [
                      "male"
                    ],
                    [
                      "male"
                    ],
                    [
                      "female"
                    ],
                    [
                      "male"
                    ],
                    [
                      "female"
                    ],
                    [
                      "female"
                    ],
                    [
                      "female"
                    ],
                    [
                      "male"
                    ],
                    [
                      "female"
                    ],
                    [
                      "male"
                    ],
                    [
                      "female"
                    ],
                    [
                      "male"
                    ],
                    [
                      "female"
                    ],
                    [
                      "female"
                    ],
                    [
                      "male"
                    ],
                    [
                      "female"
                    ],
                    [
                      "female"
                    ],
                    [
                      "female"
                    ],
                    [
                      "male"
                    ],
                    [
                      "female"
                    ],
                    [
                      "male"
                    ],
                    [
                      "male"
                    ],
                    [
                      "male"
                    ],
                    [
                      "male"
                    ],
                    [
                      "male"
                    ],
                    [
                      "female"
                    ],
                    [
                      "female"
                    ],
                    [
                      "female"
                    ],
                    [
                      "female"
                    ],
                    [
                      "male"
                    ],
                    [
                      "male"
                    ],
                    [
                      "female"
                    ],
                    [
                      "female"
                    ],
                    [
                      "male"
                    ],
                    [
                      "female"
                    ],
                    [
                      "female"
                    ]
                  ],
                  "hovertemplate": "GPA cuantiles=Medio<br>nota chilena Promedio=%{x}<br>parental level of education=%{y}<br>gender=%{customdata[0]}<extra></extra>",
                  "legendgroup": "Medio",
                  "marker": {
                    "color": "yellow",
                    "symbol": "circle"
                  },
                  "mode": "markers",
                  "name": "Medio",
                  "orientation": "h",
                  "showlegend": true,
                  "type": "scatter",
                  "x": [
                    4.92,
                    4.92,
                    4.92,
                    4.92,
                    4.92,
                    4.92,
                    4.92,
                    4.92,
                    4.92,
                    4.94,
                    4.94,
                    4.94,
                    4.94,
                    4.94,
                    4.94,
                    4.94,
                    4.96,
                    4.96,
                    4.96,
                    4.96,
                    4.96,
                    4.96,
                    4.96,
                    4.96,
                    4.96,
                    4.98,
                    4.98,
                    4.98,
                    4.98,
                    4.98,
                    5,
                    5,
                    5,
                    5,
                    5,
                    5,
                    5,
                    5.02,
                    5.02,
                    5.02,
                    5.02,
                    5.02,
                    5.02,
                    5.02,
                    5.02,
                    5.04,
                    5.04,
                    5.04,
                    5.04,
                    5.06,
                    5.06,
                    5.06,
                    5.06,
                    5.06,
                    5.06,
                    5.06,
                    5.08,
                    5.08,
                    5.08,
                    5.08,
                    5.08,
                    5.08,
                    5.08,
                    5.08,
                    5.08,
                    5.08,
                    5.08,
                    5.08,
                    5.1,
                    5.1,
                    5.1,
                    5.1,
                    5.1,
                    5.1,
                    5.1,
                    5.1,
                    5.1,
                    5.1,
                    5.12,
                    5.12,
                    5.12,
                    5.12,
                    5.12,
                    5.12,
                    5.12,
                    5.12,
                    5.12,
                    5.12,
                    5.12,
                    5.12,
                    5.14,
                    5.14,
                    5.14,
                    5.14,
                    5.14,
                    5.14,
                    5.14,
                    5.14,
                    5.14,
                    5.14,
                    5.14,
                    5.16,
                    5.16,
                    5.16,
                    5.16,
                    5.16,
                    5.16,
                    5.16,
                    5.16,
                    5.16,
                    5.16,
                    5.18,
                    5.18,
                    5.18,
                    5.18,
                    5.18,
                    5.2,
                    5.2,
                    5.2,
                    5.2,
                    5.2,
                    5.2,
                    5.2,
                    5.2,
                    5.2,
                    5.2,
                    5.2,
                    5.2,
                    5.22,
                    5.22,
                    5.22,
                    5.22,
                    5.22,
                    5.22,
                    5.22,
                    5.22,
                    5.24,
                    5.24,
                    5.24,
                    5.24,
                    5.26,
                    5.26,
                    5.26,
                    5.26,
                    5.26,
                    5.26,
                    5.26,
                    5.26,
                    5.26,
                    5.26,
                    5.26,
                    5.28,
                    5.28,
                    5.28,
                    5.28,
                    5.28,
                    5.28,
                    5.28,
                    5.28,
                    5.28,
                    5.28,
                    5.3,
                    5.3,
                    5.3,
                    5.3,
                    5.3,
                    5.3,
                    5.3,
                    5.3,
                    5.32,
                    5.32,
                    5.32,
                    5.32,
                    5.32,
                    5.32,
                    5.32,
                    5.32,
                    5.32
                  ],
                  "xaxis": "x",
                  "y": [
                    "some college",
                    "some high school",
                    "bachelor's degree",
                    "some college",
                    "some high school",
                    "some high school",
                    "high school",
                    "some college",
                    "bachelor's degree",
                    "some college",
                    "associate's degree",
                    "high school",
                    "high school",
                    "high school",
                    "some college",
                    "some high school",
                    "associate's degree",
                    "high school",
                    "high school",
                    "some high school",
                    "associate's degree",
                    "high school",
                    "some high school",
                    "high school",
                    "bachelor's degree",
                    "bachelor's degree",
                    "associate's degree",
                    "high school",
                    "some high school",
                    "associate's degree",
                    "some high school",
                    "some college",
                    "high school",
                    "associate's degree",
                    "bachelor's degree",
                    "some college",
                    "associate's degree",
                    "bachelor's degree",
                    "some college",
                    "high school",
                    "some college",
                    "some college",
                    "high school",
                    "some high school",
                    "some high school",
                    "associate's degree",
                    "high school",
                    "bachelor's degree",
                    "some high school",
                    "high school",
                    "bachelor's degree",
                    "bachelor's degree",
                    "some college",
                    "high school",
                    "bachelor's degree",
                    "some high school",
                    "associate's degree",
                    "some college",
                    "associate's degree",
                    "high school",
                    "high school",
                    "high school",
                    "high school",
                    "bachelor's degree",
                    "bachelor's degree",
                    "some college",
                    "some high school",
                    "some high school",
                    "some high school",
                    "associate's degree",
                    "some college",
                    "associate's degree",
                    "master's degree",
                    "high school",
                    "some high school",
                    "high school",
                    "high school",
                    "some college",
                    "associate's degree",
                    "bachelor's degree",
                    "associate's degree",
                    "some college",
                    "some high school",
                    "high school",
                    "some college",
                    "some college",
                    "high school",
                    "associate's degree",
                    "associate's degree",
                    "associate's degree",
                    "some high school",
                    "bachelor's degree",
                    "master's degree",
                    "bachelor's degree",
                    "some high school",
                    "high school",
                    "associate's degree",
                    "associate's degree",
                    "associate's degree",
                    "associate's degree",
                    "some college",
                    "some college",
                    "some high school",
                    "high school",
                    "some college",
                    "bachelor's degree",
                    "associate's degree",
                    "high school",
                    "associate's degree",
                    "some high school",
                    "some college",
                    "associate's degree",
                    "associate's degree",
                    "some high school",
                    "high school",
                    "high school",
                    "some college",
                    "some college",
                    "some college",
                    "high school",
                    "some high school",
                    "master's degree",
                    "bachelor's degree",
                    "high school",
                    "some high school",
                    "high school",
                    "high school",
                    "master's degree",
                    "bachelor's degree",
                    "some high school",
                    "high school",
                    "bachelor's degree",
                    "some college",
                    "associate's degree",
                    "some college",
                    "bachelor's degree",
                    "master's degree",
                    "high school",
                    "some college",
                    "bachelor's degree",
                    "some college",
                    "bachelor's degree",
                    "some college",
                    "high school",
                    "some college",
                    "associate's degree",
                    "high school",
                    "some college",
                    "high school",
                    "high school",
                    "bachelor's degree",
                    "associate's degree",
                    "associate's degree",
                    "associate's degree",
                    "associate's degree",
                    "some high school",
                    "associate's degree",
                    "bachelor's degree",
                    "associate's degree",
                    "bachelor's degree",
                    "some high school",
                    "some college",
                    "high school",
                    "some high school",
                    "high school",
                    "high school",
                    "associate's degree",
                    "some high school",
                    "master's degree",
                    "some high school",
                    "some high school",
                    "bachelor's degree",
                    "some college",
                    "associate's degree",
                    "associate's degree",
                    "some college",
                    "associate's degree",
                    "associate's degree"
                  ],
                  "yaxis": "y"
                },
                {
                  "customdata": [
                    [
                      "female"
                    ],
                    [
                      "female"
                    ],
                    [
                      "female"
                    ],
                    [
                      "female"
                    ],
                    [
                      "male"
                    ],
                    [
                      "female"
                    ],
                    [
                      "female"
                    ],
                    [
                      "female"
                    ],
                    [
                      "female"
                    ],
                    [
                      "female"
                    ],
                    [
                      "male"
                    ],
                    [
                      "female"
                    ],
                    [
                      "female"
                    ],
                    [
                      "female"
                    ],
                    [
                      "male"
                    ],
                    [
                      "male"
                    ],
                    [
                      "male"
                    ],
                    [
                      "female"
                    ],
                    [
                      "male"
                    ],
                    [
                      "male"
                    ],
                    [
                      "male"
                    ],
                    [
                      "female"
                    ],
                    [
                      "female"
                    ],
                    [
                      "female"
                    ],
                    [
                      "female"
                    ],
                    [
                      "female"
                    ],
                    [
                      "male"
                    ],
                    [
                      "male"
                    ],
                    [
                      "male"
                    ],
                    [
                      "male"
                    ],
                    [
                      "female"
                    ],
                    [
                      "male"
                    ],
                    [
                      "male"
                    ],
                    [
                      "female"
                    ],
                    [
                      "male"
                    ],
                    [
                      "male"
                    ],
                    [
                      "male"
                    ],
                    [
                      "female"
                    ],
                    [
                      "female"
                    ],
                    [
                      "male"
                    ],
                    [
                      "female"
                    ],
                    [
                      "male"
                    ],
                    [
                      "female"
                    ],
                    [
                      "female"
                    ],
                    [
                      "female"
                    ],
                    [
                      "male"
                    ],
                    [
                      "female"
                    ],
                    [
                      "male"
                    ],
                    [
                      "female"
                    ],
                    [
                      "female"
                    ],
                    [
                      "female"
                    ],
                    [
                      "female"
                    ],
                    [
                      "female"
                    ],
                    [
                      "female"
                    ],
                    [
                      "female"
                    ],
                    [
                      "female"
                    ],
                    [
                      "female"
                    ],
                    [
                      "female"
                    ],
                    [
                      "male"
                    ],
                    [
                      "female"
                    ],
                    [
                      "female"
                    ],
                    [
                      "male"
                    ],
                    [
                      "female"
                    ],
                    [
                      "male"
                    ],
                    [
                      "male"
                    ],
                    [
                      "female"
                    ],
                    [
                      "male"
                    ],
                    [
                      "female"
                    ],
                    [
                      "female"
                    ],
                    [
                      "male"
                    ],
                    [
                      "female"
                    ],
                    [
                      "female"
                    ],
                    [
                      "male"
                    ],
                    [
                      "female"
                    ],
                    [
                      "female"
                    ],
                    [
                      "male"
                    ],
                    [
                      "male"
                    ],
                    [
                      "female"
                    ],
                    [
                      "male"
                    ],
                    [
                      "female"
                    ],
                    [
                      "male"
                    ],
                    [
                      "female"
                    ],
                    [
                      "male"
                    ],
                    [
                      "female"
                    ],
                    [
                      "female"
                    ],
                    [
                      "female"
                    ],
                    [
                      "female"
                    ],
                    [
                      "female"
                    ],
                    [
                      "female"
                    ],
                    [
                      "male"
                    ],
                    [
                      "male"
                    ],
                    [
                      "female"
                    ],
                    [
                      "female"
                    ],
                    [
                      "female"
                    ],
                    [
                      "female"
                    ],
                    [
                      "female"
                    ],
                    [
                      "male"
                    ],
                    [
                      "female"
                    ],
                    [
                      "male"
                    ],
                    [
                      "female"
                    ],
                    [
                      "male"
                    ],
                    [
                      "female"
                    ],
                    [
                      "male"
                    ],
                    [
                      "male"
                    ],
                    [
                      "male"
                    ],
                    [
                      "female"
                    ],
                    [
                      "female"
                    ],
                    [
                      "female"
                    ],
                    [
                      "male"
                    ],
                    [
                      "female"
                    ],
                    [
                      "female"
                    ],
                    [
                      "female"
                    ],
                    [
                      "female"
                    ],
                    [
                      "male"
                    ],
                    [
                      "male"
                    ],
                    [
                      "male"
                    ],
                    [
                      "female"
                    ],
                    [
                      "female"
                    ],
                    [
                      "female"
                    ],
                    [
                      "female"
                    ],
                    [
                      "female"
                    ],
                    [
                      "male"
                    ],
                    [
                      "female"
                    ],
                    [
                      "female"
                    ],
                    [
                      "female"
                    ],
                    [
                      "male"
                    ],
                    [
                      "female"
                    ],
                    [
                      "female"
                    ],
                    [
                      "female"
                    ],
                    [
                      "male"
                    ],
                    [
                      "male"
                    ],
                    [
                      "male"
                    ],
                    [
                      "female"
                    ],
                    [
                      "male"
                    ],
                    [
                      "male"
                    ],
                    [
                      "male"
                    ],
                    [
                      "female"
                    ],
                    [
                      "female"
                    ],
                    [
                      "female"
                    ],
                    [
                      "male"
                    ],
                    [
                      "male"
                    ],
                    [
                      "female"
                    ],
                    [
                      "female"
                    ],
                    [
                      "female"
                    ],
                    [
                      "female"
                    ],
                    [
                      "female"
                    ],
                    [
                      "female"
                    ],
                    [
                      "female"
                    ],
                    [
                      "female"
                    ],
                    [
                      "male"
                    ],
                    [
                      "female"
                    ],
                    [
                      "female"
                    ],
                    [
                      "female"
                    ],
                    [
                      "female"
                    ],
                    [
                      "male"
                    ],
                    [
                      "male"
                    ],
                    [
                      "male"
                    ],
                    [
                      "male"
                    ],
                    [
                      "female"
                    ],
                    [
                      "female"
                    ],
                    [
                      "male"
                    ],
                    [
                      "male"
                    ],
                    [
                      "male"
                    ],
                    [
                      "female"
                    ],
                    [
                      "female"
                    ],
                    [
                      "male"
                    ],
                    [
                      "female"
                    ],
                    [
                      "male"
                    ],
                    [
                      "female"
                    ],
                    [
                      "male"
                    ],
                    [
                      "male"
                    ],
                    [
                      "male"
                    ]
                  ],
                  "hovertemplate": "GPA cuantiles=Alto<br>nota chilena Promedio=%{x}<br>parental level of education=%{y}<br>gender=%{customdata[0]}<extra></extra>",
                  "legendgroup": "Alto",
                  "marker": {
                    "color": "greenyellow",
                    "symbol": "circle"
                  },
                  "mode": "markers",
                  "name": "Alto",
                  "orientation": "h",
                  "showlegend": true,
                  "type": "scatter",
                  "x": [
                    5.34,
                    5.34,
                    5.34,
                    5.34,
                    5.34,
                    5.34,
                    5.36,
                    5.36,
                    5.36,
                    5.36,
                    5.36,
                    5.36,
                    5.36,
                    5.36,
                    5.36,
                    5.38,
                    5.38,
                    5.38,
                    5.38,
                    5.38,
                    5.38,
                    5.38,
                    5.38,
                    5.38,
                    5.38,
                    5.38,
                    5.38,
                    5.4,
                    5.4,
                    5.4,
                    5.4,
                    5.4,
                    5.4,
                    5.4,
                    5.4,
                    5.4,
                    5.42,
                    5.42,
                    5.42,
                    5.42,
                    5.42,
                    5.44,
                    5.44,
                    5.44,
                    5.44,
                    5.44,
                    5.44,
                    5.46,
                    5.46,
                    5.46,
                    5.46,
                    5.46,
                    5.46,
                    5.46,
                    5.46,
                    5.46,
                    5.46,
                    5.48,
                    5.48,
                    5.48,
                    5.48,
                    5.48,
                    5.48,
                    5.48,
                    5.5,
                    5.5,
                    5.5,
                    5.5,
                    5.5,
                    5.5,
                    5.5,
                    5.5,
                    5.5,
                    5.52,
                    5.52,
                    5.52,
                    5.52,
                    5.52,
                    5.52,
                    5.54,
                    5.54,
                    5.54,
                    5.54,
                    5.54,
                    5.54,
                    5.54,
                    5.54,
                    5.54,
                    5.56,
                    5.56,
                    5.56,
                    5.56,
                    5.56,
                    5.56,
                    5.56,
                    5.56,
                    5.56,
                    5.58,
                    5.58,
                    5.58,
                    5.58,
                    5.58,
                    5.58,
                    5.6,
                    5.6,
                    5.6,
                    5.6,
                    5.62,
                    5.62,
                    5.62,
                    5.62,
                    5.62,
                    5.62,
                    5.64,
                    5.64,
                    5.64,
                    5.64,
                    5.64,
                    5.64,
                    5.64,
                    5.64,
                    5.64,
                    5.64,
                    5.64,
                    5.66,
                    5.66,
                    5.66,
                    5.66,
                    5.68,
                    5.68,
                    5.68,
                    5.68,
                    5.68,
                    5.68,
                    5.68,
                    5.68,
                    5.7,
                    5.7,
                    5.7,
                    5.7,
                    5.7,
                    5.7,
                    5.7,
                    5.7,
                    5.72,
                    5.72,
                    5.72,
                    5.72,
                    5.72,
                    5.72,
                    5.72,
                    5.74,
                    5.74,
                    5.74,
                    5.74,
                    5.74,
                    5.74,
                    5.74,
                    5.76,
                    5.76,
                    5.76,
                    5.76,
                    5.76,
                    5.76,
                    5.76,
                    5.76,
                    5.78,
                    5.78,
                    5.78,
                    5.78,
                    5.78,
                    5.78
                  ],
                  "xaxis": "x",
                  "y": [
                    "associate's degree",
                    "some college",
                    "some college",
                    "associate's degree",
                    "high school",
                    "some college",
                    "some college",
                    "some high school",
                    "high school",
                    "some college",
                    "master's degree",
                    "associate's degree",
                    "high school",
                    "bachelor's degree",
                    "some high school",
                    "high school",
                    "master's degree",
                    "bachelor's degree",
                    "bachelor's degree",
                    "some college",
                    "some college",
                    "high school",
                    "high school",
                    "some high school",
                    "high school",
                    "bachelor's degree",
                    "some high school",
                    "some college",
                    "some high school",
                    "master's degree",
                    "some high school",
                    "associate's degree",
                    "some high school",
                    "some high school",
                    "some college",
                    "associate's degree",
                    "high school",
                    "bachelor's degree",
                    "some college",
                    "high school",
                    "bachelor's degree",
                    "bachelor's degree",
                    "some high school",
                    "some college",
                    "some high school",
                    "bachelor's degree",
                    "some college",
                    "associate's degree",
                    "some college",
                    "some college",
                    "some college",
                    "some college",
                    "some college",
                    "high school",
                    "some college",
                    "some college",
                    "associate's degree",
                    "high school",
                    "associate's degree",
                    "high school",
                    "high school",
                    "some college",
                    "some high school",
                    "associate's degree",
                    "associate's degree",
                    "bachelor's degree",
                    "bachelor's degree",
                    "associate's degree",
                    "associate's degree",
                    "bachelor's degree",
                    "some high school",
                    "some high school",
                    "associate's degree",
                    "some college",
                    "high school",
                    "associate's degree",
                    "some college",
                    "associate's degree",
                    "high school",
                    "associate's degree",
                    "some college",
                    "some college",
                    "high school",
                    "master's degree",
                    "high school",
                    "some college",
                    "bachelor's degree",
                    "associate's degree",
                    "associate's degree",
                    "bachelor's degree",
                    "some college",
                    "some high school",
                    "some high school",
                    "some high school",
                    "high school",
                    "some college",
                    "associate's degree",
                    "some college",
                    "some college",
                    "high school",
                    "some high school",
                    "associate's degree",
                    "some high school",
                    "some high school",
                    "associate's degree",
                    "high school",
                    "bachelor's degree",
                    "some college",
                    "some college",
                    "some high school",
                    "some high school",
                    "some high school",
                    "some high school",
                    "some high school",
                    "associate's degree",
                    "associate's degree",
                    "some college",
                    "associate's degree",
                    "bachelor's degree",
                    "associate's degree",
                    "associate's degree",
                    "associate's degree",
                    "some high school",
                    "associate's degree",
                    "some college",
                    "associate's degree",
                    "bachelor's degree",
                    "associate's degree",
                    "associate's degree",
                    "high school",
                    "master's degree",
                    "bachelor's degree",
                    "some college",
                    "some high school",
                    "associate's degree",
                    "associate's degree",
                    "some college",
                    "some college",
                    "associate's degree",
                    "high school",
                    "high school",
                    "some college",
                    "high school",
                    "master's degree",
                    "some high school",
                    "bachelor's degree",
                    "bachelor's degree",
                    "some high school",
                    "high school",
                    "some college",
                    "some college",
                    "associate's degree",
                    "associate's degree",
                    "some college",
                    "high school",
                    "some high school",
                    "some high school",
                    "associate's degree",
                    "master's degree",
                    "associate's degree",
                    "some college",
                    "high school",
                    "master's degree",
                    "some high school",
                    "associate's degree",
                    "some high school",
                    "bachelor's degree",
                    "bachelor's degree",
                    "bachelor's degree",
                    "associate's degree",
                    "some college",
                    "bachelor's degree"
                  ],
                  "yaxis": "y"
                },
                {
                  "customdata": [
                    [
                      "female"
                    ],
                    [
                      "female"
                    ],
                    [
                      "female"
                    ],
                    [
                      "male"
                    ],
                    [
                      "male"
                    ],
                    [
                      "male"
                    ],
                    [
                      "male"
                    ],
                    [
                      "male"
                    ],
                    [
                      "female"
                    ],
                    [
                      "male"
                    ],
                    [
                      "male"
                    ],
                    [
                      "female"
                    ],
                    [
                      "female"
                    ],
                    [
                      "male"
                    ],
                    [
                      "male"
                    ],
                    [
                      "female"
                    ],
                    [
                      "female"
                    ],
                    [
                      "male"
                    ],
                    [
                      "male"
                    ],
                    [
                      "male"
                    ],
                    [
                      "male"
                    ],
                    [
                      "female"
                    ],
                    [
                      "male"
                    ],
                    [
                      "male"
                    ],
                    [
                      "male"
                    ],
                    [
                      "female"
                    ],
                    [
                      "male"
                    ],
                    [
                      "male"
                    ],
                    [
                      "female"
                    ],
                    [
                      "male"
                    ],
                    [
                      "male"
                    ],
                    [
                      "female"
                    ],
                    [
                      "female"
                    ],
                    [
                      "female"
                    ],
                    [
                      "male"
                    ],
                    [
                      "male"
                    ],
                    [
                      "female"
                    ],
                    [
                      "female"
                    ],
                    [
                      "male"
                    ],
                    [
                      "female"
                    ],
                    [
                      "female"
                    ],
                    [
                      "female"
                    ],
                    [
                      "male"
                    ],
                    [
                      "male"
                    ],
                    [
                      "female"
                    ],
                    [
                      "male"
                    ],
                    [
                      "female"
                    ],
                    [
                      "female"
                    ],
                    [
                      "female"
                    ],
                    [
                      "female"
                    ],
                    [
                      "male"
                    ],
                    [
                      "male"
                    ],
                    [
                      "male"
                    ],
                    [
                      "female"
                    ],
                    [
                      "female"
                    ],
                    [
                      "male"
                    ],
                    [
                      "female"
                    ],
                    [
                      "male"
                    ],
                    [
                      "male"
                    ],
                    [
                      "female"
                    ],
                    [
                      "male"
                    ],
                    [
                      "male"
                    ],
                    [
                      "female"
                    ],
                    [
                      "female"
                    ],
                    [
                      "female"
                    ],
                    [
                      "male"
                    ],
                    [
                      "female"
                    ],
                    [
                      "female"
                    ],
                    [
                      "female"
                    ],
                    [
                      "female"
                    ],
                    [
                      "female"
                    ],
                    [
                      "male"
                    ],
                    [
                      "male"
                    ],
                    [
                      "male"
                    ],
                    [
                      "male"
                    ],
                    [
                      "male"
                    ],
                    [
                      "female"
                    ],
                    [
                      "female"
                    ],
                    [
                      "female"
                    ],
                    [
                      "male"
                    ],
                    [
                      "female"
                    ],
                    [
                      "female"
                    ],
                    [
                      "female"
                    ],
                    [
                      "male"
                    ],
                    [
                      "female"
                    ],
                    [
                      "female"
                    ],
                    [
                      "male"
                    ],
                    [
                      "male"
                    ],
                    [
                      "female"
                    ],
                    [
                      "male"
                    ],
                    [
                      "male"
                    ],
                    [
                      "male"
                    ],
                    [
                      "male"
                    ],
                    [
                      "female"
                    ],
                    [
                      "female"
                    ],
                    [
                      "male"
                    ],
                    [
                      "male"
                    ],
                    [
                      "female"
                    ],
                    [
                      "female"
                    ],
                    [
                      "female"
                    ],
                    [
                      "female"
                    ],
                    [
                      "male"
                    ],
                    [
                      "male"
                    ],
                    [
                      "female"
                    ],
                    [
                      "male"
                    ],
                    [
                      "male"
                    ],
                    [
                      "female"
                    ],
                    [
                      "female"
                    ],
                    [
                      "female"
                    ],
                    [
                      "female"
                    ],
                    [
                      "female"
                    ],
                    [
                      "female"
                    ],
                    [
                      "male"
                    ],
                    [
                      "female"
                    ],
                    [
                      "male"
                    ],
                    [
                      "male"
                    ],
                    [
                      "female"
                    ],
                    [
                      "female"
                    ],
                    [
                      "male"
                    ],
                    [
                      "female"
                    ],
                    [
                      "male"
                    ],
                    [
                      "male"
                    ],
                    [
                      "female"
                    ],
                    [
                      "female"
                    ],
                    [
                      "female"
                    ],
                    [
                      "female"
                    ],
                    [
                      "female"
                    ],
                    [
                      "female"
                    ],
                    [
                      "female"
                    ],
                    [
                      "female"
                    ],
                    [
                      "female"
                    ],
                    [
                      "female"
                    ],
                    [
                      "male"
                    ],
                    [
                      "female"
                    ],
                    [
                      "male"
                    ],
                    [
                      "female"
                    ],
                    [
                      "male"
                    ],
                    [
                      "female"
                    ],
                    [
                      "male"
                    ],
                    [
                      "female"
                    ],
                    [
                      "female"
                    ],
                    [
                      "female"
                    ],
                    [
                      "female"
                    ],
                    [
                      "male"
                    ],
                    [
                      "male"
                    ],
                    [
                      "female"
                    ],
                    [
                      "female"
                    ],
                    [
                      "female"
                    ],
                    [
                      "male"
                    ],
                    [
                      "male"
                    ],
                    [
                      "female"
                    ],
                    [
                      "female"
                    ],
                    [
                      "male"
                    ],
                    [
                      "female"
                    ],
                    [
                      "female"
                    ],
                    [
                      "female"
                    ],
                    [
                      "female"
                    ],
                    [
                      "female"
                    ],
                    [
                      "female"
                    ],
                    [
                      "female"
                    ],
                    [
                      "female"
                    ],
                    [
                      "male"
                    ],
                    [
                      "female"
                    ],
                    [
                      "female"
                    ],
                    [
                      "female"
                    ],
                    [
                      "male"
                    ],
                    [
                      "female"
                    ],
                    [
                      "female"
                    ],
                    [
                      "female"
                    ],
                    [
                      "female"
                    ],
                    [
                      "male"
                    ],
                    [
                      "female"
                    ]
                  ],
                  "hovertemplate": "GPA cuantiles=Muy alto<br>nota chilena Promedio=%{x}<br>parental level of education=%{y}<br>gender=%{customdata[0]}<extra></extra>",
                  "legendgroup": "Muy alto",
                  "marker": {
                    "color": "green",
                    "symbol": "circle"
                  },
                  "mode": "markers",
                  "name": "Muy alto",
                  "orientation": "h",
                  "showlegend": true,
                  "type": "scatter",
                  "x": [
                    5.8,
                    5.8,
                    5.8,
                    5.82,
                    5.82,
                    5.82,
                    5.82,
                    5.82,
                    5.82,
                    5.82,
                    5.84,
                    5.84,
                    5.84,
                    5.84,
                    5.84,
                    5.84,
                    5.84,
                    5.86,
                    5.88,
                    5.88,
                    5.88,
                    5.88,
                    5.9,
                    5.9,
                    5.9,
                    5.92,
                    5.92,
                    5.94,
                    5.94,
                    5.94,
                    5.94,
                    5.94,
                    5.94,
                    5.94,
                    5.94,
                    5.94,
                    5.94,
                    5.94,
                    5.96,
                    5.96,
                    5.96,
                    5.96,
                    5.96,
                    5.98,
                    5.98,
                    5.98,
                    5.98,
                    5.98,
                    5.98,
                    5.98,
                    5.98,
                    5.98,
                    6,
                    6,
                    6,
                    6,
                    6,
                    6.02,
                    6.02,
                    6.04,
                    6.04,
                    6.04,
                    6.04,
                    6.04,
                    6.04,
                    6.04,
                    6.04,
                    6.06,
                    6.06,
                    6.08,
                    6.08,
                    6.1,
                    6.1,
                    6.1,
                    6.1,
                    6.12,
                    6.12,
                    6.12,
                    6.14,
                    6.14,
                    6.14,
                    6.14,
                    6.14,
                    6.14,
                    6.16,
                    6.16,
                    6.16,
                    6.16,
                    6.18,
                    6.18,
                    6.18,
                    6.18,
                    6.2,
                    6.2,
                    6.2,
                    6.22,
                    6.22,
                    6.22,
                    6.22,
                    6.22,
                    6.24,
                    6.24,
                    6.24,
                    6.24,
                    6.26,
                    6.26,
                    6.28,
                    6.28,
                    6.3,
                    6.3,
                    6.3,
                    6.3,
                    6.3,
                    6.32,
                    6.32,
                    6.32,
                    6.32,
                    6.32,
                    6.34,
                    6.34,
                    6.34,
                    6.34,
                    6.36,
                    6.36,
                    6.36,
                    6.36,
                    6.38,
                    6.38,
                    6.4,
                    6.42,
                    6.42,
                    6.42,
                    6.44,
                    6.46,
                    6.48,
                    6.48,
                    6.5,
                    6.5,
                    6.5,
                    6.5,
                    6.5,
                    6.52,
                    6.54,
                    6.56,
                    6.56,
                    6.56,
                    6.6,
                    6.6,
                    6.62,
                    6.64,
                    6.64,
                    6.64,
                    6.64,
                    6.74,
                    6.76,
                    6.78,
                    6.78,
                    6.8,
                    6.82,
                    6.82,
                    6.84,
                    6.86,
                    6.86,
                    6.86,
                    6.92,
                    6.92,
                    6.94,
                    6.94,
                    6.98,
                    7,
                    7,
                    7
                  ],
                  "xaxis": "x",
                  "y": [
                    "some college",
                    "high school",
                    "high school",
                    "associate's degree",
                    "some high school",
                    "associate's degree",
                    "some college",
                    "high school",
                    "some high school",
                    "some high school",
                    "some college",
                    "bachelor's degree",
                    "bachelor's degree",
                    "high school",
                    "some high school",
                    "some high school",
                    "some high school",
                    "associate's degree",
                    "associate's degree",
                    "high school",
                    "associate's degree",
                    "some high school",
                    "associate's degree",
                    "some college",
                    "some high school",
                    "bachelor's degree",
                    "master's degree",
                    "high school",
                    "some college",
                    "some high school",
                    "some high school",
                    "high school",
                    "some college",
                    "some college",
                    "some high school",
                    "some college",
                    "some college",
                    "associate's degree",
                    "some high school",
                    "high school",
                    "some college",
                    "high school",
                    "high school",
                    "bachelor's degree",
                    "bachelor's degree",
                    "bachelor's degree",
                    "bachelor's degree",
                    "associate's degree",
                    "some college",
                    "high school",
                    "associate's degree",
                    "some college",
                    "some high school",
                    "high school",
                    "some high school",
                    "some high school",
                    "master's degree",
                    "bachelor's degree",
                    "some college",
                    "associate's degree",
                    "associate's degree",
                    "some college",
                    "some high school",
                    "some high school",
                    "some high school",
                    "some college",
                    "bachelor's degree",
                    "associate's degree",
                    "associate's degree",
                    "some college",
                    "some college",
                    "master's degree",
                    "high school",
                    "bachelor's degree",
                    "associate's degree",
                    "associate's degree",
                    "some high school",
                    "some college",
                    "associate's degree",
                    "some college",
                    "some college",
                    "associate's degree",
                    "bachelor's degree",
                    "some high school",
                    "some college",
                    "associate's degree",
                    "bachelor's degree",
                    "master's degree",
                    "master's degree",
                    "some high school",
                    "master's degree",
                    "high school",
                    "some high school",
                    "bachelor's degree",
                    "some high school",
                    "master's degree",
                    "associate's degree",
                    "associate's degree",
                    "bachelor's degree",
                    "associate's degree",
                    "some college",
                    "associate's degree",
                    "associate's degree",
                    "associate's degree",
                    "master's degree",
                    "high school",
                    "associate's degree",
                    "master's degree",
                    "some college",
                    "bachelor's degree",
                    "associate's degree",
                    "master's degree",
                    "bachelor's degree",
                    "bachelor's degree",
                    "some college",
                    "some college",
                    "some college",
                    "associate's degree",
                    "some high school",
                    "some high school",
                    "some college",
                    "associate's degree",
                    "associate's degree",
                    "high school",
                    "associate's degree",
                    "master's degree",
                    "some college",
                    "associate's degree",
                    "some high school",
                    "associate's degree",
                    "associate's degree",
                    "bachelor's degree",
                    "associate's degree",
                    "associate's degree",
                    "some college",
                    "some high school",
                    "associate's degree",
                    "associate's degree",
                    "associate's degree",
                    "some college",
                    "some college",
                    "associate's degree",
                    "some college",
                    "bachelor's degree",
                    "some college",
                    "master's degree",
                    "associate's degree",
                    "master's degree",
                    "associate's degree",
                    "some college",
                    "master's degree",
                    "high school",
                    "associate's degree",
                    "high school",
                    "associate's degree",
                    "some college",
                    "bachelor's degree",
                    "bachelor's degree",
                    "bachelor's degree",
                    "associate's degree",
                    "master's degree",
                    "associate's degree",
                    "bachelor's degree",
                    "master's degree",
                    "bachelor's degree",
                    "some college",
                    "some high school",
                    "some college",
                    "bachelor's degree",
                    "bachelor's degree",
                    "bachelor's degree",
                    "associate's degree"
                  ],
                  "yaxis": "y"
                }
              ],
              "layout": {
                "legend": {
                  "title": {
                    "text": "GPA cuantiles"
                  },
                  "tracegroupgap": 0
                },
                "template": {
                  "data": {
                    "bar": [
                      {
                        "error_x": {
                          "color": "#2a3f5f"
                        },
                        "error_y": {
                          "color": "#2a3f5f"
                        },
                        "marker": {
                          "line": {
                            "color": "#E5ECF6",
                            "width": 0.5
                          },
                          "pattern": {
                            "fillmode": "overlay",
                            "size": 10,
                            "solidity": 0.2
                          }
                        },
                        "type": "bar"
                      }
                    ],
                    "barpolar": [
                      {
                        "marker": {
                          "line": {
                            "color": "#E5ECF6",
                            "width": 0.5
                          },
                          "pattern": {
                            "fillmode": "overlay",
                            "size": 10,
                            "solidity": 0.2
                          }
                        },
                        "type": "barpolar"
                      }
                    ],
                    "carpet": [
                      {
                        "aaxis": {
                          "endlinecolor": "#2a3f5f",
                          "gridcolor": "white",
                          "linecolor": "white",
                          "minorgridcolor": "white",
                          "startlinecolor": "#2a3f5f"
                        },
                        "baxis": {
                          "endlinecolor": "#2a3f5f",
                          "gridcolor": "white",
                          "linecolor": "white",
                          "minorgridcolor": "white",
                          "startlinecolor": "#2a3f5f"
                        },
                        "type": "carpet"
                      }
                    ],
                    "choropleth": [
                      {
                        "colorbar": {
                          "outlinewidth": 0,
                          "ticks": ""
                        },
                        "type": "choropleth"
                      }
                    ],
                    "contour": [
                      {
                        "colorbar": {
                          "outlinewidth": 0,
                          "ticks": ""
                        },
                        "colorscale": [
                          [
                            0,
                            "#0d0887"
                          ],
                          [
                            0.1111111111111111,
                            "#46039f"
                          ],
                          [
                            0.2222222222222222,
                            "#7201a8"
                          ],
                          [
                            0.3333333333333333,
                            "#9c179e"
                          ],
                          [
                            0.4444444444444444,
                            "#bd3786"
                          ],
                          [
                            0.5555555555555556,
                            "#d8576b"
                          ],
                          [
                            0.6666666666666666,
                            "#ed7953"
                          ],
                          [
                            0.7777777777777778,
                            "#fb9f3a"
                          ],
                          [
                            0.8888888888888888,
                            "#fdca26"
                          ],
                          [
                            1,
                            "#f0f921"
                          ]
                        ],
                        "type": "contour"
                      }
                    ],
                    "contourcarpet": [
                      {
                        "colorbar": {
                          "outlinewidth": 0,
                          "ticks": ""
                        },
                        "type": "contourcarpet"
                      }
                    ],
                    "heatmap": [
                      {
                        "colorbar": {
                          "outlinewidth": 0,
                          "ticks": ""
                        },
                        "colorscale": [
                          [
                            0,
                            "#0d0887"
                          ],
                          [
                            0.1111111111111111,
                            "#46039f"
                          ],
                          [
                            0.2222222222222222,
                            "#7201a8"
                          ],
                          [
                            0.3333333333333333,
                            "#9c179e"
                          ],
                          [
                            0.4444444444444444,
                            "#bd3786"
                          ],
                          [
                            0.5555555555555556,
                            "#d8576b"
                          ],
                          [
                            0.6666666666666666,
                            "#ed7953"
                          ],
                          [
                            0.7777777777777778,
                            "#fb9f3a"
                          ],
                          [
                            0.8888888888888888,
                            "#fdca26"
                          ],
                          [
                            1,
                            "#f0f921"
                          ]
                        ],
                        "type": "heatmap"
                      }
                    ],
                    "heatmapgl": [
                      {
                        "colorbar": {
                          "outlinewidth": 0,
                          "ticks": ""
                        },
                        "colorscale": [
                          [
                            0,
                            "#0d0887"
                          ],
                          [
                            0.1111111111111111,
                            "#46039f"
                          ],
                          [
                            0.2222222222222222,
                            "#7201a8"
                          ],
                          [
                            0.3333333333333333,
                            "#9c179e"
                          ],
                          [
                            0.4444444444444444,
                            "#bd3786"
                          ],
                          [
                            0.5555555555555556,
                            "#d8576b"
                          ],
                          [
                            0.6666666666666666,
                            "#ed7953"
                          ],
                          [
                            0.7777777777777778,
                            "#fb9f3a"
                          ],
                          [
                            0.8888888888888888,
                            "#fdca26"
                          ],
                          [
                            1,
                            "#f0f921"
                          ]
                        ],
                        "type": "heatmapgl"
                      }
                    ],
                    "histogram": [
                      {
                        "marker": {
                          "pattern": {
                            "fillmode": "overlay",
                            "size": 10,
                            "solidity": 0.2
                          }
                        },
                        "type": "histogram"
                      }
                    ],
                    "histogram2d": [
                      {
                        "colorbar": {
                          "outlinewidth": 0,
                          "ticks": ""
                        },
                        "colorscale": [
                          [
                            0,
                            "#0d0887"
                          ],
                          [
                            0.1111111111111111,
                            "#46039f"
                          ],
                          [
                            0.2222222222222222,
                            "#7201a8"
                          ],
                          [
                            0.3333333333333333,
                            "#9c179e"
                          ],
                          [
                            0.4444444444444444,
                            "#bd3786"
                          ],
                          [
                            0.5555555555555556,
                            "#d8576b"
                          ],
                          [
                            0.6666666666666666,
                            "#ed7953"
                          ],
                          [
                            0.7777777777777778,
                            "#fb9f3a"
                          ],
                          [
                            0.8888888888888888,
                            "#fdca26"
                          ],
                          [
                            1,
                            "#f0f921"
                          ]
                        ],
                        "type": "histogram2d"
                      }
                    ],
                    "histogram2dcontour": [
                      {
                        "colorbar": {
                          "outlinewidth": 0,
                          "ticks": ""
                        },
                        "colorscale": [
                          [
                            0,
                            "#0d0887"
                          ],
                          [
                            0.1111111111111111,
                            "#46039f"
                          ],
                          [
                            0.2222222222222222,
                            "#7201a8"
                          ],
                          [
                            0.3333333333333333,
                            "#9c179e"
                          ],
                          [
                            0.4444444444444444,
                            "#bd3786"
                          ],
                          [
                            0.5555555555555556,
                            "#d8576b"
                          ],
                          [
                            0.6666666666666666,
                            "#ed7953"
                          ],
                          [
                            0.7777777777777778,
                            "#fb9f3a"
                          ],
                          [
                            0.8888888888888888,
                            "#fdca26"
                          ],
                          [
                            1,
                            "#f0f921"
                          ]
                        ],
                        "type": "histogram2dcontour"
                      }
                    ],
                    "mesh3d": [
                      {
                        "colorbar": {
                          "outlinewidth": 0,
                          "ticks": ""
                        },
                        "type": "mesh3d"
                      }
                    ],
                    "parcoords": [
                      {
                        "line": {
                          "colorbar": {
                            "outlinewidth": 0,
                            "ticks": ""
                          }
                        },
                        "type": "parcoords"
                      }
                    ],
                    "pie": [
                      {
                        "automargin": true,
                        "type": "pie"
                      }
                    ],
                    "scatter": [
                      {
                        "fillpattern": {
                          "fillmode": "overlay",
                          "size": 10,
                          "solidity": 0.2
                        },
                        "type": "scatter"
                      }
                    ],
                    "scatter3d": [
                      {
                        "line": {
                          "colorbar": {
                            "outlinewidth": 0,
                            "ticks": ""
                          }
                        },
                        "marker": {
                          "colorbar": {
                            "outlinewidth": 0,
                            "ticks": ""
                          }
                        },
                        "type": "scatter3d"
                      }
                    ],
                    "scattercarpet": [
                      {
                        "marker": {
                          "colorbar": {
                            "outlinewidth": 0,
                            "ticks": ""
                          }
                        },
                        "type": "scattercarpet"
                      }
                    ],
                    "scattergeo": [
                      {
                        "marker": {
                          "colorbar": {
                            "outlinewidth": 0,
                            "ticks": ""
                          }
                        },
                        "type": "scattergeo"
                      }
                    ],
                    "scattergl": [
                      {
                        "marker": {
                          "colorbar": {
                            "outlinewidth": 0,
                            "ticks": ""
                          }
                        },
                        "type": "scattergl"
                      }
                    ],
                    "scattermapbox": [
                      {
                        "marker": {
                          "colorbar": {
                            "outlinewidth": 0,
                            "ticks": ""
                          }
                        },
                        "type": "scattermapbox"
                      }
                    ],
                    "scatterpolar": [
                      {
                        "marker": {
                          "colorbar": {
                            "outlinewidth": 0,
                            "ticks": ""
                          }
                        },
                        "type": "scatterpolar"
                      }
                    ],
                    "scatterpolargl": [
                      {
                        "marker": {
                          "colorbar": {
                            "outlinewidth": 0,
                            "ticks": ""
                          }
                        },
                        "type": "scatterpolargl"
                      }
                    ],
                    "scatterternary": [
                      {
                        "marker": {
                          "colorbar": {
                            "outlinewidth": 0,
                            "ticks": ""
                          }
                        },
                        "type": "scatterternary"
                      }
                    ],
                    "surface": [
                      {
                        "colorbar": {
                          "outlinewidth": 0,
                          "ticks": ""
                        },
                        "colorscale": [
                          [
                            0,
                            "#0d0887"
                          ],
                          [
                            0.1111111111111111,
                            "#46039f"
                          ],
                          [
                            0.2222222222222222,
                            "#7201a8"
                          ],
                          [
                            0.3333333333333333,
                            "#9c179e"
                          ],
                          [
                            0.4444444444444444,
                            "#bd3786"
                          ],
                          [
                            0.5555555555555556,
                            "#d8576b"
                          ],
                          [
                            0.6666666666666666,
                            "#ed7953"
                          ],
                          [
                            0.7777777777777778,
                            "#fb9f3a"
                          ],
                          [
                            0.8888888888888888,
                            "#fdca26"
                          ],
                          [
                            1,
                            "#f0f921"
                          ]
                        ],
                        "type": "surface"
                      }
                    ],
                    "table": [
                      {
                        "cells": {
                          "fill": {
                            "color": "#EBF0F8"
                          },
                          "line": {
                            "color": "white"
                          }
                        },
                        "header": {
                          "fill": {
                            "color": "#C8D4E3"
                          },
                          "line": {
                            "color": "white"
                          }
                        },
                        "type": "table"
                      }
                    ]
                  },
                  "layout": {
                    "annotationdefaults": {
                      "arrowcolor": "#2a3f5f",
                      "arrowhead": 0,
                      "arrowwidth": 1
                    },
                    "autotypenumbers": "strict",
                    "coloraxis": {
                      "colorbar": {
                        "outlinewidth": 0,
                        "ticks": ""
                      }
                    },
                    "colorscale": {
                      "diverging": [
                        [
                          0,
                          "#8e0152"
                        ],
                        [
                          0.1,
                          "#c51b7d"
                        ],
                        [
                          0.2,
                          "#de77ae"
                        ],
                        [
                          0.3,
                          "#f1b6da"
                        ],
                        [
                          0.4,
                          "#fde0ef"
                        ],
                        [
                          0.5,
                          "#f7f7f7"
                        ],
                        [
                          0.6,
                          "#e6f5d0"
                        ],
                        [
                          0.7,
                          "#b8e186"
                        ],
                        [
                          0.8,
                          "#7fbc41"
                        ],
                        [
                          0.9,
                          "#4d9221"
                        ],
                        [
                          1,
                          "#276419"
                        ]
                      ],
                      "sequential": [
                        [
                          0,
                          "#0d0887"
                        ],
                        [
                          0.1111111111111111,
                          "#46039f"
                        ],
                        [
                          0.2222222222222222,
                          "#7201a8"
                        ],
                        [
                          0.3333333333333333,
                          "#9c179e"
                        ],
                        [
                          0.4444444444444444,
                          "#bd3786"
                        ],
                        [
                          0.5555555555555556,
                          "#d8576b"
                        ],
                        [
                          0.6666666666666666,
                          "#ed7953"
                        ],
                        [
                          0.7777777777777778,
                          "#fb9f3a"
                        ],
                        [
                          0.8888888888888888,
                          "#fdca26"
                        ],
                        [
                          1,
                          "#f0f921"
                        ]
                      ],
                      "sequentialminus": [
                        [
                          0,
                          "#0d0887"
                        ],
                        [
                          0.1111111111111111,
                          "#46039f"
                        ],
                        [
                          0.2222222222222222,
                          "#7201a8"
                        ],
                        [
                          0.3333333333333333,
                          "#9c179e"
                        ],
                        [
                          0.4444444444444444,
                          "#bd3786"
                        ],
                        [
                          0.5555555555555556,
                          "#d8576b"
                        ],
                        [
                          0.6666666666666666,
                          "#ed7953"
                        ],
                        [
                          0.7777777777777778,
                          "#fb9f3a"
                        ],
                        [
                          0.8888888888888888,
                          "#fdca26"
                        ],
                        [
                          1,
                          "#f0f921"
                        ]
                      ]
                    },
                    "colorway": [
                      "#636efa",
                      "#EF553B",
                      "#00cc96",
                      "#ab63fa",
                      "#FFA15A",
                      "#19d3f3",
                      "#FF6692",
                      "#B6E880",
                      "#FF97FF",
                      "#FECB52"
                    ],
                    "font": {
                      "color": "#2a3f5f"
                    },
                    "geo": {
                      "bgcolor": "white",
                      "lakecolor": "white",
                      "landcolor": "#E5ECF6",
                      "showlakes": true,
                      "showland": true,
                      "subunitcolor": "white"
                    },
                    "hoverlabel": {
                      "align": "left"
                    },
                    "hovermode": "closest",
                    "mapbox": {
                      "style": "light"
                    },
                    "paper_bgcolor": "white",
                    "plot_bgcolor": "#E5ECF6",
                    "polar": {
                      "angularaxis": {
                        "gridcolor": "white",
                        "linecolor": "white",
                        "ticks": ""
                      },
                      "bgcolor": "#E5ECF6",
                      "radialaxis": {
                        "gridcolor": "white",
                        "linecolor": "white",
                        "ticks": ""
                      }
                    },
                    "scene": {
                      "xaxis": {
                        "backgroundcolor": "#E5ECF6",
                        "gridcolor": "white",
                        "gridwidth": 2,
                        "linecolor": "white",
                        "showbackground": true,
                        "ticks": "",
                        "zerolinecolor": "white"
                      },
                      "yaxis": {
                        "backgroundcolor": "#E5ECF6",
                        "gridcolor": "white",
                        "gridwidth": 2,
                        "linecolor": "white",
                        "showbackground": true,
                        "ticks": "",
                        "zerolinecolor": "white"
                      },
                      "zaxis": {
                        "backgroundcolor": "#E5ECF6",
                        "gridcolor": "white",
                        "gridwidth": 2,
                        "linecolor": "white",
                        "showbackground": true,
                        "ticks": "",
                        "zerolinecolor": "white"
                      }
                    },
                    "shapedefaults": {
                      "line": {
                        "color": "#2a3f5f"
                      }
                    },
                    "ternary": {
                      "aaxis": {
                        "gridcolor": "white",
                        "linecolor": "white",
                        "ticks": ""
                      },
                      "baxis": {
                        "gridcolor": "white",
                        "linecolor": "white",
                        "ticks": ""
                      },
                      "bgcolor": "#E5ECF6",
                      "caxis": {
                        "gridcolor": "white",
                        "linecolor": "white",
                        "ticks": ""
                      }
                    },
                    "title": {
                      "x": 0.05
                    },
                    "xaxis": {
                      "automargin": true,
                      "gridcolor": "white",
                      "linecolor": "white",
                      "ticks": "",
                      "title": {
                        "standoff": 15
                      },
                      "zerolinecolor": "white",
                      "zerolinewidth": 2
                    },
                    "yaxis": {
                      "automargin": true,
                      "gridcolor": "white",
                      "linecolor": "white",
                      "ticks": "",
                      "title": {
                        "standoff": 15
                      },
                      "zerolinecolor": "white",
                      "zerolinewidth": 2
                    }
                  }
                },
                "title": {
                  "text": "GPA por Nivel de educación de los padres"
                },
                "xaxis": {
                  "anchor": "y",
                  "domain": [
                    0,
                    1
                  ],
                  "title": {
                    "text": "nota chilena Promedio"
                  }
                },
                "yaxis": {
                  "anchor": "x",
                  "domain": [
                    0,
                    1
                  ],
                  "title": {
                    "text": "parental level of education"
                  }
                }
              }
            }
          },
          "metadata": {},
          "output_type": "display_data"
        }
      ],
      "source": [
        "# Código de gráfico del amigo ChatGPT\n",
        "fig = px.scatter(\n",
        "    df_grades.sort_values(by=\"nota chilena Promedio\"),\n",
        "    x=\"nota chilena Promedio\",\n",
        "    y=\"parental level of education\",\n",
        "    hover_data=[\"gender\"],\n",
        "    color=\"GPA cuantiles\",\n",
        "    title=\"GPA por Nivel de educación de los padres\",\n",
        "    color_discrete_sequence=[\"tomato\", \"orange\", \"yellow\", \"greenyellow\", \"green\"]\n",
        ")\n",
        "\n",
        "fig"
      ]
    },
    {
      "cell_type": "markdown",
      "metadata": {
        "cell_id": "bed63a9b43a24aa4834f099c6bc77476",
        "deepnote_cell_height": 70.796875,
        "deepnote_cell_type": "markdown",
        "id": "qKvoYOtSAwXv",
        "tags": []
      },
      "source": [
        "\n",
        "```\n",
        "Escriba aqui su respuesta\n",
        "```\n",
        "\n",
        "Se puede observar que a medida que aumenta el grado de estudio de los padres, el rango inferior del GPA va aumentando (van disminuyendo la cantidad de personas en el quintil bajisimo). A simple vista no se puede concluir respecto a los otros quintiles, sólo que en padres con niveles de educación high school y some high scool se presentan quintiles superiores más bajos respecto a los otros niveles de educación.\n"
      ]
    },
    {
      "cell_type": "markdown",
      "metadata": {
        "id": "jXrHFWBeg2TW"
      },
      "source": [
        "## 4. Operaciones con tablas [2.0 puntos]"
      ]
    },
    {
      "cell_type": "markdown",
      "metadata": {
        "id": "inctSAJ9J_4L"
      },
      "source": [
        "<p align=\"center\">\n",
        "  <img src=\"https://media.giphy.com/media/v1.Y2lkPTc5MGI3NjExYWx5dTBkMGhhOTJmeGQzbDV5M21rNTN1NWVwMm1qbHd3cjh3Nmk4NSZlcD12MV9pbnRlcm5hbF9naWZfYnlfaWQmY3Q9Zw/13HBDT4QSTpveU/giphy.gif\">\n",
        "</p>\n",
        "\n"
      ]
    },
    {
      "cell_type": "markdown",
      "metadata": {
        "id": "tfNjYc__fdGq"
      },
      "source": [
        "### 4.1 Carga de datos y concatenar dataset [0.2 Puntos]"
      ]
    },
    {
      "cell_type": "markdown",
      "metadata": {
        "id": "LBcNBttOhxoG"
      },
      "source": [
        "Ya finalizado en análisis inicial, ud. y su equipo le entregaron a *Don Caguayo* (rector de la Universidad de la Cachaña) tanto los resultados del análisis como también la base de datos limpia y lista para ser almacenada. Dada la ingente cantidad de los datos, el equipo de TI de la universidad resolvió separar el dataset en dos bases de datos distintas (lo que según argumentan ellos, permitiría hacer agregaciones de forma más eficiente).\n",
        "\n",
        "Gracias a la excelente labor de ud. y su equipo en el análisis previo, el rector le solicita continuar el trabajo con una nueva batería de análisis. Por este motivo, la sección de TI les entrega nuevamente los datos. Sin embargo, argumentan que dada una escazes de personal, solo le entregarán *dumps* (copias) de cada base de datos y su equipo deberá unir las bases de datos. Los datos se encuentran en los siguiente archivos `.json`: `students_grades_1.json` y `students_grades_2.json`.\n",
        "\n",
        "\n",
        "Por ende, ud. y su equipo deciden que la primera tarea se centrará en cargar estos datos y unirlos.\n",
        "\n",
        "**No se preocupe por la limpieza ni transformar el tipo de datos de las columnas, ni tampoco transformar a notas chilenas**, recuerde que anteriormente ya se encargo de este tema.\n"
      ]
    },
    {
      "cell_type": "markdown",
      "metadata": {
        "id": "JeV8dL9rPyq2"
      },
      "source": [
        "Hint: investigue el método `concat`"
      ]
    },
    {
      "cell_type": "markdown",
      "metadata": {
        "id": "px2WT4EU15ET"
      },
      "source": [
        "**Respuesta:**"
      ]
    },
    {
      "cell_type": "code",
      "execution_count": 21,
      "metadata": {
        "id": "umx2QdawPNbB"
      },
      "outputs": [],
      "source": [
        "# Inserte su respuesta aquí\n",
        "df_grades_1= pd.read_json('./students_grades_1.json')\n",
        "df_grades_2= pd.read_json('./students_grades_2.json')\n",
        "\n",
        "df_grades= pd.concat([df_grades_1, df_grades_2], axis=0)"
      ]
    },
    {
      "cell_type": "markdown",
      "metadata": {
        "id": "2-66WNMKh2L1"
      },
      "source": [
        "### 4.2 Análisis por Nivel Educacional Etnia de los Padres [0.8 Puntos]"
      ]
    },
    {
      "cell_type": "markdown",
      "metadata": {
        "id": "QyGQjpS_gMZo"
      },
      "source": [
        "El rector, basado en su experiencia, cree fuertemente que el nivel educacional y la etnia de los padres influyen en las notas que obtienen sus hijos.\n",
        "Como científicos de datos, ud. y su equipo creen que deben encontrar evidencia para confirmar o refutar la hipótesis del rector.\n",
        "\n",
        "Para esto, deciden generar dos análisis: una tabla de resumen por una parte y gráficos de caja por otro.\n",
        "\n",
        "\n",
        "**Tabla de Resumen [0.5 Puntos]**\n",
        "\n",
        "\n",
        "Para generar la tabla de resumen:\n",
        "\n",
        "- [ ] Calcular el promedio de las notas y guardarlo en una variable `GPA` (grade point average).\n",
        "- [ ] Hacer una simplificación a través de un mapeo (investigar el método `map()`) de la variable `parental level of education`  según la siguiente conversión:\n",
        "\n",
        "        some high school -> school\n",
        "        some college -> school\n",
        "        high school -> school\n",
        "        bachelor's degree -> college\n",
        "        associate's degree -> college\n",
        "        master's degree -> postgraduate\n",
        "\n",
        "  Los resultados de este mapeo deben ser guardados en la columna `simple parental level of education`.\n",
        "\n",
        "\n",
        "- [ ] Agregar según 2 niveles: `race/ethnicity` y `simple parental level of education` para obtener el promedio de las notas.\n",
        "- [ ] Agregar según 2 niveles: `race/ethnicity` y `simple parental level of education` para obtener un conteo de los alumnos en cada grupo y agregarlos como una nueva fila count.\n",
        "- [ ] Obtener el porcentaje de alumnos con respecto al total. Los porcentajes deben ser strings que contienen la frecuencia de cada grupo con respecto al total y deben ser terminados en '%'.\n",
        "\n",
        "Utilizar la tabla de resultados esperados como guía para desarrollar este punto.\n",
        "\n",
        "\n",
        "**Análisis [0.3 Puntos]**\n",
        "\n",
        "Finalmente, responda las siguientes preguntas sobre el gráfico de caja que viene implementado a continuación. En este se muestra el GPA con respecto al nivel educacional, donde la variable de color es la etnicidad.\n",
        "\n",
        "- [ ]  ¿Hay alguna diferencia entre los grupos graficados tanto para el nivel educacional de los padres como también para la etnicidad?\n"
      ]
    },
    {
      "cell_type": "markdown",
      "metadata": {
        "id": "coXebnmt15EU"
      },
      "source": [
        "**Respuesta:**"
      ]
    },
    {
      "cell_type": "code",
      "execution_count": 22,
      "metadata": {
        "id": "QiMZ0SyGPPM_"
      },
      "outputs": [
        {
          "data": {
            "text/html": [
              "<div>\n",
              "<style scoped>\n",
              "    .dataframe tbody tr th:only-of-type {\n",
              "        vertical-align: middle;\n",
              "    }\n",
              "\n",
              "    .dataframe tbody tr th {\n",
              "        vertical-align: top;\n",
              "    }\n",
              "\n",
              "    .dataframe thead th {\n",
              "        text-align: right;\n",
              "    }\n",
              "</style>\n",
              "<table border=\"1\" class=\"dataframe\">\n",
              "  <thead>\n",
              "    <tr style=\"text-align: right;\">\n",
              "      <th></th>\n",
              "      <th>race/ethnicity</th>\n",
              "      <th>simple parental level of education</th>\n",
              "      <th>math score</th>\n",
              "      <th>reading score</th>\n",
              "      <th>writing score</th>\n",
              "      <th>GPA</th>\n",
              "      <th>count</th>\n",
              "      <th>percentage</th>\n",
              "    </tr>\n",
              "  </thead>\n",
              "  <tbody>\n",
              "    <tr>\n",
              "      <th>0</th>\n",
              "      <td>group A</td>\n",
              "      <td>college</td>\n",
              "      <td>4.83</td>\n",
              "      <td>5.05</td>\n",
              "      <td>4.95</td>\n",
              "      <td>4.94</td>\n",
              "      <td>26</td>\n",
              "      <td>2.6%</td>\n",
              "    </tr>\n",
              "    <tr>\n",
              "      <th>1</th>\n",
              "      <td>group A</td>\n",
              "      <td>postgraduate</td>\n",
              "      <td>4.46</td>\n",
              "      <td>4.88</td>\n",
              "      <td>5.06</td>\n",
              "      <td>4.80</td>\n",
              "      <td>3</td>\n",
              "      <td>0.3%</td>\n",
              "    </tr>\n",
              "    <tr>\n",
              "      <th>2</th>\n",
              "      <td>group A</td>\n",
              "      <td>school</td>\n",
              "      <td>4.65</td>\n",
              "      <td>4.81</td>\n",
              "      <td>4.66</td>\n",
              "      <td>4.71</td>\n",
              "      <td>60</td>\n",
              "      <td>6.0%</td>\n",
              "    </tr>\n",
              "    <tr>\n",
              "      <th>3</th>\n",
              "      <td>group B</td>\n",
              "      <td>college</td>\n",
              "      <td>5.03</td>\n",
              "      <td>5.24</td>\n",
              "      <td>5.16</td>\n",
              "      <td>5.14</td>\n",
              "      <td>61</td>\n",
              "      <td>6.1%</td>\n",
              "    </tr>\n",
              "    <tr>\n",
              "      <th>4</th>\n",
              "      <td>group B</td>\n",
              "      <td>postgraduate</td>\n",
              "      <td>5.03</td>\n",
              "      <td>5.81</td>\n",
              "      <td>5.63</td>\n",
              "      <td>5.49</td>\n",
              "      <td>6</td>\n",
              "      <td>0.6%</td>\n",
              "    </tr>\n",
              "    <tr>\n",
              "      <th>5</th>\n",
              "      <td>group B</td>\n",
              "      <td>school</td>\n",
              "      <td>4.69</td>\n",
              "      <td>4.90</td>\n",
              "      <td>4.79</td>\n",
              "      <td>4.79</td>\n",
              "      <td>123</td>\n",
              "      <td>12.3%</td>\n",
              "    </tr>\n",
              "    <tr>\n",
              "      <th>6</th>\n",
              "      <td>group C</td>\n",
              "      <td>college</td>\n",
              "      <td>5.03</td>\n",
              "      <td>5.36</td>\n",
              "      <td>5.33</td>\n",
              "      <td>5.24</td>\n",
              "      <td>118</td>\n",
              "      <td>11.8%</td>\n",
              "    </tr>\n",
              "    <tr>\n",
              "      <th>7</th>\n",
              "      <td>group C</td>\n",
              "      <td>postgraduate</td>\n",
              "      <td>5.02</td>\n",
              "      <td>5.23</td>\n",
              "      <td>5.17</td>\n",
              "      <td>5.14</td>\n",
              "      <td>19</td>\n",
              "      <td>1.9%</td>\n",
              "    </tr>\n",
              "    <tr>\n",
              "      <th>8</th>\n",
              "      <td>group C</td>\n",
              "      <td>school</td>\n",
              "      <td>4.74</td>\n",
              "      <td>5.00</td>\n",
              "      <td>4.89</td>\n",
              "      <td>4.88</td>\n",
              "      <td>182</td>\n",
              "      <td>18.2%</td>\n",
              "    </tr>\n",
              "    <tr>\n",
              "      <th>9</th>\n",
              "      <td>group D</td>\n",
              "      <td>college</td>\n",
              "      <td>5.06</td>\n",
              "      <td>5.22</td>\n",
              "      <td>5.24</td>\n",
              "      <td>5.17</td>\n",
              "      <td>78</td>\n",
              "      <td>7.8%</td>\n",
              "    </tr>\n",
              "    <tr>\n",
              "      <th>10</th>\n",
              "      <td>group D</td>\n",
              "      <td>postgraduate</td>\n",
              "      <td>5.35</td>\n",
              "      <td>5.63</td>\n",
              "      <td>5.78</td>\n",
              "      <td>5.59</td>\n",
              "      <td>23</td>\n",
              "      <td>2.3%</td>\n",
              "    </tr>\n",
              "    <tr>\n",
              "      <th>11</th>\n",
              "      <td>group D</td>\n",
              "      <td>school</td>\n",
              "      <td>4.99</td>\n",
              "      <td>5.13</td>\n",
              "      <td>5.11</td>\n",
              "      <td>5.08</td>\n",
              "      <td>161</td>\n",
              "      <td>16.1%</td>\n",
              "    </tr>\n",
              "    <tr>\n",
              "      <th>12</th>\n",
              "      <td>group E</td>\n",
              "      <td>college</td>\n",
              "      <td>5.53</td>\n",
              "      <td>5.45</td>\n",
              "      <td>5.43</td>\n",
              "      <td>5.47</td>\n",
              "      <td>57</td>\n",
              "      <td>5.7%</td>\n",
              "    </tr>\n",
              "    <tr>\n",
              "      <th>13</th>\n",
              "      <td>group E</td>\n",
              "      <td>postgraduate</td>\n",
              "      <td>5.48</td>\n",
              "      <td>5.93</td>\n",
              "      <td>5.83</td>\n",
              "      <td>5.74</td>\n",
              "      <td>8</td>\n",
              "      <td>0.8%</td>\n",
              "    </tr>\n",
              "    <tr>\n",
              "      <th>14</th>\n",
              "      <td>group E</td>\n",
              "      <td>school</td>\n",
              "      <td>5.35</td>\n",
              "      <td>5.27</td>\n",
              "      <td>5.11</td>\n",
              "      <td>5.25</td>\n",
              "      <td>75</td>\n",
              "      <td>7.5%</td>\n",
              "    </tr>\n",
              "  </tbody>\n",
              "</table>\n",
              "</div>"
            ],
            "text/plain": [
              "   race/ethnicity simple parental level of education  math score  \\\n",
              "0         group A                            college        4.83   \n",
              "1         group A                       postgraduate        4.46   \n",
              "2         group A                             school        4.65   \n",
              "3         group B                            college        5.03   \n",
              "4         group B                       postgraduate        5.03   \n",
              "5         group B                             school        4.69   \n",
              "6         group C                            college        5.03   \n",
              "7         group C                       postgraduate        5.02   \n",
              "8         group C                             school        4.74   \n",
              "9         group D                            college        5.06   \n",
              "10        group D                       postgraduate        5.35   \n",
              "11        group D                             school        4.99   \n",
              "12        group E                            college        5.53   \n",
              "13        group E                       postgraduate        5.48   \n",
              "14        group E                             school        5.35   \n",
              "\n",
              "    reading score  writing score   GPA  count percentage  \n",
              "0            5.05           4.95  4.94     26       2.6%  \n",
              "1            4.88           5.06  4.80      3       0.3%  \n",
              "2            4.81           4.66  4.71     60       6.0%  \n",
              "3            5.24           5.16  5.14     61       6.1%  \n",
              "4            5.81           5.63  5.49      6       0.6%  \n",
              "5            4.90           4.79  4.79    123      12.3%  \n",
              "6            5.36           5.33  5.24    118      11.8%  \n",
              "7            5.23           5.17  5.14     19       1.9%  \n",
              "8            5.00           4.89  4.88    182      18.2%  \n",
              "9            5.22           5.24  5.17     78       7.8%  \n",
              "10           5.63           5.78  5.59     23       2.3%  \n",
              "11           5.13           5.11  5.08    161      16.1%  \n",
              "12           5.45           5.43  5.47     57       5.7%  \n",
              "13           5.93           5.83  5.74      8       0.8%  \n",
              "14           5.27           5.11  5.25     75       7.5%  "
            ]
          },
          "execution_count": 22,
          "metadata": {},
          "output_type": "execute_result"
        }
      ],
      "source": [
        "# Inserte su respuesta aquí\n",
        "tabla_resumen = df_grades.copy()\n",
        "tabla_resumen['GPA'] = (tabla_resumen['math score'] + tabla_resumen['reading score'] + tabla_resumen['writing score']) / 3\n",
        "education_conversion = {\n",
        "    'some high school': 'school',\n",
        "    'some college': 'school',\n",
        "    'high school': 'school',\n",
        "    'bachelor\\'s degree': 'college',\n",
        "    'associate\\'s degree': 'college',\n",
        "    'master\\'s degree': 'postgraduate'\n",
        "}\n",
        "tabla_resumen['simple parental level of education'] = tabla_resumen['parental level of education'].map(education_conversion)\n",
        "converted = tabla_resumen\n",
        "tabla_resumen = converted.groupby(['race/ethnicity', 'simple parental level of education']).agg(\n",
        "    {\n",
        "        'math score': 'mean',\n",
        "        'reading score': 'mean',\n",
        "        'writing score': 'mean',\n",
        "        'GPA': 'mean'\n",
        "    }\n",
        "    ).reset_index()\n",
        "# count of students in each group\n",
        "tabla_resumen['count'] = converted.groupby(['race/ethnicity', 'simple parental level of education']).size().values\n",
        "tabla_resumen['percentage'] = (tabla_resumen['count'] / tabla_resumen['count'].sum()) * 100\n",
        "\n",
        "tabla_resumen['math score'] = tabla_resumen['math score'].round(2)\n",
        "tabla_resumen['reading score'] = tabla_resumen['reading score'].round(2)\n",
        "tabla_resumen['writing score'] = tabla_resumen['writing score'].round(2)\n",
        "tabla_resumen['GPA'] = tabla_resumen['GPA'].round(2)\n",
        "tabla_resumen['percentage'] = tabla_resumen['percentage'].round(2).astype(str) + '%'\n",
        "\n",
        "\n",
        "df_grades = tabla_resumen\n",
        "df_grades"
      ]
    },
    {
      "cell_type": "code",
      "execution_count": 23,
      "metadata": {
        "cell_id": "3587d7516d314ef9ad4d4bacee2dc873",
        "deepnote_cell_height": 744,
        "deepnote_cell_type": "code",
        "deepnote_output_heights": [
          526
        ],
        "deepnote_to_be_reexecuted": false,
        "execution_millis": 124,
        "execution_start": 1633705916137,
        "id": "CpsRRS5Cxlik",
        "source_hash": null
      },
      "outputs": [
        {
          "data": {
            "application/vnd.plotly.v1+json": {
              "config": {
                "plotlyServerURL": "https://plot.ly"
              },
              "data": [
                {
                  "alignmentgroup": "True",
                  "hovertemplate": "race/ethnicity=group A<br>simple parental level of education=%{x}<br>GPA=%{y}<extra></extra>",
                  "legendgroup": "group A",
                  "marker": {
                    "color": "#636efa"
                  },
                  "name": "group A",
                  "notched": false,
                  "offsetgroup": "group A",
                  "orientation": "v",
                  "showlegend": true,
                  "type": "box",
                  "x": [
                    "college",
                    "postgraduate",
                    "school"
                  ],
                  "x0": " ",
                  "xaxis": "x",
                  "y": [
                    4.94,
                    4.8,
                    4.71
                  ],
                  "y0": " ",
                  "yaxis": "y"
                },
                {
                  "alignmentgroup": "True",
                  "hovertemplate": "race/ethnicity=group B<br>simple parental level of education=%{x}<br>GPA=%{y}<extra></extra>",
                  "legendgroup": "group B",
                  "marker": {
                    "color": "#EF553B"
                  },
                  "name": "group B",
                  "notched": false,
                  "offsetgroup": "group B",
                  "orientation": "v",
                  "showlegend": true,
                  "type": "box",
                  "x": [
                    "college",
                    "postgraduate",
                    "school"
                  ],
                  "x0": " ",
                  "xaxis": "x",
                  "y": [
                    5.14,
                    5.49,
                    4.79
                  ],
                  "y0": " ",
                  "yaxis": "y"
                },
                {
                  "alignmentgroup": "True",
                  "hovertemplate": "race/ethnicity=group C<br>simple parental level of education=%{x}<br>GPA=%{y}<extra></extra>",
                  "legendgroup": "group C",
                  "marker": {
                    "color": "#00cc96"
                  },
                  "name": "group C",
                  "notched": false,
                  "offsetgroup": "group C",
                  "orientation": "v",
                  "showlegend": true,
                  "type": "box",
                  "x": [
                    "college",
                    "postgraduate",
                    "school"
                  ],
                  "x0": " ",
                  "xaxis": "x",
                  "y": [
                    5.24,
                    5.14,
                    4.88
                  ],
                  "y0": " ",
                  "yaxis": "y"
                },
                {
                  "alignmentgroup": "True",
                  "hovertemplate": "race/ethnicity=group D<br>simple parental level of education=%{x}<br>GPA=%{y}<extra></extra>",
                  "legendgroup": "group D",
                  "marker": {
                    "color": "#ab63fa"
                  },
                  "name": "group D",
                  "notched": false,
                  "offsetgroup": "group D",
                  "orientation": "v",
                  "showlegend": true,
                  "type": "box",
                  "x": [
                    "college",
                    "postgraduate",
                    "school"
                  ],
                  "x0": " ",
                  "xaxis": "x",
                  "y": [
                    5.17,
                    5.59,
                    5.08
                  ],
                  "y0": " ",
                  "yaxis": "y"
                },
                {
                  "alignmentgroup": "True",
                  "hovertemplate": "race/ethnicity=group E<br>simple parental level of education=%{x}<br>GPA=%{y}<extra></extra>",
                  "legendgroup": "group E",
                  "marker": {
                    "color": "#FFA15A"
                  },
                  "name": "group E",
                  "notched": false,
                  "offsetgroup": "group E",
                  "orientation": "v",
                  "showlegend": true,
                  "type": "box",
                  "x": [
                    "college",
                    "postgraduate",
                    "school"
                  ],
                  "x0": " ",
                  "xaxis": "x",
                  "y": [
                    5.47,
                    5.74,
                    5.25
                  ],
                  "y0": " ",
                  "yaxis": "y"
                }
              ],
              "layout": {
                "boxmode": "group",
                "legend": {
                  "title": {
                    "text": "race/ethnicity"
                  },
                  "tracegroupgap": 0
                },
                "margin": {
                  "t": 60
                },
                "template": {
                  "data": {
                    "bar": [
                      {
                        "error_x": {
                          "color": "#2a3f5f"
                        },
                        "error_y": {
                          "color": "#2a3f5f"
                        },
                        "marker": {
                          "line": {
                            "color": "#E5ECF6",
                            "width": 0.5
                          },
                          "pattern": {
                            "fillmode": "overlay",
                            "size": 10,
                            "solidity": 0.2
                          }
                        },
                        "type": "bar"
                      }
                    ],
                    "barpolar": [
                      {
                        "marker": {
                          "line": {
                            "color": "#E5ECF6",
                            "width": 0.5
                          },
                          "pattern": {
                            "fillmode": "overlay",
                            "size": 10,
                            "solidity": 0.2
                          }
                        },
                        "type": "barpolar"
                      }
                    ],
                    "carpet": [
                      {
                        "aaxis": {
                          "endlinecolor": "#2a3f5f",
                          "gridcolor": "white",
                          "linecolor": "white",
                          "minorgridcolor": "white",
                          "startlinecolor": "#2a3f5f"
                        },
                        "baxis": {
                          "endlinecolor": "#2a3f5f",
                          "gridcolor": "white",
                          "linecolor": "white",
                          "minorgridcolor": "white",
                          "startlinecolor": "#2a3f5f"
                        },
                        "type": "carpet"
                      }
                    ],
                    "choropleth": [
                      {
                        "colorbar": {
                          "outlinewidth": 0,
                          "ticks": ""
                        },
                        "type": "choropleth"
                      }
                    ],
                    "contour": [
                      {
                        "colorbar": {
                          "outlinewidth": 0,
                          "ticks": ""
                        },
                        "colorscale": [
                          [
                            0,
                            "#0d0887"
                          ],
                          [
                            0.1111111111111111,
                            "#46039f"
                          ],
                          [
                            0.2222222222222222,
                            "#7201a8"
                          ],
                          [
                            0.3333333333333333,
                            "#9c179e"
                          ],
                          [
                            0.4444444444444444,
                            "#bd3786"
                          ],
                          [
                            0.5555555555555556,
                            "#d8576b"
                          ],
                          [
                            0.6666666666666666,
                            "#ed7953"
                          ],
                          [
                            0.7777777777777778,
                            "#fb9f3a"
                          ],
                          [
                            0.8888888888888888,
                            "#fdca26"
                          ],
                          [
                            1,
                            "#f0f921"
                          ]
                        ],
                        "type": "contour"
                      }
                    ],
                    "contourcarpet": [
                      {
                        "colorbar": {
                          "outlinewidth": 0,
                          "ticks": ""
                        },
                        "type": "contourcarpet"
                      }
                    ],
                    "heatmap": [
                      {
                        "colorbar": {
                          "outlinewidth": 0,
                          "ticks": ""
                        },
                        "colorscale": [
                          [
                            0,
                            "#0d0887"
                          ],
                          [
                            0.1111111111111111,
                            "#46039f"
                          ],
                          [
                            0.2222222222222222,
                            "#7201a8"
                          ],
                          [
                            0.3333333333333333,
                            "#9c179e"
                          ],
                          [
                            0.4444444444444444,
                            "#bd3786"
                          ],
                          [
                            0.5555555555555556,
                            "#d8576b"
                          ],
                          [
                            0.6666666666666666,
                            "#ed7953"
                          ],
                          [
                            0.7777777777777778,
                            "#fb9f3a"
                          ],
                          [
                            0.8888888888888888,
                            "#fdca26"
                          ],
                          [
                            1,
                            "#f0f921"
                          ]
                        ],
                        "type": "heatmap"
                      }
                    ],
                    "heatmapgl": [
                      {
                        "colorbar": {
                          "outlinewidth": 0,
                          "ticks": ""
                        },
                        "colorscale": [
                          [
                            0,
                            "#0d0887"
                          ],
                          [
                            0.1111111111111111,
                            "#46039f"
                          ],
                          [
                            0.2222222222222222,
                            "#7201a8"
                          ],
                          [
                            0.3333333333333333,
                            "#9c179e"
                          ],
                          [
                            0.4444444444444444,
                            "#bd3786"
                          ],
                          [
                            0.5555555555555556,
                            "#d8576b"
                          ],
                          [
                            0.6666666666666666,
                            "#ed7953"
                          ],
                          [
                            0.7777777777777778,
                            "#fb9f3a"
                          ],
                          [
                            0.8888888888888888,
                            "#fdca26"
                          ],
                          [
                            1,
                            "#f0f921"
                          ]
                        ],
                        "type": "heatmapgl"
                      }
                    ],
                    "histogram": [
                      {
                        "marker": {
                          "pattern": {
                            "fillmode": "overlay",
                            "size": 10,
                            "solidity": 0.2
                          }
                        },
                        "type": "histogram"
                      }
                    ],
                    "histogram2d": [
                      {
                        "colorbar": {
                          "outlinewidth": 0,
                          "ticks": ""
                        },
                        "colorscale": [
                          [
                            0,
                            "#0d0887"
                          ],
                          [
                            0.1111111111111111,
                            "#46039f"
                          ],
                          [
                            0.2222222222222222,
                            "#7201a8"
                          ],
                          [
                            0.3333333333333333,
                            "#9c179e"
                          ],
                          [
                            0.4444444444444444,
                            "#bd3786"
                          ],
                          [
                            0.5555555555555556,
                            "#d8576b"
                          ],
                          [
                            0.6666666666666666,
                            "#ed7953"
                          ],
                          [
                            0.7777777777777778,
                            "#fb9f3a"
                          ],
                          [
                            0.8888888888888888,
                            "#fdca26"
                          ],
                          [
                            1,
                            "#f0f921"
                          ]
                        ],
                        "type": "histogram2d"
                      }
                    ],
                    "histogram2dcontour": [
                      {
                        "colorbar": {
                          "outlinewidth": 0,
                          "ticks": ""
                        },
                        "colorscale": [
                          [
                            0,
                            "#0d0887"
                          ],
                          [
                            0.1111111111111111,
                            "#46039f"
                          ],
                          [
                            0.2222222222222222,
                            "#7201a8"
                          ],
                          [
                            0.3333333333333333,
                            "#9c179e"
                          ],
                          [
                            0.4444444444444444,
                            "#bd3786"
                          ],
                          [
                            0.5555555555555556,
                            "#d8576b"
                          ],
                          [
                            0.6666666666666666,
                            "#ed7953"
                          ],
                          [
                            0.7777777777777778,
                            "#fb9f3a"
                          ],
                          [
                            0.8888888888888888,
                            "#fdca26"
                          ],
                          [
                            1,
                            "#f0f921"
                          ]
                        ],
                        "type": "histogram2dcontour"
                      }
                    ],
                    "mesh3d": [
                      {
                        "colorbar": {
                          "outlinewidth": 0,
                          "ticks": ""
                        },
                        "type": "mesh3d"
                      }
                    ],
                    "parcoords": [
                      {
                        "line": {
                          "colorbar": {
                            "outlinewidth": 0,
                            "ticks": ""
                          }
                        },
                        "type": "parcoords"
                      }
                    ],
                    "pie": [
                      {
                        "automargin": true,
                        "type": "pie"
                      }
                    ],
                    "scatter": [
                      {
                        "fillpattern": {
                          "fillmode": "overlay",
                          "size": 10,
                          "solidity": 0.2
                        },
                        "type": "scatter"
                      }
                    ],
                    "scatter3d": [
                      {
                        "line": {
                          "colorbar": {
                            "outlinewidth": 0,
                            "ticks": ""
                          }
                        },
                        "marker": {
                          "colorbar": {
                            "outlinewidth": 0,
                            "ticks": ""
                          }
                        },
                        "type": "scatter3d"
                      }
                    ],
                    "scattercarpet": [
                      {
                        "marker": {
                          "colorbar": {
                            "outlinewidth": 0,
                            "ticks": ""
                          }
                        },
                        "type": "scattercarpet"
                      }
                    ],
                    "scattergeo": [
                      {
                        "marker": {
                          "colorbar": {
                            "outlinewidth": 0,
                            "ticks": ""
                          }
                        },
                        "type": "scattergeo"
                      }
                    ],
                    "scattergl": [
                      {
                        "marker": {
                          "colorbar": {
                            "outlinewidth": 0,
                            "ticks": ""
                          }
                        },
                        "type": "scattergl"
                      }
                    ],
                    "scattermapbox": [
                      {
                        "marker": {
                          "colorbar": {
                            "outlinewidth": 0,
                            "ticks": ""
                          }
                        },
                        "type": "scattermapbox"
                      }
                    ],
                    "scatterpolar": [
                      {
                        "marker": {
                          "colorbar": {
                            "outlinewidth": 0,
                            "ticks": ""
                          }
                        },
                        "type": "scatterpolar"
                      }
                    ],
                    "scatterpolargl": [
                      {
                        "marker": {
                          "colorbar": {
                            "outlinewidth": 0,
                            "ticks": ""
                          }
                        },
                        "type": "scatterpolargl"
                      }
                    ],
                    "scatterternary": [
                      {
                        "marker": {
                          "colorbar": {
                            "outlinewidth": 0,
                            "ticks": ""
                          }
                        },
                        "type": "scatterternary"
                      }
                    ],
                    "surface": [
                      {
                        "colorbar": {
                          "outlinewidth": 0,
                          "ticks": ""
                        },
                        "colorscale": [
                          [
                            0,
                            "#0d0887"
                          ],
                          [
                            0.1111111111111111,
                            "#46039f"
                          ],
                          [
                            0.2222222222222222,
                            "#7201a8"
                          ],
                          [
                            0.3333333333333333,
                            "#9c179e"
                          ],
                          [
                            0.4444444444444444,
                            "#bd3786"
                          ],
                          [
                            0.5555555555555556,
                            "#d8576b"
                          ],
                          [
                            0.6666666666666666,
                            "#ed7953"
                          ],
                          [
                            0.7777777777777778,
                            "#fb9f3a"
                          ],
                          [
                            0.8888888888888888,
                            "#fdca26"
                          ],
                          [
                            1,
                            "#f0f921"
                          ]
                        ],
                        "type": "surface"
                      }
                    ],
                    "table": [
                      {
                        "cells": {
                          "fill": {
                            "color": "#EBF0F8"
                          },
                          "line": {
                            "color": "white"
                          }
                        },
                        "header": {
                          "fill": {
                            "color": "#C8D4E3"
                          },
                          "line": {
                            "color": "white"
                          }
                        },
                        "type": "table"
                      }
                    ]
                  },
                  "layout": {
                    "annotationdefaults": {
                      "arrowcolor": "#2a3f5f",
                      "arrowhead": 0,
                      "arrowwidth": 1
                    },
                    "autotypenumbers": "strict",
                    "coloraxis": {
                      "colorbar": {
                        "outlinewidth": 0,
                        "ticks": ""
                      }
                    },
                    "colorscale": {
                      "diverging": [
                        [
                          0,
                          "#8e0152"
                        ],
                        [
                          0.1,
                          "#c51b7d"
                        ],
                        [
                          0.2,
                          "#de77ae"
                        ],
                        [
                          0.3,
                          "#f1b6da"
                        ],
                        [
                          0.4,
                          "#fde0ef"
                        ],
                        [
                          0.5,
                          "#f7f7f7"
                        ],
                        [
                          0.6,
                          "#e6f5d0"
                        ],
                        [
                          0.7,
                          "#b8e186"
                        ],
                        [
                          0.8,
                          "#7fbc41"
                        ],
                        [
                          0.9,
                          "#4d9221"
                        ],
                        [
                          1,
                          "#276419"
                        ]
                      ],
                      "sequential": [
                        [
                          0,
                          "#0d0887"
                        ],
                        [
                          0.1111111111111111,
                          "#46039f"
                        ],
                        [
                          0.2222222222222222,
                          "#7201a8"
                        ],
                        [
                          0.3333333333333333,
                          "#9c179e"
                        ],
                        [
                          0.4444444444444444,
                          "#bd3786"
                        ],
                        [
                          0.5555555555555556,
                          "#d8576b"
                        ],
                        [
                          0.6666666666666666,
                          "#ed7953"
                        ],
                        [
                          0.7777777777777778,
                          "#fb9f3a"
                        ],
                        [
                          0.8888888888888888,
                          "#fdca26"
                        ],
                        [
                          1,
                          "#f0f921"
                        ]
                      ],
                      "sequentialminus": [
                        [
                          0,
                          "#0d0887"
                        ],
                        [
                          0.1111111111111111,
                          "#46039f"
                        ],
                        [
                          0.2222222222222222,
                          "#7201a8"
                        ],
                        [
                          0.3333333333333333,
                          "#9c179e"
                        ],
                        [
                          0.4444444444444444,
                          "#bd3786"
                        ],
                        [
                          0.5555555555555556,
                          "#d8576b"
                        ],
                        [
                          0.6666666666666666,
                          "#ed7953"
                        ],
                        [
                          0.7777777777777778,
                          "#fb9f3a"
                        ],
                        [
                          0.8888888888888888,
                          "#fdca26"
                        ],
                        [
                          1,
                          "#f0f921"
                        ]
                      ]
                    },
                    "colorway": [
                      "#636efa",
                      "#EF553B",
                      "#00cc96",
                      "#ab63fa",
                      "#FFA15A",
                      "#19d3f3",
                      "#FF6692",
                      "#B6E880",
                      "#FF97FF",
                      "#FECB52"
                    ],
                    "font": {
                      "color": "#2a3f5f"
                    },
                    "geo": {
                      "bgcolor": "white",
                      "lakecolor": "white",
                      "landcolor": "#E5ECF6",
                      "showlakes": true,
                      "showland": true,
                      "subunitcolor": "white"
                    },
                    "hoverlabel": {
                      "align": "left"
                    },
                    "hovermode": "closest",
                    "mapbox": {
                      "style": "light"
                    },
                    "paper_bgcolor": "white",
                    "plot_bgcolor": "#E5ECF6",
                    "polar": {
                      "angularaxis": {
                        "gridcolor": "white",
                        "linecolor": "white",
                        "ticks": ""
                      },
                      "bgcolor": "#E5ECF6",
                      "radialaxis": {
                        "gridcolor": "white",
                        "linecolor": "white",
                        "ticks": ""
                      }
                    },
                    "scene": {
                      "xaxis": {
                        "backgroundcolor": "#E5ECF6",
                        "gridcolor": "white",
                        "gridwidth": 2,
                        "linecolor": "white",
                        "showbackground": true,
                        "ticks": "",
                        "zerolinecolor": "white"
                      },
                      "yaxis": {
                        "backgroundcolor": "#E5ECF6",
                        "gridcolor": "white",
                        "gridwidth": 2,
                        "linecolor": "white",
                        "showbackground": true,
                        "ticks": "",
                        "zerolinecolor": "white"
                      },
                      "zaxis": {
                        "backgroundcolor": "#E5ECF6",
                        "gridcolor": "white",
                        "gridwidth": 2,
                        "linecolor": "white",
                        "showbackground": true,
                        "ticks": "",
                        "zerolinecolor": "white"
                      }
                    },
                    "shapedefaults": {
                      "line": {
                        "color": "#2a3f5f"
                      }
                    },
                    "ternary": {
                      "aaxis": {
                        "gridcolor": "white",
                        "linecolor": "white",
                        "ticks": ""
                      },
                      "baxis": {
                        "gridcolor": "white",
                        "linecolor": "white",
                        "ticks": ""
                      },
                      "bgcolor": "#E5ECF6",
                      "caxis": {
                        "gridcolor": "white",
                        "linecolor": "white",
                        "ticks": ""
                      }
                    },
                    "title": {
                      "x": 0.05
                    },
                    "xaxis": {
                      "automargin": true,
                      "gridcolor": "white",
                      "linecolor": "white",
                      "ticks": "",
                      "title": {
                        "standoff": 15
                      },
                      "zerolinecolor": "white",
                      "zerolinewidth": 2
                    },
                    "yaxis": {
                      "automargin": true,
                      "gridcolor": "white",
                      "linecolor": "white",
                      "ticks": "",
                      "title": {
                        "standoff": 15
                      },
                      "zerolinecolor": "white",
                      "zerolinewidth": 2
                    }
                  }
                },
                "xaxis": {
                  "anchor": "y",
                  "domain": [
                    0,
                    1
                  ],
                  "title": {
                    "text": "simple parental level of education"
                  }
                },
                "yaxis": {
                  "anchor": "x",
                  "domain": [
                    0,
                    1
                  ],
                  "title": {
                    "text": "GPA"
                  }
                }
              }
            }
          },
          "metadata": {},
          "output_type": "display_data"
        }
      ],
      "source": [
        "fig = px.box(\n",
        "    df_grades,\n",
        "    x=\"simple parental level of education\",\n",
        "    y=\"GPA\",\n",
        "    color=\"race/ethnicity\",\n",
        "    hover_data=[\"GPA\"],\n",
        ")\n",
        "fig.show()"
      ]
    },
    {
      "cell_type": "markdown",
      "metadata": {
        "id": "_QsZBeyQ15EV"
      },
      "source": [
        "La gráfica muestra que el rendimiento académico tiene distinto comportamiento entre razas o etnias, habiendo casos en los que el rendimiento mayor se da en estudiantes con padres que alcanzaron un grado college y otros en los que se da cuando los padres tienen grado postgraduate. \n",
        "\n",
        "Además hay conjuntos que presentan notas mayores que otros, en general manteniendo un rendimiento mayor en los distintos niveles educacionales de los padres.\n",
        "\n",
        "Sin embargo, hay que tener en consideración que la muestra en algunos subconjuntos es pequeña, lo que podría entregar resultados poco confiables."
      ]
    },
    {
      "cell_type": "markdown",
      "metadata": {
        "id": "ZNGMKtJ6yGS6"
      },
      "source": [
        "**Resultados Esperados**"
      ]
    },
    {
      "cell_type": "markdown",
      "metadata": {
        "id": "bfAO31iq15EW"
      },
      "source": [
        "Esta tabla ilustra la estructura del dataframe a conseguir. Los valores son referenciales, no necesariamente son los esperados."
      ]
    },
    {
      "cell_type": "markdown",
      "metadata": {
        "id": "qvjZz6RE15EW"
      },
      "source": [
        "|    | race/ethnicity   | simple parental level of education   |   math score |   reading score |   writing score |   GPA |   count | percentage   |\n",
        "|---:|:-----------------|:-------------------------------------|-------------:|----------------:|----------------:|------:|--------:|:-------------|\n",
        "|  0 | group A          | college                              |         4.83 |            5.05 |            4.95 |  4.94 |      26 | 2.6 %        |\n",
        "|  1 |                  | postgraduate                         |         4.46 |            4.88 |            5.06 |  4.80 |       3 | 0.3 %        |\n",
        "|  2 |                  | school                               |         4.65 |            4.81 |            4.66 |  4.71 |      60 | 6.0 %        |\n",
        "|  3 | group B          | college                              |         5.03 |            5.24 |            5.16 |  5.14 |      61 | 6.1 %        |\n",
        "|  4 |                  | postgraduate                         |         5.03 |            5.81 |            5.63 |  5.49 |       6 | 0.6 %        |\n",
        "|  5 |                  | school                               |         4.69 |            4.90 |            4.79 |  4.79 |     123 | 12.3 %       |\n",
        "|  6 | group C          | college                              |         5.03 |            5.36 |            5.33 |  5.24 |     118 | 11.8 %       |\n",
        "|  7 |                  | postgraduate                         |         5.02 |            5.23 |            5.17 |  5.14 |      19 | 1.9 %        |\n",
        "|  8 |                  | school                               |         4.74 |            5.00 |            4.89 |  4.88 |     182 | 18.2 %       |\n",
        "|  9 | group D          | college                              |         5.06 |            5.22 |            5.24 |  5.17 |      78 | 7.8 %        |\n",
        "| 10 |                  | postgraduate                         |         5.35 |            5.63 |            5.78 |  5.59 |      23 | 2.3 %        |\n",
        "| 11 |                  | school                               |         4.99 |            5.13 |            5.11 |  5.08 |     161 | 16.1 %       |\n",
        "| 12 | group E          | college                              |         5.53 |            5.45 |            5.43 |  5.47 |      57 | 5.7 %        |\n",
        "| 13 |                  | postgraduate                         |         5.48 |            5.93 |            5.83 |  5.74 |       8 | 0.8 %        |\n",
        "| 14 |                  | school                               |         5.35 |            5.27 |            5.11 |  5.25 |      75 | 7.5 %        |\n"
      ]
    },
    {
      "cell_type": "markdown",
      "metadata": {
        "id": "vhuhKQIwiYZ8"
      },
      "source": [
        "### 4.3 Joins, joins y más joins [1 punto]"
      ]
    },
    {
      "cell_type": "markdown",
      "metadata": {
        "id": "K08u0N6Iir9N"
      },
      "source": [
        "Mientras le notificaba por videollamada los resultados de sus descubrimientos a Don Caguayo, un exaltado practicante del area de TI entra a la reunión y les informa que ha encontrado una nueva base de datos que cuenta con las notas de dos asignaturas (en escala chilena): historia y ciencias.\n",
        "Para más remate, antes de huir, el practicante les cuenta que este dataframe lamentablemente contiene registros de alumnos que ya no forman parte de la universidad, por lo que no deben ser parte de este análisis.\n",
        "\n",
        "\n",
        "El rector (evidentemente molesto por la situación) les ruega incluir estos datos (vaciados en el archivo other_grades.csv) al estudio original(`students_grades.csv`).\n",
        "\n",
        "\n",
        "Para esto, carge el archivo `other_grades.csv` y busque la forma de unir ambos DataFrames, de tal manera que las columnas de `history score` y `science score` se anexen al final del DataFrame original. **NO LIMPIE LOS DATOS**, si no que explore los distintos tipos de merge para encontrar el mas situable para su situación (y así evitar buscar duplicados o **alumnos que no pertenecen a la universidad**).\n",
        "\n",
        "**To-Do**\n",
        "\n",
        "\n",
        "- [ ] Cargar el `other_grades.csv`\n",
        "- [ ] Unir `df_grades` con `other_grades.csv` usando outer join y explique el resultado.\n",
        "- [ ] Unir `df_grades` con `other_grades.csv` usando left join y explique el resultado.\n",
        "- [ ] Unir `df_grades` con `other_grades.csv` usando right join y explique el resultado.\n",
        "- [ ] Unir `df_grades` con `other_grades.csv` usando inner join y explique el resultado.\n",
        "- [ ] Defina cuál join es el que utilizará para generar el nuevo DataFrame.\n",
        "\n",
        "> **Hint**: Puede explicar los resultados del merge a través de la cantidad de filas resultantes y los valores que estas contienen."
      ]
    },
    {
      "cell_type": "code",
      "execution_count": 24,
      "metadata": {
        "id": "thrYBlvx15EX"
      },
      "outputs": [],
      "source": [
        "# Inserte su respuesta aquí\n",
        "other_grades = pd.read_csv('./other_grades.csv')\n",
        "df_grades_1= pd.read_json('./students_grades_1.json')\n",
        "df_grades_2= pd.read_json('./students_grades_2.json')\n",
        "\n",
        "df_grades= pd.concat([df_grades_1, df_grades_2], axis=0)\n",
        "\n",
        "df_grades_outer = pd.merge(df_grades, other_grades, on='names', how='outer')\n",
        "df_grades_left = pd.merge(df_grades, other_grades, on='names', how='left')\n",
        "df_grades_right = pd.merge(df_grades, other_grades, on='names', how='right')\n",
        "df_grades_inner = pd.merge(df_grades, other_grades, on='names', how='inner')"
      ]
    },
    {
      "cell_type": "code",
      "execution_count": 25,
      "metadata": {},
      "outputs": [
        {
          "data": {
            "text/html": [
              "<div>\n",
              "<style scoped>\n",
              "    .dataframe tbody tr th:only-of-type {\n",
              "        vertical-align: middle;\n",
              "    }\n",
              "\n",
              "    .dataframe tbody tr th {\n",
              "        vertical-align: top;\n",
              "    }\n",
              "\n",
              "    .dataframe thead th {\n",
              "        text-align: right;\n",
              "    }\n",
              "</style>\n",
              "<table border=\"1\" class=\"dataframe\">\n",
              "  <thead>\n",
              "    <tr style=\"text-align: right;\">\n",
              "      <th></th>\n",
              "      <th>names</th>\n",
              "      <th>gender</th>\n",
              "      <th>race/ethnicity</th>\n",
              "      <th>parental level of education</th>\n",
              "      <th>lunch</th>\n",
              "      <th>test preparation course</th>\n",
              "      <th>math score</th>\n",
              "      <th>reading score</th>\n",
              "      <th>writing score</th>\n",
              "      <th>GPA</th>\n",
              "      <th>GPA cuantiles</th>\n",
              "      <th>science score</th>\n",
              "      <th>history score</th>\n",
              "    </tr>\n",
              "  </thead>\n",
              "  <tbody>\n",
              "    <tr>\n",
              "      <th>0</th>\n",
              "      <td>Aaron Morgan</td>\n",
              "      <td>NaN</td>\n",
              "      <td>NaN</td>\n",
              "      <td>NaN</td>\n",
              "      <td>NaN</td>\n",
              "      <td>NaN</td>\n",
              "      <td>NaN</td>\n",
              "      <td>NaN</td>\n",
              "      <td>NaN</td>\n",
              "      <td>NaN</td>\n",
              "      <td>NaN</td>\n",
              "      <td>3.35</td>\n",
              "      <td>5.46</td>\n",
              "    </tr>\n",
              "    <tr>\n",
              "      <th>1</th>\n",
              "      <td>Aaron Oakden</td>\n",
              "      <td>male</td>\n",
              "      <td>group D</td>\n",
              "      <td>high school</td>\n",
              "      <td>free/reduced</td>\n",
              "      <td>none</td>\n",
              "      <td>4.96</td>\n",
              "      <td>5.44</td>\n",
              "      <td>5.14</td>\n",
              "      <td>5.18</td>\n",
              "      <td>Medio</td>\n",
              "      <td>3.76</td>\n",
              "      <td>4.60</td>\n",
              "    </tr>\n",
              "    <tr>\n",
              "      <th>2</th>\n",
              "      <td>Aaron Shelly</td>\n",
              "      <td>male</td>\n",
              "      <td>group D</td>\n",
              "      <td>associate's degree</td>\n",
              "      <td>standard</td>\n",
              "      <td>none</td>\n",
              "      <td>4.66</td>\n",
              "      <td>3.88</td>\n",
              "      <td>3.76</td>\n",
              "      <td>4.10</td>\n",
              "      <td>Bajísimo</td>\n",
              "      <td>3.88</td>\n",
              "      <td>3.90</td>\n",
              "    </tr>\n",
              "    <tr>\n",
              "      <th>3</th>\n",
              "      <td>Abigail Hall</td>\n",
              "      <td>NaN</td>\n",
              "      <td>NaN</td>\n",
              "      <td>NaN</td>\n",
              "      <td>NaN</td>\n",
              "      <td>NaN</td>\n",
              "      <td>NaN</td>\n",
              "      <td>NaN</td>\n",
              "      <td>NaN</td>\n",
              "      <td>NaN</td>\n",
              "      <td>NaN</td>\n",
              "      <td>2.88</td>\n",
              "      <td>4.59</td>\n",
              "    </tr>\n",
              "    <tr>\n",
              "      <th>4</th>\n",
              "      <td>Adam Collins</td>\n",
              "      <td>NaN</td>\n",
              "      <td>NaN</td>\n",
              "      <td>NaN</td>\n",
              "      <td>NaN</td>\n",
              "      <td>NaN</td>\n",
              "      <td>NaN</td>\n",
              "      <td>NaN</td>\n",
              "      <td>NaN</td>\n",
              "      <td>NaN</td>\n",
              "      <td>NaN</td>\n",
              "      <td>5.32</td>\n",
              "      <td>2.57</td>\n",
              "    </tr>\n",
              "    <tr>\n",
              "      <th>...</th>\n",
              "      <td>...</td>\n",
              "      <td>...</td>\n",
              "      <td>...</td>\n",
              "      <td>...</td>\n",
              "      <td>...</td>\n",
              "      <td>...</td>\n",
              "      <td>...</td>\n",
              "      <td>...</td>\n",
              "      <td>...</td>\n",
              "      <td>...</td>\n",
              "      <td>...</td>\n",
              "      <td>...</td>\n",
              "      <td>...</td>\n",
              "    </tr>\n",
              "    <tr>\n",
              "      <th>1145</th>\n",
              "      <td>Zachary Glenn</td>\n",
              "      <td>male</td>\n",
              "      <td>group E</td>\n",
              "      <td>some college</td>\n",
              "      <td>standard</td>\n",
              "      <td>completed</td>\n",
              "      <td>6.94</td>\n",
              "      <td>6.22</td>\n",
              "      <td>5.86</td>\n",
              "      <td>6.34</td>\n",
              "      <td>Muy alto</td>\n",
              "      <td>6.94</td>\n",
              "      <td>5.70</td>\n",
              "    </tr>\n",
              "    <tr>\n",
              "      <th>1146</th>\n",
              "      <td>Zachary Torres</td>\n",
              "      <td>NaN</td>\n",
              "      <td>NaN</td>\n",
              "      <td>NaN</td>\n",
              "      <td>NaN</td>\n",
              "      <td>NaN</td>\n",
              "      <td>NaN</td>\n",
              "      <td>NaN</td>\n",
              "      <td>NaN</td>\n",
              "      <td>NaN</td>\n",
              "      <td>NaN</td>\n",
              "      <td>4.48</td>\n",
              "      <td>6.92</td>\n",
              "    </tr>\n",
              "    <tr>\n",
              "      <th>1147</th>\n",
              "      <td>Zoey Campbell</td>\n",
              "      <td>NaN</td>\n",
              "      <td>NaN</td>\n",
              "      <td>NaN</td>\n",
              "      <td>NaN</td>\n",
              "      <td>NaN</td>\n",
              "      <td>NaN</td>\n",
              "      <td>NaN</td>\n",
              "      <td>NaN</td>\n",
              "      <td>NaN</td>\n",
              "      <td>NaN</td>\n",
              "      <td>4.05</td>\n",
              "      <td>1.72</td>\n",
              "    </tr>\n",
              "    <tr>\n",
              "      <th>1148</th>\n",
              "      <td>Zoey Long</td>\n",
              "      <td>NaN</td>\n",
              "      <td>NaN</td>\n",
              "      <td>NaN</td>\n",
              "      <td>NaN</td>\n",
              "      <td>NaN</td>\n",
              "      <td>NaN</td>\n",
              "      <td>NaN</td>\n",
              "      <td>NaN</td>\n",
              "      <td>NaN</td>\n",
              "      <td>NaN</td>\n",
              "      <td>1.75</td>\n",
              "      <td>3.50</td>\n",
              "    </tr>\n",
              "    <tr>\n",
              "      <th>1149</th>\n",
              "      <td>Zoey Patterson</td>\n",
              "      <td>NaN</td>\n",
              "      <td>NaN</td>\n",
              "      <td>NaN</td>\n",
              "      <td>NaN</td>\n",
              "      <td>NaN</td>\n",
              "      <td>NaN</td>\n",
              "      <td>NaN</td>\n",
              "      <td>NaN</td>\n",
              "      <td>NaN</td>\n",
              "      <td>NaN</td>\n",
              "      <td>4.89</td>\n",
              "      <td>6.68</td>\n",
              "    </tr>\n",
              "  </tbody>\n",
              "</table>\n",
              "<p>1150 rows × 13 columns</p>\n",
              "</div>"
            ],
            "text/plain": [
              "               names gender race/ethnicity parental level of education  \\\n",
              "0       Aaron Morgan    NaN            NaN                         NaN   \n",
              "1       Aaron Oakden   male        group D                 high school   \n",
              "2       Aaron Shelly   male        group D          associate's degree   \n",
              "3       Abigail Hall    NaN            NaN                         NaN   \n",
              "4       Adam Collins    NaN            NaN                         NaN   \n",
              "...              ...    ...            ...                         ...   \n",
              "1145   Zachary Glenn   male        group E                some college   \n",
              "1146  Zachary Torres    NaN            NaN                         NaN   \n",
              "1147   Zoey Campbell    NaN            NaN                         NaN   \n",
              "1148       Zoey Long    NaN            NaN                         NaN   \n",
              "1149  Zoey Patterson    NaN            NaN                         NaN   \n",
              "\n",
              "             lunch test preparation course  math score  reading score  \\\n",
              "0              NaN                     NaN         NaN            NaN   \n",
              "1     free/reduced                    none        4.96           5.44   \n",
              "2         standard                    none        4.66           3.88   \n",
              "3              NaN                     NaN         NaN            NaN   \n",
              "4              NaN                     NaN         NaN            NaN   \n",
              "...            ...                     ...         ...            ...   \n",
              "1145      standard               completed        6.94           6.22   \n",
              "1146           NaN                     NaN         NaN            NaN   \n",
              "1147           NaN                     NaN         NaN            NaN   \n",
              "1148           NaN                     NaN         NaN            NaN   \n",
              "1149           NaN                     NaN         NaN            NaN   \n",
              "\n",
              "      writing score   GPA GPA cuantiles  science score  history score  \n",
              "0               NaN   NaN           NaN           3.35           5.46  \n",
              "1              5.14  5.18         Medio           3.76           4.60  \n",
              "2              3.76  4.10      Bajísimo           3.88           3.90  \n",
              "3               NaN   NaN           NaN           2.88           4.59  \n",
              "4               NaN   NaN           NaN           5.32           2.57  \n",
              "...             ...   ...           ...            ...            ...  \n",
              "1145           5.86  6.34      Muy alto           6.94           5.70  \n",
              "1146            NaN   NaN           NaN           4.48           6.92  \n",
              "1147            NaN   NaN           NaN           4.05           1.72  \n",
              "1148            NaN   NaN           NaN           1.75           3.50  \n",
              "1149            NaN   NaN           NaN           4.89           6.68  \n",
              "\n",
              "[1150 rows x 13 columns]"
            ]
          },
          "execution_count": 25,
          "metadata": {},
          "output_type": "execute_result"
        }
      ],
      "source": [
        "df_grades_outer"
      ]
    },
    {
      "cell_type": "markdown",
      "metadata": {},
      "source": [
        "Outer join cruza la información realizando una unión en las columnas índices. Si algún valor de la columna índice de un dataframe no contiene un valor que coincida en la columna índice del otro, rellena ese vacío con NaNs. En cambio, si tiene información de ambos, esta se cruza.\n",
        "\n",
        "No sería apto pues podría incluir alumnos que no pertenecen a la universidad."
      ]
    },
    {
      "cell_type": "code",
      "execution_count": 26,
      "metadata": {},
      "outputs": [
        {
          "data": {
            "text/html": [
              "<div>\n",
              "<style scoped>\n",
              "    .dataframe tbody tr th:only-of-type {\n",
              "        vertical-align: middle;\n",
              "    }\n",
              "\n",
              "    .dataframe tbody tr th {\n",
              "        vertical-align: top;\n",
              "    }\n",
              "\n",
              "    .dataframe thead th {\n",
              "        text-align: right;\n",
              "    }\n",
              "</style>\n",
              "<table border=\"1\" class=\"dataframe\">\n",
              "  <thead>\n",
              "    <tr style=\"text-align: right;\">\n",
              "      <th></th>\n",
              "      <th>names</th>\n",
              "      <th>gender</th>\n",
              "      <th>race/ethnicity</th>\n",
              "      <th>parental level of education</th>\n",
              "      <th>lunch</th>\n",
              "      <th>test preparation course</th>\n",
              "      <th>math score</th>\n",
              "      <th>reading score</th>\n",
              "      <th>writing score</th>\n",
              "      <th>GPA</th>\n",
              "      <th>GPA cuantiles</th>\n",
              "      <th>science score</th>\n",
              "      <th>history score</th>\n",
              "    </tr>\n",
              "  </thead>\n",
              "  <tbody>\n",
              "    <tr>\n",
              "      <th>0</th>\n",
              "      <td>Rita Courtney</td>\n",
              "      <td>female</td>\n",
              "      <td>group B</td>\n",
              "      <td>some high school</td>\n",
              "      <td>standard</td>\n",
              "      <td>none</td>\n",
              "      <td>3.22</td>\n",
              "      <td>3.76</td>\n",
              "      <td>3.76</td>\n",
              "      <td>3.58</td>\n",
              "      <td>Bajísimo</td>\n",
              "      <td>2.50</td>\n",
              "      <td>3.8</td>\n",
              "    </tr>\n",
              "    <tr>\n",
              "      <th>1</th>\n",
              "      <td>Charles Linstrom</td>\n",
              "      <td>male</td>\n",
              "      <td>group A</td>\n",
              "      <td>bachelor's degree</td>\n",
              "      <td>standard</td>\n",
              "      <td>completed</td>\n",
              "      <td>5.80</td>\n",
              "      <td>5.68</td>\n",
              "      <td>5.86</td>\n",
              "      <td>5.78</td>\n",
              "      <td>Alto</td>\n",
              "      <td>4.36</td>\n",
              "      <td>5.2</td>\n",
              "    </tr>\n",
              "    <tr>\n",
              "      <th>2</th>\n",
              "      <td>Brian Young</td>\n",
              "      <td>male</td>\n",
              "      <td>group C</td>\n",
              "      <td>some high school</td>\n",
              "      <td>standard</td>\n",
              "      <td>none</td>\n",
              "      <td>5.38</td>\n",
              "      <td>4.96</td>\n",
              "      <td>4.78</td>\n",
              "      <td>5.04</td>\n",
              "      <td>Medio</td>\n",
              "      <td>4.48</td>\n",
              "      <td>3.8</td>\n",
              "    </tr>\n",
              "    <tr>\n",
              "      <th>3</th>\n",
              "      <td>Howard Jimenez</td>\n",
              "      <td>male</td>\n",
              "      <td>group E</td>\n",
              "      <td>some high school</td>\n",
              "      <td>standard</td>\n",
              "      <td>completed</td>\n",
              "      <td>5.86</td>\n",
              "      <td>5.50</td>\n",
              "      <td>5.56</td>\n",
              "      <td>5.64</td>\n",
              "      <td>Alto</td>\n",
              "      <td>5.32</td>\n",
              "      <td>5.0</td>\n",
              "    </tr>\n",
              "    <tr>\n",
              "      <th>4</th>\n",
              "      <td>Wayne Wilson</td>\n",
              "      <td>male</td>\n",
              "      <td>group B</td>\n",
              "      <td>some high school</td>\n",
              "      <td>standard</td>\n",
              "      <td>completed</td>\n",
              "      <td>6.64</td>\n",
              "      <td>6.16</td>\n",
              "      <td>6.22</td>\n",
              "      <td>6.34</td>\n",
              "      <td>Muy alto</td>\n",
              "      <td>6.64</td>\n",
              "      <td>4.6</td>\n",
              "    </tr>\n",
              "    <tr>\n",
              "      <th>...</th>\n",
              "      <td>...</td>\n",
              "      <td>...</td>\n",
              "      <td>...</td>\n",
              "      <td>...</td>\n",
              "      <td>...</td>\n",
              "      <td>...</td>\n",
              "      <td>...</td>\n",
              "      <td>...</td>\n",
              "      <td>...</td>\n",
              "      <td>...</td>\n",
              "      <td>...</td>\n",
              "      <td>...</td>\n",
              "      <td>...</td>\n",
              "    </tr>\n",
              "    <tr>\n",
              "      <th>995</th>\n",
              "      <td>Richard Young</td>\n",
              "      <td>male</td>\n",
              "      <td>group D</td>\n",
              "      <td>high school</td>\n",
              "      <td>standard</td>\n",
              "      <td>none</td>\n",
              "      <td>5.14</td>\n",
              "      <td>5.50</td>\n",
              "      <td>5.26</td>\n",
              "      <td>5.30</td>\n",
              "      <td>Medio</td>\n",
              "      <td>4.72</td>\n",
              "      <td>4.2</td>\n",
              "    </tr>\n",
              "    <tr>\n",
              "      <th>996</th>\n",
              "      <td>Wanda Russell</td>\n",
              "      <td>female</td>\n",
              "      <td>group B</td>\n",
              "      <td>high school</td>\n",
              "      <td>free/reduced</td>\n",
              "      <td>completed</td>\n",
              "      <td>2.38</td>\n",
              "      <td>3.64</td>\n",
              "      <td>3.16</td>\n",
              "      <td>3.06</td>\n",
              "      <td>Bajísimo</td>\n",
              "      <td>1.96</td>\n",
              "      <td>3.6</td>\n",
              "    </tr>\n",
              "    <tr>\n",
              "      <th>997</th>\n",
              "      <td>Marina Zeigler</td>\n",
              "      <td>female</td>\n",
              "      <td>group C</td>\n",
              "      <td>bachelor's degree</td>\n",
              "      <td>free/reduced</td>\n",
              "      <td>completed</td>\n",
              "      <td>4.96</td>\n",
              "      <td>5.44</td>\n",
              "      <td>5.86</td>\n",
              "      <td>5.42</td>\n",
              "      <td>Alto</td>\n",
              "      <td>4.54</td>\n",
              "      <td>4.1</td>\n",
              "    </tr>\n",
              "    <tr>\n",
              "      <th>998</th>\n",
              "      <td>Laurie Carter</td>\n",
              "      <td>female</td>\n",
              "      <td>group B</td>\n",
              "      <td>some high school</td>\n",
              "      <td>standard</td>\n",
              "      <td>completed</td>\n",
              "      <td>4.24</td>\n",
              "      <td>4.66</td>\n",
              "      <td>4.72</td>\n",
              "      <td>4.54</td>\n",
              "      <td>Bajo</td>\n",
              "      <td>3.58</td>\n",
              "      <td>4.3</td>\n",
              "    </tr>\n",
              "    <tr>\n",
              "      <th>999</th>\n",
              "      <td>Amanda Perez</td>\n",
              "      <td>female</td>\n",
              "      <td>group A</td>\n",
              "      <td>high school</td>\n",
              "      <td>standard</td>\n",
              "      <td>completed</td>\n",
              "      <td>5.08</td>\n",
              "      <td>5.80</td>\n",
              "      <td>5.56</td>\n",
              "      <td>5.48</td>\n",
              "      <td>Alto</td>\n",
              "      <td>4.66</td>\n",
              "      <td>5.3</td>\n",
              "    </tr>\n",
              "  </tbody>\n",
              "</table>\n",
              "<p>1000 rows × 13 columns</p>\n",
              "</div>"
            ],
            "text/plain": [
              "                names  gender race/ethnicity parental level of education  \\\n",
              "0       Rita Courtney  female        group B            some high school   \n",
              "1    Charles Linstrom    male        group A           bachelor's degree   \n",
              "2         Brian Young    male        group C            some high school   \n",
              "3      Howard Jimenez    male        group E            some high school   \n",
              "4        Wayne Wilson    male        group B            some high school   \n",
              "..                ...     ...            ...                         ...   \n",
              "995     Richard Young    male        group D                 high school   \n",
              "996     Wanda Russell  female        group B                 high school   \n",
              "997    Marina Zeigler  female        group C           bachelor's degree   \n",
              "998     Laurie Carter  female        group B            some high school   \n",
              "999      Amanda Perez  female        group A                 high school   \n",
              "\n",
              "            lunch test preparation course  math score  reading score  \\\n",
              "0        standard                    none        3.22           3.76   \n",
              "1        standard               completed        5.80           5.68   \n",
              "2        standard                    none        5.38           4.96   \n",
              "3        standard               completed        5.86           5.50   \n",
              "4        standard               completed        6.64           6.16   \n",
              "..            ...                     ...         ...            ...   \n",
              "995      standard                    none        5.14           5.50   \n",
              "996  free/reduced               completed        2.38           3.64   \n",
              "997  free/reduced               completed        4.96           5.44   \n",
              "998      standard               completed        4.24           4.66   \n",
              "999      standard               completed        5.08           5.80   \n",
              "\n",
              "     writing score   GPA GPA cuantiles  science score  history score  \n",
              "0             3.76  3.58      Bajísimo           2.50            3.8  \n",
              "1             5.86  5.78          Alto           4.36            5.2  \n",
              "2             4.78  5.04         Medio           4.48            3.8  \n",
              "3             5.56  5.64          Alto           5.32            5.0  \n",
              "4             6.22  6.34      Muy alto           6.64            4.6  \n",
              "..             ...   ...           ...            ...            ...  \n",
              "995           5.26  5.30         Medio           4.72            4.2  \n",
              "996           3.16  3.06      Bajísimo           1.96            3.6  \n",
              "997           5.86  5.42          Alto           4.54            4.1  \n",
              "998           4.72  4.54          Bajo           3.58            4.3  \n",
              "999           5.56  5.48          Alto           4.66            5.3  \n",
              "\n",
              "[1000 rows x 13 columns]"
            ]
          },
          "execution_count": 26,
          "metadata": {},
          "output_type": "execute_result"
        }
      ],
      "source": [
        "df_grades_left"
      ]
    },
    {
      "cell_type": "markdown",
      "metadata": {},
      "source": [
        "Left join cruza la información considerando únicamente la columna índice del dataset izquierdo. Si un valor de la columna índice izquierda tiene un valor asociado en la columna índice del dataset derecho, realiza el cruce de información, si no, rellena los vacíos con NaN. Pero si un valor de la columna índice del dataset derecho no tiene un valor asociado en el dataset izquierdo no la incluye.\n",
        "\n",
        "Sería apta debido a que retorna únicamente los estudiantes activos de la universidad, sin descartarlos en caso de no encontrar información en `other_grades`."
      ]
    },
    {
      "cell_type": "code",
      "execution_count": 27,
      "metadata": {},
      "outputs": [
        {
          "data": {
            "text/html": [
              "<div>\n",
              "<style scoped>\n",
              "    .dataframe tbody tr th:only-of-type {\n",
              "        vertical-align: middle;\n",
              "    }\n",
              "\n",
              "    .dataframe tbody tr th {\n",
              "        vertical-align: top;\n",
              "    }\n",
              "\n",
              "    .dataframe thead th {\n",
              "        text-align: right;\n",
              "    }\n",
              "</style>\n",
              "<table border=\"1\" class=\"dataframe\">\n",
              "  <thead>\n",
              "    <tr style=\"text-align: right;\">\n",
              "      <th></th>\n",
              "      <th>names</th>\n",
              "      <th>gender</th>\n",
              "      <th>race/ethnicity</th>\n",
              "      <th>parental level of education</th>\n",
              "      <th>lunch</th>\n",
              "      <th>test preparation course</th>\n",
              "      <th>math score</th>\n",
              "      <th>reading score</th>\n",
              "      <th>writing score</th>\n",
              "      <th>GPA</th>\n",
              "      <th>GPA cuantiles</th>\n",
              "      <th>science score</th>\n",
              "      <th>history score</th>\n",
              "    </tr>\n",
              "  </thead>\n",
              "  <tbody>\n",
              "    <tr>\n",
              "      <th>0</th>\n",
              "      <td>Pam Otoole</td>\n",
              "      <td>female</td>\n",
              "      <td>group B</td>\n",
              "      <td>bachelor's degree</td>\n",
              "      <td>standard</td>\n",
              "      <td>none</td>\n",
              "      <td>5.32</td>\n",
              "      <td>5.32</td>\n",
              "      <td>5.44</td>\n",
              "      <td>5.36</td>\n",
              "      <td>Alto</td>\n",
              "      <td>4.42</td>\n",
              "      <td>4.00</td>\n",
              "    </tr>\n",
              "    <tr>\n",
              "      <th>1</th>\n",
              "      <td>Diane Olson</td>\n",
              "      <td>female</td>\n",
              "      <td>group C</td>\n",
              "      <td>some college</td>\n",
              "      <td>standard</td>\n",
              "      <td>completed</td>\n",
              "      <td>5.14</td>\n",
              "      <td>6.40</td>\n",
              "      <td>6.28</td>\n",
              "      <td>5.94</td>\n",
              "      <td>Muy alto</td>\n",
              "      <td>3.88</td>\n",
              "      <td>4.80</td>\n",
              "    </tr>\n",
              "    <tr>\n",
              "      <th>2</th>\n",
              "      <td>Sarah Flannery</td>\n",
              "      <td>female</td>\n",
              "      <td>group B</td>\n",
              "      <td>master's degree</td>\n",
              "      <td>standard</td>\n",
              "      <td>none</td>\n",
              "      <td>6.40</td>\n",
              "      <td>6.70</td>\n",
              "      <td>6.58</td>\n",
              "      <td>6.56</td>\n",
              "      <td>Muy alto</td>\n",
              "      <td>5.32</td>\n",
              "      <td>6.10</td>\n",
              "    </tr>\n",
              "    <tr>\n",
              "      <th>3</th>\n",
              "      <td>Stanley Chappell</td>\n",
              "      <td>male</td>\n",
              "      <td>group A</td>\n",
              "      <td>associate's degree</td>\n",
              "      <td>free/reduced</td>\n",
              "      <td>none</td>\n",
              "      <td>3.82</td>\n",
              "      <td>4.42</td>\n",
              "      <td>3.64</td>\n",
              "      <td>3.96</td>\n",
              "      <td>Bajísimo</td>\n",
              "      <td>3.82</td>\n",
              "      <td>3.70</td>\n",
              "    </tr>\n",
              "    <tr>\n",
              "      <th>4</th>\n",
              "      <td>Arnold Dodson</td>\n",
              "      <td>male</td>\n",
              "      <td>group C</td>\n",
              "      <td>some college</td>\n",
              "      <td>standard</td>\n",
              "      <td>none</td>\n",
              "      <td>5.56</td>\n",
              "      <td>5.68</td>\n",
              "      <td>5.50</td>\n",
              "      <td>5.58</td>\n",
              "      <td>Alto</td>\n",
              "      <td>4.60</td>\n",
              "      <td>5.20</td>\n",
              "    </tr>\n",
              "    <tr>\n",
              "      <th>...</th>\n",
              "      <td>...</td>\n",
              "      <td>...</td>\n",
              "      <td>...</td>\n",
              "      <td>...</td>\n",
              "      <td>...</td>\n",
              "      <td>...</td>\n",
              "      <td>...</td>\n",
              "      <td>...</td>\n",
              "      <td>...</td>\n",
              "      <td>...</td>\n",
              "      <td>...</td>\n",
              "      <td>...</td>\n",
              "      <td>...</td>\n",
              "    </tr>\n",
              "    <tr>\n",
              "      <th>1145</th>\n",
              "      <td>Carson Brooks</td>\n",
              "      <td>NaN</td>\n",
              "      <td>NaN</td>\n",
              "      <td>NaN</td>\n",
              "      <td>NaN</td>\n",
              "      <td>NaN</td>\n",
              "      <td>NaN</td>\n",
              "      <td>NaN</td>\n",
              "      <td>NaN</td>\n",
              "      <td>NaN</td>\n",
              "      <td>NaN</td>\n",
              "      <td>4.72</td>\n",
              "      <td>1.54</td>\n",
              "    </tr>\n",
              "    <tr>\n",
              "      <th>1146</th>\n",
              "      <td>Ruby Reed</td>\n",
              "      <td>NaN</td>\n",
              "      <td>NaN</td>\n",
              "      <td>NaN</td>\n",
              "      <td>NaN</td>\n",
              "      <td>NaN</td>\n",
              "      <td>NaN</td>\n",
              "      <td>NaN</td>\n",
              "      <td>NaN</td>\n",
              "      <td>NaN</td>\n",
              "      <td>NaN</td>\n",
              "      <td>1.71</td>\n",
              "      <td>4.59</td>\n",
              "    </tr>\n",
              "    <tr>\n",
              "      <th>1147</th>\n",
              "      <td>Zachary Torres</td>\n",
              "      <td>NaN</td>\n",
              "      <td>NaN</td>\n",
              "      <td>NaN</td>\n",
              "      <td>NaN</td>\n",
              "      <td>NaN</td>\n",
              "      <td>NaN</td>\n",
              "      <td>NaN</td>\n",
              "      <td>NaN</td>\n",
              "      <td>NaN</td>\n",
              "      <td>NaN</td>\n",
              "      <td>4.48</td>\n",
              "      <td>6.92</td>\n",
              "    </tr>\n",
              "    <tr>\n",
              "      <th>1148</th>\n",
              "      <td>Eliana Gray</td>\n",
              "      <td>NaN</td>\n",
              "      <td>NaN</td>\n",
              "      <td>NaN</td>\n",
              "      <td>NaN</td>\n",
              "      <td>NaN</td>\n",
              "      <td>NaN</td>\n",
              "      <td>NaN</td>\n",
              "      <td>NaN</td>\n",
              "      <td>NaN</td>\n",
              "      <td>NaN</td>\n",
              "      <td>6.91</td>\n",
              "      <td>5.41</td>\n",
              "    </tr>\n",
              "    <tr>\n",
              "      <th>1149</th>\n",
              "      <td>Gavin James</td>\n",
              "      <td>NaN</td>\n",
              "      <td>NaN</td>\n",
              "      <td>NaN</td>\n",
              "      <td>NaN</td>\n",
              "      <td>NaN</td>\n",
              "      <td>NaN</td>\n",
              "      <td>NaN</td>\n",
              "      <td>NaN</td>\n",
              "      <td>NaN</td>\n",
              "      <td>NaN</td>\n",
              "      <td>6.60</td>\n",
              "      <td>6.06</td>\n",
              "    </tr>\n",
              "  </tbody>\n",
              "</table>\n",
              "<p>1150 rows × 13 columns</p>\n",
              "</div>"
            ],
            "text/plain": [
              "                 names  gender race/ethnicity parental level of education  \\\n",
              "0           Pam Otoole  female        group B           bachelor's degree   \n",
              "1          Diane Olson  female        group C                some college   \n",
              "2       Sarah Flannery  female        group B             master's degree   \n",
              "3     Stanley Chappell    male        group A          associate's degree   \n",
              "4        Arnold Dodson    male        group C                some college   \n",
              "...                ...     ...            ...                         ...   \n",
              "1145     Carson Brooks     NaN            NaN                         NaN   \n",
              "1146         Ruby Reed     NaN            NaN                         NaN   \n",
              "1147    Zachary Torres     NaN            NaN                         NaN   \n",
              "1148       Eliana Gray     NaN            NaN                         NaN   \n",
              "1149       Gavin James     NaN            NaN                         NaN   \n",
              "\n",
              "             lunch test preparation course  math score  reading score  \\\n",
              "0         standard                    none        5.32           5.32   \n",
              "1         standard               completed        5.14           6.40   \n",
              "2         standard                    none        6.40           6.70   \n",
              "3     free/reduced                    none        3.82           4.42   \n",
              "4         standard                    none        5.56           5.68   \n",
              "...            ...                     ...         ...            ...   \n",
              "1145           NaN                     NaN         NaN            NaN   \n",
              "1146           NaN                     NaN         NaN            NaN   \n",
              "1147           NaN                     NaN         NaN            NaN   \n",
              "1148           NaN                     NaN         NaN            NaN   \n",
              "1149           NaN                     NaN         NaN            NaN   \n",
              "\n",
              "      writing score   GPA GPA cuantiles  science score  history score  \n",
              "0              5.44  5.36          Alto           4.42           4.00  \n",
              "1              6.28  5.94      Muy alto           3.88           4.80  \n",
              "2              6.58  6.56      Muy alto           5.32           6.10  \n",
              "3              3.64  3.96      Bajísimo           3.82           3.70  \n",
              "4              5.50  5.58          Alto           4.60           5.20  \n",
              "...             ...   ...           ...            ...            ...  \n",
              "1145            NaN   NaN           NaN           4.72           1.54  \n",
              "1146            NaN   NaN           NaN           1.71           4.59  \n",
              "1147            NaN   NaN           NaN           4.48           6.92  \n",
              "1148            NaN   NaN           NaN           6.91           5.41  \n",
              "1149            NaN   NaN           NaN           6.60           6.06  \n",
              "\n",
              "[1150 rows x 13 columns]"
            ]
          },
          "execution_count": 27,
          "metadata": {},
          "output_type": "execute_result"
        }
      ],
      "source": [
        "df_grades_right"
      ]
    },
    {
      "cell_type": "markdown",
      "metadata": {},
      "source": [
        "Right join es análogo a left join, pero intercambiando orden.\n",
        "\n",
        "No sería apto pues retorna a todos los estudiantes presentes en `other_grades`, independiente de si pertenecen a la universidad. Además, estudiantes de la universidad que no tengan notas en `other_grades` son excluidos."
      ]
    },
    {
      "cell_type": "code",
      "execution_count": 28,
      "metadata": {},
      "outputs": [
        {
          "data": {
            "text/html": [
              "<div>\n",
              "<style scoped>\n",
              "    .dataframe tbody tr th:only-of-type {\n",
              "        vertical-align: middle;\n",
              "    }\n",
              "\n",
              "    .dataframe tbody tr th {\n",
              "        vertical-align: top;\n",
              "    }\n",
              "\n",
              "    .dataframe thead th {\n",
              "        text-align: right;\n",
              "    }\n",
              "</style>\n",
              "<table border=\"1\" class=\"dataframe\">\n",
              "  <thead>\n",
              "    <tr style=\"text-align: right;\">\n",
              "      <th></th>\n",
              "      <th>names</th>\n",
              "      <th>gender</th>\n",
              "      <th>race/ethnicity</th>\n",
              "      <th>parental level of education</th>\n",
              "      <th>lunch</th>\n",
              "      <th>test preparation course</th>\n",
              "      <th>math score</th>\n",
              "      <th>reading score</th>\n",
              "      <th>writing score</th>\n",
              "      <th>GPA</th>\n",
              "      <th>GPA cuantiles</th>\n",
              "      <th>science score</th>\n",
              "      <th>history score</th>\n",
              "    </tr>\n",
              "  </thead>\n",
              "  <tbody>\n",
              "    <tr>\n",
              "      <th>0</th>\n",
              "      <td>Rita Courtney</td>\n",
              "      <td>female</td>\n",
              "      <td>group B</td>\n",
              "      <td>some high school</td>\n",
              "      <td>standard</td>\n",
              "      <td>none</td>\n",
              "      <td>3.22</td>\n",
              "      <td>3.76</td>\n",
              "      <td>3.76</td>\n",
              "      <td>3.58</td>\n",
              "      <td>Bajísimo</td>\n",
              "      <td>2.50</td>\n",
              "      <td>3.8</td>\n",
              "    </tr>\n",
              "    <tr>\n",
              "      <th>1</th>\n",
              "      <td>Charles Linstrom</td>\n",
              "      <td>male</td>\n",
              "      <td>group A</td>\n",
              "      <td>bachelor's degree</td>\n",
              "      <td>standard</td>\n",
              "      <td>completed</td>\n",
              "      <td>5.80</td>\n",
              "      <td>5.68</td>\n",
              "      <td>5.86</td>\n",
              "      <td>5.78</td>\n",
              "      <td>Alto</td>\n",
              "      <td>4.36</td>\n",
              "      <td>5.2</td>\n",
              "    </tr>\n",
              "    <tr>\n",
              "      <th>2</th>\n",
              "      <td>Brian Young</td>\n",
              "      <td>male</td>\n",
              "      <td>group C</td>\n",
              "      <td>some high school</td>\n",
              "      <td>standard</td>\n",
              "      <td>none</td>\n",
              "      <td>5.38</td>\n",
              "      <td>4.96</td>\n",
              "      <td>4.78</td>\n",
              "      <td>5.04</td>\n",
              "      <td>Medio</td>\n",
              "      <td>4.48</td>\n",
              "      <td>3.8</td>\n",
              "    </tr>\n",
              "    <tr>\n",
              "      <th>3</th>\n",
              "      <td>Howard Jimenez</td>\n",
              "      <td>male</td>\n",
              "      <td>group E</td>\n",
              "      <td>some high school</td>\n",
              "      <td>standard</td>\n",
              "      <td>completed</td>\n",
              "      <td>5.86</td>\n",
              "      <td>5.50</td>\n",
              "      <td>5.56</td>\n",
              "      <td>5.64</td>\n",
              "      <td>Alto</td>\n",
              "      <td>5.32</td>\n",
              "      <td>5.0</td>\n",
              "    </tr>\n",
              "    <tr>\n",
              "      <th>4</th>\n",
              "      <td>Wayne Wilson</td>\n",
              "      <td>male</td>\n",
              "      <td>group B</td>\n",
              "      <td>some high school</td>\n",
              "      <td>standard</td>\n",
              "      <td>completed</td>\n",
              "      <td>6.64</td>\n",
              "      <td>6.16</td>\n",
              "      <td>6.22</td>\n",
              "      <td>6.34</td>\n",
              "      <td>Muy alto</td>\n",
              "      <td>6.64</td>\n",
              "      <td>4.6</td>\n",
              "    </tr>\n",
              "    <tr>\n",
              "      <th>...</th>\n",
              "      <td>...</td>\n",
              "      <td>...</td>\n",
              "      <td>...</td>\n",
              "      <td>...</td>\n",
              "      <td>...</td>\n",
              "      <td>...</td>\n",
              "      <td>...</td>\n",
              "      <td>...</td>\n",
              "      <td>...</td>\n",
              "      <td>...</td>\n",
              "      <td>...</td>\n",
              "      <td>...</td>\n",
              "      <td>...</td>\n",
              "    </tr>\n",
              "    <tr>\n",
              "      <th>995</th>\n",
              "      <td>Richard Young</td>\n",
              "      <td>male</td>\n",
              "      <td>group D</td>\n",
              "      <td>high school</td>\n",
              "      <td>standard</td>\n",
              "      <td>none</td>\n",
              "      <td>5.14</td>\n",
              "      <td>5.50</td>\n",
              "      <td>5.26</td>\n",
              "      <td>5.30</td>\n",
              "      <td>Medio</td>\n",
              "      <td>4.72</td>\n",
              "      <td>4.2</td>\n",
              "    </tr>\n",
              "    <tr>\n",
              "      <th>996</th>\n",
              "      <td>Wanda Russell</td>\n",
              "      <td>female</td>\n",
              "      <td>group B</td>\n",
              "      <td>high school</td>\n",
              "      <td>free/reduced</td>\n",
              "      <td>completed</td>\n",
              "      <td>2.38</td>\n",
              "      <td>3.64</td>\n",
              "      <td>3.16</td>\n",
              "      <td>3.06</td>\n",
              "      <td>Bajísimo</td>\n",
              "      <td>1.96</td>\n",
              "      <td>3.6</td>\n",
              "    </tr>\n",
              "    <tr>\n",
              "      <th>997</th>\n",
              "      <td>Marina Zeigler</td>\n",
              "      <td>female</td>\n",
              "      <td>group C</td>\n",
              "      <td>bachelor's degree</td>\n",
              "      <td>free/reduced</td>\n",
              "      <td>completed</td>\n",
              "      <td>4.96</td>\n",
              "      <td>5.44</td>\n",
              "      <td>5.86</td>\n",
              "      <td>5.42</td>\n",
              "      <td>Alto</td>\n",
              "      <td>4.54</td>\n",
              "      <td>4.1</td>\n",
              "    </tr>\n",
              "    <tr>\n",
              "      <th>998</th>\n",
              "      <td>Laurie Carter</td>\n",
              "      <td>female</td>\n",
              "      <td>group B</td>\n",
              "      <td>some high school</td>\n",
              "      <td>standard</td>\n",
              "      <td>completed</td>\n",
              "      <td>4.24</td>\n",
              "      <td>4.66</td>\n",
              "      <td>4.72</td>\n",
              "      <td>4.54</td>\n",
              "      <td>Bajo</td>\n",
              "      <td>3.58</td>\n",
              "      <td>4.3</td>\n",
              "    </tr>\n",
              "    <tr>\n",
              "      <th>999</th>\n",
              "      <td>Amanda Perez</td>\n",
              "      <td>female</td>\n",
              "      <td>group A</td>\n",
              "      <td>high school</td>\n",
              "      <td>standard</td>\n",
              "      <td>completed</td>\n",
              "      <td>5.08</td>\n",
              "      <td>5.80</td>\n",
              "      <td>5.56</td>\n",
              "      <td>5.48</td>\n",
              "      <td>Alto</td>\n",
              "      <td>4.66</td>\n",
              "      <td>5.3</td>\n",
              "    </tr>\n",
              "  </tbody>\n",
              "</table>\n",
              "<p>1000 rows × 13 columns</p>\n",
              "</div>"
            ],
            "text/plain": [
              "                names  gender race/ethnicity parental level of education  \\\n",
              "0       Rita Courtney  female        group B            some high school   \n",
              "1    Charles Linstrom    male        group A           bachelor's degree   \n",
              "2         Brian Young    male        group C            some high school   \n",
              "3      Howard Jimenez    male        group E            some high school   \n",
              "4        Wayne Wilson    male        group B            some high school   \n",
              "..                ...     ...            ...                         ...   \n",
              "995     Richard Young    male        group D                 high school   \n",
              "996     Wanda Russell  female        group B                 high school   \n",
              "997    Marina Zeigler  female        group C           bachelor's degree   \n",
              "998     Laurie Carter  female        group B            some high school   \n",
              "999      Amanda Perez  female        group A                 high school   \n",
              "\n",
              "            lunch test preparation course  math score  reading score  \\\n",
              "0        standard                    none        3.22           3.76   \n",
              "1        standard               completed        5.80           5.68   \n",
              "2        standard                    none        5.38           4.96   \n",
              "3        standard               completed        5.86           5.50   \n",
              "4        standard               completed        6.64           6.16   \n",
              "..            ...                     ...         ...            ...   \n",
              "995      standard                    none        5.14           5.50   \n",
              "996  free/reduced               completed        2.38           3.64   \n",
              "997  free/reduced               completed        4.96           5.44   \n",
              "998      standard               completed        4.24           4.66   \n",
              "999      standard               completed        5.08           5.80   \n",
              "\n",
              "     writing score   GPA GPA cuantiles  science score  history score  \n",
              "0             3.76  3.58      Bajísimo           2.50            3.8  \n",
              "1             5.86  5.78          Alto           4.36            5.2  \n",
              "2             4.78  5.04         Medio           4.48            3.8  \n",
              "3             5.56  5.64          Alto           5.32            5.0  \n",
              "4             6.22  6.34      Muy alto           6.64            4.6  \n",
              "..             ...   ...           ...            ...            ...  \n",
              "995           5.26  5.30         Medio           4.72            4.2  \n",
              "996           3.16  3.06      Bajísimo           1.96            3.6  \n",
              "997           5.86  5.42          Alto           4.54            4.1  \n",
              "998           4.72  4.54          Bajo           3.58            4.3  \n",
              "999           5.56  5.48          Alto           4.66            5.3  \n",
              "\n",
              "[1000 rows x 13 columns]"
            ]
          },
          "execution_count": 28,
          "metadata": {},
          "output_type": "execute_result"
        }
      ],
      "source": [
        "df_grades_inner"
      ]
    },
    {
      "cell_type": "markdown",
      "metadata": {},
      "source": [
        "Inner join realiza el cruce de la información mediante una intersección, retorna únicamente las filas que tengas valores coincidentes en las columans índices de ambos datasets.\n",
        "\n",
        "No sería apto pues retorna únicamente a los estudiantes con notas en `other_grades`"
      ]
    },
    {
      "cell_type": "markdown",
      "metadata": {
        "id": "UPsGa2q815EX"
      },
      "source": [
        "**Respuesta:**"
      ]
    },
    {
      "cell_type": "markdown",
      "metadata": {
        "id": "qHbQB4xa15EY"
      },
      "source": [
        "        Explique sus resultados acá"
      ]
    },
    {
      "cell_type": "markdown",
      "metadata": {
        "id": "4C4veNWQi_3_"
      },
      "source": [
        "# Conclusión"
      ]
    },
    {
      "cell_type": "markdown",
      "metadata": {
        "id": "Htu7yQI0i1ic"
      },
      "source": [
        "\n",
        "Eso ha sido todo para el lab de hoy, recuerden que el laboratorio tiene un plazo de entrega de una semana y que **los días de atraso no se pueden utilizar para entregas de lab** solo para tareas. Cualquier duda del laboratorio, no duden en contactarnos por mail o U-cursos.\n",
        "\n",
        "<p align=\"center\">\n",
        "  <img src=\"https://media1.tenor.com/images/2f7df460196625edc45b8380d158e5ee/tenor.gif?itemid=16669403\">\n",
        "</p>"
      ]
    }
  ],
  "metadata": {
    "colab": {
      "provenance": []
    },
    "deepnote": {},
    "deepnote_execution_queue": [],
    "deepnote_notebook_id": "188eceea07074932af334d64275af976",
    "kernelspec": {
      "display_name": "Python 3",
      "language": "python",
      "name": "python3"
    },
    "language_info": {
      "codemirror_mode": {
        "name": "ipython",
        "version": 3
      },
      "file_extension": ".py",
      "mimetype": "text/x-python",
      "name": "python",
      "nbconvert_exporter": "python",
      "pygments_lexer": "ipython3",
      "version": "3.12.4"
    },
    "toc": {
      "base_numbering": 1,
      "nav_menu": {},
      "number_sections": true,
      "sideBar": true,
      "skip_h1_title": true,
      "title_cell": "Tabla de Contenidos",
      "title_sidebar": "Contenidos",
      "toc_cell": false,
      "toc_position": {
        "height": "calc(100% - 180px)",
        "left": "10px",
        "top": "150px",
        "width": "241.867px"
      },
      "toc_section_display": true,
      "toc_window_display": true
    },
    "varInspector": {
      "cols": {
        "lenName": 16,
        "lenType": 16,
        "lenVar": 40
      },
      "kernels_config": {
        "python": {
          "delete_cmd_postfix": "",
          "delete_cmd_prefix": "del ",
          "library": "var_list.py",
          "varRefreshCmd": "print(var_dic_list())"
        },
        "r": {
          "delete_cmd_postfix": ") ",
          "delete_cmd_prefix": "rm(",
          "library": "var_list.r",
          "varRefreshCmd": "cat(var_dic_list()) "
        }
      },
      "types_to_exclude": [
        "module",
        "function",
        "builtin_function_or_method",
        "instance",
        "_Feature"
      ],
      "window_display": false
    }
  },
  "nbformat": 4,
  "nbformat_minor": 0
}
